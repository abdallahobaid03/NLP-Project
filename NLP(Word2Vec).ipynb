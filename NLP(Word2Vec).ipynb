{
  "nbformat": 4,
  "nbformat_minor": 0,
  "metadata": {
    "colab": {
      "provenance": [],
      "collapsed_sections": [
        "6rRut9cSHRqc",
        "ty2ikoM0HfTW",
        "LTSKZAtHLBUU"
      ],
      "gpuType": "T4"
    },
    "kernelspec": {
      "name": "python3",
      "display_name": "Python 3"
    },
    "language_info": {
      "name": "python"
    },
    "accelerator": "GPU"
  },
  "cells": [
    {
      "cell_type": "markdown",
      "source": [
        "#import libararies & installation"
      ],
      "metadata": {
        "id": "6rRut9cSHRqc"
      }
    },
    {
      "cell_type": "code",
      "source": [
        "!pip install gensim\n"
      ],
      "metadata": {
        "colab": {
          "base_uri": "https://localhost:8080/"
        },
        "id": "1FX5-Zh2dSq1",
        "outputId": "075fb609-9fab-46b0-f549-a2954a347fab"
      },
      "execution_count": null,
      "outputs": [
        {
          "output_type": "stream",
          "name": "stdout",
          "text": [
            "Requirement already satisfied: gensim in /usr/local/lib/python3.10/dist-packages (4.3.2)\n",
            "Requirement already satisfied: numpy>=1.18.5 in /usr/local/lib/python3.10/dist-packages (from gensim) (1.25.2)\n",
            "Requirement already satisfied: scipy>=1.7.0 in /usr/local/lib/python3.10/dist-packages (from gensim) (1.11.4)\n",
            "Requirement already satisfied: smart-open>=1.8.1 in /usr/local/lib/python3.10/dist-packages (from gensim) (6.4.0)\n"
          ]
        }
      ]
    },
    {
      "cell_type": "code",
      "source": [
        "!pip install num2words\n"
      ],
      "metadata": {
        "colab": {
          "base_uri": "https://localhost:8080/"
        },
        "id": "8PeyiFVbNmZv",
        "outputId": "7d4e7d5d-4031-4b86-f611-ac93cf228d08"
      },
      "execution_count": null,
      "outputs": [
        {
          "output_type": "stream",
          "name": "stdout",
          "text": [
            "Collecting num2words\n",
            "  Downloading num2words-0.5.13-py3-none-any.whl (143 kB)\n",
            "\u001b[2K     \u001b[90m━━━━━━━━━━━━━━━━━━━━━━━━━━━━━━━━━━━━━━━━\u001b[0m \u001b[32m143.3/143.3 kB\u001b[0m \u001b[31m1.6 MB/s\u001b[0m eta \u001b[36m0:00:00\u001b[0m\n",
            "\u001b[?25hCollecting docopt>=0.6.2 (from num2words)\n",
            "  Downloading docopt-0.6.2.tar.gz (25 kB)\n",
            "  Preparing metadata (setup.py) ... \u001b[?25l\u001b[?25hdone\n",
            "Building wheels for collected packages: docopt\n",
            "  Building wheel for docopt (setup.py) ... \u001b[?25l\u001b[?25hdone\n",
            "  Created wheel for docopt: filename=docopt-0.6.2-py2.py3-none-any.whl size=13706 sha256=618d083747629dc5904de1b6944eec4d57bfc21bf416f66aa79fd345b6480cc9\n",
            "  Stored in directory: /root/.cache/pip/wheels/fc/ab/d4/5da2067ac95b36618c629a5f93f809425700506f72c9732fac\n",
            "Successfully built docopt\n",
            "Installing collected packages: docopt, num2words\n",
            "Successfully installed docopt-0.6.2 num2words-0.5.13\n"
          ]
        }
      ]
    },
    {
      "cell_type": "code",
      "source": [
        "import nltk\n",
        "nltk.download('wordnet')"
      ],
      "metadata": {
        "colab": {
          "base_uri": "https://localhost:8080/"
        },
        "id": "MjJ5Jnfspzh_",
        "outputId": "b74da562-6943-40a9-a85e-3af5c90bbe78"
      },
      "execution_count": null,
      "outputs": [
        {
          "output_type": "stream",
          "name": "stderr",
          "text": [
            "[nltk_data] Downloading package wordnet to /root/nltk_data...\n"
          ]
        },
        {
          "output_type": "execute_result",
          "data": {
            "text/plain": [
              "True"
            ]
          },
          "metadata": {},
          "execution_count": 3
        }
      ]
    },
    {
      "cell_type": "code",
      "source": [
        "import pandas as pd\n",
        "import re\n",
        "import re\n",
        "import nltk\n",
        "import string\n",
        "import numpy as np\n",
        "from nltk.corpus import stopwords\n",
        "from nltk.tokenize import word_tokenize\n",
        "from nltk.stem import PorterStemmer\n",
        "from keras.preprocessing.text import Tokenizer\n",
        "from keras.preprocessing.sequence import pad_sequences\n",
        "from keras.models import Sequential\n",
        "from keras.layers import Embedding, Bidirectional, LSTM, Dense\n",
        "from keras.optimizers import Adam\n",
        "from sklearn.feature_extraction.text import TfidfVectorizer\n",
        "from sklearn.preprocessing import OneHotEncoder\n",
        "from num2words import num2words\n",
        "from sklearn.naive_bayes import MultinomialNB, GaussianNB\n",
        "from sklearn.metrics import accuracy_score, classification_report\n",
        "\n",
        "nltk.download('punkt')\n",
        "nltk.download('stopwords')"
      ],
      "metadata": {
        "colab": {
          "base_uri": "https://localhost:8080/"
        },
        "id": "zxqPpCnwwspx",
        "outputId": "ff0d915c-14d0-4e7d-d3a7-d4a20488d58c"
      },
      "execution_count": null,
      "outputs": [
        {
          "output_type": "stream",
          "name": "stderr",
          "text": [
            "[nltk_data] Downloading package punkt to /root/nltk_data...\n",
            "[nltk_data]   Unzipping tokenizers/punkt.zip.\n",
            "[nltk_data] Downloading package stopwords to /root/nltk_data...\n",
            "[nltk_data]   Unzipping corpora/stopwords.zip.\n"
          ]
        },
        {
          "output_type": "execute_result",
          "data": {
            "text/plain": [
              "True"
            ]
          },
          "metadata": {},
          "execution_count": 4
        }
      ]
    },
    {
      "cell_type": "markdown",
      "source": [
        "#load & preprocessing"
      ],
      "metadata": {
        "id": "ty2ikoM0HfTW"
      }
    },
    {
      "cell_type": "code",
      "execution_count": null,
      "metadata": {
        "id": "39p2uhW-wfJG"
      },
      "outputs": [],
      "source": [
        "traindata = pd.read_excel(\"/content/drive/MyDrive/NLP/News_train.xlsx\")\n",
        "testdata = pd.read_excel(\"/content/drive/MyDrive/NLP/News_test.xlsx\")\n"
      ]
    },
    {
      "cell_type": "code",
      "source": [
        "traindata"
      ],
      "metadata": {
        "colab": {
          "base_uri": "https://localhost:8080/",
          "height": 423
        },
        "id": "8enn8sgR19LA",
        "outputId": "9c0b9ff5-8bc5-4804-c493-84c6e38e9531"
      },
      "execution_count": null,
      "outputs": [
        {
          "output_type": "execute_result",
          "data": {
            "text/plain": [
              "          Type                                               News\n",
              "0     politics  اشتباك الحريري-عون.. اتهامات لباسيل بالتمسك با...\n",
              "1     politics                     عون: الحريري أصبح غريب الأطوار\n",
              "2     politics  وزير الخارجية الأمريكي: ندرس سحب كامل قواتنا م...\n",
              "3     politics  أفغانستان.. استعدادات حثيثة لاجتماع تركيا وكاب...\n",
              "4     politics  أندبندنت‮:‬ ‬مفاوضات ‬سرّية ‬‬كادت ‬تنقذ ‬القذافي\n",
              "...        ...                                                ...\n",
              "4995  politics         أوروبا تبدأ إحصاء خسائر الفيضانات المدمرة \n",
              "4996  politics  قتل متظاهر بالرصاص خلال احتجاجات على شحّ الميا...\n",
              "4997  politics  وسائل إعلام إيرانية تتحدث عن اندلاع احتجاجات ف...\n",
              "4998  politics  المفاوضات الأفغانية تتواصل في العاصمة القطرية ...\n",
              "4999  politics  تعليق المفاوضات الأفغانية في الدوحة مؤقتاً لمز...\n",
              "\n",
              "[5000 rows x 2 columns]"
            ],
            "text/html": [
              "\n",
              "  <div id=\"df-787f6a21-7f89-4ea7-8b21-f820211f47cd\" class=\"colab-df-container\">\n",
              "    <div>\n",
              "<style scoped>\n",
              "    .dataframe tbody tr th:only-of-type {\n",
              "        vertical-align: middle;\n",
              "    }\n",
              "\n",
              "    .dataframe tbody tr th {\n",
              "        vertical-align: top;\n",
              "    }\n",
              "\n",
              "    .dataframe thead th {\n",
              "        text-align: right;\n",
              "    }\n",
              "</style>\n",
              "<table border=\"1\" class=\"dataframe\">\n",
              "  <thead>\n",
              "    <tr style=\"text-align: right;\">\n",
              "      <th></th>\n",
              "      <th>Type</th>\n",
              "      <th>News</th>\n",
              "    </tr>\n",
              "  </thead>\n",
              "  <tbody>\n",
              "    <tr>\n",
              "      <th>0</th>\n",
              "      <td>politics</td>\n",
              "      <td>اشتباك الحريري-عون.. اتهامات لباسيل بالتمسك با...</td>\n",
              "    </tr>\n",
              "    <tr>\n",
              "      <th>1</th>\n",
              "      <td>politics</td>\n",
              "      <td>عون: الحريري أصبح غريب الأطوار</td>\n",
              "    </tr>\n",
              "    <tr>\n",
              "      <th>2</th>\n",
              "      <td>politics</td>\n",
              "      <td>وزير الخارجية الأمريكي: ندرس سحب كامل قواتنا م...</td>\n",
              "    </tr>\n",
              "    <tr>\n",
              "      <th>3</th>\n",
              "      <td>politics</td>\n",
              "      <td>أفغانستان.. استعدادات حثيثة لاجتماع تركيا وكاب...</td>\n",
              "    </tr>\n",
              "    <tr>\n",
              "      <th>4</th>\n",
              "      <td>politics</td>\n",
              "      <td>أندبندنت‮:‬ ‬مفاوضات ‬سرّية ‬‬كادت ‬تنقذ ‬القذافي</td>\n",
              "    </tr>\n",
              "    <tr>\n",
              "      <th>...</th>\n",
              "      <td>...</td>\n",
              "      <td>...</td>\n",
              "    </tr>\n",
              "    <tr>\n",
              "      <th>4995</th>\n",
              "      <td>politics</td>\n",
              "      <td>أوروبا تبدأ إحصاء خسائر الفيضانات المدمرة</td>\n",
              "    </tr>\n",
              "    <tr>\n",
              "      <th>4996</th>\n",
              "      <td>politics</td>\n",
              "      <td>قتل متظاهر بالرصاص خلال احتجاجات على شحّ الميا...</td>\n",
              "    </tr>\n",
              "    <tr>\n",
              "      <th>4997</th>\n",
              "      <td>politics</td>\n",
              "      <td>وسائل إعلام إيرانية تتحدث عن اندلاع احتجاجات ف...</td>\n",
              "    </tr>\n",
              "    <tr>\n",
              "      <th>4998</th>\n",
              "      <td>politics</td>\n",
              "      <td>المفاوضات الأفغانية تتواصل في العاصمة القطرية ...</td>\n",
              "    </tr>\n",
              "    <tr>\n",
              "      <th>4999</th>\n",
              "      <td>politics</td>\n",
              "      <td>تعليق المفاوضات الأفغانية في الدوحة مؤقتاً لمز...</td>\n",
              "    </tr>\n",
              "  </tbody>\n",
              "</table>\n",
              "<p>5000 rows × 2 columns</p>\n",
              "</div>\n",
              "    <div class=\"colab-df-buttons\">\n",
              "\n",
              "  <div class=\"colab-df-container\">\n",
              "    <button class=\"colab-df-convert\" onclick=\"convertToInteractive('df-787f6a21-7f89-4ea7-8b21-f820211f47cd')\"\n",
              "            title=\"Convert this dataframe to an interactive table.\"\n",
              "            style=\"display:none;\">\n",
              "\n",
              "  <svg xmlns=\"http://www.w3.org/2000/svg\" height=\"24px\" viewBox=\"0 -960 960 960\">\n",
              "    <path d=\"M120-120v-720h720v720H120Zm60-500h600v-160H180v160Zm220 220h160v-160H400v160Zm0 220h160v-160H400v160ZM180-400h160v-160H180v160Zm440 0h160v-160H620v160ZM180-180h160v-160H180v160Zm440 0h160v-160H620v160Z\"/>\n",
              "  </svg>\n",
              "    </button>\n",
              "\n",
              "  <style>\n",
              "    .colab-df-container {\n",
              "      display:flex;\n",
              "      gap: 12px;\n",
              "    }\n",
              "\n",
              "    .colab-df-convert {\n",
              "      background-color: #E8F0FE;\n",
              "      border: none;\n",
              "      border-radius: 50%;\n",
              "      cursor: pointer;\n",
              "      display: none;\n",
              "      fill: #1967D2;\n",
              "      height: 32px;\n",
              "      padding: 0 0 0 0;\n",
              "      width: 32px;\n",
              "    }\n",
              "\n",
              "    .colab-df-convert:hover {\n",
              "      background-color: #E2EBFA;\n",
              "      box-shadow: 0px 1px 2px rgba(60, 64, 67, 0.3), 0px 1px 3px 1px rgba(60, 64, 67, 0.15);\n",
              "      fill: #174EA6;\n",
              "    }\n",
              "\n",
              "    .colab-df-buttons div {\n",
              "      margin-bottom: 4px;\n",
              "    }\n",
              "\n",
              "    [theme=dark] .colab-df-convert {\n",
              "      background-color: #3B4455;\n",
              "      fill: #D2E3FC;\n",
              "    }\n",
              "\n",
              "    [theme=dark] .colab-df-convert:hover {\n",
              "      background-color: #434B5C;\n",
              "      box-shadow: 0px 1px 3px 1px rgba(0, 0, 0, 0.15);\n",
              "      filter: drop-shadow(0px 1px 2px rgba(0, 0, 0, 0.3));\n",
              "      fill: #FFFFFF;\n",
              "    }\n",
              "  </style>\n",
              "\n",
              "    <script>\n",
              "      const buttonEl =\n",
              "        document.querySelector('#df-787f6a21-7f89-4ea7-8b21-f820211f47cd button.colab-df-convert');\n",
              "      buttonEl.style.display =\n",
              "        google.colab.kernel.accessAllowed ? 'block' : 'none';\n",
              "\n",
              "      async function convertToInteractive(key) {\n",
              "        const element = document.querySelector('#df-787f6a21-7f89-4ea7-8b21-f820211f47cd');\n",
              "        const dataTable =\n",
              "          await google.colab.kernel.invokeFunction('convertToInteractive',\n",
              "                                                    [key], {});\n",
              "        if (!dataTable) return;\n",
              "\n",
              "        const docLinkHtml = 'Like what you see? Visit the ' +\n",
              "          '<a target=\"_blank\" href=https://colab.research.google.com/notebooks/data_table.ipynb>data table notebook</a>'\n",
              "          + ' to learn more about interactive tables.';\n",
              "        element.innerHTML = '';\n",
              "        dataTable['output_type'] = 'display_data';\n",
              "        await google.colab.output.renderOutput(dataTable, element);\n",
              "        const docLink = document.createElement('div');\n",
              "        docLink.innerHTML = docLinkHtml;\n",
              "        element.appendChild(docLink);\n",
              "      }\n",
              "    </script>\n",
              "  </div>\n",
              "\n",
              "\n",
              "<div id=\"df-5127f657-2533-4275-8d5e-9063de9be2bc\">\n",
              "  <button class=\"colab-df-quickchart\" onclick=\"quickchart('df-5127f657-2533-4275-8d5e-9063de9be2bc')\"\n",
              "            title=\"Suggest charts\"\n",
              "            style=\"display:none;\">\n",
              "\n",
              "<svg xmlns=\"http://www.w3.org/2000/svg\" height=\"24px\"viewBox=\"0 0 24 24\"\n",
              "     width=\"24px\">\n",
              "    <g>\n",
              "        <path d=\"M19 3H5c-1.1 0-2 .9-2 2v14c0 1.1.9 2 2 2h14c1.1 0 2-.9 2-2V5c0-1.1-.9-2-2-2zM9 17H7v-7h2v7zm4 0h-2V7h2v10zm4 0h-2v-4h2v4z\"/>\n",
              "    </g>\n",
              "</svg>\n",
              "  </button>\n",
              "\n",
              "<style>\n",
              "  .colab-df-quickchart {\n",
              "      --bg-color: #E8F0FE;\n",
              "      --fill-color: #1967D2;\n",
              "      --hover-bg-color: #E2EBFA;\n",
              "      --hover-fill-color: #174EA6;\n",
              "      --disabled-fill-color: #AAA;\n",
              "      --disabled-bg-color: #DDD;\n",
              "  }\n",
              "\n",
              "  [theme=dark] .colab-df-quickchart {\n",
              "      --bg-color: #3B4455;\n",
              "      --fill-color: #D2E3FC;\n",
              "      --hover-bg-color: #434B5C;\n",
              "      --hover-fill-color: #FFFFFF;\n",
              "      --disabled-bg-color: #3B4455;\n",
              "      --disabled-fill-color: #666;\n",
              "  }\n",
              "\n",
              "  .colab-df-quickchart {\n",
              "    background-color: var(--bg-color);\n",
              "    border: none;\n",
              "    border-radius: 50%;\n",
              "    cursor: pointer;\n",
              "    display: none;\n",
              "    fill: var(--fill-color);\n",
              "    height: 32px;\n",
              "    padding: 0;\n",
              "    width: 32px;\n",
              "  }\n",
              "\n",
              "  .colab-df-quickchart:hover {\n",
              "    background-color: var(--hover-bg-color);\n",
              "    box-shadow: 0 1px 2px rgba(60, 64, 67, 0.3), 0 1px 3px 1px rgba(60, 64, 67, 0.15);\n",
              "    fill: var(--button-hover-fill-color);\n",
              "  }\n",
              "\n",
              "  .colab-df-quickchart-complete:disabled,\n",
              "  .colab-df-quickchart-complete:disabled:hover {\n",
              "    background-color: var(--disabled-bg-color);\n",
              "    fill: var(--disabled-fill-color);\n",
              "    box-shadow: none;\n",
              "  }\n",
              "\n",
              "  .colab-df-spinner {\n",
              "    border: 2px solid var(--fill-color);\n",
              "    border-color: transparent;\n",
              "    border-bottom-color: var(--fill-color);\n",
              "    animation:\n",
              "      spin 1s steps(1) infinite;\n",
              "  }\n",
              "\n",
              "  @keyframes spin {\n",
              "    0% {\n",
              "      border-color: transparent;\n",
              "      border-bottom-color: var(--fill-color);\n",
              "      border-left-color: var(--fill-color);\n",
              "    }\n",
              "    20% {\n",
              "      border-color: transparent;\n",
              "      border-left-color: var(--fill-color);\n",
              "      border-top-color: var(--fill-color);\n",
              "    }\n",
              "    30% {\n",
              "      border-color: transparent;\n",
              "      border-left-color: var(--fill-color);\n",
              "      border-top-color: var(--fill-color);\n",
              "      border-right-color: var(--fill-color);\n",
              "    }\n",
              "    40% {\n",
              "      border-color: transparent;\n",
              "      border-right-color: var(--fill-color);\n",
              "      border-top-color: var(--fill-color);\n",
              "    }\n",
              "    60% {\n",
              "      border-color: transparent;\n",
              "      border-right-color: var(--fill-color);\n",
              "    }\n",
              "    80% {\n",
              "      border-color: transparent;\n",
              "      border-right-color: var(--fill-color);\n",
              "      border-bottom-color: var(--fill-color);\n",
              "    }\n",
              "    90% {\n",
              "      border-color: transparent;\n",
              "      border-bottom-color: var(--fill-color);\n",
              "    }\n",
              "  }\n",
              "</style>\n",
              "\n",
              "  <script>\n",
              "    async function quickchart(key) {\n",
              "      const quickchartButtonEl =\n",
              "        document.querySelector('#' + key + ' button');\n",
              "      quickchartButtonEl.disabled = true;  // To prevent multiple clicks.\n",
              "      quickchartButtonEl.classList.add('colab-df-spinner');\n",
              "      try {\n",
              "        const charts = await google.colab.kernel.invokeFunction(\n",
              "            'suggestCharts', [key], {});\n",
              "      } catch (error) {\n",
              "        console.error('Error during call to suggestCharts:', error);\n",
              "      }\n",
              "      quickchartButtonEl.classList.remove('colab-df-spinner');\n",
              "      quickchartButtonEl.classList.add('colab-df-quickchart-complete');\n",
              "    }\n",
              "    (() => {\n",
              "      let quickchartButtonEl =\n",
              "        document.querySelector('#df-5127f657-2533-4275-8d5e-9063de9be2bc button');\n",
              "      quickchartButtonEl.style.display =\n",
              "        google.colab.kernel.accessAllowed ? 'block' : 'none';\n",
              "    })();\n",
              "  </script>\n",
              "</div>\n",
              "\n",
              "  <div id=\"id_9aa88b71-d031-420a-a553-bbd134909f5f\">\n",
              "    <style>\n",
              "      .colab-df-generate {\n",
              "        background-color: #E8F0FE;\n",
              "        border: none;\n",
              "        border-radius: 50%;\n",
              "        cursor: pointer;\n",
              "        display: none;\n",
              "        fill: #1967D2;\n",
              "        height: 32px;\n",
              "        padding: 0 0 0 0;\n",
              "        width: 32px;\n",
              "      }\n",
              "\n",
              "      .colab-df-generate:hover {\n",
              "        background-color: #E2EBFA;\n",
              "        box-shadow: 0px 1px 2px rgba(60, 64, 67, 0.3), 0px 1px 3px 1px rgba(60, 64, 67, 0.15);\n",
              "        fill: #174EA6;\n",
              "      }\n",
              "\n",
              "      [theme=dark] .colab-df-generate {\n",
              "        background-color: #3B4455;\n",
              "        fill: #D2E3FC;\n",
              "      }\n",
              "\n",
              "      [theme=dark] .colab-df-generate:hover {\n",
              "        background-color: #434B5C;\n",
              "        box-shadow: 0px 1px 3px 1px rgba(0, 0, 0, 0.15);\n",
              "        filter: drop-shadow(0px 1px 2px rgba(0, 0, 0, 0.3));\n",
              "        fill: #FFFFFF;\n",
              "      }\n",
              "    </style>\n",
              "    <button class=\"colab-df-generate\" onclick=\"generateWithVariable('traindata')\"\n",
              "            title=\"Generate code using this dataframe.\"\n",
              "            style=\"display:none;\">\n",
              "\n",
              "  <svg xmlns=\"http://www.w3.org/2000/svg\" height=\"24px\"viewBox=\"0 0 24 24\"\n",
              "       width=\"24px\">\n",
              "    <path d=\"M7,19H8.4L18.45,9,17,7.55,7,17.6ZM5,21V16.75L18.45,3.32a2,2,0,0,1,2.83,0l1.4,1.43a1.91,1.91,0,0,1,.58,1.4,1.91,1.91,0,0,1-.58,1.4L9.25,21ZM18.45,9,17,7.55Zm-12,3A5.31,5.31,0,0,0,4.9,8.1,5.31,5.31,0,0,0,1,6.5,5.31,5.31,0,0,0,4.9,4.9,5.31,5.31,0,0,0,6.5,1,5.31,5.31,0,0,0,8.1,4.9,5.31,5.31,0,0,0,12,6.5,5.46,5.46,0,0,0,6.5,12Z\"/>\n",
              "  </svg>\n",
              "    </button>\n",
              "    <script>\n",
              "      (() => {\n",
              "      const buttonEl =\n",
              "        document.querySelector('#id_9aa88b71-d031-420a-a553-bbd134909f5f button.colab-df-generate');\n",
              "      buttonEl.style.display =\n",
              "        google.colab.kernel.accessAllowed ? 'block' : 'none';\n",
              "\n",
              "      buttonEl.onclick = () => {\n",
              "        google.colab.notebook.generateWithVariable('traindata');\n",
              "      }\n",
              "      })();\n",
              "    </script>\n",
              "  </div>\n",
              "\n",
              "    </div>\n",
              "  </div>\n"
            ],
            "application/vnd.google.colaboratory.intrinsic+json": {
              "type": "dataframe",
              "variable_name": "traindata",
              "summary": "{\n  \"name\": \"traindata\",\n  \"rows\": 5000,\n  \"fields\": [\n    {\n      \"column\": \"Type\",\n      \"properties\": {\n        \"dtype\": \"category\",\n        \"num_unique_values\": 4,\n        \"samples\": [\n          \"economic\",\n          \"tech\",\n          \"politics\"\n        ],\n        \"semantic_type\": \"\",\n        \"description\": \"\"\n      }\n    },\n    {\n      \"column\": \"News\",\n      \"properties\": {\n        \"dtype\": \"string\",\n        \"num_unique_values\": 4951,\n        \"samples\": [\n          \"\\u0648\\u0641\\u0627\\u0629 \\u0631\\u0626\\u064a\\u0633 \\u062a\\u0646\\u0632\\u0627\\u0646\\u064a\\u0627 \\u0628\\u0639\\u062f \\u0641\\u062a\\u0631\\u0629 \\u063a\\u064a\\u0627\\u0628 \\u063a\\u0627\\u0645\\u0636\\u0629 \\u0639\\u0646 \\u0639\\u0645\\u0631 \\u0646\\u0627\\u0647\\u0632 61 \\u0639\\u0627\\u0645\\u0627\",\n          \"\\u0627\\u0644\\u0648\\u062f\\u0627\\u062f \\u064a\\u062a\\u0623\\u0647\\u0644 \\u0631\\u0633\\u0645\\u064a\\u064b\\u0627 \\u0625\\u0644\\u0649 \\u0631\\u0628\\u0639 \\u0646\\u0647\\u0627\\u0626\\u0649 \\u062f\\u0648\\u0631\\u0649 \\u0623\\u0628\\u0637\\u0627\\u0644 \\u0625\\u0641\\u0631\\u064a\\u0642\\u064a\\u0627 \\u0628\\u0639\\u062f \\u0627\\u0644\\u062a\\u0639\\u0627\\u062f\\u0644 \\u0645\\u0639 \\u062d\\u0648\\u0631\\u064a\\u0627\",\n          \"\\u062a\\u0634\\u064a\\u0644\\u0633\\u064a \\u064a\\u0647\\u0632\\u0645 \\u0648\\u0633\\u062a \\u0647\\u0627\\u0645 \\u0648\\u064a\\u0639\\u0632\\u0632 \\u0645\\u0648\\u0642\\u0639\\u0647 \\u062f\\u0627\\u062e\\u0644 \\u0627\\u0644\\u0645\\u0631\\u0628\\u0639 \\u0627\\u0644\\u0630\\u0647\\u0628\\u064a \\u0644\\u0640\\u00ab\\u0628\\u0631\\u064a\\u0645\\u064a\\u0631\\u0644\\u064a\\u062c\\u00bb\"\n        ],\n        \"semantic_type\": \"\",\n        \"description\": \"\"\n      }\n    }\n  ]\n}"
            }
          },
          "metadata": {},
          "execution_count": 6
        }
      ]
    },
    {
      "cell_type": "code",
      "source": [
        "traindata['Type'].value_counts(normalize = True).plot.bar()"
      ],
      "metadata": {
        "colab": {
          "base_uri": "https://localhost:8080/",
          "height": 519
        },
        "id": "m61zDklcKBhO",
        "outputId": "5a99da04-d570-4242-efec-8ce0fc8fec85"
      },
      "execution_count": null,
      "outputs": [
        {
          "output_type": "execute_result",
          "data": {
            "text/plain": [
              "<Axes: xlabel='Type'>"
            ]
          },
          "metadata": {},
          "execution_count": 7
        },
        {
          "output_type": "display_data",
          "data": {
            "text/plain": [
              "<Figure size 640x480 with 1 Axes>"
            ],
            "image/png": "[encoded data removed]"
          },
          "metadata": {}
        }
      ]
    },
    {
      "cell_type": "code",
      "source": [
        "traindata['Type'].unique()"
      ],
      "metadata": {
        "colab": {
          "base_uri": "https://localhost:8080/"
        },
        "id": "h8SbYtmMH4mo",
        "outputId": "0b1df9cb-ae57-46e5-ab81-8dd262aa1e10"
      },
      "execution_count": null,
      "outputs": [
        {
          "output_type": "execute_result",
          "data": {
            "text/plain": [
              "array(['politics', 'economic', 'sport', 'tech'], dtype=object)"
            ]
          },
          "metadata": {},
          "execution_count": 8
        }
      ]
    },
    {
      "cell_type": "code",
      "source": [
        "traindata['Type'] = traindata['Type'].replace({'politics': 0, 'economic': 1, 'sport': 2, 'tech': 3})\n"
      ],
      "metadata": {
        "id": "sNUzx9QD3-hT"
      },
      "execution_count": null,
      "outputs": []
    },
    {
      "cell_type": "code",
      "source": [
        "stop_words = set(stopwords.words('arabic'))\n",
        "print(stop_words)"
      ],
      "metadata": {
        "colab": {
          "base_uri": "https://localhost:8080/"
        },
        "id": "PMLYmiKbtdGA",
        "outputId": "7c028ed6-53bc-42a5-af76-eaad79fb4645"
      },
      "execution_count": null,
      "outputs": [
        {
          "output_type": "stream",
          "name": "stdout",
          "text": [
            "{'آب', 'جيم', 'أصلا', 'ما أفعله', 'جوان', 'اللذان', 'كثيرا', 'غدا', 'أوه', 'بهن', 'اربعون', 'ثم', 'جعل', 'خبَّر', 'عشر', 'أبو', 'بس', 'ضاد', 'حسب', 'كم', 'معاذ', 'كِخ', 'أما', 'التي', 'حزيران', 'ياء', 'ش', 'آي', 'متى', 'هلّا', 'أعطى', 'تجاه', 'نيف', 'سحقا', 'لستم', 'نعم', 'بيد', 'ستمئة', 'نحن', 'بلى', 'له', 'ظنَّ', 'عدا', 'آناء', 'أوت', 'أيّان', 'مما', 'بخٍ', 'أجل', 'يورو', 'صار', 'ما', 'مئتان', 'ن', 'ب', 'والذي', 'هاك', 'حبذا', 'غداة', 'كيت', 'رجع', 'أربعمائة', 'أربع', 'إياكما', 'ستين', 'ذاك', 'رزق', 'أين', 'ممن', 'هَذِي', 'صراحة', 'حمدا', 'مايو', 'بعدا', 'دواليك', 'م', 'مه', 'ثان', 'الآن', 'أخٌ', 'فو', 'إياك', 'ذانك', 'اللواتي', 'فوق', 'ريال', 'أكثر', 'هذان', 'ذال', 'لا', 'أخو', 'لهم', 'بئس', 'قبل', 'إحدى', 'لاسيما', 'ألا', 'أربعة', 'هنالك', 'أصبح', 'بما', 'يمين', 'لكما', 'كليكما', 'جانفي', 'نفس', 'بك', 'نبَّا', 'سبت', 'نَخْ', 'لو', 'مئة', 'أولالك', 'لمّا', 'به', 'ظ', 'تفعلون', 'تسع', 'انبرى', 'أسكن', 'يفعلون', 'خ', 'يناير', 'ولو', 'أنّى', 'خلا', 'لعل', 'هناك', 'أعلم', 'كأنّ', 'كان', 'على', 'تعسا', 'تلك', 'كلما', 'فلا', 'لكنَّ', 'لكن', 'كلاهما', 'أنًّ', 'واهاً', 'هو', 'إليكن', 'ليت', 'ذي', 'ذو', 'فضلا', 'أوشك', 'ست', 'أيار', 'أربعمئة', 'آها', 'غ', 'ه', 'كأنما', 'لسنا', 'تسعون', 'صهْ', 'بضع', 'أ', 'سرعان', 'ق', 'ءَ', 'زعم', 'اثنان', 'بكما', 'بماذا', 'إى', 'إزاء', 'قاطبة', 'ذلكما', 'حار', 'راح', 'اتخذ', 'وهب', 'صبرا', 'عجبا', 'إيه', 'حجا', 'تموز', 'عامة', 'سبعمائة', 'إلا', 'وا', 'خلف', 'إليكم', 'هي', 'ثلاثون', 'مادام', 'أل', 'ثالث', 'انقلب', 'وُشْكَانَ', 'بمن', 'من', 'أفعل به', 'دولار', 'ثلاثة', 'كانون', 'ثمانية', 'دون', 'هاهنا', 'هيهات', 'أطعم', 'حرى', 'تاء', 'خلافا', 'إليكما', 'ذواتا', 'ثمانين', 'فرادى', 'تينك', 'جميع', 'تِه', 'اربعين', 'أمس', 'ها', 'أنى', 'كن', 'كلا', 'هيا', 'هَاتَيْنِ', 'عشرون', 'تحت', 'كذا', 'تسعمائة', 'هَذا', 'أُفٍّ', 'غادر', 'لا سيما', 'أو', 'ثمّة', 'عوض', 'كما', 'نا', 'ثمانمئة', 'ذانِ', 'إن', 'يفعلان', 'لما', 'يونيو', 'إليكنّ', 'عن', 'تانِك', 'هاته', 'ص', 'اخلولق', 'قد', 'إياها', 'كى', 'سرا', 'ساء', 'هاء', 'سقى', 'ما برح', 'هَذَيْنِ', 'الذي', 'هما', 'سوف', 'هذه', 'شرع', 'أول', 'عَدَسْ', 'شيكل', 'بسّ', 'تسعمئة', 'أفريل', 'ستة', 'أفٍّ', 'أنبأ', 'كأيّ', 'سبعة', 'ثاء', 'عاد', 'واو', 'بؤسا', 'ين', 'ؤ', 'إليكَ', 'طَق', 'عليك', 'مساء', 'يوليو', 'هن', 'أيّ', 'لئن', 'بين', 'ليست', 'أمسى', 'حاي', 'إذا', 'ء', 'ارتدّ', 'اللاتي', 'ت', 'ليرة', 'لدن', 'أيضا', 'آذار', 'أمّا', 'ابتدأ', 'اللذين', 'دال', 'مافتئ', 'ذواتي', 'إذ', 'لست', 'درى', 'لعمر', 'أقل', 'ج', 'أبٌ', 'حين', 'بنا', 'ذلكم', 'فلس', 'ثلاثاء', 'أوّهْ', 'كلَّا', 'أنشأ', 'همزة', 'فيفري', 'هَاتِه', 'أى', 'ورد', 'عاشر', 'أنت', 'إليك', 'ذان', 'أي', 'صباح', 'ّأيّان', 'تفعلين', 'سبتمبر', 'ألف', 'مهما', 'حيثما', 'طاء', 'كأين', 'سبعين', 'ذِه', 'ذيت', 'لات', 'إياي', 'ليسا', 'آ', 'إذما', 'هلا', 'الألى', 'باء', 'إياهن', 'أكتوبر', 'قطّ', 'شمال', 'جمعة', 'فبراير', 'كاد', 'نيسان', 'ثمَّ', 'حادي', 'عشرين', 'تسعين', 'خاصة', 'خامس', 'آهِ', 'ل', 'هاتين', 'هذين', 'إما', 'فاء', 'ث', 'ميم', 'آمينَ', 'أمامك', 'أف', 'سبع', 'أبريل', 'حتى', 'جويلية', 'خاء', 'ثماني', 'ا', 'كي', 'صاد', 'بهما', 'منه', 'شين', 'لدى', 'لبيك', 'ذوا', 'تحوّل', 'اثنا', 'فيم', 'د', 'رأى', 'مكانكما', 'زاي', 'هَاتانِ', 'إنما', 'حاء', 'تين', 'خمسون', 'إنه', 'ف', 'آه', 'إمّا', 'ذين', 'طفق', 'إيانا', 'ذا', 'كأيّن', 'يا', 'عليه', 'غالبا', 'بات', 'ثمانون', 'أنتم', 'إنَّ', 'فيما', 'صهٍ', 'ثمّ', 'هم', 'أمامكَ', 'إذاً', 'خمس', 'عيانا', 'سابع', 'جلل', 'هَجْ', 'يوان', 'ثلاثمائة', 'منذ', 'في', 'سنتيم', 'تلقاء', 'ة', 'بل', 'علًّ', 'كيف', 'لوما', 'خميس', 'طرا', 'علق', 'إياكم', 'قرش', 'قام', 'حيث', 'ح', 'عسى', 'ز', 'لن', 'ئ', 'عين', 'تِي', 'اللائي', 'إياه', 'وراءَك', 'تاسع', 'لكم', 'لولا', 'والذين', 'أخذ', 'سبحان', 'لهما', 'ذِي', 'آنفا', 'غير', 'ثلاثين', 'مذ', 'خمسمئة', 'تعلَّم', 'هاتان', 'فإذا', 'أضحى', 'ى', 'تانِ', 'شبه', 'بهم', 'بخ', 'مائة', 'بي', 'ذه', 'إي', 'ليسوا', 'أمد', 'تَيْنِ', 'هذا', 'اللتيا', 'شتانَ', 'ض', 'كلّما', 'أحد', 'وجد', 'اثني', 'ولكن', 'حاشا', 'وإذا', 'إذن', 'كيفما', 'مليم', 'تلكم', 'بَلْهَ', 'هَاتِي', 'ثمنمئة', 'مارس', 'أولاء', 'نَّ', 'حيَّ', 'فمن', 'بكن', 'بطآن', 'إلَيْكَ', 'عل', 'ثمان', 'أولئك', 'هذي', 'ألفى', 'أنتن', 'وما', 'ذَيْنِ', 'ك', 'آهٍ', 'حبيب', 'كأي', 'عدَّ', 'صبر', 'بها', 'هَؤلاء', 'آض', 'سادس', 'هَيْهات', 'قلما', 'و', 'هاتي', 'ليس', 'أنا', 'هكذا', 'لك', 'ذات', 'هؤلاء', 'ليستا', 'خمسين', 'وإن', 'اللتين', 'تلكما', 'لام', 'حقا', 'عما', 'جنيه', 'اثنين', 'رويدك', 'لستما', 'إياكن', 'تخذ', 'إياهما', 'زود', 'اللتان', 'لهن', 'قاف', 'ومن', 'أينما', 'ولا', 'ترك', 'ثاني', 'أن', 'علم', 'مع', 'سبعمئة', 'وإذ', 'ته', 'وهو', 'إنا', 'ماذا', 'أنتِ', 'هيّا', 'ر', 'فيها', 'تشرين', 'أمام', 'لكنما', 'سبعون', 'ثلاثمئة', 'تسعة', 'أجمع', 'طاق', 'عند', 'شباط', 'أيها', 'كسا', 'جير', 'أربعاء', 'هنا', 'هَذانِ', 'س', 'نون', 'ذلك', 'نحو', 'سمعا', 'كل', 'لعلَّ', 'الألاء', 'أبدا', 'هل', 'خمسمائة', 'ذينك', 'مكانكنّ', 'مكانَك', 'حمٌ', 'لسن', 'هللة', 'لنا', 'ضحوة', 'كذلك', 'هيت', 'ما انفك', 'شتان', 'ديسمبر', 'ماي', 'أنتما', 'مرّة', 'ظلّ', 'وَيْ', 'أيلول', 'مثل', 'ثامن', 'بغتة', 'صدقا', 'بعض', 'كلتا', 'رابع', 'دونك', 'ي', 'أهلا', 'ط', 'سين', 'ذهب', 'إياهم', 'حدَث', 'ذلكن', 'كرب', 'آهاً', 'إيهٍ', 'فلان', 'أم', 'لم', 'فإن', 'هلم', 'خال', 'منها', 'أرى', 'كاف', 'طالما', 'فيه', 'لستن', 'ستون', 'مكانكم', 'ثلاث', 'لكي', 'ستمائة', 'تارة', 'مازال', 'حَذارِ', 'عشرة', 'الذين', 'أغسطس', 'كأن', 'شَتَّانَ', 'هَذِه', 'تفعلان', 'بَسْ', 'ثمة', 'كليهما', 'إلى', 'خمسة', 'ذ', 'أخبر', 'غين', 'نوفمبر', 'لها', 'واحد', 'هاكَ', 'ريث', 'لكيلا', 'إلّا', 'أيا', 'دينار', 'رُبَّ', 'استحال', 'تي', 'هبّ', 'راء', 'لي', 'سوى', 'بكم', 'ظاء', 'بعد', 'ع', 'حمو', 'تبدّل', 'درهم', 'أقبل'}\n"
          ]
        }
      ]
    },
    {
      "cell_type": "code",
      "source": [
        "from nltk.stem import WordNetLemmatizer\n",
        "def preprocess_text(text):\n",
        "   # ازالة الحركات\n",
        "    noise = re.compile(\"\"\" ّ    | # Tashdid\n",
        "                       َ    | # Fatha\n",
        "                       ً    | # Tanwin Fath\n",
        "                       ُ    | # Damma\n",
        "                       ٌ    | # Tanwin Damm\n",
        "                       ِ    | # Kasra\n",
        "                       ٍ    | # Tanwin Kasr\n",
        "                       ْ    | # Sukun\n",
        "                      ـ     # Tatwil/Kashida\n",
        "                    \"\"\", re.VERBOSE)\n",
        "    processed_text = re.sub(noise, '', text)\n",
        "    processed_text = re.sub(r'(.)\\1+', r\"\\1\\1\", text)\n",
        "    tokens = nltk.word_tokenize(text)\n",
        "\n",
        "    #punctuations = '''`÷×؛<>_()*&^%][ـ،/:\"؟.,'{}~¦+|!”…“–ـ''' + string.punctuation\n",
        "    #tokens = [token for token in tokens if re.match(r'\\w', token) or token == '?']\n",
        "    numbers = re.compile(r'\\b\\d+\\b')\n",
        "    stop_words = set(stopwords.words('arabic'))\n",
        "    tokens = [token for token in tokens if token not in stop_words]\n",
        "\n",
        "    # 5. lemmatization\n",
        "    #هي عمليه ارجاع الكلمات الى جذورها الاصليه\n",
        "    lemmatizer = WordNetLemmatizer()\n",
        "    # Lemmatize each word\n",
        "    tokens = [lemmatizer.lemmatize(token) for token in tokens]\n",
        "\n",
        "    # Join tokens back into text\n",
        "    #تحويل الكلمات إلى نص مرة اخرى\n",
        "    processed_text = ' '.join(tokens).strip()\n",
        "\n",
        "    # Remove longation (diacritics) and numbers\n",
        "    processed_text = re.sub(r'\\b\\d+\\b', replace_numbers_with_words, processed_text)\n",
        "    processed_text = re.sub(\"[إأآا]\", \"ا\", processed_text)\n",
        "    processed_text = re.sub(\"ى\", \"ي\", processed_text)\n",
        "    processed_text = re.sub(\"ؤ\", \"و\", processed_text)\n",
        "    processed_text = re.sub(\"ئ\", \"ي\", processed_text)\n",
        "    processed_text = re.sub(\"ة\", \"ه\", processed_text)\n",
        "    processed_text = re.sub(\"گ\", \"ك\", processed_text)\n",
        "    processed_text = re.sub(\"أ\", \"ا\", processed_text)\n",
        "    processed_text = re.sub(\"إ\", \"ا\", processed_text)\n",
        "    processed_text = re.sub(\"لإ\", \"لا\", processed_text)\n",
        "    processed_text = re.sub(r\"\\b(ال|في|على|من|إلى|عن)\\b\", \"\", processed_text)\n",
        "    processed_text = re.sub(r'[^\\w\\s]', '', processed_text)\n",
        "\n",
        "    processed_text = re.sub(\"NFT\", \"الصور الرقمية \", processed_text)\n",
        "    processed_text = re.sub(\"Covax \", \"كوفاكس و هي ركيزة اللقاحات لمبادرة تسريع إتاحة أدوات مكافحة كوفيد\", processed_text)\n",
        "    processed_text = re.sub(\"Sony Airpeak\", \" \", processed_text)\n",
        "    processed_text = re.sub(\"PCR\", \" اختبار مرض فايروس كورونا\", processed_text)\n",
        "    processed_text = re.sub(\"QS\", \" الخاص بالجامعات \", processed_text)\n",
        "    processed_text = re.sub(\"سبوتنيك V\", \" \", processed_text)\n",
        "    processed_text = re.sub(\"Xbox\", \" جهاز مايكروسوفت للألعاب\", processed_text)\n",
        "    processed_text = re.sub(\"كوفيد19\", \" فايروس كورونا\", processed_text)\n",
        "    processed_text = re.sub(\"الحريري-عون\", \" عون حريري\", processed_text)\n",
        "\n",
        "\n",
        "    processed_text = re.sub(\"[إأآا]\", \"ا\", processed_text)\n",
        "    # ازالة الحركات\n",
        "    #diacritics_pattern = re.compile(r'[\\u064B-\\u0652\\u064F-\\u0655\\u0670]')\n",
        "    text = re.sub('[\\u064B-\\u0652\\u064F-\\u0655\\u0670]', '', text)\n",
        "    # فصل الكلمات العربية عن الانجليزية من خلال معرفة اذا ما كان الحرف انجليزي ام لا فيصع مسافة امامه\n",
        "    processed_text = re.sub(r'[a-zA-Z]+', r' \\g<0> ', processed_text)\n",
        "    # جعل المافات الكثيرة مسافة واحدة فقط\n",
        "    #strip() تزيل المسافات الزائدة\n",
        "    processed_text = re.sub(r\"\\s+\", \" \", processed_text).strip()\n",
        "    # ازالة حرف ال من اول كلمة تحتوي عليه\n",
        "\n",
        "    processed_text = re.sub(r\"\\bو\", \"\", processed_text)\n",
        "    processed_text = re.sub(r\"\\bال\", \"\", processed_text)\n",
        "    processed_text = re.sub(r\"\\bوال\", \" \", processed_text)\n",
        "    processed_text = re.sub(r\"\\bعال\", \" \", processed_text)\n",
        "    processed_text = re.sub(r\"\\bفال\", \" \", processed_text)\n",
        "    processed_text = re.sub(\"%\", \"بالمئة\", processed_text)\n",
        "\n",
        "    return processed_text.strip()\n",
        "\n",
        "def replace_numbers_with_words(match):\n",
        "    return num2words(int(match.group()), lang='ar')"
      ],
      "metadata": {
        "id": "Irkm8v4g6xZb"
      },
      "execution_count": null,
      "outputs": []
    },
    {
      "cell_type": "code",
      "source": [
        "preprocessed_documents = [preprocess_text(doc) for doc in traindata['News']]\n",
        "preprocessed_documents"
      ],
      "metadata": {
        "id": "3QQI78sMtHLL",
        "colab": {
          "base_uri": "https://localhost:8080/"
        },
        "outputId": "917a5b4a-2b87-4543-e80d-7af5bbe3d04d",
        "collapsed": true
      },
      "execution_count": null,
      "outputs": [
        {
          "output_type": "execute_result",
          "data": {
            "text/plain": [
              "['اشتباك حريريعون اتهامات لباسيل بالتمسك بالثلث معطل للبقاء حكم',\n",
              " 'عون حريري غريب اطوار',\n",
              " 'زير خارجيه امريكي ندرس سحب كامل قواتنا افغانستان بحلول',\n",
              " 'افغانستان استعدادات حثيثه لاجتماع تركيا كابل تتهم طالبان بالتركيز حرب بدل سلام',\n",
              " 'اندبندنت مفاوضات سريه كادت تنقذ قذافي',\n",
              " 'سيف قذافي اتفاق قريب جدا ترحيل ممرضات طبيب بلغاريين',\n",
              " 'قتلي دمار اف خيام حريق بمخيم للاجيين روهينغيا بنغلاديش',\n",
              " 'بنغلاديش تشرع نقل اف روهينغا مسلمين جزيره ناييه',\n",
              " 'انسحاب اتفاقيه اسطنبول ناشطات نسويات يتخوفن ايام صعبه',\n",
              " 'ثيقه مخابراتيه تكشف دعم اردوغان للمتطرفين بهولندا',\n",
              " 'اقترحتها مصر سودان اثيوبيا ترفض وساطه رباعيه',\n",
              " 'حمدوك سودان يتسبب ازمه حدود اثيوبيا',\n",
              " 'صين روسيا تهاجمان تعتبران سياسات لايات متحده مقبوله',\n",
              " 'بايدن يدعو رييسي روسيا صين لقمه بشان مناخ اثنان  عشرون ابريل',\n",
              " 'تقرير بريطاني شهادات اختبار مرض فايروس كورونا مزوره تسمح للمسافرين بصره بركوب طايرات',\n",
              " 'ميدل ايست كورونا يودي لانهيار اقتصاد مصري',\n",
              " 'بريطانيا لقاح شركه استرازينيكا جامعه اكسفورد فعال بنسبه سبعون ضد فيروس كورونا',\n",
              " 'فيروس كورونا استرازينيكا تخفض نسبه فعاليه لقاحها ولايات متحده',\n",
              " 'عقوبات دوليه صينيين متهمين بقمع ايغور بكين ترد بالمثل',\n",
              " 'معاهده انقره بكين امنيه تثير قلق ايغور تركيا',\n",
              " 'هزيمه بايدن لترامب حولت فعلا زخم بعيدا يمين متطرف  مي',\n",
              " 'لاكروا صول بايدن سلطه يودي انتكاسه بشان تطبيع اسراييل',\n",
              " 'تطور قضيه كارلوس غصن اتهام رسمي ياباني لاميركيين ساعداه هرب',\n",
              " 'قصه كارلوس غصن رييس عملاقه هارب دولي',\n",
              " 'اﻷﻃﺮاف اﻷﻓﻐﺎﻧﻴﺔ ﻣﺘﻔﻘﺔ ﻋﻠﻰ ﻣﺴﺎر اﻟﺪوﺣﺔ ﻣﺮﺟﻌﻴﺔ ﻟﻠﺴﻼم',\n",
              " 'رياض حجاب يعود واجهه مجددا قبيل اعلان لاده مسار دوحه',\n",
              " 'رايتس وتش تقاعس نظام معالجه ازمه خبز يدفع بملايين سوريين جوع',\n",
              " 'تصعيد روسي ادلب تحرك تركي لايقافه',\n",
              " 'اغلاق شامل للضفه معابر غزه بسبب انتخابات اسراييليه',\n",
              " 'خطه ترامب للسلام جيش اسراييلي ينشر تعزيزات عسكريه بالضفه غربيه قرب غزه',\n",
              " 'اقتحام كابيتول اتهامات بالتامر عصيان قوانين للمعتدين',\n",
              " 'شرطه امريكيه تفرق احتجاجا مسلحا مبني كابيتول لايه اوريغون',\n",
              " 'زير خارجيه فرنسي يقول لبنان ينهار يحث اتحاد اوروبي انقاذه',\n",
              " 'زير خارجيه فرنسا جان ايف لودريان يحذر اختفاء لبنان ينخرط اصلاحات عاجله',\n",
              " 'بريستول اعمال عنف خلال احتجاجات مشروع قانون يمنح شرطه سلطات لتقييد مظاهرات بريطانيا',\n",
              " 'بريطانيا احتجاجات عنيفه نيران تلتهم سيارتي شرطه',\n",
              " 'لبنان مطالبه بتشكيل حكومه جديده تواصل احتجاجات',\n",
              " 'مظاهرات لبنان ميشال عون يطالب قوات امن بانهاء اغلاق طرق بيروت',\n",
              " 'بنتاغون عجله للانسحاب افغانستان',\n",
              " 'شرطه كونغرس تطلب بنتاغون تمديد مهمه حرس وطني بالكابيتول',\n",
              " 'سلسله جرايم قتل غامضه تستهدف اسيويين داخل امريكا خروج مظاهرات حاشده تندد بالعنصريه ترامب بدايره اتهام',\n",
              " 'ولايات متحده مظاهرات حاشده متوقعه نهايه اسبوع تصاعد غضب انتهاكات شرطه',\n",
              " 'فرنسا نخب تحتج مشروع قانون مبادي تعزيز قيم جمهوريه',\n",
              " 'مجلس مسلمي فرنسا يتفق شرعه مبادي ماكرون حول اسلام',\n",
              " 'اتفاقيه عسكريه اردنيه امريكيه تثير جدل معارضون يعتبرونها انتدابا جديدا',\n",
              " 'بدء محاكمه رايد سابق جيش اميركي نضال حسن بتهمه قتل ثلاثه عشر شخصا',\n",
              " 'اسراييل تعتقل شخصا اجتاز حدود لبنان',\n",
              " 'بهمس سريه لبنانيون يتحدثون سلام اسراييل',\n",
              " 'فد امريكي موسع جوله افريقيه لحل ازمه سد نهضه',\n",
              " 'سد نهضه اثيوبي سودان يستعرض اثار سلبيه لـ ملء ثاني',\n",
              " 'تصعيد روسي سوريا تحرك تركي لايقافه',\n",
              " 'عمليه تركيه سوريا روسيا تبدا نشر قواتها حدود تركيه سوريه فقا لاتفاق سوتشي',\n",
              " 'تحالف يستهدف مواقع صواريخ باليستيه ورش تصنيع بصنعاء حديده',\n",
              " 'تفاصيل مجزره حوثي بحق مهاجرين سجن صنعاء',\n",
              " 'زير خارجيه ايطاليا يبحث تعاون اقتصادي هجره دبيبه طرابلس',\n",
              " 'زراء خارجيه ايطاليا فرنسا مانيا طرابلس',\n",
              " 'فاه قيادي حوثي بارز متاثرا باصابته بفيروس كورونا',\n",
              " 'قاده اتحاد اوروبي يبحثون تكثيف تطعيم ضد كورونا اقتراب موجه ثالثه',\n",
              " 'تنظيم دوله يتبني هجوما مالي',\n",
              " 'موزمبيق تنظيم دوله اسلاميه يعلن سيطرته بلده بالما هجوم عشرات قتلي',\n",
              " 'دعت صحيفه اميركا تقديم مساعده تعزيز نظام ليبيا',\n",
              " 'اداره بايدن تطالب بسحب فوري للقوات روسيه تركيه ليبيا',\n",
              " 'خامنيي نثق بالوعود اميركيه نبني سياساتنا اساس عدم رفع عقوبات',\n",
              " 'خامنيي روحاني يوجهان رساله امل للايرانيين بمناسبه راس سنه فارسيه',\n",
              " 'اسوشيتد برس مسوولان مخابرات اميركيه يكشفان مخططا حرس ثوري لضرب اهداف قرب اشنطن',\n",
              " 'مخابرات امريكيه المانيه اخترقتا شركه تشفير سويسريه ثانيه',\n",
              " 'قطر موريتانيا تبحثان استيناف علاقات دبلوماسيه',\n",
              " 'زير خارجيه قطري يسلم رييس عراقي رساله شيخ تميم',\n",
              " 'اشنطن تعلن بدء مناورات بحريه بحر عرب خليج عمان',\n",
              " 'بحريه اميركيه سترسل فريقا قناه سويس',\n",
              " 'عشرات الاف يتظاهرون ضد انقلاب ميانمار رغم مخاوف قمع',\n",
              " 'تزايد ضغط دولي جنرالات ميانمار مقتل شخصين اطلاق نار',\n",
              " 'زير دفاع امريكي نتخذ قرارا بشان سحب قواتنا افغانستان',\n",
              " 'زير دفاع امريكي يشيد باستضافه مانيا للقوات امريكيه',\n",
              " 'قياديان بفتح ضغوط رييس عباس لالغاء انتخابات',\n",
              " 'انتخابات فلسطينيه ترشح خمسه عشر قايمه بينها لحماس محمد دحلان',\n",
              " 'عراق اعفاء مواطني سبعه  ثلاثون دوله تاشيره دخول',\n",
              " 'سنجار عراقيه تهدد تقاسم نفوذ تركيا ايران دول عربيه',\n",
              " 'استراليا تشهد اعنف فيضانات نصف قرن',\n",
              " 'استراليا اخيرا هطول امطار معظم مناطق حرايق نيو ساوث يلز',\n",
              " 'حزب يهودي يدعو لطرد فلسطينيين',\n",
              " 'كشف حزب يهودي عربي جديد اسراييل بمبادره افرهام بورغ طلب صانع',\n",
              " 'فاقمت ازمه نزوح استمرار اشتباكات عنيفه جيش يمني حوثيين عده محافظات',\n",
              " 'حرب يمن حوثيون يشنون هجمات سعوديه يتوعدون بالمزيد',\n",
              " 'قوات نظام تقصف مستشفي بريف حلب مقتل خمسه بينهم طفل',\n",
              " 'قتلي جرحي قصف لقوات نظام سوري ادلب',\n",
              " 'قتيل 3 جرحي تفجير بمدينه سراوان شرقي ايران',\n",
              " 'ايران قتيل جرحي تحطم طايره عسكريه',\n",
              " 'عبيدات ترفض حكم عسكري مرتزقه فاغنر يبنون ساترا ترابيا سرت جفره',\n",
              " 'مرتزقه فاغنر عقبه تنفيذ اتفاق قف اطلاق نار ليبيا',\n",
              " 'فيروس كورونا فرنسا تعيد فرض حجر شامل لمده شهر سته عشر مقاطعه بينها باريس ضواحيها',\n",
              " 'فيروس كورونا حظر تجوال ليلي تسعه مدن فرنسيه حكومات اوروبا تناضل لاحتواء موجه ثانيه',\n",
              " 'تفاصيل مغادره سفير روسيا اشنطن توتر يتصاعد بلدين',\n",
              " 'سفير روسيا امريكا يصل موسكو حرب تصريحات',\n",
              " 'كورونا فساد يهيمنان انتخابات كنيست صهيوني',\n",
              " 'انتخابات كنيست اسراييلي تعادل نتايج معسكري نتنياهو معارضيه',\n",
              " 'اردوغان يوجه دعوه رسميه منفي لزياره تركيا',\n",
              " 'تركيا قواتنا ستظل ليبيا دام اتفاق عسكري قايما',\n",
              " 'نتنياهو يربط ضم اجزاء ضفه غربيه للسياده اسراييليه بواشنطن افعل موافقه بايدن',\n",
              " 'قبيل ذهاب ترامب نتنياهو يامر ببناء حدات استيطانيه بالضفه',\n",
              " 'زير دفاع امريكي حلفاء تجنب اسلحه روسيه',\n",
              " 'دفاع روسيه موسكو سترد نشرت اميركا صواريخ جديده بلدان',\n",
              " 'انقلاب ميانمار مظاهرات حاشده شوارع رغم تهديد جيش بوقوع مزيد قتلي',\n",
              " 'اشنطن تفرض عقوبات جنرالات مجلس عسكري ميانمار',\n",
              " 'بريطانيا تعلن تطعيم نصف بالغين بالجرعه اولي لقاح كورونا',\n",
              " 'فيروس كورونا فرنسا بولندا تشددان قيود اغلاق ارتفاع اصابات موجه ثالثه',\n",
              " 'مظاهرات حاشده مقر اقامته نتنياهو يعتزم تشكيك نتايج انتخابات ثلاثاء',\n",
              " 'فرز تسعون اصوات انتخابات اسراييليه فرص نتنياهو لنيل اغلبيه برلمانيه تتراجع',\n",
              " 'عشرات قتلي جرحي بتعز مارب هجمات للحوثيين ابها تحالف يقصف صنعاء',\n",
              " 'هجمات حوثيين ضد مدنيين تعزز تورطهم جرايم حرب',\n",
              " 'متحدث رياسه افغانيه امريكا تخطط لسحب قواتها افغانستان',\n",
              " 'رييس افغاني يقترح اجراء انتخابات مبكره بديلا لخطه سلام اميركيه يرفضها',\n",
              " 'ايران تتحدي ضغوط اشنطن',\n",
              " 'ايران تعلن استعدادها لمبادله سجناء اشنطن',\n",
              " 'اشنطن تدعو قاده لبنان للاسراع بتشكيل حكومه تنحيه خلافاتهم جانبا',\n",
              " 'عون حريري يتبادلان اتهامات بتعطيل تشكيل حكومه دبلوماسي فرنسي يعد بزياده ضغوط ساسه لبنانيين',\n",
              " 'فتح باب ترشح للانتخابات فلسطينيه ضفه غزه',\n",
              " 'لجنه انتخابات فلسطينيه تعلن اغلاق باب ترشح للانتخابات تشريعيه فان  احد  عشرون',\n",
              " 'حوثي تعلن تنفيذ هجوم ثاني مطار ابها سعودي',\n",
              " 'مقتل ثلاثه اطفال هجوم صاروخي للحوثيين مدرسه تعز يمنيه',\n",
              " 'اصابه رييس باكستان بكورونا تلقيه لقاح',\n",
              " 'رييس وزراء باكستاني يعين زيرا جديدا للماليه',\n",
              " 'زير دفاع امريكي يبحث نظيره هندي تعزيز علاقات توسيع نطاق تعاون عسكري',\n",
              " 'اوستن يدخل تاريخ كاول زير دفاع امريكي اصول افريقيه',\n",
              " 'يمكن للديمقراطيه امريكيه بقاء يتم تهميش يمين متطرف',\n",
              " 'ستراتفور ارهاب يمين متطرف مرشح للتمدد اوروبا خلال فان  احد  عشرون',\n",
              " 'عراق تنافس مراكز قوه ايرانيه يفاقم فوضي بلاد',\n",
              " 'معارضه ايرانيه عراق مخاوف قمع عابر للحدود',\n",
              " 'زلزال عنيف يضرب يابان تحذيرات تسونامي',\n",
              " 'زلازل تفصل بينها دقايق ثلاثه دول تحذير تسونامي',\n",
              " 'اشنطن تتهم ايرانيين بالتخطيط للتهرب عقوبات امريكيه طهران',\n",
              " 'برنامج نووي ايراني ايران تنتج يورانيوم انتهاك جديد للاتفاق نووي',\n",
              " 'رييس وزراء ليبي يامر بفتح تحقيق اقعه جثث بنغازي',\n",
              " 'رييس زراء ليبيا معين يرسل قايمه حكومه للبرلمان',\n",
              " 'بيت ابيض يوكد اقاله خمسه موظفين بسبب تعاطي ماريجوانا',\n",
              " 'نيويورك تجيز للبالغين تعاطي ماريجوانا تمحو احكام ادانه',\n",
              " 'اقاله محافظ بنك مركزي اردوغان يقيل نايب',\n",
              " 'اردوغان حان وقت لاطلاق صفه منظمه دوليه مجلس تركي',\n",
              " 'قتيلان احتجاجات ميانمار',\n",
              " 'امم متحده تدعو ضمان حمايه فارين عنف ميانمار',\n",
              " 'بايدن يندد بارتفاع نسبه عنف ضد اسيويين ولايات متحده',\n",
              " 'مظاهرات شهدت اعمال عنف اتلانتا امريكيه مصرع شاب اصل افريقي بنيران شرطه',\n",
              " 'تحقيق لـ جزيره يكشف حقيقه تعبيه ثانيه لـ سد نهضه يحميه صواريخ',\n",
              " 'سودان يطلب رسميا ساطه رباعيه مفاوضات سد نهضه',\n",
              " 'فرنسا تحظر ذبح حلال اعتبارا 3مساجد كبري ترفض تنفيذ اجراءات',\n",
              " 'اغلاق مزيد مساجد فرنسا تبريه مسوول جمعيه خيريه اسلاميه',\n",
              " 'اشنطن تحث قاده صوماليين اجراء انتخابات فورا',\n",
              " 'صومال تاجيل انتخابات رياسه ظل مشاحنات سياسيه',\n",
              " 'اشنطن ترحب بمبادره سعوديه تدعو للعوده للتفاوض باليمن',\n",
              " 'لي عهد سعودي يبحث تطورات اوضاع يمن رييس هادي',\n",
              " 'فيروس كورونا عده دول تستانف تطعيم بلقاح استرازينيكا سط تسارع تيره تفشي وباء',\n",
              " 'كوفيدتسعه عشر منظمه صحه  ميه تواصل مراقبه لقاح استرازينيكا تجيز استخدام جونسون اند جونسون',\n",
              " 'مقتل ثمانيه محتجين ميانمار اهالي يفرون بلاد',\n",
              " 'مظاهره سفاره ميانمار جاكرتا لدعم مسلمي روهنغيا',\n",
              " 'اف جزايريين يتظاهرون عاصمه للمطالبه بالتغيير برحيل عبد مجيد تبون اقاله رييس مجلس امه',\n",
              " 'تغيير سبعه زراء وزيري دوله تعديل حكومي بالجزاير',\n",
              " 'خارجيه روسيه عمل جار تنظيم لقاء دولي حول افغانستان موسكو',\n",
              " 'زير دفاع اميركي يزور افغانستان نهايه جولته اسيويه',\n",
              " 'تطبيع استياء اماراتي رييس زراء اسراييلي اعتاب انتخابات اسراييليه',\n",
              " 'نتنياهو سازور امارات انتخابات',\n",
              " 'قاهره ترحب بقرار تركيا بشان قنوات معاديه لمصر تصفها بـ بادره طيبه لحل خلافات',\n",
              " 'قون تركيا مصر يطلبون رحلات استثناييه للعوده مغرب',\n",
              " 'ساميه صلوحي رييسه محجبه لتنزانيا تواجه تحدي قبول مجتمع',\n",
              " 'افريقيا تبدا تطعيم منظمه صحه تدعو رييس تنزانيا للوثوق علم',\n",
              " 'زير خارجيه ايراني يزور تركيا خضم توتر بلدين',\n",
              " 'بيان تركي ايراني مشترك يوكد امكانيه حل قضيه سوريه سياسيا',\n",
              " 'استراتيجيه بريطانيه نوويه جديده لمواجهه خطر صين روسيا',\n",
              " 'حرب الكترونيـه اخطـر حرب نـوويه',\n",
              " 'مجلس امن يندد بتصعيد حوثيين مارب',\n",
              " 'سقوط عشرات قتلي معارك متواصله مارب يمن',\n",
              " 'فضيحه كمامات تهز حزب مستشاره المانيه',\n",
              " 'ميركل تستبعد شراء مانيا للقاح روسي غياب اتفاق اوروبي بشانه',\n",
              " 'منع نايبه تونسيه حضور اجتماع مكتب برلمان دعوه للتحقيق معها',\n",
              " 'تونس غنوشي يطلب حضور عبير موسي للمكتب برلمان',\n",
              " 'موريتانيا اتهام رييس سابق بـ فساد غسيل اموال',\n",
              " 'نايب اردوغان يدعو رييس موريتاني لزياره تركيا',\n",
              " 'مجلس شيوخ امريكي يوافق اختيار ليام بيرنز مهندس اتفاق نووي ايراني رييسا للاستخبارات',\n",
              " 'مجلس شيوخ اميركي يقر خطه بايدن لتحفيز اقتصاد',\n",
              " 'حوثيون يتهمون تحالف بمنع دخول ثلاثه ناقلات نفط ميناء حديده',\n",
              " 'حوثيون ينسحبون مواني حديده حكومه يمنيه تقول انها مسرحيه',\n",
              " 'اشنطن موسكو اتحاد اوروبي تدين استهداف منشات نفطيه سعوديه',\n",
              " 'لخارجيه اميركيه رد عسكري هجمات ارامكو مطروح',\n",
              " 'بوريل اتحاد اوروبي مضطر لمساعده تركيا تقاسم عبء مهاجرين معها',\n",
              " 'اتحاد اوروبي يدعو تركيا احترام ديمقراطيه',\n",
              " 'كوريا شماليه تقطع علاقات ماليزيا بسبب جريمه تغتفر',\n",
              " 'بعثات دبلوماسيه تغادر كوريا شماليه ظل نقص حاد مواد ضروريه قيود مسبوقه',\n",
              " 'عثور احد عشر جثه تحمل اثار رصاص بنغازي شرق ليبيا',\n",
              " 'بنغازي تنتفض حفتر يوجه شبابها ضد ثني عقيله',\n",
              " 'ذكري عاشره للثوره مظاهرات تعم شمالي سوريا',\n",
              " 'حرب سوريا ثمن علينا دفعه مقابل حريه',\n",
              " 'اجتماع اسكا اشنطن تتهم بكين بـ تهديد استقرار  مي غوغاييه',\n",
              " 'اشنطن توكد ان لديها مصالح مشتركه بكين ملف ايراني',\n",
              " 'زاره دفاع تعلن تاسيس شركه برزان قابضه متخصصه تعزيز قدرات عسكريه',\n",
              " 'برزان قطريه انجازات اعده يتقدمها تامين مونديال طايرات مسيره',\n",
              " 'بوتين يدعو بايدن لمحادثه تبث مباشره اخير يتمسك بوصف قاتل',\n",
              " 'بوتين يهزا بايدن يتعهد بالدفاع مصالح روسيا',\n",
              " 'بينما يتصاعد قتال مارب امم متحده تحذر اسوا مجاعه تهدد يمن تندد بتجنيد اطفال',\n",
              " 'ارياني يهاجم حوثيين يتهمهم بـ تجنيد اطفال قسريا للقتال مارب',\n",
              " 'غضب مظاهرات بمدينه مصريه مقتل شاب يد شرطه',\n",
              " 'غضب مصر بسبب شرط جديد مبادره احلال سيارات قديمه',\n",
              " 'خطاب محكمه دوليه لاسراييل 30 يوما مهله للرد',\n",
              " 'اشنطن تلغي عقوبات فرضتها اداره ترامب مسوولين جناييه دوليه',\n",
              " 'مباحثات افغانيه بموسكو اتفاق خفض عنف خلاف حول شكل دوله انسحاب قوات اجنبيه',\n",
              " 'فد افغاني يتوجه موسكو لحضور موتمر سلام',\n",
              " 'مصر تتهم اثيوبيا بالسعي لـ احتكار مياه نيل فرض امر واقع',\n",
              " 'طايرات مقنبله كفيله بتدمير سد نهضه مصر تمتلك نوع طايرات فره قنابل ذكيه',\n",
              " 'سودان يضع شروطا للتفاوض اثيوبيا حول حدود سد نهضه',\n",
              " 'فشقه ازمه متعدده ابعاد جيش سودان مزارعوه بمواجهه مليشيات اثيوبيا',\n",
              " 'انتخابات اسراييليه فلسطينيه تنتهك اعراف ديمقراطيه',\n",
              " 'فلسطينيون يعلقون امالا انتخابات اسراييليه',\n",
              " 'اسراييل تويد اتفاقا نوويا ايران يمنعها امتلاك قنبله ذريه',\n",
              " 'ملف نووي ايراني طهران ترفض رفعا تدريجيا للعقوبات امريكيه مفروضه عليها',\n",
              " 'قبيل لقاء اسكا صين تحذر ولايات متحده تتعهد بعدم تنازل مصالحها',\n",
              " 'صين تدعو ولايات متحده ازاله تاثيرات سياسات ترامب تجنب خلق مشاكل جديده',\n",
              " 'منظمه صهيونيه عملت تشويه مسوولين ثلاثه اصول عربيه اسلاميه',\n",
              " 'منظمه صهيونيه تهدد بمقاضاه مسوولي هييه اذاعه تلفزيون فلسطيني',\n",
              " 'انطلاق مفاوضات سلام افغانيه موسكو',\n",
              " 'موسكو عقب اجتماع اطراف اتفاق نووي انطباع باننا مسار صحيح',\n",
              " 'حريري يرد دعوه عون يطالبه بمصارحه لبنانيين',\n",
              " 'تيار وطني حر يحذر حريري تهميش عون تشكيل حكومه لبنانيه',\n",
              " 'محكمه عسكريه ميانمار تتهم سو تشي بتقاضي رشوه',\n",
              " 'انقلاب ميانمار جيش يستعين بضابط سابق موساد اسراييلي لتحسين صوره قاده جيش دوليا',\n",
              " 'قتلي هجوم قوات مدعومه اماراتيا بابين جنوبي يمن',\n",
              " 'يمن قتيلان حزام امني بمواجهات قوات حكوميه',\n",
              " 'تقرير ايراني بشان اسقاط طايره اوكرانيه يرفع مسووليه قوات مسلحه',\n",
              " 'جيش ايراني سنبيد نمحو اسراييل ارتكبت حماقه ضد منشاتنا نوويه',\n",
              " 'زلزال بقوه سته درجات مقياس ريختر يضرب جزاير',\n",
              " 'زلزال بقوه سبعهثلاثه درجات يضرب شرق يابان يسقط عشرات جرحي سط حاله ذعر سكان',\n",
              " 'تفجير حافله اسقاط مروحيه سط بلاد دام بافغانستان',\n",
              " 'دام هرات حكومه افغانيه تقرر حضور موتمري سلام ترعاهما اشنطن موسكو',\n",
              " 'فاه رييس تنزانيا فتره غياب غامضه عمر ناهز احد  ستون عاما',\n",
              " 'خمسه  اربعون قتيلا مراسم تشييع رييس تنزانيا راحل جون ماغوفولي',\n",
              " 'اشنطن قبض مسلح قرب مقر اقامه نايبه رييس امريكي',\n",
              " 'كامالا هاريس نايبه رييس اميركي لنتنياهو ملتزمون بامن اسراييل نرفض تحقيق جناييه دوليه',\n",
              " 'غوتيريش يدعو للتصدي لـ اسلاموفوبيا كل اشكال تمييز عنصريه',\n",
              " 'انقره توكد اهميه اعلان خمسه عشر يوما لمكافحه اسلاموفوبيا',\n",
              " 'مخاوف موجه كورونا ثالثه مصر انحسار ثانيه',\n",
              " 'نقد دولي يمنح مصر قرضا بقيمه اثنانسبعه  سبعون مليار لاحتواء باء كورونا',\n",
              " 'بريطانيا تدافع لقاحها نصيحه مانيه بعدم استخدامه لكبار سن',\n",
              " 'جونسون ينفي فرض بريطانيا حظرا تصدير لقاحات',\n",
              " 'اتهامات متبادله عون حريري بتعطيل تشكيل حكومه لبنانيه',\n",
              " 'فرنسا لبنان ينفذ اجراءات بموجب خارطه طريق',\n",
              " 'نتنياهو يلغي زيارته امارات للمره رابعه',\n",
              " 'ضجه اسراييل كشف ارسال امارات طايره لنتنياهو عمان',\n",
              " 'اتحاد اوروبي يمدد فتره صلاحيه عمليه ايريني متوسط',\n",
              " 'اتحاد اوروبي يحاول طمانه روسيا بشان عمليه ايريني قباله سواحل ليبيا',\n",
              " 'بدعم تحالف جيش يمني يصد هجوما حوثيا بمارب',\n",
              " 'يمن حوثي يرد تقدم جيش بقصف احياء سكنيه بالحديده',\n",
              " 'يايير لابيد مذيع سابق اكبر منافسي نتنياهو',\n",
              " 'غانتس يشكك سماح نتنياهو بالتناوب رياسه حكومه',\n",
              " 'مظاهرات بالذكري عاشره للثوره سوريه بيان اوروبي اميركي رييس سوري داعموه يتحملون مسووليه حرب',\n",
              " 'مظاهرات شمالي سوريا تدعو لاسقاط نظام استكمال مطالب ثوره',\n",
              " 'هيومن رايتس وتش توجه اتهامات للقوات مسلحه مصريه',\n",
              " 'جناييه دوليه تفتح تحقيقا جرايم حرب بالاراضي فلسطينيه',\n",
              " 'طالبان تنتقد تصريحات بايدن تطالبه بالالتزام باتفاق دوحه',\n",
              " 'اتفاق دوحه لانهاء ازمه لبنانيه',\n",
              " 'اردن حكم بالاعدام سته مرتكبي جريمه فتي زرقاء',\n",
              " 'تنفيذ احكام اعدام تفجيري بغداد مخاوف تصاعدها',\n",
              " 'ايران ترفض قف تخصيب يورانيوم ترفع ولايات متحده عقوبات',\n",
              " 'ايران قادرون تخصيب يورانيوم بنسبه تسعون بالميه',\n",
              " 'موسكو ترفض اتهامات تدخل بالشوون اميركيه',\n",
              " 'تقرير للاستخبارات امريكيه يقول فلاديمير بوتين سمح بحمله تاثير مويده لدونالد ترامب',\n",
              " 'اردن حكم باعدام سته متهمين قضيه فتي زرقاء سجن اربعه',\n",
              " 'تنفيذ حكم اعدام شنقا موت بحق شقيقين ارتكبا جريمه قتل عمد',\n",
              " 'نيويورك تايمز امريكيه دوافع سياسيه علميه راء تعليق استخدام لقاح استرازينيكا اوروبا',\n",
              " 'بريطانيا تسجل حالات فاه جديده بسبب تجلط دموي نادر استخدام لقاح استرازينيكا',\n",
              " 'رييس تونسي حان وقت لتجاوز خلافات ليبيا',\n",
              " 'رييس تونسي يتحدث محاولات للتدخل اجنبي يجدد موقفه تعديل وزاري',\n",
              " 'مسوول حوثي يطالب برفع حصار فورا يمن وقف عدوان تشنه سعوديه امارات',\n",
              " 'حوثيون يرفضون مقترح مبعوث امريكي',\n",
              " 'لوموند اطفال سوريون جيل سدي',\n",
              " 'رغم معاناه اطفال سوريا يريدون عوده بلادهم',\n",
              " 'رهبان بوذيون ينضمون مسيره مناهضه للانقلاب ميانمار',\n",
              " 'مسيره لرهبان بوذيين اتباع يراتو يتهجمون مسلمين روهينغا',\n",
              " 'سودان مخاوف خيارات ملء ثاني لسد نهضه',\n",
              " 'سودان ننوي دخول حرب بشان سد نهضه',\n",
              " 'مقتل ثمانيه  خمسون شخصا هجمات بالنيجر قرب حدود مالي',\n",
              " 'جمهوريه نيجر نازحون منطقه ديفا يعيشون حاله عوز تام',\n",
              " 'مقتل ثمانيه اشخاص باطلاق نار انديه صحيه لايه جورجيا اميركيه',\n",
              " 'مدعيه لايه جورجيا تفتح تحقيقا ضغوط ترامب مسوولين لتغيير نتيجه انتخابات',\n",
              " 'روسيا تعترض اصدار بيان لمجلس امن بشان هجوم حوثي مارب',\n",
              " 'تحالف يمن يعلن احباط هجوم للحوثيين مارب',\n",
              " 'بشهادات ناجين هيومن رايتس توثق اقعه مقتل عشرات اثيوبيين حرقا صنعاء',\n",
              " 'اشنطن توجه رساله قاسيه بكين تندد بـ عدوانيتها',\n",
              " 'هييه بث اسراييلي نتنياهو يزور امارات خميس',\n",
              " 'تقارير اعلاميه نتنياهو منع زير خارجيته سفر امارات قبله',\n",
              " 'طاقه ذريه ايران تخصب يورانيوم ارض باجهزه طرد متطوره',\n",
              " 'كاله طاقه ذريه سترسل فرقا يها للتدقيق ايران مستعده لخطوه للسلام تهدد بتدمير اسراييل',\n",
              " 'دفاعات سوريه تتصدي لهجوم صاروخي اسراييلي اهداف محيط دمشق',\n",
              " 'اسد يعاقب اردوغان قرضاوي جنبلاط بتهم تمويل ارهاب',\n",
              " 'حكومه يمن اقتحام قصر معاشيق اعتداء دوله قانون',\n",
              " 'حكومه يمنيه تستنكر تقريرا امميا يتهمها بانتهاك حقوق اطفال',\n",
              " 'ميديا بارت نازيون جدد ينشطون داخل جيش فرنسي',\n",
              " 'محاربون افارقه عرب قتلهم نازيون فرنسا',\n",
              " 'سعوديه تدعو لتمديد حظر سلاح ايران لتزويدها حوثيين باسلحه متطوره',\n",
              " 'زير خارجيه سعوديه جلوسنا حول طاوله احده ايران امر اقعي تماما',\n",
              " 'زيرا داخليه قطر سعوديه يبحثان تعاون امني',\n",
              " 'ازمه خليجيه اتفاق فتح حدود قطر شيخ تميم يتراس فد بلاده قمه سعوديه',\n",
              " 'مصر تبدا عامها جديد بتحدي توفير لقاحات كورونا',\n",
              " 'مطالبات بالتخلي كمامه لمتلقي تطعيم كورونا فاوتشي يرد',\n",
              " 'قضايا حصاد رييس افغاني يستبعد تسليم سلطه انتخابات',\n",
              " 'رييس افغاني استمرار حرب يصب مصلحه شعبنا',\n",
              " 'فرنسا ضع ايران داخلي يعرقل احياء محادثات نوويه',\n",
              " 'فرنسا تعلق رفض ايران مشاركه اجتماع مجموعه خمسهواحد لبحث ملف نووي',\n",
              " 'رقعه احتجاجات تتسع يمن بلغت نقظه رجعه',\n",
              " 'جميع مذنبون حرب يمن مدنيين',\n",
              " 'وكاله اوروبيه تتمسك بلقاح استرازينيكا توصي قيود',\n",
              " 'فيروس كورونا بريطانيا تعرض بدايل للقاح استرازينيكا لمن تقل اعمارهم ثلاثون عاما',\n",
              " 'نيويورك تايمز قوات امريكيه تساعد موزمبيق لمواجهه تنظيم دوله بلاد',\n",
              " 'بغداد جود قوات اميركيه عراق يقتصر استشاره تدريب',\n",
              " 'يمن تصعيد جبهات',\n",
              " 'امم متحده ترحب بنيه اشنطن غاء ادراج حوثيين قايمه ارهاب',\n",
              " 'رييس اسراييلي يحشد باوروبا ضد عوده للاتفاق نووي ايران',\n",
              " 'اتفاق نووي ايراني حسابات تركيا مستقبليه فرص تحديات',\n",
              " 'اردوغان سعوديه تطلب طايرات بدون طيار تركيا',\n",
              " 'اردوغان سنبحث سعوديه مناوراتها مشتركه يونان',\n",
              " 'محتجون يمنيون يقتحمون قصر رياسي عدن',\n",
              " 'شرطه سودانيه تفرق ميات متظاهرين قصر رياسي',\n",
              " 'فصايل فلسطينيه تصل قاهره لاستكمال حوار وطني',\n",
              " 'حماس قاهره للاعتذار تجاوزات هنيه',\n",
              " 'روسيا مازق حقيقي يجب تخلي سياسه عزل نظام سوري',\n",
              " 'روسيا كورونا عزل صحي عزل سياسي',\n",
              " 'رغم دعوات حوار دماء يمنيين زالت تتناثر مارب تعز',\n",
              " 'مبعوث اممي خاص يمن يزور طهران للتشاور',\n",
              " 'تدريبات تركيه امريكيه بحر متوسط',\n",
              " 'تركيا تعتقل عشره قاده بحريه سابقين نشرهم رساله تحذير مشروع قناه اسطنبول ماييه',\n",
              " 'زير خارجيه تركي عدم تكرار اخطاء مهم لتقدم علاقات اوروبا',\n",
              " 'اتحاد اوروبي فرنسا يدرسان فرض عقوبات ساسه لبنانيين',\n",
              " 'مستجدات كورونا اكتشاف سلاله جديده فرنسا صين توافق لقاح جديد للطواري',\n",
              " 'كشف سر اتلاف خمسه عشر مليون جرعه لقاح كورونا ضربه لاسترازينيكا',\n",
              " 'حكومه ليبيه جديده تتسلم سلطه عمليه انتقال سلسه',\n",
              " 'رقابه اعيان اداء حكومي ترسيخ لدور سلطه تشريعيه',\n",
              " 'رييس افغاني يريد تسليم سلطه خليفه منتخب',\n",
              " 'جو بايدن رييس ـ سته  اربعون للولايات متحده اكبر روساء سنا',\n",
              " 'مسلحون يهربون تاجر مخدرات محكمه عراقيه',\n",
              " 'عصابه كولومبيه تعرض مكافاه لقتل كلبه بوليسيه',\n",
              " 'كاله طاقه ذريه ترسل فرقا فنيه للتدقيق برنامج ايران نووي',\n",
              " 'كاله طاقه ذريه ايران تخصب يورانيوم باجهزه متطوره',\n",
              " 'اعاده اعمار سوريا صراع مستمر بوسايل اخري',\n",
              " 'ثوره سوريا عامها تاسع تحول مشهد صراع سوريه صراع عليها',\n",
              " 'تحالف يدمر مواقع صواريخ ورش مسيرات بصنعاء حديده',\n",
              " 'سعوديه تدين بشده اقتحام متظاهرين قصر معاشيق عدن',\n",
              " 'اعلن زير خارجيه ياباني اتفاقه نظيره اميركي معارضه محاوله صين تغيير وضع راهن',\n",
              " 'امريكا مستعده لمنازله صين غذاء صناعي',\n",
              " 'تحالف يدمر رشا لتجميع صواريخ باليستيه صنعاء',\n",
              " 'حرب يمن حوثيون يشترطون رفع حصار يمن ردا مبادره سعوديه',\n",
              " 'رييس اتحاد علماء مسلمين بتونس هييات دول خارجيه راء ممارسات حزب عبير موسي',\n",
              " 'تونس غنوشي يمنع عبير موسي حضور اعمال مكتب برلمان نقابه صحفيين تدعو لمقاطعتها',\n",
              " 'بايدن يمنح حوافز للحلفاء يبدا اولي خطوات احتواء بكين',\n",
              " 'بايدن يقترح اطلاق مشروع منافس لمبادره حزام طريق صينيه',\n",
              " 'حوثيون يعتقدون استيلاء مارب سيعزز موقفهم تفاوضي يمن',\n",
              " 'حوثيون قتيل 7 جرحي غارتين للتحالف مارب',\n",
              " 'اثيوبيا تبلغ اشنطن تمسكها بالرعايه افريقيه لمفاوضات سد نهضه',\n",
              " 'اثيوبيا ترفض ساطه اتحاد افريقي لحل صراع تيغراي',\n",
              " 'جو بايدن يختار امراه سكان اصليين زيره للداخليه',\n",
              " 'فيروس كورونا مجلس شيوخ امريكي يقر خطه اغاثه بقيمه احدتسعه تريليون',\n",
              " 'للمره ثانيه قتلي جرحي باستهداف حافله حكوميه افغانيه',\n",
              " 'انقاذ حياه اشخاص خلال فصول شتاء قاسيه افغانستان',\n",
              " 'ليبيا دبيبه يبحث لجنه عسكريه سرت تطورات عمليه فتح طريق ساحلي',\n",
              " 'دبيبه احداربعه مليون جرعه لقاح كورونا تصل ليبيا احد عشر',\n",
              " 'مستشار رييس تخوف احزاب سياسيه مجتمع مدني مبالغ',\n",
              " 'مستشار رييس جزايري نخشي اتلاف تراثنا محتجز فرنسا جهه متطرفين',\n",
              " 'مبعوث امريكي يمن وضع ميداني سلبي انا متفايل بانفراجه شيكه',\n",
              " 'دعما للسلام مبعوث امريكي لليمن يزور شرق اوسط',\n",
              " 'انطلاق فعاليات معرض دولي للامن دفاع مدني مليبول قطر فان  احد  عشرون بالدوحه',\n",
              " 'تحديات حمايه تصدي لفيروس كورونا للاشخاص نازحين قسرا عديمي جنسيه',\n",
              " 'قاهره تستضيف جوله ثانيه حوار وطني فلسطيني',\n",
              " 'رييس تونسي يصل قاهره زياره رسميه لمصر سيسي راس مستقبليه',\n",
              " 'هجوم صاروخي قاعده جويه بغداد',\n",
              " 'قوه جويه عراقي يتاهل لمجموعات اسيويه حساب وحده سعودي',\n",
              " 'عباس يوعز بوقف مخصصات ماليه موسسه ياسر عرفات برياسه قدوه',\n",
              " 'سلطه فلسطينيه تجري سلسله لقاءات احزاب يمين صهيوني لحضهم تبني مواقف سلميه انهاء احتلال',\n",
              " 'جدل دستوري كويت حول ابطال عضويه بدر داهوم بمجلس امه',\n",
              " 'سويط يقترح غاء محكمه دستوريه انشاء عليا',\n",
              " 'اوبزيرفر سوريون يندبون حظهم خساره ملجيهم اخير سودان يواجهون اسوا',\n",
              " 'استجابه منظمه عمل دوليه ازمه لاجيين سوريين اردن لبنان',\n",
              " 'امريكا تفكر خطوات صغيره لاحياء اتفاق نووي ايران',\n",
              " 'حرس ثوري يزعم امتلاك قاعده صواريخ ارض خليج',\n",
              " 'اخطار تركي لليونان اسراييل اتحاد اوروبي حول شرق متوسط',\n",
              " 'غارديان يونان تعد للحرب تركيا سط توتر علاقات انقره اشنطن',\n",
              " 'اردن يسجل اثنان  تسعون فاه اكثر تسعه اف اصابه جديده بكورونا',\n",
              " 'سرعه مسانده استدامه نظام تعليم اردن يتصدي لجايحه كورونا',\n",
              " 'رسميا سودان يطلب ساطه رباعيه ملف سد نهضه',\n",
              " 'اثيوبيا يتم تواصل معنا بشان وساطه رباعيه لحل ازمه سد نهضه',\n",
              " 'حرب يمن حوثيون يشنون هجمات سعوديه يتوعدون بالمزيد',\n",
              " 'تحالف يدمر طايره حوثيه مفخخه اطلقت سعوديه',\n",
              " 'اردوغان يدعو اداره بايدن للعمل تركيا لانهاء ماساه سوريه',\n",
              " 'اردوغان نصبر هجمات استفزازيه سوريا',\n",
              " 'كورونا تركيا تعلن اجراءات جديده حول استقبال سياح اجانب',\n",
              " 'اردوغان نصبر هجمات استفزازيه سوريا',\n",
              " 'بحضور ممثلين مجتمع دولي حكومه دبيبه تودي يمين دستوريه مجلس نواب',\n",
              " 'مجلس نواب ليبي يمنح ثقه للحكومه جديده بالاغلبيه',\n",
              " 'فد افغاني يتوجه موسكو لحضور موتمر سلام',\n",
              " 'طالبان تتشبث بـ نظام اسلامي محادثات سلام افغانيه',\n",
              " 'اشتباكات عنيفه قوات يمنيه حوثيين حديده',\n",
              " 'قوات شرعيه تتقدم اربعه محافظات يمنيه',\n",
              " 'دول عربيه اكبر دول مستورده للاسلحه  م',\n",
              " 'قايمه دول معتمده دوله امارات عربيه متحده لاستيراد حيوانات حيه',\n",
              " 'حوثيون يستهدفون قاعده ملك خالد بالسعوديه بالمسيرات',\n",
              " 'زاره دفاع سعوديه ايران تسيطر قرار حوثي',\n",
              " 'هزيمه كبيره لحزب ميركل انتخابات لايتين رييسيتين',\n",
              " 'حزب ميركل مسيحي ديمقراطي يختار ارمين لاشيت زعيما جديدا',\n",
              " 'اشنطن ندعم يمنا موحدا بعيدا نفوذ اجنبي',\n",
              " 'اشنطن تعلن قف دعم حرب يمن',\n",
              " 'غزه حماس تعلن انتهاء انتخاباتها فوز امراتين',\n",
              " 'حماس انتخاباتها داخليه سريه تشريعيه مقبله',\n",
              " 'سودان يلوح باللجوء مجلس امن لحل ازمه سد نهضه',\n",
              " 'سودان مجلس امن دفاع يامر حركات مسلحه بوقف تجنيد افراغ عاصمه مسلحيها',\n",
              " 'خلال يوم قوات امن تقتل تسعه  ثلاثون متظاهرا ميانمار',\n",
              " 'تحرك اممي باسيا اشنطن تدعو مجلس امن لتسهيل مهمه مبعوثه امميه بميانمار',\n",
              " 'نتنياهو يرد عمان باغلاق موقت للاجواء طايرات اردنيه',\n",
              " 'اردن يذيب جليد اسراييل بعيدا نتنياهو',\n",
              " 'شركه اماراتيه نملك شحنه نفط صادرتها اشنطن بزعم انها ايرانيه',\n",
              " 'شحنه نفط طريقها ايران سوريا',\n",
              " 'زراء حكومه وحده وطنيه ليبيه يودون يمين قانونيه',\n",
              " 'مجلس رياسي ليبي يعلن تاسيس مفوضيه للمصالحه وطنيه',\n",
              " 'كوسوفو تفتتح رسميا سفارتها قدس محتله',\n",
              " 'فلسطين تطالب بتدخل دولي اسراييل لاجراء انتخابات قدس',\n",
              " 'دينيس روس دبلوماسي امريكي مخضرم يقدم اثنا عشر نصيحه لاداره بايدن لمواجهه ايران',\n",
              " 'بايدن مستعدون للتفاوض ايران حول اتفاق نووي علينا تصدي لانشطتها مزعزعه للاستقرار',\n",
              " 'مجلس نواب يشكل لجنه تحقق حادثه مستشفي سلط جديد',\n",
              " 'مجلس نواب يشكل لجنه تحقيق بسكن كريم',\n",
              " 'بريطانيا محاكمه ايران لنازنين زاغريراتكليف مقبوله تعسفيه',\n",
              " 'بريطانيا توكد تزامها بالاتفاق نووي ايران',\n",
              " 'افغانستان تفجيران داميان كابل طالبان توكد انها تراجع خطه سلام اميركيه',\n",
              " 'صحف بريطانيه تناقش كيفيه خروج جيش امريكي افغانستان تدهور وضع امني',\n",
              " 'كشفت حادثه مستشفي سلط اقع طبي ضعيف امكانيات قله كوادر طبيه مواجهه جايحه كورونا',\n",
              " 'غضب ملكي شعبي حادثه مستشفي سلط اردن',\n",
              " 'فرنسا شرطي يطلق نار يقتل شخصا هدده بسكين باريس',\n",
              " 'قانون فرنسي فوره انفاق يشكلان تهديدا لمركز جنيف دوليا',\n",
              " 'مفوضيه اوروبيه تقر بارتكاب اخطاء استراتيجيه تطعيم ضد كورونا',\n",
              " 'اتحاد اوروبي يبشر بتعديل مهم لقوانين سفر بزمن كورونا',\n",
              " 'امير قطر يبحث قايد قياده مركزيه امريكيه تطورات منطقه',\n",
              " 'اميركيه كيز تمضي قدما بطوله قطر توتال مفتوحه',\n",
              " 'هجوم ثلاثه جبهات مخاوف سقوط مارب يد حوثيين',\n",
              " 'احتمالات مفتوحه مجلس انتقالي جنوب يمن يستنفر قواته',\n",
              " 'سودان جيش يضبط اسلحه مهربه حدود اثيوبيا',\n",
              " 'اثيوبيا تتهم جيش سوداني بالتوغل اراضيها تحذر صمتنا خوفا',\n",
              " 'فاجعه مستشفي سلط زير صحه اردني برلمان نفاد اكسجين استمر ساعتين',\n",
              " 'حكومه تاثير لحادثه سويس مخزون غذايي',\n",
              " 'محكمه كنديه تجمد اصول سعودي سعد جبري تطالبه بالافصاح',\n",
              " 'مديره ماليه لهواوي تتهم قضاء كندي باتلاف ادله',\n",
              " 'طالبان تنفي رفض زعيمها خوض مباحثات سلام كابل',\n",
              " 'فد سياسي حركه طالبان افغانيه يصل طهران بدعوه زاره خارجيه ايرانيه',\n",
              " 'لندن تفتح تحقيقا بحق زوجه بشار اسد بتهمه دعم ارهاب',\n",
              " 'لندن ترفض كشف نساء تنظيم دوله محرومات جنسيه',\n",
              " 'جنوب ليبي ضربات جويه تستهدف اوباري تزامنا اقتحام قوات حفتر للمنطقه',\n",
              " 'قوات مشير حفتر تسمح للسفن تركيه بدخول مواني شرق ليبيا',\n",
              " 'يمن موجه جديده نزوح نتيجه قتال ضالع',\n",
              " 'حوثيون يحددون ثلاثه نقاط لانجاح عمليه سلام يمن',\n",
              " 'طلاب مخطوفون نيجيريا يطلبون دفع مليون مقابل تحريرهم',\n",
              " 'اقام اتحاد طلبه نيجيريا بالكليه ايام قليله ماضيه احتفاليه استقلال نيجيريا',\n",
              " 'تواصل احتجاجات لبنان تعمق ازمه اقتصاديه',\n",
              " 'احتجاجات لبنان حزب له يهاجم متظاهرين بالسكاكين',\n",
              " 'ادانات لفتح تشيك مكتبا دبلوماسيا بالقدس محتله',\n",
              " 'فلسطينيون يتخلون رياسه دوره جامعه عربيه احتجاجا هروله عرب تطبيع',\n",
              " 'مصرع تسعه عشر عناصر امن نيجيريه كمين لتنظيم دوله اسلاميه',\n",
              " 'عوده حشيه تنظيم دوله اسلاميه بلدات سوريه',\n",
              " 'استهداف سفينه ايرانيه بحر احمر اصابع اتهام اسراييل',\n",
              " 'ايران تعلن قبض جاسوس اسراييلي متعاونين اجهزه استخبارات اجنبيه',\n",
              " 'شرطه روسيه تباغت فاعليه معارضه تعتقل ميتا شخص',\n",
              " 'انتهاء اجتماع موسكو بشان افغانستان دعوه روسيه لتقديم تنازلات',\n",
              " 'اردن اقالات حكومه تشكيل لجنه تحقيق عسكريه بحادثه مستشفي سلط',\n",
              " 'لقاء مسوولين كبار اسراييل مصر شرم شيخ',\n",
              " 'معارك بجبهات عده تقدم للجيش يمني حجه تعز غارات للتحالف مواقع حوثيه بصنعاء',\n",
              " 'اعلان بنتاغون جود عناصر بالجيش امريكي باليمن حوثي خطوه خطيره ستقابل بكل وسايل',\n",
              " 'حكومه افغانيه تعلن حضورها موتمري سلام منفصلين دعت اشنطن موسكو',\n",
              " 'حكومه افغانيه تطلق سراح معظم سجناء حركه طالبان',\n",
              " 'موريتانيا اشاده برفع حظر جمعيه مستقبل محسوبه اخوان',\n",
              " 'موريتانيا اسلاميون يثمنون حراك مطالب بسن قانون لتجريم تطبيع',\n",
              " 'تونس تفاصيل فاه خمسه عمال حريق شب باحد خزانات مصنع للاسفلت',\n",
              " 'قابس منكوبه تخوف تكرار سيناريو مرفا بيروت مدينه تونسيه  ي يطمين',\n",
              " 'رياسه عراقيه تصدر بيانا بشان مقتل ثمانيه مدنيين محافظه صلاح دين',\n",
              " 'عراق تحقيق زيره سابقه مسوولين اخرين بتهمه فساد',\n",
              " 'جرعه احده صحه  ميه ترخص استخدام لقاح جونسون اند جونسون',\n",
              " 'منظمه صحه  ميه تدعو دول تعزيز مراقبه متغيرات فيروس كورونا استجابه',\n",
              " 'زير صحه اردني يستقيل فاه مرضي كورونا جراء انقطاع اوكسجين',\n",
              " 'علماء يحذرون تعافي كورونا يعني بالضروره نهايه معاناه',\n",
              " 'غوتيريش وزير خارجيه عمان يبحثان قف قتال يمن',\n",
              " 'سعوديه تقترح قف اطلاق نار يمن حوثيون يبدون تشككهم',\n",
              " 'صراع تيغراي اثيوبيا تنفي اتهامات امريكيه بـ ارتكاب جرايم تطهير عرقي اقليم',\n",
              " 'علاقات عرقيه ولايات متحده تمر بادني مستوياتها تسعه عشر عاما',\n",
              " 'بيت ابيض يعلن بدء اتصالات دبلوماسيه مباشره ايران عبر اوروبيين',\n",
              " 'اوستن يعلن دعمه لاسراييل اشنطن ايران مصدر ارهاب',\n",
              " 'قمه افتراضيه بايدن قاده يابان هند استراليا تحد للصين',\n",
              " 'خبير امريكي سبل بايدن لتجنب اندلاع حرب امريكا صين',\n",
              " 'ليبيا امم متحده ترحب بمنح مجلس نواب ليبي ثقه لحكومه حده طنيه جديده',\n",
              " 'ليبيا حكومه وحده وطنيه تعقد اجتماعها اول مبعوث اممي يدعو لانسحاب مرتزقه',\n",
              " 'هجوم ارهابي سفينه شحن ايرانيه بحر ابيض متوسط',\n",
              " 'اسراييل تستعد لتصعيد مواجهه بحريه ايران',\n",
              " 'عايله جورج فلويد توافق تسويه مدينه مينيابوليس مقابل سبعه  عشرون مليون',\n",
              " 'طبيب يوكد محكمه فاه جورج فلويد تكن نتيجه امراض قلب تعاطي مخدرات',\n",
              " 'تركيا تعلن استيناف اتصالاتها دبلوماسيه مصر',\n",
              " 'اتصال زيري خارجيه تركيا مصر سنوات',\n",
              " 'تظاهر اف جزايريين للجمعه مايه  ثمانيه للمطالبه بـ تغيير شامل',\n",
              " 'تحولات دستوريه جزاير انعكاساتها دوله قانون',\n",
              " 'ميليشيا حوثي ترفض مقترح امريكي لوقف اطلاق نار يمن',\n",
              " 'ولايات متحده امريكيه تعلن رفع جماعه حوثي قايمه ارهاب',\n",
              " 'اختطاف طلبه نيجيريا مسلسل نهايه',\n",
              " 'اربعه قتلي بهجوم داعشي شرقي نيجيريا',\n",
              " 'ازمه ارمينيا رييس يرفض مرشح باشينيان لقياده جيش',\n",
              " 'رييس زراء ارمينيا يعلن موعد انتخابات برلمانيه مبكره',\n",
              " 'روسيا تحذر نشر صواريخ ارضيه امريكيه يابان توكد يهدد بسباق تسلح',\n",
              " 'اشنطن تخسر سباق روسيا صين صناعه صواريخ اسرع صوت',\n",
              " 'ترامب يناقش سحب قوات امريكيه افغانستان تدريجيا',\n",
              " 'عراق قرار بتشكيل لجنه لتطبيق يات انسحاب قوات اجنبيه',\n",
              " 'جيش يمني يبدا معركه حسم حجه تعز مارب',\n",
              " 'مطالبه موسيقار يمني احمد فتحي باعاده اعتبار للشاعر قصب شلال',\n",
              " 'دراسه دول فقيره تحصل لقاح كورونا فان  اربعه  عشرون',\n",
              " 'فيروس كورونا رييس منظمه صحه  ميه يكشف خللا صادما توزيع لقاحات دول غنيه فقيره',\n",
              " 'تضم ايران صين مجموعه دوليه تطالب بالتصدي للعقوبات احاديه',\n",
              " 'يمن صول سفينه قود تابعه للامم متحده كمساعدات انسانيه',\n",
              " 'سفن ايران متجهه سوريا تفتح جبهه جديده اسراييل',\n",
              " 'قايد جيش اسراييلي يهدد بحرب ايران',\n",
              " 'تركيا تعتزم استضافه موتمر سلام افغاني',\n",
              " 'مبعوث امريكي خاص يلتقي قاده افغانستان لبحث موتمر سلام تركيا',\n",
              " 'مصر توكد ضروره ابرام اتفاق حول سد نهضه اقرب فرصه',\n",
              " 'اتحاد افريقي لكره قدم يحتفل بعيد ميلاد ساحر مغربي حكيم زياش',\n",
              " 'تطبيع امارات توسس صندوقا لدعم استثمار اسراييل بقيمه عشره مليار',\n",
              " 'امارات اسراييل تنضم شبكه اتحاد للشحن',\n",
              " 'اتحاد اوروبي يدعو سلطه ليبيه جديده منح اولويه للانتخابات',\n",
              " 'ليبيا ـ اتحاد اوروبي يفرض عقوبات منتهكي حظر سلاح',\n",
              " 'بايدن يبعث برساله امل للامريكيين معركه تنته ضد فيروس كوورنا',\n",
              " 'تسجيل اعلي حصيله يوميه بدء حمله وطنيه للتطعيم ضد كورونا',\n",
              " 'اشنطن تدعو حوثيين قف تصعيد مارب عدم اعاقه اغاثه',\n",
              " 'عقوبات اشنطن ضد قيادات حوثي خطوه اخري لـ حصار ايران',\n",
              " 'تحركات لفرض قانون عقوبات اوروبيه ضد نظام اسد شبيه بـ قيصر',\n",
              " 'منظمه صحه  ميه اتحاد اوروبي يلتزمان بالعمل معا للتعجيل باحراز تقدم صعيد صحه',\n",
              " 'توجيه تهم فساد غسيل اموال للرييس سابق وضعه رقابه قضاييه',\n",
              " 'موريتانيا تقليص ساعات حظر تجوال رمضان',\n",
              " 'دارفور سلطات سودانيه تطلق سراح موسي هلال يوصف بانه زعماء جنجويد',\n",
              " 'سلطات سودانيه توقف عناصر متعدده جنسيات تنتمي لـ داعش',\n",
              " 'بسبب زياده جوع حاد بنسبه عشرون اعلن انطونيو غوتيريش تشكيل فريق عمل بهدف منع مجاعات',\n",
              " 'امم متحده بنك دولي منظمات انسانيه تطلق شراكه مبتكره للقضاء مجاعات',\n",
              " 'رياسه جزايريه تحدد موعد انتخابات تشريعيه مبكره',\n",
              " 'رييس جزايري يحل برلمان يصدر عفوا عشرات معتقلي حراك',\n",
              " 'اعلن حكومه سنغال يوم خميس حدادا طنيا فقدوا ارواحهم خلال احتجاجات',\n",
              " 'سنغال تفرض قيودا انترنت تصاعد احتجاجات',\n",
              " 'داخليه غزه حوامه اسراييليه تسببت بمقتل ثلاثه صيادين احد ماضي',\n",
              " 'طايرات حربيه اسراييليه تشن غارات قطاع غزه',\n",
              " 'مفوضيه امم متحده تدعو لانشاء يه دوليه لتحديد اماكن مفقودين بسوريا',\n",
              " 'امم متحده تسعي لجمع عشره مليارات لدعم سوريين مشردين',\n",
              " 'مصر سودان يوكدان تكثيف تنسيق بشان سد نهضه',\n",
              " 'سيسي يوجه رساله لاثيوبيا بشان سد نهضه حضور لافروف',\n",
              " 'مقتل خمسه ميانمار جيش يواصل حملات قمع ضد مظاهرات',\n",
              " 'مستشفي سلط مظاهرات ليليه تتحدي حظر تجوال تصريحات نايب تثير غضب',\n",
              " 'فتح تفصل ناصر قدوه عضويتها خلفيه تشكيله قايمه منفصله للانتخابات',\n",
              " 'سته  ثلاثون قايمه لخوض انتخابات تشريعيه فلسطينيه',\n",
              " 'مصر ارتفاع عدد قتلي حريق مصنع شمالي بلاد عشرون',\n",
              " 'عشرات ضحايا جراء انفجار عدد سيارات سط قاهره',\n",
              " 'اسراييل ايروسبيس تعلن تعاونها ايدج اماراتيه تكنولوجيا تصدي للطايرات مسيره',\n",
              " 'سفير اماراتي بتل ابيب يقدم اوراق اعتماده لرييس اسراييل',\n",
              " 'استمرار ادراج تريكه قوايم ارهاب يثير غضب جماهير',\n",
              " 'تريكه تريزيجيه اخبرني انه متاثر للغايه بسبب اصابه سيعود اقوي',\n",
              " 'مانيا ادانه موظف سابق بتهمه تجسس لصالح مخابرات مصريه',\n",
              " 'تحرك رسمي اقعه تمييز ضد مصريه مانيا بسبب حجاب',\n",
              " 'مصر تحذر تداعيات سلبيه اتجهت اثيوبيا لملء لسد نهضه بشكل احادي',\n",
              " 'سد نهضه تمديد اجتماعات كينشاسا ليوم اضافي فشل توصل اتفاق',\n",
              " 'لسبب غريب نتنياهو يلغي زياره زير خارجيه اسراييلي امارات',\n",
              " 'نتنياهو يرفض طلبا اردن لتزويده بالمياه',\n",
              " 'توقيف متهم باغتيال د ناشط مختطف جنوبي عراق',\n",
              " 'اندبندنت ادمان ماده ميثامفيتامين منتشر عراق يدمر شباب',\n",
              " 'طوابع كردستان عراق لزياره بابا تركيا تعترض خطا جسيم',\n",
              " 'فتره توتر دبلوماسي زير خارجيه تركي يلتقي نظيره ايراني اسطنبول',\n",
              " 'ليبيا ترحيب عربي دولي اسع بالمصادقه حكومه دبيبه',\n",
              " 'بنتاغون للعربيه تدخل عسكري يفاقم ازمه ليبيا',\n",
              " 'براغماتيه تخلق فرصا للتعاون مصر تركيا',\n",
              " 'اتصال هاتفي مباشر زيري خارجيه تركيا مصر',\n",
              " 'جيش امريكي يحذر غزو صين لتايوان',\n",
              " 'انطلاق اجتماع امريكي صيني لبحث خلافات عميقه',\n",
              " 'بايدن اقرار خطه انقاذ اقتصادي انتصار تاريخي للامريكيين',\n",
              " 'بايدن يحقق انتصارا جديدا جمهوريين تسهيل اقتراع',\n",
              " 'بلينكن يندد بـ ممارسات تطهير عرقي تيغراي',\n",
              " 'اقليم امهره اثيوبي ينفي تورط قواته بـ تطهير عرقي تيغراي',\n",
              " 'طالبان توكد تزامها باتفاق دوحه تطالب اشنطن بتنفيذ تعهداتها',\n",
              " 'افغانستان طالبان ترفض حضور موتمر اسطنبول بالموعد مقترح توضح اسبابها',\n",
              " 'حكم قضايي مغربي بتسليم استرالي اصل سعودي للرياض زوجته تحذر يواجه مصير خاشقجي',\n",
              " 'طموح بيراميدز يصطدم بهزيمه قاسيه رجاء مغربي',\n",
              " 'حوثيون يطلقون صاروخا باليستيا حي روضه سط مدينه مارب',\n",
              " 'يمن حوثيون يسيطرون جبل هيلان استراتيجي يتقدمون مارب',\n",
              " 'لقاء اسراييلي مصري لتعزيز تعاون اقتصادي اول عقدين',\n",
              " 'مستشرق اسراييلي اعلام مصر تجاهل حفاوتنا حاره بوزير طاقه',\n",
              " 'بحرين ترسل مذكره احتجاج قطر بسبب برنامج عبر قناه جزيره',\n",
              " 'بحرين قطر تستجب لدعوه بحث قضايا  قه',\n",
              " 'محكمه اندونيسيه تقضي بسجن نابليون بونابرت',\n",
              " 'تركيا تعزي اندونيسيا ضحايا زلزال',\n",
              " 'مسوولون مسيحيون يحذرون مخاطر مشروع قانون مثير للجدل',\n",
              " 'مانيا موسسات اسلاميه تطالب حكومه بمكافحه عنصريه',\n",
              " 'حماس تعيد انتخاب سنوار رييسا غزه خاض منافسه شديده قاده حركه بارزين بالقطاع',\n",
              " 'لاول مره سيدتان بالمكتب سياسي حماس تنهي انتخاباتها داخليه غزه تختار خليل حيه نايبا للسنوار',\n",
              " 'محكمه عليا ماليزيا تسمح للمسيحيين باستخدام كلمه له نصوص خطب دينيه',\n",
              " 'ماليزيا تسجل ف  سبعمايه  سبعه  ستون اصابه جديده بفيروس كورونا',\n",
              " 'تونس قفه للمطالبه بفض اعتصام اتحاد علماء مسلمين',\n",
              " 'تونس غنوشي يدعو لمصالحه رمضانيه احزاب سلطات',\n",
              " 'يقول مورخون عوايق ابحاثهم حول حرب جزايريه',\n",
              " 'مسوول جزايري استعمار فرنسي حاول توطين اوروبيين',\n",
              " 'تركيا تحتج طابع بريدي لـ خارطه كردستان تاريخيه',\n",
              " 'رييس عراق يبحث سفير تركيا تعزيز علاقات ثناييه',\n",
              " 'رييس جديد للاركان يعمق ازمه ارمينيا جيش براسين',\n",
              " 'علييف يستبعد احتمال توقيع اتفاق سلام ارمينيا',\n",
              " 'جيش لبناني يتدخل لاعاده فتح طرق اغلقها متظاهرون',\n",
              " 'ازمه ليره تتفاقم للاسوا لبنانيون جوعي',\n",
              " 'تقرير اخباري ترحيب عربي بمنح برلمان ليبي ثقه لحكومه دبيبه كخطوه مفصليه لانجاح مرحله انتقاليه',\n",
              " 'انقره اردوغان دبيبه يعلنان تزامهما بمعاهده حدود جدليه',\n",
              " 'نتنياهو زياره علنيه للامارات',\n",
              " 'صحيفه اسراييليه تلمح كون نتنياهو مصدر تسريبات ضرب منشاه نطنز ايرانيه',\n",
              " 'ولايات متحده بدء محاكمه شرطي ديريك شوفين متهم بقتل جورج فلويد مينيابوليس',\n",
              " 'استعدادات امنيه مكثفه لتامين مباراه بيراميدز رجاء',\n",
              " 'روسيا تبطي سرعه تويتر لعدم حذف محتوي محظور',\n",
              " 'مسوول روسي يصف خارجيه اميركا بـ اوغاد سبب غاغارين',\n",
              " 'قالت منظمتان اسراييليتان سياسه استيطان فرضتها اسراييل تعبير اضح نظام فصل عنصري اسراييلي',\n",
              " 'ماعت ممارسات اسراييليه ترسخ فصل عنصري بحق شعب فلسطيني',\n",
              " 'رييس يمني يطالب بـ تحديث خطط عسكريه لهزيمه حوثي',\n",
              " 'رييس اذربيجاني هام علييفالرييس اذربيجاني لدينا خطط عسكريه حدود ارمينيا',\n",
              " 'ليبيا مجلس نواب يمنح ثقه لحكومه وحده وطنيه برياسه عبد حميد دبيبه',\n",
              " 'مجلس نواب ليبي يوجل جلسه تصويت حكومه ثلاثاء',\n",
              " 'حرب افغانيه بدء محادثات سلام تاريخيه حكومه افغانيه طالبان قطر',\n",
              " 'حكومه افغانيه تتهم طالبان بعدم قطع علاقاتها قاعده',\n",
              " 'استقاله زراء حكومه اردنيه تمهيدا لتعديل موسع',\n",
              " 'لاردن اشتباك بالايدي نايبين خلال اجتماع خصاونه بشان قضيه فتنه',\n",
              " 'كيسنجر يحذر بايدن حرب طاحنه امريكا صين قابله للسيطره',\n",
              " 'فايض صين تجاري اميركا يتقلص احد  عشرون مليار',\n",
              " 'مقابله هاري ميغان زياده مطالب مستعمرات كاريبيه سابقه باسقاط ملكه بصفتها راس دوله',\n",
              " 'امير هاري يحضر جنازه بريطانيا تودع امير فيليب بالدموع زهور طلقات مدفعيه',\n",
              " 'رياسه عراقيه تنفي تصريحا حول عقد اتفاق احتلال',\n",
              " 'رياسه عراقيه تعلن مصادقه ثلاثمايه  اربعون حكم اعدام',\n",
              " 'نووي ايراني اشنطن تريد اتفاقا اقوي اطول روحاني يطالبها بالخطوه اولي',\n",
              " 'اشنطن تبدي استعدادها لرفع عقوبات ايران تتسق اتفاق نووي',\n",
              " 'اعدم سوريا نتانياهو يوكد سعيه لاستعاده رفات جاسوس اسراييلي ايلي كوهين',\n",
              " 'نتايج نهاييه للانتخابات اسراييليه تشكل تحديا نتنياهو',\n",
              " 'قدم عضو جمهوري بالكونغرس مشروع قانون يمنع اداره رييس جو بايدن رفع تخفيف عقوبات ايران',\n",
              " 'كونغرس امريكي يمرر مشروع قانون تمويل لمده يومين لتجنب اغلاق حكومه',\n",
              " 'بنتاغون يوافق تمديد جود حرس وطني حول كونغرس امريكي',\n",
              " 'بنتاغون ولايات متحده قررت نشر خمسمايه عسكري اضافي مانيا',\n",
              " 'سعوديه هجمات حوثي ارهابيه تستهدف اقتصاد  مي',\n",
              " 'سعوديه حوثيون هجوم بطايرات مسيره منشاه نفط جازان',\n",
              " 'غوتيريش يعلن استعداد امم متحده للمشاركه بمفاوضات سد نهضه',\n",
              " 'امم متحده تحذر نزاع شامل بورما',\n",
              " 'اتحاد اوروبي نرفع عقوبات سوريا بدء انتقال سياسي',\n",
              " 'اتحاد اوروبي يفرض عقوبات قيادات بالباسيج شرطه ايرانيه',\n",
              " 'موريتانيا نيابه تتهم رييس سابق 12 اخرين بغسل اموال',\n",
              " 'اتفاق انشاء مجلس اعمال موريتاني اوكراني',\n",
              " 'لمبعوث اميركي لايران تمسك طهران بالغاء عقوبات دليل عدم جديتها',\n",
              " 'روحاني يوكد ضروره تعزيز تعاون دفاعي عسكري طهران موسكو',\n",
              " 'محادثات سلام افغانستان مشاورات اميركيه دعوه روسيه تحذير قطريه',\n",
              " 'ازمه دبلوماسيه امريكا روسيا بداها بايدن 3 سيناريوهات متوقعه',\n",
              " 'اكتظاظ مشافي فلسطينيه بمرضي كورونا صول دفعه لقاحات عبر برنامج كوفاكس  هي ركيزة لقاحات لمبادرة تسريع اتاحة ادوات مكافحة كوفيدلمنظمه صحه  ميه',\n",
              " 'فلسطين تدعو مجتمع دولي لوقف عدوان احتلال اسراييلي اقصي',\n",
              " 'نايبه تونسيه تقتحم مقر اتحاد  مي لعلماء مسلمين',\n",
              " 'تونس حرق مركز امني سياره شرطه اثر مقتل شابين',\n",
              " 'صمت مطبق رد قصر باكنغهام هاري ميغان',\n",
              " 'بريطانيا اعتقال رجل يحمل فاسا قرب قصر باكنغهام',\n",
              " 'فاه تسعه  ثلاثون مهاجرا اقل غرق مركبين قباله سواحل تونسيه',\n",
              " 'صحفيين تونسيين دخول شرطه مقر كاله تونس افريقيا للانباء سابقه خطيره',\n",
              " 'سودان يلوح باللجوء لمجلس امن لحل ازمه سد نهضه اثيوبي',\n",
              " 'جوبا خرطوم توقع اتفاق سلام جماعات مسلحه',\n",
              " 'صول طايره بنغازي مصراته خصام سبعه سنوات',\n",
              " 'فد حكومي يوناني يفتتح قنصليه بنغازي شرقي ليبيا',\n",
              " 'اربعه عشر نايبا امريكيا يدعون لابرام صفقه شامله ايران',\n",
              " 'خبير اسراييلي يشير اسباب هجوم منشاه نوويه ايران',\n",
              " 'تحقيق للجزيره اسراييل باعت بنغلاديش برنامجا متطورا للتجسس هواتف معارضين',\n",
              " 'بنغلاديش تعلن حظر سفر جوي لاسبوع بسبب كورونا',\n",
              " 'تحالف يدمر مفخخه حوثيه باجواء يمن',\n",
              " 'شهري ينتقد تجاهل تحالف دولي لارهاب ايران',\n",
              " 'اداره بايدن تمنح طالبي تاشيرات مرفوضين فرصه جديده',\n",
              " 'لمحكمه عليا امريكيه تويد حق ترامب حظر متابعه معارضيه لحسابه تويتر',\n",
              " 'ماكرون يقرر رفع سريه ارشيف احتلال فرنسي للجزاير',\n",
              " 'ازمه اوكرانيه ماكرون يستقبل زيلينسكي خضم تحركات روسيه',\n",
              " 'مبعوثه امم متحده للسلام افغانستان تلتقي فد حركه طالبان دوحه',\n",
              " 'امم متحده تحذر نزاع شامل بورما',\n",
              " 'محكمه عليا برازيل تصدر حكما يلغي ادانات بحق دا سيلفا',\n",
              " 'برازيلي يقضي ثمانيه  ثلاثون يوما حيدا غابات امازون تحطم طايرته',\n",
              " 'نواجه تحرك ايران بمزيد عقوبات مسوول امريكي اشنطن تنتظر رد فعل طهران دعوه للمحادثات',\n",
              " 'اشنطن تنضم لعدد ولايات تعليق لقاح جونسون اند جونسون',\n",
              " 'تراجع باصابات كورونا بالولايات متحده كشف موعد لقاح',\n",
              " 'سلطات اميركيه توقف لقاحا لكورونا تحقق جلطات',\n",
              " 'امريكا قلقه هجمات سعوديه استهداف حوثيين لقلب صناعه نفط',\n",
              " 'جو بايدن اداره رييس امريكي تمضي قدما صفقه اسلحه ضخمه امارات',\n",
              " 'لاول مره مغادرته بيت ابيض ترامب يعود نيويورك',\n",
              " 'ترامب يتهم بايدن بالتامر فايزر لتعطيل لقاح جونسون اند جونسون',\n",
              " 'رجحت انخفاض كميات مياه خرطوم تتحسب لكل سيناريوهات تعبيه ثانيه لسد نهضه',\n",
              " 'سودان ترسل فد رسمي اسراييل اسبوع مقبل',\n",
              " 'اصابه فلسطينيين برصاص اسراييلي جنوبي ضفه',\n",
              " 'جيش احتلال يعثر جثه جندي فقده يومين',\n",
              " 'بالتزامن رفع طهران تيره تخصيب اشنطن تامل استجابه لعرض محادثات مباشره',\n",
              " 'اردن بدء سريان اتفاقيه دفاعيه اشنطن',\n",
              " 'اشنطن تطرح مقترحات جديده بشان تسويه افغانيه تشمل ايران صين روسيا تركيا',\n",
              " 'اشنطن تسحب قوات خليج تدرس خيارات لحمايه سعوديه',\n",
              " 'عراق اعتقال ثلاثه اشخاص خططوا لعمليه انتحاريه ضد زوار شيعه ببغداد',\n",
              " 'عراق موصليات يكسرن قيود باول ماراثون لركوب دراجات',\n",
              " 'سط محادثات فيينا ايران تعلن زياده نسبه تخصيب يورانيوم ستون',\n",
              " 'اتهامات لايران بالهجوم سفينه اسراييليه قباله ساحل امارات',\n",
              " 'كورونا  ميا فاه اثنان مليون 600 اصابه مايه  ثمانيه عشر مليون',\n",
              " 'حملات تطعيم ضد كورونا تتعرقل تعليق استخدام جونسون اند جونسون',\n",
              " 'طرد اف منطقه متنازع عليها تيغراي',\n",
              " 'بلينكن نزال قلقين بشان تداعيات صراع اقليم تيغراي',\n",
              " 'فيروس كورونا جايحه تجبر بريطانيا خفض مساعدات ماليه سوريا دول افريقيه',\n",
              " 'جونسون يوكد للملك دعم بريطانيا لامن اردن استقراره',\n",
              " 'قايد قياده وسطي اميركيه يوكد ان بلاده ستواصل مساعده سعوديه دفاع نفسها',\n",
              " 'سعوديه تبتكر طريقه للقضاء سماسره استقدام',\n",
              " 'كورونا يضرب برلمان جديد فاه ثلاثه نواب فوزهم انتخابات',\n",
              " 'استقاله زير صحه بالنمسا عقب اعتراضات قيود كورونا',\n",
              " 'معارك عنيفه مارب سعوديه تدمر صاروخا طايره مسيره اطلقهما حوثيون باتجاه جازان خميس مشيط',\n",
              " 'تحالف يدمر زورقين حوثيين مفخخين هجوم حديده يمنيه',\n",
              " 'ليبيا برلمان يعلق جلسه منح ثقه لحكومه عبد حميد دبيبه',\n",
              " 'مجلس نواب اردني ينفي حصول مشادات نواب خصاونه',\n",
              " 'محتجون يقطعون عددا طرق عاصمه بيروت',\n",
              " 'منتخب نشميات يتفوق لبنان بطوله ارمينيا وديه',\n",
              " 'خطط حكوميه بتسعيره مياه ري تثير غضب مزارعين مصريين',\n",
              " 'زير خارجيه تركي اجتماع مرتقب مصر بدء مرحله جديده علاقات',\n",
              " 'اصابه رييس سوري بشار اسد زوجته بفيروس كورونا',\n",
              " 'مفوضه امم متحده لحقوق انسان تحذر تكرار ماساه سوريه ميانمار',\n",
              " 'نيويورك تايمز ولايات متحده تعتزم تنفيذ هجمات كترونيه ضد مواقع روسيه اسابيع مقبله',\n",
              " 'سيناتور روسي يدعو روس خططوا لعطلهم تركيا لاظهار حبهم للوطن',\n",
              " 'قتلي جرحي يوم اخر للاحتجاجات ضد انقلاب ميانمار',\n",
              " 'شبح حرب ميانمار تحذيرات امميه تكرار سيناريو سوري',\n",
              " 'امير قطر يتلقي رساله شفويه عاهل سعودي تتصل بالعلاقات بلدين',\n",
              " 'تحكم مروري انقلاب مركبه جسر دوحه حص باتجاه خلده نتج عنه جريح حركه مرور كثيفه محله تتم معالجه دراج مفرزه سير بعبدا',\n",
              " 'سنغال اغلاق مدارس بسبب اضطرابات',\n",
              " 'خبير اردني افتتاح سنغال قنصليه بالداخله يجسد ثمار سياسه مملكه افريقيه قاره',\n",
              " 'دبيبه يدعو مجلس نواب ليبي االوحده لاجتماع نسيان احقاد',\n",
              " 'دبيبه يثير غضب معسكر حفتر',\n",
              " 'سفاره امريكيه تدين هجمات حوثيين توكد تزام اشنطن بالدفاع سعوديه',\n",
              " 'سعوديه رياض لديها مصلحه زعزعه استقرار اردن لم تطالب بالافراج باسم له',\n",
              " 'ثوره شعبيه بالسنغال هيمنه فرنسيه سبب لتنامي فوضي قاره سمراء',\n",
              " 'سنغال تسرق موهبه دوري فرنسي مغرب',\n",
              " 'اف اميركيين يطالبون بالعداله عرقيه يوم تحرير عبيد',\n",
              " 'خارجيه تعلن شهر عرب اميركيين',\n",
              " 'عشرات قتلي ميات جرحي انفجارات داخل معسكر للجيش غينيا استواييه',\n",
              " 'قطر تقيم علاقات دبلوماسيه غينيا استواييه',\n",
              " 'حكومه افغانيه جاهزون للتفاوض حركه طالبان',\n",
              " 'ردا قرار اتخذه بايدن طالبان تعلن نشارك موتمر رحيل قوات اجنبيه',\n",
              " 'سعوديه تعلن تصدي لهجمات حوثيه بمسيره زورقين مفخخين',\n",
              " 'افشال محاوله هجوم حوثيه بقطاع صبيره ـ جب',\n",
              " 'لاول مره جزاير يقر قانون انتخابات يعتمد قايمه مفتوحه',\n",
              " 'سفاره فرنسيه تنفي تدخل شان سياسي جزايري',\n",
              " 'مصدر عسكري سوداني اثيوبيا تسلح حركه متمرده لاحتلال كرمك',\n",
              " 'بسبب فشل مفاوضات سد نهضه حمدوك يدعو لاجتماع قمه ثلاثي',\n",
              " 'حفتر يقطع طريق سرت لمنع جلسه طرح ثقه حكومه دبيبه',\n",
              " 'اناضول مصر نقلت اسلحه مخباه ادويه ليبيا',\n",
              " 'قطر تعلن موقفها مبادره سعوديه حول انهاء حرب يمن',\n",
              " 'سفير قطر بروسيا اوايل دول بمحاربه كورونا تعاون خليجي ممتاز',\n",
              " 'ولايات متحده تتعهد قيام يلزم للدفاع مصالحها عراق',\n",
              " 'انتعاش اميركا يضر اقتصادات ناشيه',\n",
              " 'ايران تشترط مجلس نووي رفع عقوبات',\n",
              " 'ايران تعلن زياده كبري انشطتها لتخصيب يورانيوم',\n",
              " 'تحالف يطلق عمليه عسكريه جويه ضد حوثيين بصنعاء',\n",
              " 'هادي حرب حاليه فرضها حوثيون خدمه لايران',\n",
              " 'رييس وزراء اردني يجري تعديلا يشمل 10وزارات',\n",
              " 'زراء داخليه خمسه دول اوروبيه متوسطيه يجتمعون باليونان لمناقشه هجره',\n",
              " 'اشنطن ستطلب امم متحده بحث خطه للسلام بافغانستان ستدعو تركيا لاستضافه موتمر لطالبان حكومه افغانيه',\n",
              " 'تركيا اشنطن تقرر غاء ارسال سفنها حربيه بحر اسود',\n",
              " 'بابا قداس احتفالي ختام زيارته للعراق',\n",
              " 'قصف صاروخي لمطار اربيل كردستان عراق',\n",
              " 'فاه اشخاص جراء سيول جارفه جزاير',\n",
              " 'تبون يجدد دعم جزاير للمصالحه ليبيا',\n",
              " 'مقتل ثلاثه صيادين فلسطينيين جيش اسراييلي ينفي تنفيذ هجمات قباله سواحل غزه',\n",
              " 'احتلال يشن غارات مواقع لحماس قطاع غزه',\n",
              " 'كابول طالبان تدرسان مقترح امريكي حول حكومه تشاركيه',\n",
              " 'طالبان تحث امريكا التزام باتفاق دوحه',\n",
              " 'زير دفاع ايراني سندمر حيفا تل ابيب ان قامت اسراييل بمهاجمتنا',\n",
              " 'زير دفاع امريكي اشنطن ستبحث استمرار تمويل قدرات عسكريه امنيه افغانيه',\n",
              " 'كورونا ارتفاع قياسي للاصابات اوروبا مظاهرات عنيفه ضد تشديد قيود',\n",
              " 'اوروبا تعتمد استراتيجيه تمويل تعافي',\n",
              " 'فلسطين محتله اف مستوطنين اسراييليين يتظاهرون للمطالبه باستقاله نتنياهو خلفيه اتهامات بالفساد',\n",
              " 'صحيفه اسراييليه نتنياهو اصيب بالجنون فقد كابح اخير',\n",
              " 'بابا فاتيكان يزور اربيل موصل قرقوش يوم عراق',\n",
              " 'رييس عراقي يتسلم رساله خطيه بابا فاتيكان',\n",
              " 'تحالف سعودي اماراتي يعلن تدمير عشره طايرات مسيره اطلقها حوثيون باتجاه مملكه',\n",
              " 'اردن يدين افعال حوثيين ارهابيه جبانه سعوديه',\n",
              " 'لسنغال اربعه قتلي صدامات عنيفه امن محتجين اعتقال سونكو',\n",
              " 'رييس بنك اوروبي رييس سنغال يناقشان اولويات استثمار مستدام كورونا',\n",
              " 'ليره لبنانيه تسجل تراجعا جديدا دولار سوق موازيه',\n",
              " 'اتهامات عده حاكم مصرف لبنان يتكلم ثروته يكشف جمعها',\n",
              " 'سلطات عسكريه ميانمار تطالب هند اعاده عدد ضباط منشقين',\n",
              " 'هند تسجل رقما قياسيا عدد حالات اصابه يوميه بـ كورونا',\n",
              " 'فيروس كورونا مجلس شيوخ امريكي يقر خطه اغاثه بقيمه احدتسعه تريليون',\n",
              " 'زياره لمسوول كبير اداره بايدن صين',\n",
              " 'ازمه يمنيه تتعقد معارك تحتدم بتعز مارب عشرات قتلي جرحي هجمات للحوثيين ابها تحالف يقصف صنعاء',\n",
              " 'كابتن ابراهيم موسي يتصدر غوغل مصر نقله لمستشفي عدن باليمن بيان زيره هجره مصريه',\n",
              " 'جرحي بحادث دهس متعمد لمتظاهرين جنوب بيروت',\n",
              " 'اخلاء سبيل سته موقوفين قضيه تفجير مرفا بيروت',\n",
              " 'المان يتزاحمون هدف شراء فحوص اجسام مضاده',\n",
              " 'فيروس كورونا مانيا تشهد ارتفاعا متسارعا عدد اصابات',\n",
              " 'دبلوماسيه كاتبه فرنسيه تقول مملكه متحده ستفقد تاثيرها  مي بريكست',\n",
              " 'صحيفه لوموند تنقل دبلوماسي فرنسي سببا يبطل اتفاقيه بحريه تركيا ليبيا',\n",
              " 'كاظمي روحاني يبحثان اخر مستجدات تطورات اوضاع منطقه',\n",
              " 'روحاني مستعدون للعوده تخصيب بنسبه ستون حال رفع عقوبات',\n",
              " 'ردوغان يعلن دخول سلاح جوي جديد للخدمه يتحدث قوه تركيا عسكريه',\n",
              " 'اردوغان عقيلته ضيفان مايده افطار مواطن تركي',\n",
              " 'لبنان حسان دياب يهدد بـ اعتكاف توقف تصريف اعمال بسبب تعثر تشكيل حكومه حريري',\n",
              " 'لبنان حاله جديده هرج مرج سوبرماركت بسبب زيت مدعوم',\n",
              " 'سيسي برهان يرفضان تصرف احادي اثيوبيا بشان سد نهضه',\n",
              " 'انتقادات لقيس سعيد لمهاجمته اسلاميين زيارته سيسي',\n",
              " 'تهديدات تثير مخاوف مسوولي انتخابات بولايات اميركيه',\n",
              " 'بومبيو يلغي قيود مفروضه تواصل مسوولين اميركيين تايوان',\n",
              " 'ميات الاف يتظاهرون ضد انقلاب ميانمار',\n",
              " 'احتجاجات تتواصل مينيابوليس اثر قتل شرطه لشاب اسود',\n",
              " 'حوثيون يستهدفون قاعده جويه مطار ابها سعوديه',\n",
              " 'تحالف عربي اعتراض تدمير مسيره مفخخه اطلقها حوثيون باتجاه جازان',\n",
              " 'بابا فاتيكان سيستاني يوكدان اهميه تعايش نبذ لغه حرب',\n",
              " 'قايد عسكري عراقي يعلق انباء استهداف مركز للموساد شمالي بلاد',\n",
              " 'مباحثات رفيعه مستوي طالبان امريكا قطر',\n",
              " 'دياب سيزور عاصمه قطريه دوحه يوم احد',\n",
              " 'اعلي سلطه قضاييه بلجيكا تعلق تصدير سلاح للحرس وطني سعودي',\n",
              " 'جدل بلجيكي حول اختبارات سريعه لكورونا',\n",
              " 'بابا فاتيكان يصل نجف للقاء مرجع شيعي اعلي عراق',\n",
              " 'عريضه سوريه لبنانيه ي بابا فاتيكان امم متحده لرفع عقوبات',\n",
              " 'شرطيان يرفعان دعوي قضاييه ضد ترامب خلفيه هجوم كابيتول',\n",
              " 'اداره بايدن تكشف لاول مره اسم عميل روسي تدخل لصالح ترامب انتخابات فان  سته عشر',\n",
              " 'لتشكيل حكومه موقته خليل زاد يقترح موتمرا يجمع طالبان قاده افغان',\n",
              " 'طالبان تعلن انها تشارك قمه حول مستقبل افغانستان خروج قوات اجنبيه',\n",
              " 'امم متحده تعرض تدخل مفاوضات سد اثيوبيا استجابه لمصر سودان',\n",
              " 'امم متحده تنتقد سياسه دنمارك لاجيين سوريين',\n",
              " 'جزاير تجدد مظاهرات حراك مطالبه بالتغيير جذري للنظام',\n",
              " 'رشاد تثير مخاوف حراك جزايري عوده اسلاميين',\n",
              " 'قتلي جرحي بتفجير استهدف نقطه امنيه مقديشو',\n",
              " 'شرطه امريكيه ثمانيه قتلي اقل باطلاق نار انديابوليس فقا للتحقيقات اوليه',\n",
              " 'مسوول ايراني اشنطن افقت افراج ارصده لطهران بقيمه ثلاثه مليارات ثلاثه دول',\n",
              " 'اشنطن تبدي استعدادها لرفع عقوبات ايران تتسق اتفاق نووي',\n",
              " 'سنغال تجدد توتر عاصمه يومين صدامات',\n",
              " 'اجمالي بلغ احد  عشرون سنغال تفتتح قنصليه باقليم صحراء',\n",
              " 'تايمز سجون بريطانيه تشهد زياده اعداد ارهابي يمين متطرف',\n",
              " 'بريطانيا اعطاء يقرب احد  اربعون مليون جرعه لقاحات كورونا',\n",
              " 'استانف جيش يمني مقاومه شعبيه مواجهات ضد حوثيين جبهه تعز موخرا',\n",
              " 'حكومه يمنيه تسمح بدخول مزيد سفن نقل وقود ميناء حديده',\n",
              " 'كورونا تراجع ملحوظ للاصابات وفيات  م منظمه صحه تحذر استعجال خلاص',\n",
              " 'شركه فايزر ترجح حاجه لجرعه ثالثه لقاحها ضد كورونا',\n",
              " 'جيش يمني يحرز تقدما ملحوظا حدود سعوديه يسقط طايرتين للحوثي',\n",
              " 'حوثيون يهاجمون رياض بطايرات مسيره واشنطن تقول مباحثات مبعوثها لليمن كانت مثمره',\n",
              " 'جناييه تصدر مذكرات اعتقال بحق نتنياهو غانتس يعالون',\n",
              " 'نتنياهو غانتس يعرضان حكومتهما جديده كنيست',\n",
              " 'زير دفاع اسراييلي جيش يطور خطه لضرب منشات نوويه ايرانيه',\n",
              " 'زير دفاع اسراييلي اردن عمقنا استراتيجي علينا تقديم مساعده',\n",
              " 'اف عرب يتظاهرون ضد جريمه فحم',\n",
              " 'سايل اعلام ايرانيه استهداف مركز معلومات عمليات تابع للموساد اسراييلي عراق',\n",
              " 'امم متحده تشجب مقتل ثلاثه  عشرون اقليم ايراني حدود باكستان',\n",
              " 'ايران تمد بصرها باكستان افغانستان لمساومه بايدن',\n",
              " 'لاخبز قود سوريون يواجهون شبح مجاعه شتاء',\n",
              " 'دنمارك سياسه لجوء متشدده تستثني سوريين ترحيل',\n",
              " 'تحالف يعلن اعتراض سته طايرات مسيره تستهدف سعوديه',\n",
              " 'مجلس تنسيق سعودي اماراتي يناقش خريطه طريق للفتره مقبله',\n",
              " 'مرسوم دستوري لانشاء حكم فدرالي سودان',\n",
              " 'بدء فعاليات موتمر نظام حكم سودان',\n",
              " 'لبنان احتجاجات عده مدن اثر هبوط جديد لليره',\n",
              " 'كاتبه لبنانيه كلوديا مرشليان تكشف قصه مسلسل راحوا',\n",
              " 'عراق يستقبل بابا فاتيكان سط اجراءات امنيه مكثفه امل بتحقيق سلام',\n",
              " 'عثور كنز دفنه داعش ارض موصل قضاء عراقي يقول كلمته',\n",
              " 'حرس ثوري يعلن احباط عمليه اختطاف طايره مدنيه بايران',\n",
              " 'حرس ايراني يجري مناورات قرب حدود عراقيه',\n",
              " 'اف تعتقل مسيولا سابقا اداره ترامب بتهم تتعلق باقتحام مبني كابيتول',\n",
              " 'ثمانيه قتلي اطلاق نار بمدينه انديانابوليس اميركيه',\n",
              " 'غانتس يكشف خطه لضرب مواقع نوويه ايرانيه عن خريطه سريه لمواقع حزب له',\n",
              " 'زير دفاع اسراييلي مستعدون لتسويه حماس',\n",
              " 'مانيا تضع اكبر حزب يميني مراقبه استخبارات',\n",
              " 'زيره دفاع المانيه تحدد موعد سحب جنود بلادها افغانستان',\n",
              " 'زير خارجيه قطري يبحث نظيره اميركي تطورات منطقه',\n",
              " 'زير خارجيه قطري يسلم رييس عراقي رساله شيخ تميم',\n",
              " 'تواصل تظاهرات بميانمار عقوبات امريكيه جيش',\n",
              " 'اضراب صامت ميانمار حدادا مقتل سبعمايه شخص برصاص انقلاب',\n",
              " 'تركيا قرارات زاري جامعه عربيه اخيره مرفوضه',\n",
              " 'جامعه عربيه تدين تفجير ارهابي بمدينه صدر عراقيه',\n",
              " 'هاريس لنتنياهو ملتزمون حمايه امن اسراييل نرفض تحقيق جناييه دوليه',\n",
              " 'جو بايدن اداره رييس امريكي تمضي قدما صفقه اسلحه ضخمه امارات',\n",
              " 'مسوول اممي يطالب اريتريا بسحب قواتها عسكريه اقليم تيغراي اثيوبي',\n",
              " 'امم متحده ستواصل مهمتها افغانستان مغادره ولايات متحده حلف اطلسي',\n",
              " 'جنوب افريقيا حكم كبير قضاه بالاعتذار تاييد اسراييل',\n",
              " 'هيكتور كوبر ضمن مرشحين لقياده منتخب بافانا بافانا',\n",
              " 'طهران متمسكون بالاتفاق نووي لن نعود للتفاوض',\n",
              " 'اميركا تتعهد بمنعها امتلاك نووي ايران تبدا تخصيب يورانيوم بنسبه ستون',\n",
              " 'مقتل احد عشر جنديا بينهم ضابط رفيع مستوي تحطم مروحيه جنوب شرق تركيا',\n",
              " 'اردوغان زوجته ضيفان عايله تركيه افطار',\n",
              " 'ثلاثه زلازل قويه تضرب نيوزيلندا تحذيرات تسونامي',\n",
              " 'نيوزيلندا تحظر تصدير ابقار حيه بحرا خوفا رفاهيتها',\n",
              " 'صين روسيا تعطلان اصدار بيان مجلس امن بشان عنف اقليم تيغراي اثيوبي',\n",
              " 'امم متحده عنف جنسي يستخدم كسلاح اقليم تيغراي اثيوبي',\n",
              " 'جيش يمني يحقق مكاسب جبهات واشنطن تتحدث تقدم ديبلوماسيا',\n",
              " 'اغتيال قيادي حوثي صنعاء',\n",
              " 'عقود كذب دوله فرنسا تعترف بـ تعذيب قتل مناضل جزايري علي بومنجل',\n",
              " 'جزاير تمدد حظر تجول تسعه لايات بينها عاصمه',\n",
              " 'ايران ترحب بالتراجع اوروبي ادانتها مدير كاله طاقه ذريه ينتظر طهران توضيحات بشان تخصيب يورانيوم',\n",
              " 'قلق اوروبي زياده ايران لتخصيب يورانيوم',\n",
              " 'صحه  ميه رطه مطالبات بتحقيق جديد حول كورونا',\n",
              " 'فايزر تعلن جرعه ثالثه لقاحها ضد كورونا',\n",
              " 'ستراتفور ايران تتخلي دعم كلايها بالمنطقه مقابل تخفيف عقوبات',\n",
              " 'ايران سقوط طايره مسيره سط بلاد',\n",
              " 'دبيبه يسلم تشكيله حكومه ليبيه جديده رياسه مجلس نواب',\n",
              " 'اشنطن توكد اهميه انعقاد جلسه مجلس نواب ليبي',\n",
              " 'رفع تدريجي للقيود صحيه مانيا بايدن يحذر خطوه ولايات متحده',\n",
              " 'اوروبا تجدد عقود لقاحات استرازينيكا لعام فان  اثنان  عشرون',\n",
              " 'امم متحده تدعو لتحقيق جرايم حرب محتمله باثيوبيا',\n",
              " 'مفوضه امم متحده لحقوق انسان تحذر تكرار ماساه سوريه ميانمار',\n",
              " 'يوم دام ميانمار عقوبات اميركيه جديده تنديد دولي بالقمع متصاعد',\n",
              " 'ميانمار معارضو انقلاب يشكلون حكومه حده طنيه',\n",
              " 'بايدن ينشر ثيقه بخصوص استراتيجيه امن قومي موقته',\n",
              " 'بيت ابيض يكشف سبب سحبه قواته افغانستان وجهه قادمه',\n",
              " 'امريكا تحذيرات خطط لتفجيرالمبني خلال خطاب مرتقب لجو بايدن',\n",
              " 'مجلس شيوخ امريكي يقر خطه بايدن لتحفيز اقتصاد متضرر جراء جايحه فيروس كورونا',\n",
              " 'قتلي جرحي انفجار استهدف موكب قيادات عسكريه عدن جنوبي يمن',\n",
              " 'فاه ابراهيم يوسف نجم غزل محله منتخب مصر اسبق عدن متاثرا بفيروس كورونا',\n",
              " 'فرنسا تواصل تضييقها مسلمين تغلق سبعه عشر مسجدا بدعوي صلتها بـ انشطه انفصاليه',\n",
              " 'فرنسا ماكرون يريد رفع اغلاق تام اعتبارا منتصف حسب وضع وبايي لكل منطقه',\n",
              " 'سويد تشتبه جريمه ارهابيه اعتداء بسلاح ابيض يسقط ثمانيه جرحي',\n",
              " 'سويد تسجل سبعه اف  ستمايه  ثمانيه  خمسون اصابه جديده بكورونا',\n",
              " 'ايران ترحب بسحب اوروبا قرارا ضدها تفاق جديد كاله طاقه ذريه',\n",
              " 'ايران تكشف هويه منفذ هجوم نطنز فراره خارج بلاد',\n",
              " 'ملك ماليزيا برلمان يمكنه انعقاد اثناء حاله طواري',\n",
              " 'ماليزيا اصابه اربعون شخصا كوادر طبيه بكورونا تلقيهم لقاح',\n",
              " 'مشروع قانون يجيز سحب جنسيه جزايريين',\n",
              " 'جزاير تمدد حظر تجول تسعه لايات بينها عاصمه',\n",
              " 'مبعوث امريكا يتوجه دوحه كابل سلام افغانستان',\n",
              " 'بنتاغون خطه انسحاب افغانستان تشمل متعاقدين',\n",
              " 'حوثيون يستهدفون سعوديه بصواريخ سكود لاول مره رياض توكد اعتراض احدها غموض يحيط باخرين',\n",
              " 'مصرع مواطن سعودي بهجوم اسد يقوم بتربيته رياض',\n",
              " 'لقاء سري جمع مسوولين امريكيين بالحوثيين رويترز طالبوها بوقف هجماتهم مفاوضه سعوديه',\n",
              " 'حوثيون يشنون هجوما حادا مجلس امن دولي يوجهون رساله للتحالف',\n",
              " 'استهداف قاعده اسد امريكيه بالعراق بعشره صواريخ',\n",
              " 'نفط عراقيه توكد استهداف بيرين كركوك يوثر انتاج',\n",
              " 'جناييه تحقق بالاراضي فلسطينيه غضب اميركي اسراييلي',\n",
              " 'كورونا ثمانيه  عشرون فاه 1618 اصابه فلسطين',\n",
              " 'زيره اسراييليه تحمل ايران مسووليه تلوث شواطي',\n",
              " 'احتلال اسراييلي يقصف مواقع للمقاومه قطاع غزه',\n",
              " 'ميانمار ارتفاع قتلي مظاهرات احد مناهضه للانقلاب ثمانيه  ثلاثون',\n",
              " 'معارضو انقلاب عسكري ميانمار ينظمون اضرابا صامتا',\n",
              " 'عراقيين ينتشرون مواقع تواصل اجتماعي طلباتهم لفت انظار بابا لمشاكلهم',\n",
              " 'تفاعل غاضب علماء مختصين عراقيين خطه اعمار جامع نوري موصل',\n",
              " 'ليره تركيه تراجع كبير قيمه عمله محليه عقب قرار اردوغان اقاله محافظ بنك مركزي',\n",
              " 'تركيا تحظر استخدام عملات مشفره مدفوعات',\n",
              " 'انخفاض ارباح ارامكو اربعه  اربعون لـ183ثمانيه مليار فان  عشرون',\n",
              " 'اردن تراجع ارباح بنك عربي سبعه  سبعون بالميه فان  عشرون',\n",
              " 'اصداء دوليه ايجابيه لحزمه اصلاحات اقتصاديه تركيا',\n",
              " 'انزلاق ليره ـ اقتصاد تركيا يترنح سط ازمات شرق متوسط',\n",
              " 'اردوغان يقيل محافظ بنك مركزي خمسه اشهر تعيينه',\n",
              " 'مركزي تركي يبقي فايده تسعه عشر بالميه',\n",
              " 'تسليم طايرات طراز سبعمايه  سبعه  ثمانون دريملاينر سط رقابه تنظيميه اشد صرامه',\n",
              " 'ملكيه اردنيه تجدد اتفاقيتها شركه بوينغ لتدريب طيارين طايرات بوينغ سبعمايه  سبعه  ثمانون',\n",
              " 'نظام مصرفي يكشف مستور عشرون عايله فقط تتحكم اقتصاد تونسي',\n",
              " 'خبراء اقتصاد يدقون ناقوس خطر تونس كارثه طريق',\n",
              " 'مناجم مغربيه تستحوذ منجم سودان',\n",
              " 'انخفاض كبير سعر ذهب مغرب ختام تعاملات يوم',\n",
              " 'بخطط توسع جرييه قطر تفرض نفسها بصداره سوق غاز  ميه',\n",
              " 'ودسايد تتوقع توازن سوق غاز مسال  ميه عام',\n",
              " 'اصدار بطاقه فيزا مصرفيه سودان اربعه  عشرون عاما',\n",
              " 'تفعيل فيزا بنك اهلي للشراء نت',\n",
              " 'بيتكوين تكسر حاجز احد  ستون سعر قياسي جديد',\n",
              " 'عضو هييه كبار علماء سعوديه يفتي بحرمه بيتكوين',\n",
              " 'ليره لبنانيه تهوي قاع جديد دولار اربعه عشرخمسه فا',\n",
              " 'سعر ليره لبنانيه يتحسن مقابل دولار',\n",
              " 'شهر للانفصال تجاره اوروبي بريطانيا تهوي',\n",
              " 'بريطانيا تعلن نيتها انضمام اتفاقيه تجاره حره لمنطقه اسيا محيط هادي',\n",
              " 'خطوط قطريه شركه طيران شرق اوسط تطبق جواز سفر رقمي',\n",
              " 'خطوط قطريه جيت بلو امريكيه تعززان اتفاقيه رمز مشترك',\n",
              " 'عجز ميزانيه امريكيه يسجل مستوي قياسيا لشهر',\n",
              " 'مجلس نواب امريكي يعتمد ميزانيه موقته لتجنب اغلاق حكومه',\n",
              " 'موسسات دوليه بارزه ترفع توقعاتها لنمو اقتصاد تركي عام فان  احد  عشرون',\n",
              " 'اردوغان اطلق حزمه اصلاح لتعزيز اداء اقتصاد تركي',\n",
              " 'اغلاقه لاكثر شهر بسبب كورونا اكبر مصنع سيارات  م يعيد افتتاحه',\n",
              " 'حكومه فرنسيه ستكشف ثلاثاء خطه لانقاذ قطاع صناعه سيارات',\n",
              " 'دولار يرتفع مدعوما بارتفاع عايدات سندات خزانه اميركيه',\n",
              " 'رويترز ليره تركيه تنزل مقابل دولار تثبيت مركزي سعر فايده',\n",
              " 'اسعار نفط تتخطي احد  سبعون دولارا للبرميل واحد قرار ايجابي لتحالف اوبك',\n",
              " 'ود ماكنزي تتوقع هبوط سعر نفط لاقل عشره دولارات للبرميل',\n",
              " 'توقعات بنمو سوق عقاري قطري عشره',\n",
              " 'قطاع عقار يطالب باجراءات تحفيزيه حقيقيه',\n",
              " 'اشنطن تفرض رسوما اردات المنيوم بحرين',\n",
              " 'اوروبا ترفع رقه رسوم جمركيه جه ولايات متحده',\n",
              " 'ليره سوريه انهيار مرعب ازمه تحكم خناقها شعب منكوب',\n",
              " 'ليره سوريه تستعيد شييا عافيتها تعويم يلوح افق',\n",
              " 'قطر للبترول تمنح سامسونغ عقدا لتوسعه حقل شمال بـ1تسعه مليار',\n",
              " 'قطر للبترول تعلن استحواذها قطر غاز بالكامل مطلع فان  اثنان  عشرون',\n",
              " 'نمو اقتصاد تركيا خمسهتسعه فان  عشرون رغم تفشي كورونا',\n",
              " 'بلومبيرغ اداء اقتصاد تركي افضل دول مجموعه عشرين حساب ليره',\n",
              " 'اسهم اوروبيه ترتفع بقياده شركات سلع فاخره رقايق',\n",
              " 'مخاوف جايحه تضغط اسهم اوروبيه',\n",
              " 'ارامكو تنحدر ارباحها تستجدي تمديد قرض بقيمه عشره مليارات',\n",
              " 'نقد دولي اتفاق زياده برنامج قرض للاردن ميتا مليون',\n",
              " 'فايض ميزان تجاري قطري يرتفع ثمانيهسبعه',\n",
              " 'لقاء اعمال قطري تركماني يبحث تعاون تجاري استثمار',\n",
              " 'مصادر رسميه مايه مليار خرجت ايران اخر عامين',\n",
              " 'اورتاغوس بايدن سيحاسب رفع عقوبات ايران',\n",
              " 'بايدن يدعو مجلس شيوخ ي تبني خطته لانعاش اقتصاد سريعا',\n",
              " 'غنوشي يوكد للعباسي استعداد لتسريع نظر قانون انعاش اقتصاد تسويه مخالفات صرف',\n",
              " 'قطر اتفاقيه لتزويد باكستان بالغاز مسال فان  احد  ثلاثون',\n",
              " 'تقرير لموسسه عطيه استقرار ملحوظ لاسعار غاز مسال اسيا',\n",
              " 'اتصالات اسراييليه تجتاح ضفه تهدد بانهيار نظيرتها فلسطينيه',\n",
              " 'قيود اسراييليه قطاع اتصالات تكنولوجيا معلومات بريد فلسطيني',\n",
              " 'حوار خاص بالجزيره نت رييس هييه اوراق ماليه عراقي فيصل هيمص يكشف اسباب تراجع بورصه مخاوف مستثمرين اجانب',\n",
              " 'معالي رييس هييه اوراق ماليه يستقبل رجل اعمال عراقي سيد فاضل دباس',\n",
              " 'جنيه استرليني يسجل اعلي مستوي سنوات مقابل عمله اميركيه احدواحد  اربعون',\n",
              " 'جنيه استرليني يتراجع بشكل طفيف متابعه تطورات جايحه كورونا',\n",
              " 'شركات طيران  ميه توقف استخدام طايرات بوينغ سبعمايه  سبعه  سبعون حادث احتراق محركاتها',\n",
              " 'اكبر عشره شركات  ميه تقفز قيمتها عشرهاربعه تريليون',\n",
              " 'قطر للبترول توقع اتفاقيه طويله امد لتوريد غاز بنغلادش',\n",
              " 'قطر تتمدد مشاريعها تصل لضفاف قاره افريقيه',\n",
              " 'تعويم جنيه سوداني يفتح باب صدام حكومه جديده',\n",
              " 'برهان يصدر مرسوما ينص انشاء نظام فدرالي سودان',\n",
              " 'شركه اركن تركيه للمولدات تمكنت انتاج نموذج مولد كهرباء يعمل بالديزل حيوي بشكل كامل تخطط لبيع منتجاتها',\n",
              " 'اعلانها ثلاثمايه ظيفه شركه تركيه تتلقي خمسه  ثلاثون طلب توظيف',\n",
              " 'بنك سودان مركزي يصدر تعليمات بتوحيد سعر صرف',\n",
              " 'بنك سودان مركزي يبدا توزيع اوراق نقديه جديده فيه خمسون جنيها',\n",
              " ...]"
            ]
          },
          "metadata": {},
          "execution_count": 32
        }
      ]
    },
    {
      "cell_type": "code",
      "source": [
        "traindata['Preprocessed'] = traindata['News'].apply(preprocess_text)\n"
      ],
      "metadata": {
        "id": "CusJNxzkvahQ"
      },
      "execution_count": null,
      "outputs": []
    },
    {
      "cell_type": "code",
      "source": [
        "traindata.head(1000)"
      ],
      "metadata": {
        "colab": {
          "base_uri": "https://localhost:8080/",
          "height": 423
        },
        "id": "yOwnW6hhqblK",
        "outputId": "b7685fb2-004a-4e2b-b6d4-94ebcbccbed4"
      },
      "execution_count": null,
      "outputs": [
        {
          "output_type": "execute_result",
          "data": {
            "text/plain": [
              "     Type                                               News  \\\n",
              "0       0  اشتباك الحريري-عون.. اتهامات لباسيل بالتمسك با...   \n",
              "1       0                     عون: الحريري أصبح غريب الأطوار   \n",
              "2       0  وزير الخارجية الأمريكي: ندرس سحب كامل قواتنا م...   \n",
              "3       0  أفغانستان.. استعدادات حثيثة لاجتماع تركيا وكاب...   \n",
              "4       0  أندبندنت‮:‬ ‬مفاوضات ‬سرّية ‬‬كادت ‬تنقذ ‬القذافي   \n",
              "..    ...                                                ...   \n",
              "995     1  البرهان يصدر مرسوما ينص على إنشاء نظام فدرالي ...   \n",
              "996     1  شركة آركن التركية للمولدات تمكنت من إنتاج نموذ...   \n",
              "997     1  بعد إعلانها عن 300 وظيفة.. شركة تركية تتلقى أك...   \n",
              "998     1  بنك السودان المركزي يصدر تعليمات بتوحيد سعر الصرف   \n",
              "999     1  بنك السودان المركزي يبدأ توزيع أوراق نقدية جدي...   \n",
              "\n",
              "                                          Preprocessed  \n",
              "0    اشتباك عون حريري اتهامات لباسيل بالتمسك بالثلث...  \n",
              "1                                 عون حريري غريب اطوار  \n",
              "2    زير خارجيه امريكي ندرس سحب كامل قواتنا افغانست...  \n",
              "3    افغانستان استعدادات حثيثه لاجتماع تركيا كابل ت...  \n",
              "4                                            اندبندنت‮  \n",
              "..                                                 ...  \n",
              "995      برهان يصدر مرسوما ينص انشاء نظام فدرالي سودان  \n",
              "996  شركه اركن تركيه للمولدات تمكنت انتاج نموذج مول...  \n",
              "997  اعلانها ثلاثمايه ظيفه شركه تركيه تتلقي خمسه  ث...  \n",
              "998        بنك سودان مركزي يصدر تعليمات بتوحيد سعر صرف  \n",
              "999  بنك سودان مركزي يبدا توزيع اوراق نقديه جديده ف...  \n",
              "\n",
              "[1000 rows x 3 columns]"
            ],
            "text/html": [
              "\n",
              "  <div id=\"df-8412eced-2f3f-4cc7-9738-d82ce4d29a23\" class=\"colab-df-container\">\n",
              "    <div>\n",
              "<style scoped>\n",
              "    .dataframe tbody tr th:only-of-type {\n",
              "        vertical-align: middle;\n",
              "    }\n",
              "\n",
              "    .dataframe tbody tr th {\n",
              "        vertical-align: top;\n",
              "    }\n",
              "\n",
              "    .dataframe thead th {\n",
              "        text-align: right;\n",
              "    }\n",
              "</style>\n",
              "<table border=\"1\" class=\"dataframe\">\n",
              "  <thead>\n",
              "    <tr style=\"text-align: right;\">\n",
              "      <th></th>\n",
              "      <th>Type</th>\n",
              "      <th>News</th>\n",
              "      <th>Preprocessed</th>\n",
              "    </tr>\n",
              "  </thead>\n",
              "  <tbody>\n",
              "    <tr>\n",
              "      <th>0</th>\n",
              "      <td>0</td>\n",
              "      <td>اشتباك الحريري-عون.. اتهامات لباسيل بالتمسك با...</td>\n",
              "      <td>اشتباك عون حريري اتهامات لباسيل بالتمسك بالثلث...</td>\n",
              "    </tr>\n",
              "    <tr>\n",
              "      <th>1</th>\n",
              "      <td>0</td>\n",
              "      <td>عون: الحريري أصبح غريب الأطوار</td>\n",
              "      <td>عون حريري غريب اطوار</td>\n",
              "    </tr>\n",
              "    <tr>\n",
              "      <th>2</th>\n",
              "      <td>0</td>\n",
              "      <td>وزير الخارجية الأمريكي: ندرس سحب كامل قواتنا م...</td>\n",
              "      <td>زير خارجيه امريكي ندرس سحب كامل قواتنا افغانست...</td>\n",
              "    </tr>\n",
              "    <tr>\n",
              "      <th>3</th>\n",
              "      <td>0</td>\n",
              "      <td>أفغانستان.. استعدادات حثيثة لاجتماع تركيا وكاب...</td>\n",
              "      <td>افغانستان استعدادات حثيثه لاجتماع تركيا كابل ت...</td>\n",
              "    </tr>\n",
              "    <tr>\n",
              "      <th>4</th>\n",
              "      <td>0</td>\n",
              "      <td>أندبندنت‮:‬ ‬مفاوضات ‬سرّية ‬‬كادت ‬تنقذ ‬القذافي</td>\n",
              "      <td>اندبندنت‮</td>\n",
              "    </tr>\n",
              "    <tr>\n",
              "      <th>...</th>\n",
              "      <td>...</td>\n",
              "      <td>...</td>\n",
              "      <td>...</td>\n",
              "    </tr>\n",
              "    <tr>\n",
              "      <th>995</th>\n",
              "      <td>1</td>\n",
              "      <td>البرهان يصدر مرسوما ينص على إنشاء نظام فدرالي ...</td>\n",
              "      <td>برهان يصدر مرسوما ينص انشاء نظام فدرالي سودان</td>\n",
              "    </tr>\n",
              "    <tr>\n",
              "      <th>996</th>\n",
              "      <td>1</td>\n",
              "      <td>شركة آركن التركية للمولدات تمكنت من إنتاج نموذ...</td>\n",
              "      <td>شركه اركن تركيه للمولدات تمكنت انتاج نموذج مول...</td>\n",
              "    </tr>\n",
              "    <tr>\n",
              "      <th>997</th>\n",
              "      <td>1</td>\n",
              "      <td>بعد إعلانها عن 300 وظيفة.. شركة تركية تتلقى أك...</td>\n",
              "      <td>اعلانها ثلاثمايه ظيفه شركه تركيه تتلقي خمسه  ث...</td>\n",
              "    </tr>\n",
              "    <tr>\n",
              "      <th>998</th>\n",
              "      <td>1</td>\n",
              "      <td>بنك السودان المركزي يصدر تعليمات بتوحيد سعر الصرف</td>\n",
              "      <td>بنك سودان مركزي يصدر تعليمات بتوحيد سعر صرف</td>\n",
              "    </tr>\n",
              "    <tr>\n",
              "      <th>999</th>\n",
              "      <td>1</td>\n",
              "      <td>بنك السودان المركزي يبدأ توزيع أوراق نقدية جدي...</td>\n",
              "      <td>بنك سودان مركزي يبدا توزيع اوراق نقديه جديده ف...</td>\n",
              "    </tr>\n",
              "  </tbody>\n",
              "</table>\n",
              "<p>1000 rows × 3 columns</p>\n",
              "</div>\n",
              "    <div class=\"colab-df-buttons\">\n",
              "\n",
              "  <div class=\"colab-df-container\">\n",
              "    <button class=\"colab-df-convert\" onclick=\"convertToInteractive('df-8412eced-2f3f-4cc7-9738-d82ce4d29a23')\"\n",
              "            title=\"Convert this dataframe to an interactive table.\"\n",
              "            style=\"display:none;\">\n",
              "\n",
              "  <svg xmlns=\"http://www.w3.org/2000/svg\" height=\"24px\" viewBox=\"0 -960 960 960\">\n",
              "    <path d=\"M120-120v-720h720v720H120Zm60-500h600v-160H180v160Zm220 220h160v-160H400v160Zm0 220h160v-160H400v160ZM180-400h160v-160H180v160Zm440 0h160v-160H620v160ZM180-180h160v-160H180v160Zm440 0h160v-160H620v160Z\"/>\n",
              "  </svg>\n",
              "    </button>\n",
              "\n",
              "  <style>\n",
              "    .colab-df-container {\n",
              "      display:flex;\n",
              "      gap: 12px;\n",
              "    }\n",
              "\n",
              "    .colab-df-convert {\n",
              "      background-color: #E8F0FE;\n",
              "      border: none;\n",
              "      border-radius: 50%;\n",
              "      cursor: pointer;\n",
              "      display: none;\n",
              "      fill: #1967D2;\n",
              "      height: 32px;\n",
              "      padding: 0 0 0 0;\n",
              "      width: 32px;\n",
              "    }\n",
              "\n",
              "    .colab-df-convert:hover {\n",
              "      background-color: #E2EBFA;\n",
              "      box-shadow: 0px 1px 2px rgba(60, 64, 67, 0.3), 0px 1px 3px 1px rgba(60, 64, 67, 0.15);\n",
              "      fill: #174EA6;\n",
              "    }\n",
              "\n",
              "    .colab-df-buttons div {\n",
              "      margin-bottom: 4px;\n",
              "    }\n",
              "\n",
              "    [theme=dark] .colab-df-convert {\n",
              "      background-color: #3B4455;\n",
              "      fill: #D2E3FC;\n",
              "    }\n",
              "\n",
              "    [theme=dark] .colab-df-convert:hover {\n",
              "      background-color: #434B5C;\n",
              "      box-shadow: 0px 1px 3px 1px rgba(0, 0, 0, 0.15);\n",
              "      filter: drop-shadow(0px 1px 2px rgba(0, 0, 0, 0.3));\n",
              "      fill: #FFFFFF;\n",
              "    }\n",
              "  </style>\n",
              "\n",
              "    <script>\n",
              "      const buttonEl =\n",
              "        document.querySelector('#df-8412eced-2f3f-4cc7-9738-d82ce4d29a23 button.colab-df-convert');\n",
              "      buttonEl.style.display =\n",
              "        google.colab.kernel.accessAllowed ? 'block' : 'none';\n",
              "\n",
              "      async function convertToInteractive(key) {\n",
              "        const element = document.querySelector('#df-8412eced-2f3f-4cc7-9738-d82ce4d29a23');\n",
              "        const dataTable =\n",
              "          await google.colab.kernel.invokeFunction('convertToInteractive',\n",
              "                                                    [key], {});\n",
              "        if (!dataTable) return;\n",
              "\n",
              "        const docLinkHtml = 'Like what you see? Visit the ' +\n",
              "          '<a target=\"_blank\" href=https://colab.research.google.com/notebooks/data_table.ipynb>data table notebook</a>'\n",
              "          + ' to learn more about interactive tables.';\n",
              "        element.innerHTML = '';\n",
              "        dataTable['output_type'] = 'display_data';\n",
              "        await google.colab.output.renderOutput(dataTable, element);\n",
              "        const docLink = document.createElement('div');\n",
              "        docLink.innerHTML = docLinkHtml;\n",
              "        element.appendChild(docLink);\n",
              "      }\n",
              "    </script>\n",
              "  </div>\n",
              "\n",
              "\n",
              "<div id=\"df-69dbbcc1-c5b4-4002-827e-51b4d2138504\">\n",
              "  <button class=\"colab-df-quickchart\" onclick=\"quickchart('df-69dbbcc1-c5b4-4002-827e-51b4d2138504')\"\n",
              "            title=\"Suggest charts\"\n",
              "            style=\"display:none;\">\n",
              "\n",
              "<svg xmlns=\"http://www.w3.org/2000/svg\" height=\"24px\"viewBox=\"0 0 24 24\"\n",
              "     width=\"24px\">\n",
              "    <g>\n",
              "        <path d=\"M19 3H5c-1.1 0-2 .9-2 2v14c0 1.1.9 2 2 2h14c1.1 0 2-.9 2-2V5c0-1.1-.9-2-2-2zM9 17H7v-7h2v7zm4 0h-2V7h2v10zm4 0h-2v-4h2v4z\"/>\n",
              "    </g>\n",
              "</svg>\n",
              "  </button>\n",
              "\n",
              "<style>\n",
              "  .colab-df-quickchart {\n",
              "      --bg-color: #E8F0FE;\n",
              "      --fill-color: #1967D2;\n",
              "      --hover-bg-color: #E2EBFA;\n",
              "      --hover-fill-color: #174EA6;\n",
              "      --disabled-fill-color: #AAA;\n",
              "      --disabled-bg-color: #DDD;\n",
              "  }\n",
              "\n",
              "  [theme=dark] .colab-df-quickchart {\n",
              "      --bg-color: #3B4455;\n",
              "      --fill-color: #D2E3FC;\n",
              "      --hover-bg-color: #434B5C;\n",
              "      --hover-fill-color: #FFFFFF;\n",
              "      --disabled-bg-color: #3B4455;\n",
              "      --disabled-fill-color: #666;\n",
              "  }\n",
              "\n",
              "  .colab-df-quickchart {\n",
              "    background-color: var(--bg-color);\n",
              "    border: none;\n",
              "    border-radius: 50%;\n",
              "    cursor: pointer;\n",
              "    display: none;\n",
              "    fill: var(--fill-color);\n",
              "    height: 32px;\n",
              "    padding: 0;\n",
              "    width: 32px;\n",
              "  }\n",
              "\n",
              "  .colab-df-quickchart:hover {\n",
              "    background-color: var(--hover-bg-color);\n",
              "    box-shadow: 0 1px 2px rgba(60, 64, 67, 0.3), 0 1px 3px 1px rgba(60, 64, 67, 0.15);\n",
              "    fill: var(--button-hover-fill-color);\n",
              "  }\n",
              "\n",
              "  .colab-df-quickchart-complete:disabled,\n",
              "  .colab-df-quickchart-complete:disabled:hover {\n",
              "    background-color: var(--disabled-bg-color);\n",
              "    fill: var(--disabled-fill-color);\n",
              "    box-shadow: none;\n",
              "  }\n",
              "\n",
              "  .colab-df-spinner {\n",
              "    border: 2px solid var(--fill-color);\n",
              "    border-color: transparent;\n",
              "    border-bottom-color: var(--fill-color);\n",
              "    animation:\n",
              "      spin 1s steps(1) infinite;\n",
              "  }\n",
              "\n",
              "  @keyframes spin {\n",
              "    0% {\n",
              "      border-color: transparent;\n",
              "      border-bottom-color: var(--fill-color);\n",
              "      border-left-color: var(--fill-color);\n",
              "    }\n",
              "    20% {\n",
              "      border-color: transparent;\n",
              "      border-left-color: var(--fill-color);\n",
              "      border-top-color: var(--fill-color);\n",
              "    }\n",
              "    30% {\n",
              "      border-color: transparent;\n",
              "      border-left-color: var(--fill-color);\n",
              "      border-top-color: var(--fill-color);\n",
              "      border-right-color: var(--fill-color);\n",
              "    }\n",
              "    40% {\n",
              "      border-color: transparent;\n",
              "      border-right-color: var(--fill-color);\n",
              "      border-top-color: var(--fill-color);\n",
              "    }\n",
              "    60% {\n",
              "      border-color: transparent;\n",
              "      border-right-color: var(--fill-color);\n",
              "    }\n",
              "    80% {\n",
              "      border-color: transparent;\n",
              "      border-right-color: var(--fill-color);\n",
              "      border-bottom-color: var(--fill-color);\n",
              "    }\n",
              "    90% {\n",
              "      border-color: transparent;\n",
              "      border-bottom-color: var(--fill-color);\n",
              "    }\n",
              "  }\n",
              "</style>\n",
              "\n",
              "  <script>\n",
              "    async function quickchart(key) {\n",
              "      const quickchartButtonEl =\n",
              "        document.querySelector('#' + key + ' button');\n",
              "      quickchartButtonEl.disabled = true;  // To prevent multiple clicks.\n",
              "      quickchartButtonEl.classList.add('colab-df-spinner');\n",
              "      try {\n",
              "        const charts = await google.colab.kernel.invokeFunction(\n",
              "            'suggestCharts', [key], {});\n",
              "      } catch (error) {\n",
              "        console.error('Error during call to suggestCharts:', error);\n",
              "      }\n",
              "      quickchartButtonEl.classList.remove('colab-df-spinner');\n",
              "      quickchartButtonEl.classList.add('colab-df-quickchart-complete');\n",
              "    }\n",
              "    (() => {\n",
              "      let quickchartButtonEl =\n",
              "        document.querySelector('#df-69dbbcc1-c5b4-4002-827e-51b4d2138504 button');\n",
              "      quickchartButtonEl.style.display =\n",
              "        google.colab.kernel.accessAllowed ? 'block' : 'none';\n",
              "    })();\n",
              "  </script>\n",
              "</div>\n",
              "\n",
              "    </div>\n",
              "  </div>\n"
            ],
            "application/vnd.google.colaboratory.intrinsic+json": {
              "type": "dataframe",
              "variable_name": "traindata",
              "summary": "{\n  \"name\": \"traindata\",\n  \"rows\": 5000,\n  \"fields\": [\n    {\n      \"column\": \"Type\",\n      \"properties\": {\n        \"dtype\": \"number\",\n        \"std\": 0,\n        \"min\": 0,\n        \"max\": 3,\n        \"num_unique_values\": 4,\n        \"samples\": [\n          1,\n          3,\n          0\n        ],\n        \"semantic_type\": \"\",\n        \"description\": \"\"\n      }\n    },\n    {\n      \"column\": \"News\",\n      \"properties\": {\n        \"dtype\": \"string\",\n        \"num_unique_values\": 4951,\n        \"samples\": [\n          \"\\u0648\\u0641\\u0627\\u0629 \\u0631\\u0626\\u064a\\u0633 \\u062a\\u0646\\u0632\\u0627\\u0646\\u064a\\u0627 \\u0628\\u0639\\u062f \\u0641\\u062a\\u0631\\u0629 \\u063a\\u064a\\u0627\\u0628 \\u063a\\u0627\\u0645\\u0636\\u0629 \\u0639\\u0646 \\u0639\\u0645\\u0631 \\u0646\\u0627\\u0647\\u0632 61 \\u0639\\u0627\\u0645\\u0627\",\n          \"\\u0627\\u0644\\u0648\\u062f\\u0627\\u062f \\u064a\\u062a\\u0623\\u0647\\u0644 \\u0631\\u0633\\u0645\\u064a\\u064b\\u0627 \\u0625\\u0644\\u0649 \\u0631\\u0628\\u0639 \\u0646\\u0647\\u0627\\u0626\\u0649 \\u062f\\u0648\\u0631\\u0649 \\u0623\\u0628\\u0637\\u0627\\u0644 \\u0625\\u0641\\u0631\\u064a\\u0642\\u064a\\u0627 \\u0628\\u0639\\u062f \\u0627\\u0644\\u062a\\u0639\\u0627\\u062f\\u0644 \\u0645\\u0639 \\u062d\\u0648\\u0631\\u064a\\u0627\",\n          \"\\u062a\\u0634\\u064a\\u0644\\u0633\\u064a \\u064a\\u0647\\u0632\\u0645 \\u0648\\u0633\\u062a \\u0647\\u0627\\u0645 \\u0648\\u064a\\u0639\\u0632\\u0632 \\u0645\\u0648\\u0642\\u0639\\u0647 \\u062f\\u0627\\u062e\\u0644 \\u0627\\u0644\\u0645\\u0631\\u0628\\u0639 \\u0627\\u0644\\u0630\\u0647\\u0628\\u064a \\u0644\\u0640\\u00ab\\u0628\\u0631\\u064a\\u0645\\u064a\\u0631\\u0644\\u064a\\u062c\\u00bb\"\n        ],\n        \"semantic_type\": \"\",\n        \"description\": \"\"\n      }\n    },\n    {\n      \"column\": \"Preprocessed\",\n      \"properties\": {\n        \"dtype\": \"string\",\n        \"num_unique_values\": 4944,\n        \"samples\": [\n          \"\\u0643\\u0648\\u0641\\u064a\\u062f-\\u062a\\u0633\\u0639\\u0647 \\u0639\\u0634\\u0631 \\u0645\\u0646\\u0638\\u0645\\u0647 \\u0635\\u062d\\u0647  \\u0645\\u064a\\u0647 \\u062a\\u0648\\u0627\\u0635\\u0644 \\u0645\\u0631\\u0627\\u0642\\u0628\\u0647 \\u0644\\u0642\\u0627\\u062d \\u0627\\u0633\\u062a\\u0631\\u0627\\u0632\\u064a\\u0646\\u064a\\u0643\\u0627 \\u062a\\u062c\\u064a\\u0632 \\u0627\\u0633\\u062a\\u062e\\u062f\\u0627\\u0645 \\u062c\\u0648\\u0646\\u0633\\u0648\\u0646 \\u0627\\u0646\\u062f \\u062c\\u0648\\u0646\\u0633\\u0648\\u0646\",\n          \"\\u0627\\u0645\\u0645 \\u0645\\u062a\\u062d\\u062f\\u0647 \\u062a\\u0639\\u0631\\u0636 \\u062a\\u062f\\u062e\\u0644 \\u0645\\u0641\\u0627\\u0648\\u0636\\u0627\\u062a \\u0633\\u062f \\u0627\\u062b\\u064a\\u0648\\u0628\\u064a\\u0627 \\u0627\\u0633\\u062a\\u062c\\u0627\\u0628\\u0647 \\u0644\\u0645\\u0635\\u0631 \\u0633\\u0648\\u062f\\u0627\\u0646\",\n          \"\\u0631\\u064a\\u0627\\u0633\\u0647 \\u0639\\u0631\\u0627\\u0642\\u064a\\u0647 \\u062a\\u0646\\u0641\\u064a \\u062a\\u0635\\u0631\\u064a\\u062d\\u0627 \\u062d\\u0648\\u0644 \\u0639\\u0642\\u062f \\u0627\\u062a\\u0641\\u0627\\u0642 \\u0627\\u062d\\u062a\\u0644\\u0627\\u0644\"\n        ],\n        \"semantic_type\": \"\",\n        \"description\": \"\"\n      }\n    }\n  ]\n}"
            }
          },
          "metadata": {},
          "execution_count": 14
        }
      ]
    },
    {
      "cell_type": "markdown",
      "source": [
        "#Word embding + Model"
      ],
      "metadata": {
        "id": "uabjLtZoIzgo"
      }
    },
    {
      "cell_type": "markdown",
      "source": [
        "###Word2vec"
      ],
      "metadata": {
        "id": "KQIghvtWKZWn"
      }
    },
    {
      "cell_type": "markdown",
      "source": [
        "####CBoW"
      ],
      "metadata": {
        "id": "LTSKZAtHLBUU"
      }
    },
    {
      "cell_type": "code",
      "source": [
        "!wget \"https://archive.org/download/aravec2.0/wiki_cbow_300.zip\""
      ],
      "metadata": {
        "id": "_e4XpIDCLnWw",
        "colab": {
          "base_uri": "https://localhost:8080/"
        },
        "outputId": "bf24e9bb-5ed0-4ff9-ee4d-f503775b137a"
      },
      "execution_count": null,
      "outputs": [
        {
          "output_type": "stream",
          "name": "stdout",
          "text": [
            "--2024-06-11 22:41:08--  https://archive.org/download/aravec2.0/wiki_cbow_300.zip\n",
            "Resolving archive.org (archive.org)... 207.241.224.2\n",
            "Connecting to archive.org (archive.org)|207.241.224.2|:443... connected.\n",
            "HTTP request sent, awaiting response... 302 Found\n",
            "Location: https://ia803107.us.archive.org/0/items/aravec2.0/wiki_cbow_300.zip [following]\n",
            "--2024-06-11 22:41:08--  https://ia803107.us.archive.org/0/items/aravec2.0/wiki_cbow_300.zip\n",
            "Resolving ia803107.us.archive.org (ia803107.us.archive.org)... 207.241.232.157\n",
            "Connecting to ia803107.us.archive.org (ia803107.us.archive.org)|207.241.232.157|:443... connected.\n",
            "HTTP request sent, awaiting response... 200 OK\n",
            "Length: 364888893 (348M) [application/zip]\n",
            "Saving to: ‘wiki_cbow_300.zip’\n",
            "\n",
            "wiki_cbow_300.zip   100%[===================>] 347.98M   544KB/s    in 13m 29s \n",
            "\n",
            "2024-06-11 22:54:37 (441 KB/s) - ‘wiki_cbow_300.zip’ saved [364888893/364888893]\n",
            "\n"
          ]
        }
      ]
    },
    {
      "cell_type": "code",
      "source": [
        "!unzip \"wiki_cbow_300.zip\""
      ],
      "metadata": {
        "id": "NubKbvA1L3zH",
        "colab": {
          "base_uri": "https://localhost:8080/"
        },
        "outputId": "31d6d34a-f8af-4c07-d887-0c0e9c5b8c15"
      },
      "execution_count": null,
      "outputs": [
        {
          "output_type": "stream",
          "name": "stdout",
          "text": [
            "Archive:  wiki_cbow_300.zip\n",
            "  inflating: wikipedia_cbow_300      \n",
            "  inflating: wikipedia_cbow_300.trainables.syn1neg.npy  \n",
            "  inflating: wikipedia_cbow_300.wv.vectors.npy  \n"
          ]
        }
      ]
    },
    {
      "cell_type": "code",
      "source": [],
      "metadata": {
        "id": "WegjcP69L5Qv"
      },
      "execution_count": null,
      "outputs": []
    },
    {
      "cell_type": "code",
      "source": [
        "X = x = traindata['Preprocessed']\n",
        "y = traindata['Type']"
      ],
      "metadata": {
        "id": "2nB9dSq7PIyF"
      },
      "execution_count": null,
      "outputs": []
    },
    {
      "cell_type": "code",
      "source": [
        "from sklearn.model_selection import train_test_split\n",
        "X_train, X_test, y_train, y_test = train_test_split(X, y, test_size = 0.25, random_state = 0)"
      ],
      "metadata": {
        "id": "uuf9Y9p-Lsnn"
      },
      "execution_count": null,
      "outputs": []
    },
    {
      "cell_type": "code",
      "source": [
        "from gensim.models import Word2Vec\n"
      ],
      "metadata": {
        "id": "Bjb2t72CMqV-"
      },
      "execution_count": null,
      "outputs": []
    },
    {
      "cell_type": "code",
      "source": [
        "w2v_model = Word2Vec.load('/content/wikipedia_cbow_300') # max Featers\n",
        "embedding_dim = w2v_model.vector_size\n",
        "\n",
        "OOV_tokens = []\n",
        "train_tokens = []\n",
        "test_tokens = []\n",
        "\n",
        "def get_doc_vec(sent, model, data):\n",
        "    w2v_embeddings = []\n",
        "    tokens = sent.split()\n",
        "    for word in tokens:\n",
        "        try:\n",
        "            if data == 'train':\n",
        "                w2v_embeddings.append(model.wv[word])\n",
        "                train_tokens.append(word)\n",
        "            else:\n",
        "                w2v_embeddings.append(model.wv[word])\n",
        "                test_tokens.append(word)\n",
        "        except:\n",
        "            OOV_tokens.append(word)\n",
        "            continue\n",
        "    if len(w2v_embeddings) == 0:\n",
        "        return None\n",
        "    return sum(w2v_embeddings) / len(w2v_embeddings)\n",
        "\n",
        "X_train_w2v_embeddings = X_train.apply(lambda sent: get_doc_vec(sent, w2v_model, 'train'))\n",
        "X_test_w2v_embeddings = X_test.apply(lambda sent: get_doc_vec(sent, w2v_model, 'test'))"
      ],
      "metadata": {
        "id": "ipd13KZGP5Up"
      },
      "execution_count": null,
      "outputs": []
    },
    {
      "cell_type": "code",
      "source": [
        "X_train_w2v_embeddings_list = []\n",
        "for embedding in X_train_w2v_embeddings:\n",
        "    if embedding is not None:\n",
        "        X_train_w2v_embeddings_list.append(embedding)\n",
        "    else:\n",
        "        # Handle cases where the embedding is None\n",
        "        X_train_w2v_embeddings_list.append(np.zeros_like(X_train_w2v_embeddings[0]))\n",
        "\n",
        "X_test_w2v_embeddings_list = []\n",
        "for embedding in X_test_w2v_embeddings:\n",
        "    if embedding is not None:\n",
        "        X_test_w2v_embeddings_list.append(embedding)\n",
        "    else:\n",
        "        # Handle cases where the embedding is None\n",
        "        X_test_w2v_embeddings_list.append(np.zeros_like(X_test_w2v_embeddings[0]))\n"
      ],
      "metadata": {
        "id": "-SK2UBupP5ma"
      },
      "execution_count": null,
      "outputs": []
    },
    {
      "cell_type": "code",
      "source": [
        "X_train_w2v_embeddings_array = np.array(X_train_w2v_embeddings_list)\n",
        "X_test_w2v_embeddings_array = np.array(X_test_w2v_embeddings_list)"
      ],
      "metadata": {
        "id": "NGNXrFQRRdH7"
      },
      "execution_count": null,
      "outputs": []
    },
    {
      "cell_type": "code",
      "source": [],
      "metadata": {
        "id": "05jzu5hmjg0D"
      },
      "execution_count": null,
      "outputs": []
    },
    {
      "cell_type": "markdown",
      "metadata": {
        "id": "gfiaQmhkUIf3"
      },
      "source": [
        "#####Navie Base"
      ]
    },
    {
      "cell_type": "code",
      "execution_count": null,
      "metadata": {
        "id": "bc-Yi2goUH78",
        "colab": {
          "base_uri": "https://localhost:8080/"
        },
        "outputId": "0aab8caa-7583-4b4d-a2c9-6710333a8f9e"
      },
      "outputs": [
        {
          "output_type": "stream",
          "name": "stdout",
          "text": [
            "Accuracy: 0.84\n",
            "Classification Report:\n",
            "              precision    recall  f1-score   support\n",
            "\n",
            "           0       0.92      0.86      0.89       753\n",
            "           1       0.69      0.77      0.73       219\n",
            "           2       0.94      0.85      0.89       248\n",
            "           3       0.28      0.73      0.41        30\n",
            "\n",
            "    accuracy                           0.84      1250\n",
            "   macro avg       0.71      0.80      0.73      1250\n",
            "weighted avg       0.87      0.84      0.85      1250\n",
            "\n"
          ]
        }
      ],
      "source": [
        "naive_bayes_classifier = GaussianNB()\n",
        "naive_bayes_classifier.fit(X_train_w2v_embeddings_array, y_train)\n",
        "\n",
        "y_pred = naive_bayes_classifier.predict(X_test_w2v_embeddings_array)\n",
        "\n",
        "accuracy = accuracy_score(y_test, y_pred)\n",
        "print(f\"Accuracy: {accuracy:.2f}\")\n",
        "print(\"Classification Report:\")\n",
        "print(classification_report(y_test, y_pred))"
      ]
    },
    {
      "cell_type": "code",
      "source": [
        "import numpy as np\n",
        "import pandas as pd\n",
        "from sklearn.linear_model import LogisticRegression\n",
        "from sklearn.metrics import confusion_matrix, classification_report\n",
        "import seaborn as sns\n",
        "import matplotlib.pyplot as plt"
      ],
      "metadata": {
        "id": "hOr3WKdLSkZH"
      },
      "execution_count": null,
      "outputs": []
    },
    {
      "cell_type": "code",
      "source": [
        "classifier = LogisticRegression(max_iter=1000)\n",
        "classifier.fit(X_train_w2v_embeddings_array, y_train)\n"
      ],
      "metadata": {
        "id": "6SabL5vESWhC",
        "colab": {
          "base_uri": "https://localhost:8080/",
          "height": 74
        },
        "outputId": "5b245644-056f-40ec-a1b8-c63fa078967a"
      },
      "execution_count": null,
      "outputs": [
        {
          "output_type": "execute_result",
          "data": {
            "text/plain": [
              "LogisticRegression(max_iter=1000)"
            ],
            "text/html": [
              "<style>#sk-container-id-1 {color: black;background-color: white;}#sk-container-id-1 pre{padding: 0;}#sk-container-id-1 div.sk-toggleable {background-color: white;}#sk-container-id-1 label.sk-toggleable__label {cursor: pointer;display: block;width: 100%;margin-bottom: 0;padding: 0.3em;box-sizing: border-box;text-align: center;}#sk-container-id-1 label.sk-toggleable__label-arrow:before {content: \"▸\";float: left;margin-right: 0.25em;color: #696969;}#sk-container-id-1 label.sk-toggleable__label-arrow:hover:before {color: black;}#sk-container-id-1 div.sk-estimator:hover label.sk-toggleable__label-arrow:before {color: black;}#sk-container-id-1 div.sk-toggleable__content {max-height: 0;max-width: 0;overflow: hidden;text-align: left;background-color: #f0f8ff;}#sk-container-id-1 div.sk-toggleable__content pre {margin: 0.2em;color: black;border-radius: 0.25em;background-color: #f0f8ff;}#sk-container-id-1 input.sk-toggleable__control:checked~div.sk-toggleable__content {max-height: 200px;max-width: 100%;overflow: auto;}#sk-container-id-1 input.sk-toggleable__control:checked~label.sk-toggleable__label-arrow:before {content: \"▾\";}#sk-container-id-1 div.sk-estimator input.sk-toggleable__control:checked~label.sk-toggleable__label {background-color: #d4ebff;}#sk-container-id-1 div.sk-label input.sk-toggleable__control:checked~label.sk-toggleable__label {background-color: #d4ebff;}#sk-container-id-1 input.sk-hidden--visually {border: 0;clip: rect(1px 1px 1px 1px);clip: rect(1px, 1px, 1px, 1px);height: 1px;margin: -1px;overflow: hidden;padding: 0;position: absolute;width: 1px;}#sk-container-id-1 div.sk-estimator {font-family: monospace;background-color: #f0f8ff;border: 1px dotted black;border-radius: 0.25em;box-sizing: border-box;margin-bottom: 0.5em;}#sk-container-id-1 div.sk-estimator:hover {background-color: #d4ebff;}#sk-container-id-1 div.sk-parallel-item::after {content: \"\";width: 100%;border-bottom: 1px solid gray;flex-grow: 1;}#sk-container-id-1 div.sk-label:hover label.sk-toggleable__label {background-color: #d4ebff;}#sk-container-id-1 div.sk-serial::before {content: \"\";position: absolute;border-left: 1px solid gray;box-sizing: border-box;top: 0;bottom: 0;left: 50%;z-index: 0;}#sk-container-id-1 div.sk-serial {display: flex;flex-direction: column;align-items: center;background-color: white;padding-right: 0.2em;padding-left: 0.2em;position: relative;}#sk-container-id-1 div.sk-item {position: relative;z-index: 1;}#sk-container-id-1 div.sk-parallel {display: flex;align-items: stretch;justify-content: center;background-color: white;position: relative;}#sk-container-id-1 div.sk-item::before, #sk-container-id-1 div.sk-parallel-item::before {content: \"\";position: absolute;border-left: 1px solid gray;box-sizing: border-box;top: 0;bottom: 0;left: 50%;z-index: -1;}#sk-container-id-1 div.sk-parallel-item {display: flex;flex-direction: column;z-index: 1;position: relative;background-color: white;}#sk-container-id-1 div.sk-parallel-item:first-child::after {align-self: flex-end;width: 50%;}#sk-container-id-1 div.sk-parallel-item:last-child::after {align-self: flex-start;width: 50%;}#sk-container-id-1 div.sk-parallel-item:only-child::after {width: 0;}#sk-container-id-1 div.sk-dashed-wrapped {border: 1px dashed gray;margin: 0 0.4em 0.5em 0.4em;box-sizing: border-box;padding-bottom: 0.4em;background-color: white;}#sk-container-id-1 div.sk-label label {font-family: monospace;font-weight: bold;display: inline-block;line-height: 1.2em;}#sk-container-id-1 div.sk-label-container {text-align: center;}#sk-container-id-1 div.sk-container {/* jupyter's `normalize.less` sets `[hidden] { display: none; }` but bootstrap.min.css set `[hidden] { display: none !important; }` so we also need the `!important` here to be able to override the default hidden behavior on the sphinx rendered scikit-learn.org. See: https://github.com/scikit-learn/scikit-learn/issues/21755 */display: inline-block !important;position: relative;}#sk-container-id-1 div.sk-text-repr-fallback {display: none;}</style><div id=\"sk-container-id-1\" class=\"sk-top-container\"><div class=\"sk-text-repr-fallback\"><pre>LogisticRegression(max_iter=1000)</pre><b>In a Jupyter environment, please rerun this cell to show the HTML representation or trust the notebook. <br />On GitHub, the HTML representation is unable to render, please try loading this page with nbviewer.org.</b></div><div class=\"sk-container\" hidden><div class=\"sk-item\"><div class=\"sk-estimator sk-toggleable\"><input class=\"sk-toggleable__control sk-hidden--visually\" id=\"sk-estimator-id-1\" type=\"checkbox\" checked><label for=\"sk-estimator-id-1\" class=\"sk-toggleable__label sk-toggleable__label-arrow\">LogisticRegression</label><div class=\"sk-toggleable__content\"><pre>LogisticRegression(max_iter=1000)</pre></div></div></div></div></div>"
            ]
          },
          "metadata": {},
          "execution_count": 36
        }
      ]
    },
    {
      "cell_type": "code",
      "source": [
        "y_pred = classifier.predict(X_test_w2v_embeddings_array)\n"
      ],
      "metadata": {
        "id": "c4IaysjuSYL0"
      },
      "execution_count": null,
      "outputs": []
    },
    {
      "cell_type": "code",
      "source": [
        "print(classification_report(y_test, y_pred))\n"
      ],
      "metadata": {
        "id": "NiWtHQjJSfv0",
        "colab": {
          "base_uri": "https://localhost:8080/"
        },
        "outputId": "63ea6a8e-d9d0-4bf5-d8f8-eaee460c88a0"
      },
      "execution_count": null,
      "outputs": [
        {
          "output_type": "stream",
          "name": "stdout",
          "text": [
            "              precision    recall  f1-score   support\n",
            "\n",
            "           0       0.90      0.93      0.91       753\n",
            "           1       0.78      0.71      0.74       219\n",
            "           2       0.92      0.92      0.92       248\n",
            "           3       0.73      0.53      0.62        30\n",
            "\n",
            "    accuracy                           0.88      1250\n",
            "   macro avg       0.83      0.77      0.80      1250\n",
            "weighted avg       0.88      0.88      0.88      1250\n",
            "\n"
          ]
        }
      ]
    },
    {
      "cell_type": "code",
      "source": [
        "cnf_matrix = confusion_matrix(y_test, y_pred)\n"
      ],
      "metadata": {
        "id": "TEnTw07ySiOb"
      },
      "execution_count": null,
      "outputs": []
    },
    {
      "cell_type": "code",
      "source": [
        "group_names = ['True Neg', 'False Pos', 'False Neg', 'True Pos']\n",
        "group_counts = ['{0:0.0f}'.format(value) for value in cnf_matrix.flatten()]\n",
        "labels = np.asarray(group_counts).reshape(4, 4)"
      ],
      "metadata": {
        "id": "6Y1j-rz6SsTK"
      },
      "execution_count": null,
      "outputs": []
    },
    {
      "cell_type": "code",
      "source": [
        "sns.heatmap(cnf_matrix, annot=labels, fmt='', cmap='Blues')\n",
        "plt.ylabel('True label')\n",
        "plt.xlabel('Predicted label')\n",
        "plt.title('Confusion Matrix')\n",
        "plt.show()"
      ],
      "metadata": {
        "id": "OMa6WF5ZSyiP",
        "colab": {
          "base_uri": "https://localhost:8080/",
          "height": 472
        },
        "outputId": "a8765724-56f6-4629-c1c9-dab6c1aee1e5"
      },
      "execution_count": null,
      "outputs": [
        {
          "output_type": "display_data",
          "data": {
            "text/plain": [
              "<Figure size 640x480 with 2 Axes>"
            ],
            "image/png": "[encoded data removed]"
          },
          "metadata": {}
        }
      ]
    },
    {
      "cell_type": "code",
      "source": [],
      "metadata": {
        "id": "GADsuoOIS3t_"
      },
      "execution_count": null,
      "outputs": []
    },
    {
      "cell_type": "markdown",
      "metadata": {
        "id": "-aQiq8DfgBOX"
      },
      "source": [
        "#####LSTM"
      ]
    },
    {
      "cell_type": "code",
      "execution_count": null,
      "metadata": {
        "id": "gBlvab8DgrT_"
      },
      "outputs": [],
      "source": []
    },
    {
      "cell_type": "code",
      "execution_count": null,
      "metadata": {
        "id": "Tk-mP2m7grjU",
        "colab": {
          "base_uri": "https://localhost:8080/"
        },
        "outputId": "4082aa50-ae17-478f-aaf0-d47ee145eb45"
      },
      "outputs": [
        {
          "output_type": "stream",
          "name": "stdout",
          "text": [
            "Total input sequences:  5000\n"
          ]
        }
      ],
      "source": [
        "tokenizer = Tokenizer(num_words = 4000)\n",
        "tokenizer.fit_on_texts(traindata['Preprocessed'])\n",
        "input_sequences = []\n",
        "for line in traindata['Preprocessed']:\n",
        "    token_list = tokenizer.texts_to_sequences([line])[0]\n",
        "    input_sequences.append(token_list)\n",
        "\n",
        "# print(input_sequences)\n",
        "print(\"Total input sequences: \", len(input_sequences))"
      ]
    },
    {
      "cell_type": "code",
      "execution_count": null,
      "metadata": {
        "id": "jmv2NgLWgrjV",
        "colab": {
          "base_uri": "https://localhost:8080/"
        },
        "outputId": "3dd8952a-e49c-44e2-edf7-9326c55a4e74"
      },
      "outputs": [
        {
          "output_type": "execute_result",
          "data": {
            "text/plain": [
              "array([   0,    0,    0,    0,    0,    0,    0,    0,    0,    0,    0,\n",
              "          0,    0,    0,    0,    0,    0,    0,  875,  876, 2277],\n",
              "      dtype=int32)"
            ]
          },
          "metadata": {},
          "execution_count": 43
        }
      ],
      "source": [
        "# pad sequences\n",
        "max_sequence_len = max([len(x) for x in input_sequences])\n",
        "input_sequences = np.array(pad_sequences(input_sequences, maxlen=max_sequence_len, padding='pre'))\n",
        "input_sequences[1]"
      ]
    },
    {
      "cell_type": "code",
      "execution_count": null,
      "metadata": {
        "id": "nOwlW_kFgrjV"
      },
      "outputs": [],
      "source": [
        "from keras.utils import to_categorical\n",
        "\n",
        "labels = traindata['Type']\n",
        "y_categorical = to_categorical(labels, num_classes=4)"
      ]
    },
    {
      "cell_type": "code",
      "execution_count": null,
      "metadata": {
        "id": "KMajOO8UgrjW"
      },
      "outputs": [],
      "source": [
        "pad_X_train, pad_X_validation, y_train_lstm, y_validation_lstm= train_test_split(input_sequences, y_categorical, test_size = 0.2, random_state = 42)"
      ]
    },
    {
      "cell_type": "code",
      "execution_count": null,
      "metadata": {
        "id": "tt_EcTnjgrjW",
        "colab": {
          "base_uri": "https://localhost:8080/"
        },
        "outputId": "3f1d7484-e215-4bfd-ffb7-52ff02996392"
      },
      "outputs": [
        {
          "output_type": "stream",
          "name": "stdout",
          "text": [
            "Epoch 1/10\n",
            "125/125 [==============================] - 22s 127ms/step - loss: 0.9642 - accuracy: 0.6522\n",
            "Epoch 2/10\n",
            "125/125 [==============================] - 2s 13ms/step - loss: 0.3029 - accuracy: 0.8940\n",
            "Epoch 3/10\n",
            "125/125 [==============================] - 1s 9ms/step - loss: 0.0942 - accuracy: 0.9695\n",
            "Epoch 4/10\n",
            "125/125 [==============================] - 2s 13ms/step - loss: 0.0434 - accuracy: 0.9858\n",
            "Epoch 5/10\n",
            "125/125 [==============================] - 2s 13ms/step - loss: 0.0252 - accuracy: 0.9923\n",
            "Epoch 6/10\n",
            "125/125 [==============================] - 2s 15ms/step - loss: 0.0115 - accuracy: 0.9973\n",
            "Epoch 7/10\n",
            "125/125 [==============================] - 1s 6ms/step - loss: 0.0099 - accuracy: 0.9967\n",
            "Epoch 8/10\n",
            "125/125 [==============================] - 1s 6ms/step - loss: 0.0058 - accuracy: 0.9992\n",
            "Epoch 9/10\n",
            "125/125 [==============================] - 1s 9ms/step - loss: 0.0068 - accuracy: 0.9985\n",
            "Epoch 10/10\n",
            "125/125 [==============================] - 1s 6ms/step - loss: 0.0037 - accuracy: 0.9992\n"
          ]
        },
        {
          "output_type": "execute_result",
          "data": {
            "text/plain": [
              "<keras.src.callbacks.History at 0x7b392de1aa70>"
            ]
          },
          "metadata": {},
          "execution_count": 47
        }
      ],
      "source": [
        "model1 = Sequential()\n",
        "\n",
        "model1.add(Embedding(3750, 300, weights = [X_train_w2v_embeddings_array], input_length = max_sequence_len))\n",
        "\n",
        "model1.add(Bidirectional(LSTM(units = 256, return_sequences = False))) # neuron\n",
        "model1.add(Dense(4, activation = 'softmax')) # output\n",
        "adam = Adam(learning_rate = 0.01)\n",
        "model1.compile(loss = 'categorical_crossentropy', optimizer = adam, metrics = ['accuracy'])\n",
        "\n",
        "model1.fit(pad_X_train, y_train_lstm, epochs = 10, verbose = 1)"
      ]
    },
    {
      "cell_type": "code",
      "execution_count": null,
      "metadata": {
        "id": "oEW_K7RWgrjW",
        "colab": {
          "base_uri": "https://localhost:8080/"
        },
        "outputId": "810bd459-d123-4a83-de0e-1a36c99a8056"
      },
      "outputs": [
        {
          "output_type": "stream",
          "name": "stdout",
          "text": [
            "32/32 [==============================] - 1s 4ms/step\n",
            "              precision    recall  f1-score   support\n",
            "\n",
            "           0       0.93      0.91      0.92       647\n",
            "           1       0.74      0.82      0.78       176\n",
            "           2       0.95      0.88      0.92       163\n",
            "           3       0.44      0.50      0.47        14\n",
            "\n",
            "    accuracy                           0.89      1000\n",
            "   macro avg       0.76      0.78      0.77      1000\n",
            "weighted avg       0.89      0.89      0.89      1000\n",
            "\n"
          ]
        }
      ],
      "source": [
        "y_pred_lstm_CBoW = model1.predict(pad_X_validation)\n",
        "\n",
        "y_pred_lstm_CBoW = np.argmax(y_pred_lstm_CBoW, axis = -1)\n",
        "\n",
        "y_validation_lstm_CBoW = np.argmax(y_validation_lstm, axis = -1)\n",
        "\n",
        "classification_report1 = classification_report(y_validation_lstm_CBoW, y_pred_lstm_CBoW)\n",
        "print(classification_report1)"
      ]
    },
    {
      "cell_type": "markdown",
      "source": [
        "####SkipGram"
      ],
      "metadata": {
        "id": "N43Lb_lpTRTQ"
      }
    },
    {
      "cell_type": "code",
      "source": [],
      "metadata": {
        "id": "QVdwJUAkTfG2"
      },
      "execution_count": null,
      "outputs": []
    },
    {
      "cell_type": "code",
      "source": [
        "!wget 'https://bakrianoo.ewr1.vultrobjects.com/aravec/full_grams_sg_300_wiki.zip'"
      ],
      "metadata": {
        "id": "oP7FbsO7Tnoz",
        "colab": {
          "base_uri": "https://localhost:8080/"
        },
        "outputId": "473c03c5-e6cb-4b69-fe25-2050bf6711f8"
      },
      "execution_count": null,
      "outputs": [
        {
          "output_type": "stream",
          "name": "stdout",
          "text": [
            "--2024-06-11 23:10:21--  https://bakrianoo.ewr1.vultrobjects.com/aravec/full_grams_sg_300_wiki.zip\n",
            "Resolving bakrianoo.ewr1.vultrobjects.com (bakrianoo.ewr1.vultrobjects.com)... 108.61.0.122, 2001:19f0:0:22::100\n",
            "Connecting to bakrianoo.ewr1.vultrobjects.com (bakrianoo.ewr1.vultrobjects.com)|108.61.0.122|:443... connected.\n",
            "HTTP request sent, awaiting response... 200 OK\n",
            "Length: 1488871452 (1.4G) [application/zip]\n",
            "Saving to: ‘full_grams_sg_300_wiki.zip’\n",
            "\n",
            "full_grams_sg_300_w 100%[===================>]   1.39G  43.9MB/s    in 19s     \n",
            "\n",
            "2024-06-11 23:10:40 (75.0 MB/s) - ‘full_grams_sg_300_wiki.zip’ saved [1488871452/1488871452]\n",
            "\n"
          ]
        }
      ]
    },
    {
      "cell_type": "code",
      "source": [
        "!unzip '/content/full_grams_sg_300_wiki.zip'"
      ],
      "metadata": {
        "id": "ugfSv-RrTno0",
        "colab": {
          "base_uri": "https://localhost:8080/"
        },
        "outputId": "1f689493-0063-4f80-87f5-1473834a1183"
      },
      "execution_count": null,
      "outputs": [
        {
          "output_type": "stream",
          "name": "stdout",
          "text": [
            "Archive:  /content/full_grams_sg_300_wiki.zip\n",
            "  inflating: full_grams_sg_300_wiki.mdl  \n",
            "  inflating: full_grams_sg_300_wiki.mdl.trainables.syn1neg.npy   bad CRC 025479a0  (should be 55675a21)\n",
            "  inflating: full_grams_sg_300_wiki.mdl.wv.vectors.npy  \n"
          ]
        }
      ]
    },
    {
      "cell_type": "code",
      "source": [
        "X = x = traindata['Preprocessed']\n",
        "y = traindata['Type']"
      ],
      "metadata": {
        "id": "9uw7aghlTno0"
      },
      "execution_count": null,
      "outputs": []
    },
    {
      "cell_type": "code",
      "source": [
        "from sklearn.model_selection import train_test_split\n",
        "X_train, X_test, y_train, y_test = train_test_split(X, y, test_size = 0.25, random_state = 0)"
      ],
      "metadata": {
        "id": "D8-MUcmhTno0"
      },
      "execution_count": null,
      "outputs": []
    },
    {
      "cell_type": "code",
      "source": [
        "from gensim.models import Word2Vec\n"
      ],
      "metadata": {
        "id": "CNOwADMkTno1"
      },
      "execution_count": null,
      "outputs": []
    },
    {
      "cell_type": "code",
      "source": [
        "w2v_model = Word2Vec.load('/content/full_grams_sg_300_wiki.mdl')\n",
        "embedding_dim = w2v_model.vector_size\n",
        "OOV_tokens = []\n",
        "train_tokens = []\n",
        "test_tokens = []\n",
        "\n",
        "def get_doc_vec(sent, model, data):\n",
        "    w2v_embeddings = []\n",
        "    tokens = sent.split()\n",
        "    for word in tokens:\n",
        "        try:\n",
        "            if data == 'train':\n",
        "                w2v_embeddings.append(model.wv[word])\n",
        "                train_tokens.append(word)\n",
        "            else:\n",
        "                w2v_embeddings.append(model.wv[word])\n",
        "                test_tokens.append(word)\n",
        "        except:\n",
        "            OOV_tokens.append(word)\n",
        "            continue\n",
        "    if len(w2v_embeddings) == 0:\n",
        "        return None\n",
        "    return sum(w2v_embeddings) / len(w2v_embeddings)\n",
        "\n",
        "X_train_w2v_embeddings = X_train.apply(lambda sent: get_doc_vec(sent, w2v_model, 'train'))\n",
        "X_test_w2v_embeddings = X_test.apply(lambda sent: get_doc_vec(sent, w2v_model, 'test'))"
      ],
      "metadata": {
        "id": "VQsZ-4B_Tno1"
      },
      "execution_count": null,
      "outputs": []
    },
    {
      "cell_type": "code",
      "source": [
        "X_train_w2v_embeddings_list = []\n",
        "for embedding in X_train_w2v_embeddings:\n",
        "    if embedding is not None:\n",
        "        X_train_w2v_embeddings_list.append(embedding)\n",
        "    else:\n",
        "        # Handle cases where the embedding is None\n",
        "        X_train_w2v_embeddings_list.append(np.zeros_like(X_train_w2v_embeddings[0]))\n",
        "\n",
        "X_test_w2v_embeddings_list = []\n",
        "for embedding in X_test_w2v_embeddings:\n",
        "    if embedding is not None:\n",
        "        X_test_w2v_embeddings_list.append(embedding)\n",
        "    else:\n",
        "        # Handle cases where the embedding is None\n",
        "        X_test_w2v_embeddings_list.append(np.zeros_like(X_test_w2v_embeddings[0]))\n"
      ],
      "metadata": {
        "id": "MWxBJwfwTno1"
      },
      "execution_count": null,
      "outputs": []
    },
    {
      "cell_type": "code",
      "source": [
        "X_train_w2v_embeddings_array_skip = np.array(X_train_w2v_embeddings_list)\n",
        "X_test_w2v_embeddings_array_skip = np.array(X_test_w2v_embeddings_list)"
      ],
      "metadata": {
        "id": "zHRxerOkTno1"
      },
      "execution_count": null,
      "outputs": []
    },
    {
      "cell_type": "code",
      "source": [],
      "metadata": {
        "id": "qDMVw1wFkH-b"
      },
      "execution_count": null,
      "outputs": []
    },
    {
      "cell_type": "markdown",
      "metadata": {
        "id": "Y5x1uG1eVJTY"
      },
      "source": [
        "##### Naive bayes"
      ]
    },
    {
      "cell_type": "code",
      "execution_count": null,
      "metadata": {
        "id": "DGFEuPFAVI_7",
        "colab": {
          "base_uri": "https://localhost:8080/"
        },
        "outputId": "8b92f020-d82b-4f82-9e5d-187cedb28b2a"
      },
      "outputs": [
        {
          "output_type": "stream",
          "name": "stdout",
          "text": [
            "Accuracy: 0.88\n",
            "Classification Report:\n",
            "              precision    recall  f1-score   support\n",
            "\n",
            "           0       0.92      0.90      0.91       753\n",
            "           1       0.72      0.81      0.76       219\n",
            "           2       0.96      0.87      0.91       248\n",
            "           3       0.53      0.83      0.65        30\n",
            "\n",
            "    accuracy                           0.88      1250\n",
            "   macro avg       0.78      0.85      0.81      1250\n",
            "weighted avg       0.89      0.88      0.88      1250\n",
            "\n"
          ]
        }
      ],
      "source": [
        "naive_bayes_classifier = GaussianNB()\n",
        "naive_bayes_classifier.fit(X_train_w2v_embeddings_array_skip, y_train)\n",
        "\n",
        "y_pred = naive_bayes_classifier.predict(X_test_w2v_embeddings_array_skip)\n",
        "\n",
        "accuracy = accuracy_score(y_test, y_pred)\n",
        "print(f\"Accuracy: {accuracy:.2f}\")\n",
        "print(\"Classification Report:\")\n",
        "print(classification_report(y_test, y_pred))"
      ]
    },
    {
      "cell_type": "markdown",
      "source": [
        "#####logistic"
      ],
      "metadata": {
        "id": "__1jVVpCkPlU"
      }
    },
    {
      "cell_type": "code",
      "source": [
        "import numpy as np\n",
        "import pandas as pd\n",
        "from sklearn.linear_model import LogisticRegression\n",
        "from sklearn.metrics import confusion_matrix, classification_report\n",
        "import seaborn as sns\n",
        "import matplotlib.pyplot as plt"
      ],
      "metadata": {
        "id": "8T4RjrcUTno1"
      },
      "execution_count": null,
      "outputs": []
    },
    {
      "cell_type": "code",
      "source": [
        "classifier = LogisticRegression(max_iter=1000)\n",
        "classifier.fit(X_train_w2v_embeddings_array, y_train)\n"
      ],
      "metadata": {
        "id": "g8mqEKnSTno2",
        "colab": {
          "base_uri": "https://localhost:8080/",
          "height": 74
        },
        "outputId": "3ea01aae-d2bc-4764-a44b-63c45890f072"
      },
      "execution_count": null,
      "outputs": [
        {
          "output_type": "execute_result",
          "data": {
            "text/plain": [
              "LogisticRegression(max_iter=1000)"
            ],
            "text/html": [
              "<style>#sk-container-id-2 {color: black;background-color: white;}#sk-container-id-2 pre{padding: 0;}#sk-container-id-2 div.sk-toggleable {background-color: white;}#sk-container-id-2 label.sk-toggleable__label {cursor: pointer;display: block;width: 100%;margin-bottom: 0;padding: 0.3em;box-sizing: border-box;text-align: center;}#sk-container-id-2 label.sk-toggleable__label-arrow:before {content: \"▸\";float: left;margin-right: 0.25em;color: #696969;}#sk-container-id-2 label.sk-toggleable__label-arrow:hover:before {color: black;}#sk-container-id-2 div.sk-estimator:hover label.sk-toggleable__label-arrow:before {color: black;}#sk-container-id-2 div.sk-toggleable__content {max-height: 0;max-width: 0;overflow: hidden;text-align: left;background-color: #f0f8ff;}#sk-container-id-2 div.sk-toggleable__content pre {margin: 0.2em;color: black;border-radius: 0.25em;background-color: #f0f8ff;}#sk-container-id-2 input.sk-toggleable__control:checked~div.sk-toggleable__content {max-height: 200px;max-width: 100%;overflow: auto;}#sk-container-id-2 input.sk-toggleable__control:checked~label.sk-toggleable__label-arrow:before {content: \"▾\";}#sk-container-id-2 div.sk-estimator input.sk-toggleable__control:checked~label.sk-toggleable__label {background-color: #d4ebff;}#sk-container-id-2 div.sk-label input.sk-toggleable__control:checked~label.sk-toggleable__label {background-color: #d4ebff;}#sk-container-id-2 input.sk-hidden--visually {border: 0;clip: rect(1px 1px 1px 1px);clip: rect(1px, 1px, 1px, 1px);height: 1px;margin: -1px;overflow: hidden;padding: 0;position: absolute;width: 1px;}#sk-container-id-2 div.sk-estimator {font-family: monospace;background-color: #f0f8ff;border: 1px dotted black;border-radius: 0.25em;box-sizing: border-box;margin-bottom: 0.5em;}#sk-container-id-2 div.sk-estimator:hover {background-color: #d4ebff;}#sk-container-id-2 div.sk-parallel-item::after {content: \"\";width: 100%;border-bottom: 1px solid gray;flex-grow: 1;}#sk-container-id-2 div.sk-label:hover label.sk-toggleable__label {background-color: #d4ebff;}#sk-container-id-2 div.sk-serial::before {content: \"\";position: absolute;border-left: 1px solid gray;box-sizing: border-box;top: 0;bottom: 0;left: 50%;z-index: 0;}#sk-container-id-2 div.sk-serial {display: flex;flex-direction: column;align-items: center;background-color: white;padding-right: 0.2em;padding-left: 0.2em;position: relative;}#sk-container-id-2 div.sk-item {position: relative;z-index: 1;}#sk-container-id-2 div.sk-parallel {display: flex;align-items: stretch;justify-content: center;background-color: white;position: relative;}#sk-container-id-2 div.sk-item::before, #sk-container-id-2 div.sk-parallel-item::before {content: \"\";position: absolute;border-left: 1px solid gray;box-sizing: border-box;top: 0;bottom: 0;left: 50%;z-index: -1;}#sk-container-id-2 div.sk-parallel-item {display: flex;flex-direction: column;z-index: 1;position: relative;background-color: white;}#sk-container-id-2 div.sk-parallel-item:first-child::after {align-self: flex-end;width: 50%;}#sk-container-id-2 div.sk-parallel-item:last-child::after {align-self: flex-start;width: 50%;}#sk-container-id-2 div.sk-parallel-item:only-child::after {width: 0;}#sk-container-id-2 div.sk-dashed-wrapped {border: 1px dashed gray;margin: 0 0.4em 0.5em 0.4em;box-sizing: border-box;padding-bottom: 0.4em;background-color: white;}#sk-container-id-2 div.sk-label label {font-family: monospace;font-weight: bold;display: inline-block;line-height: 1.2em;}#sk-container-id-2 div.sk-label-container {text-align: center;}#sk-container-id-2 div.sk-container {/* jupyter's `normalize.less` sets `[hidden] { display: none; }` but bootstrap.min.css set `[hidden] { display: none !important; }` so we also need the `!important` here to be able to override the default hidden behavior on the sphinx rendered scikit-learn.org. See: https://github.com/scikit-learn/scikit-learn/issues/21755 */display: inline-block !important;position: relative;}#sk-container-id-2 div.sk-text-repr-fallback {display: none;}</style><div id=\"sk-container-id-2\" class=\"sk-top-container\"><div class=\"sk-text-repr-fallback\"><pre>LogisticRegression(max_iter=1000)</pre><b>In a Jupyter environment, please rerun this cell to show the HTML representation or trust the notebook. <br />On GitHub, the HTML representation is unable to render, please try loading this page with nbviewer.org.</b></div><div class=\"sk-container\" hidden><div class=\"sk-item\"><div class=\"sk-estimator sk-toggleable\"><input class=\"sk-toggleable__control sk-hidden--visually\" id=\"sk-estimator-id-2\" type=\"checkbox\" checked><label for=\"sk-estimator-id-2\" class=\"sk-toggleable__label sk-toggleable__label-arrow\">LogisticRegression</label><div class=\"sk-toggleable__content\"><pre>LogisticRegression(max_iter=1000)</pre></div></div></div></div></div>"
            ]
          },
          "metadata": {},
          "execution_count": 60
        }
      ]
    },
    {
      "cell_type": "code",
      "source": [
        "y_pred = classifier.predict(X_test_w2v_embeddings_array)\n"
      ],
      "metadata": {
        "id": "yPHD--Q0Tno2"
      },
      "execution_count": null,
      "outputs": []
    },
    {
      "cell_type": "code",
      "source": [
        "print(classification_report(y_test, y_pred))\n"
      ],
      "metadata": {
        "id": "tFOCw9ocTno2",
        "colab": {
          "base_uri": "https://localhost:8080/"
        },
        "outputId": "da4911a1-d357-4884-873c-ff1936653da9"
      },
      "execution_count": null,
      "outputs": [
        {
          "output_type": "stream",
          "name": "stdout",
          "text": [
            "              precision    recall  f1-score   support\n",
            "\n",
            "           0       0.92      0.97      0.94       753\n",
            "           1       0.88      0.78      0.82       219\n",
            "           2       0.96      0.94      0.95       248\n",
            "           3       0.95      0.60      0.73        30\n",
            "\n",
            "    accuracy                           0.92      1250\n",
            "   macro avg       0.93      0.82      0.86      1250\n",
            "weighted avg       0.92      0.92      0.92      1250\n",
            "\n"
          ]
        }
      ]
    },
    {
      "cell_type": "code",
      "source": [
        "cnf_matrix = confusion_matrix(y_test, y_pred)\n"
      ],
      "metadata": {
        "id": "-YAZBICoTno2"
      },
      "execution_count": null,
      "outputs": []
    },
    {
      "cell_type": "code",
      "source": [
        "group_names = ['True Neg', 'False Pos', 'False Neg', 'True Pos']\n",
        "group_counts = ['{0:0.0f}'.format(value) for value in cnf_matrix.flatten()]\n",
        "labels = np.asarray(group_counts).reshape(4, 4)"
      ],
      "metadata": {
        "id": "HOY6GZ51Tno2"
      },
      "execution_count": null,
      "outputs": []
    },
    {
      "cell_type": "code",
      "source": [
        "sns.heatmap(cnf_matrix, annot=labels, fmt='', cmap='Blues')\n",
        "plt.ylabel('True label')\n",
        "plt.xlabel('Predicted label')\n",
        "plt.title('Confusion Matrix')\n",
        "plt.show()"
      ],
      "metadata": {
        "id": "ait7q1RITno2",
        "colab": {
          "base_uri": "https://localhost:8080/",
          "height": 472
        },
        "outputId": "ce9d5ae0-ea44-47e2-b9b2-e085d1a3bec2"
      },
      "execution_count": null,
      "outputs": [
        {
          "output_type": "display_data",
          "data": {
            "text/plain": [
              "<Figure size 640x480 with 2 Axes>"
            ],
            "image/png": "[encoded data removed]"
          },
          "metadata": {}
        }
      ]
    },
    {
      "cell_type": "code",
      "source": [],
      "metadata": {
        "id": "770jJHmOT6Pt"
      },
      "execution_count": null,
      "outputs": []
    },
    {
      "cell_type": "markdown",
      "metadata": {
        "id": "ipEQvwdHhgaR"
      },
      "source": [
        "#####LSTM"
      ]
    },
    {
      "cell_type": "code",
      "execution_count": null,
      "metadata": {
        "id": "W_6Xt6dshjOZ",
        "colab": {
          "base_uri": "https://localhost:8080/"
        },
        "outputId": "4dcc1605-661f-476e-c708-354c1bc32172"
      },
      "outputs": [
        {
          "output_type": "stream",
          "name": "stdout",
          "text": [
            "Total input sequences:  5000\n"
          ]
        }
      ],
      "source": [
        "tokenizer = Tokenizer(num_words = 4000)\n",
        "tokenizer.fit_on_texts(traindata['Preprocessed'])\n",
        "input_sequences = []\n",
        "for line in traindata['Preprocessed']:\n",
        "    token_list = tokenizer.texts_to_sequences([line])[0]\n",
        "    input_sequences.append(token_list)\n",
        "\n",
        "# print(input_sequences)\n",
        "print(\"Total input sequences: \", len(input_sequences))"
      ]
    },
    {
      "cell_type": "code",
      "execution_count": null,
      "metadata": {
        "id": "ROEHKqjphjOh",
        "colab": {
          "base_uri": "https://localhost:8080/"
        },
        "outputId": "7b09cd0b-22eb-4b52-9d81-53718a02607d"
      },
      "outputs": [
        {
          "output_type": "execute_result",
          "data": {
            "text/plain": [
              "array([   0,    0,    0,    0,    0,    0,    0,    0,    0,    0,    0,\n",
              "          0,    0,    0,    0,    0,    0,    0,  875,  876, 2277],\n",
              "      dtype=int32)"
            ]
          },
          "metadata": {},
          "execution_count": 67
        }
      ],
      "source": [
        "# pad sequences\n",
        "max_sequence_len = max([len(x) for x in input_sequences])\n",
        "input_sequences = np.array(pad_sequences(input_sequences, maxlen=max_sequence_len, padding='pre'))\n",
        "input_sequences[1]"
      ]
    },
    {
      "cell_type": "code",
      "execution_count": null,
      "metadata": {
        "id": "sviBsssFhjOi"
      },
      "outputs": [],
      "source": [
        "from keras.utils import to_categorical\n",
        "\n",
        "labels = traindata['Type']\n",
        "y_categorical = to_categorical(labels, num_classes=4)"
      ]
    },
    {
      "cell_type": "code",
      "execution_count": null,
      "metadata": {
        "id": "QZ460JmvhjOi"
      },
      "outputs": [],
      "source": [
        "X_train, X_val, y_train, y_val= train_test_split(input_sequences, y_categorical, test_size = 0.2, random_state = 42)"
      ]
    },
    {
      "cell_type": "code",
      "execution_count": null,
      "metadata": {
        "id": "bslWbRdnhjOi",
        "colab": {
          "base_uri": "https://localhost:8080/"
        },
        "outputId": "1405c8d4-2a37-422c-f364-9f74329cd285"
      },
      "outputs": [
        {
          "output_type": "stream",
          "name": "stdout",
          "text": [
            "Epoch 1/10\n",
            "125/125 [==============================] - 15s 58ms/step - loss: 0.6706 - accuracy: 0.7650\n",
            "Epoch 2/10\n",
            "125/125 [==============================] - 2s 14ms/step - loss: 0.1868 - accuracy: 0.9413\n",
            "Epoch 3/10\n",
            "125/125 [==============================] - 1s 12ms/step - loss: 0.0654 - accuracy: 0.9805\n",
            "Epoch 4/10\n",
            "125/125 [==============================] - 1s 10ms/step - loss: 0.0292 - accuracy: 0.9915\n",
            "Epoch 5/10\n",
            "125/125 [==============================] - 1s 7ms/step - loss: 0.0096 - accuracy: 0.9973\n",
            "Epoch 6/10\n",
            "125/125 [==============================] - 1s 10ms/step - loss: 0.0057 - accuracy: 0.9987\n",
            "Epoch 7/10\n",
            "125/125 [==============================] - 1s 11ms/step - loss: 0.0069 - accuracy: 0.9990\n",
            "Epoch 8/10\n",
            "125/125 [==============================] - 1s 6ms/step - loss: 0.0058 - accuracy: 0.9977\n",
            "Epoch 9/10\n",
            "125/125 [==============================] - 1s 9ms/step - loss: 0.0077 - accuracy: 0.9985\n",
            "Epoch 10/10\n",
            "125/125 [==============================] - 1s 6ms/step - loss: 0.0035 - accuracy: 0.9987\n"
          ]
        },
        {
          "output_type": "execute_result",
          "data": {
            "text/plain": [
              "<keras.src.callbacks.History at 0x7b3890074d00>"
            ]
          },
          "metadata": {},
          "execution_count": 71
        }
      ],
      "source": [
        "model1 = Sequential()\n",
        "model1.add(Embedding(3750, 300, weights = [X_train_w2v_embeddings_array_skip], input_length = max_sequence_len))\n",
        "model1.add(Bidirectional(LSTM(units = 256, return_sequences = False)))\n",
        "model1.add(Dense(4, activation = 'softmax'))\n",
        "adam = Adam(learning_rate = 0.01)\n",
        "model1.compile(loss = 'categorical_crossentropy', optimizer = adam, metrics = ['accuracy'])\n",
        "model1.fit(pad_X_train, y_train_lstm, epochs = 10, verbose = 1)"
      ]
    }
  ]
}