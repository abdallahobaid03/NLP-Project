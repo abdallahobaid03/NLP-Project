{
  "cells": [
    {
      "cell_type": "markdown",
      "metadata": {
        "id": "6rRut9cSHRqc"
      },
      "source": [
        "#import libararies & installation"
      ]
    },
    {
      "cell_type": "code",
      "execution_count": null,
      "metadata": {
        "colab": {
          "base_uri": "https://localhost:8080/"
        },
        "id": "1FX5-Zh2dSq1",
        "outputId": "43cdbaf4-37ca-469c-865d-db18cb29abc2"
      },
      "outputs": [
        {
          "output_type": "stream",
          "name": "stdout",
          "text": [
            "Requirement already satisfied: gensim in /usr/local/lib/python3.10/dist-packages (4.3.2)\n",
            "Requirement already satisfied: numpy>=1.18.5 in /usr/local/lib/python3.10/dist-packages (from gensim) (1.25.2)\n",
            "Requirement already satisfied: scipy>=1.7.0 in /usr/local/lib/python3.10/dist-packages (from gensim) (1.11.4)\n",
            "Requirement already satisfied: smart-open>=1.8.1 in /usr/local/lib/python3.10/dist-packages (from gensim) (7.0.4)\n",
            "Requirement already satisfied: wrapt in /usr/local/lib/python3.10/dist-packages (from smart-open>=1.8.1->gensim) (1.14.1)\n"
          ]
        }
      ],
      "source": [
        "!pip install gensim\n"
      ]
    },
    {
      "cell_type": "code",
      "execution_count": null,
      "metadata": {
        "colab": {
          "base_uri": "https://localhost:8080/"
        },
        "id": "8PeyiFVbNmZv",
        "outputId": "ea3cc2f2-c4ad-4b50-ac3c-fc58581fd213"
      },
      "outputs": [
        {
          "output_type": "stream",
          "name": "stdout",
          "text": [
            "Collecting num2words\n",
            "  Downloading num2words-0.5.13-py3-none-any.whl (143 kB)\n",
            "\u001b[2K     \u001b[90m━━━━━━━━━━━━━━━━━━━━━━━━━━━━━━━━━━━━━━━━\u001b[0m \u001b[32m143.3/143.3 kB\u001b[0m \u001b[31m2.1 MB/s\u001b[0m eta \u001b[36m0:00:00\u001b[0m\n",
            "\u001b[?25hCollecting docopt>=0.6.2 (from num2words)\n",
            "  Downloading docopt-0.6.2.tar.gz (25 kB)\n",
            "  Preparing metadata (setup.py) ... \u001b[?25l\u001b[?25hdone\n",
            "Building wheels for collected packages: docopt\n",
            "  Building wheel for docopt (setup.py) ... \u001b[?25l\u001b[?25hdone\n",
            "  Created wheel for docopt: filename=docopt-0.6.2-py2.py3-none-any.whl size=13706 sha256=cb596d1190d289f0170a6e5e647fb3d62b97e0d884c2341b030fef851802855b\n",
            "  Stored in directory: /root/.cache/pip/wheels/fc/ab/d4/5da2067ac95b36618c629a5f93f809425700506f72c9732fac\n",
            "Successfully built docopt\n",
            "Installing collected packages: docopt, num2words\n",
            "Successfully installed docopt-0.6.2 num2words-0.5.13\n"
          ]
        }
      ],
      "source": [
        "!pip install num2words\n"
      ]
    },
    {
      "cell_type": "code",
      "execution_count": null,
      "metadata": {
        "colab": {
          "base_uri": "https://localhost:8080/"
        },
        "id": "MjJ5Jnfspzh_",
        "outputId": "71967fda-330e-4170-ea25-e00b823f0167"
      },
      "outputs": [
        {
          "output_type": "stream",
          "name": "stderr",
          "text": [
            "[nltk_data] Downloading package wordnet to /root/nltk_data...\n"
          ]
        },
        {
          "output_type": "execute_result",
          "data": {
            "text/plain": [
              "True"
            ]
          },
          "metadata": {},
          "execution_count": 4
        }
      ],
      "source": [
        "import nltk\n",
        "nltk.download('wordnet')"
      ]
    },
    {
      "cell_type": "code",
      "execution_count": null,
      "metadata": {
        "colab": {
          "base_uri": "https://localhost:8080/"
        },
        "id": "zxqPpCnwwspx",
        "outputId": "04d2b488-0249-44ce-acb3-415a1e6f4eab"
      },
      "outputs": [
        {
          "output_type": "stream",
          "name": "stderr",
          "text": [
            "[nltk_data] Downloading package punkt to /root/nltk_data...\n",
            "[nltk_data]   Unzipping tokenizers/punkt.zip.\n",
            "[nltk_data] Downloading package stopwords to /root/nltk_data...\n",
            "[nltk_data]   Unzipping corpora/stopwords.zip.\n"
          ]
        }
      ],
      "source": [
        "import pandas as pd\n",
        "import re\n",
        "import re\n",
        "import nltk\n",
        "import string\n",
        "import numpy as np\n",
        "from nltk.corpus import stopwords\n",
        "from nltk.tokenize import word_tokenize\n",
        "from nltk.stem import PorterStemmer\n",
        "from keras.preprocessing.text import Tokenizer\n",
        "from keras.preprocessing.sequence import pad_sequences\n",
        "from keras.models import Sequential\n",
        "from keras.layers import Embedding, Bidirectional, LSTM, Dense\n",
        "from keras.optimizers import Adam\n",
        "from sklearn.feature_extraction.text import TfidfVectorizer\n",
        "from sklearn.preprocessing import OneHotEncoder\n",
        "from num2words import num2words\n",
        "from sklearn.naive_bayes import MultinomialNB, GaussianNB\n",
        "from nltk.stem import WordNetLemmatizer\n",
        "from nltk.stem.isri import ISRIStemmer\n",
        "from transformers import BertTokenizer, BertForSequenceClassification\n",
        "from torch.utils.data import TensorDataset, DataLoader, RandomSampler, SequentialSampler\n",
        "from sklearn.metrics import accuracy_score, classification_report\n",
        "from matplotlib import pyplot as plt\n",
        "from sklearn.metrics import confusion_matrix\n",
        "from sklearn.preprocessing import LabelEncoder\n",
        "\n",
        "nltk.download('punkt')\n",
        "nltk.download('stopwords')\n",
        "le = LabelEncoder()"
      ]
    },
    {
      "cell_type": "markdown",
      "metadata": {
        "id": "ty2ikoM0HfTW"
      },
      "source": [
        "#load & preprocessing"
      ]
    },
    {
      "cell_type": "code",
      "execution_count": null,
      "metadata": {
        "id": "39p2uhW-wfJG"
      },
      "outputs": [],
      "source": [
        "traindata = pd.read_excel(\"/content/drive/MyDrive/NLP/News_train.xlsx\")\n",
        "testdata = pd.read_excel(\"/content/drive/MyDrive/NLP/News_test.xlsx\")\n"
      ]
    },
    {
      "cell_type": "code",
      "execution_count": null,
      "metadata": {
        "colab": {
          "base_uri": "https://localhost:8080/",
          "height": 423
        },
        "id": "8enn8sgR19LA",
        "outputId": "5cf7dc10-256b-4f8e-e763-d6941d345bc9"
      },
      "outputs": [
        {
          "output_type": "execute_result",
          "data": {
            "text/plain": [
              "          Type                                               News\n",
              "0     politics  اشتباك الحريري-عون.. اتهامات لباسيل بالتمسك با...\n",
              "1     politics                     عون: الحريري أصبح غريب الأطوار\n",
              "2     politics  وزير الخارجية الأمريكي: ندرس سحب كامل قواتنا م...\n",
              "3     politics  أفغانستان.. استعدادات حثيثة لاجتماع تركيا وكاب...\n",
              "4     politics  أندبندنت‮:‬ ‬مفاوضات ‬سرّية ‬‬كادت ‬تنقذ ‬القذافي\n",
              "...        ...                                                ...\n",
              "4995  politics         أوروبا تبدأ إحصاء خسائر الفيضانات المدمرة \n",
              "4996  politics  قتل متظاهر بالرصاص خلال احتجاجات على شحّ الميا...\n",
              "4997  politics  وسائل إعلام إيرانية تتحدث عن اندلاع احتجاجات ف...\n",
              "4998  politics  المفاوضات الأفغانية تتواصل في العاصمة القطرية ...\n",
              "4999  politics  تعليق المفاوضات الأفغانية في الدوحة مؤقتاً لمز...\n",
              "\n",
              "[5000 rows x 2 columns]"
            ],
            "text/html": [
              "\n",
              "  <div id=\"df-477bf7d4-d89d-44c1-a066-baed9e6adff4\" class=\"colab-df-container\">\n",
              "    <div>\n",
              "<style scoped>\n",
              "    .dataframe tbody tr th:only-of-type {\n",
              "        vertical-align: middle;\n",
              "    }\n",
              "\n",
              "    .dataframe tbody tr th {\n",
              "        vertical-align: top;\n",
              "    }\n",
              "\n",
              "    .dataframe thead th {\n",
              "        text-align: right;\n",
              "    }\n",
              "</style>\n",
              "<table border=\"1\" class=\"dataframe\">\n",
              "  <thead>\n",
              "    <tr style=\"text-align: right;\">\n",
              "      <th></th>\n",
              "      <th>Type</th>\n",
              "      <th>News</th>\n",
              "    </tr>\n",
              "  </thead>\n",
              "  <tbody>\n",
              "    <tr>\n",
              "      <th>0</th>\n",
              "      <td>politics</td>\n",
              "      <td>اشتباك الحريري-عون.. اتهامات لباسيل بالتمسك با...</td>\n",
              "    </tr>\n",
              "    <tr>\n",
              "      <th>1</th>\n",
              "      <td>politics</td>\n",
              "      <td>عون: الحريري أصبح غريب الأطوار</td>\n",
              "    </tr>\n",
              "    <tr>\n",
              "      <th>2</th>\n",
              "      <td>politics</td>\n",
              "      <td>وزير الخارجية الأمريكي: ندرس سحب كامل قواتنا م...</td>\n",
              "    </tr>\n",
              "    <tr>\n",
              "      <th>3</th>\n",
              "      <td>politics</td>\n",
              "      <td>أفغانستان.. استعدادات حثيثة لاجتماع تركيا وكاب...</td>\n",
              "    </tr>\n",
              "    <tr>\n",
              "      <th>4</th>\n",
              "      <td>politics</td>\n",
              "      <td>أندبندنت‮:‬ ‬مفاوضات ‬سرّية ‬‬كادت ‬تنقذ ‬القذافي</td>\n",
              "    </tr>\n",
              "    <tr>\n",
              "      <th>...</th>\n",
              "      <td>...</td>\n",
              "      <td>...</td>\n",
              "    </tr>\n",
              "    <tr>\n",
              "      <th>4995</th>\n",
              "      <td>politics</td>\n",
              "      <td>أوروبا تبدأ إحصاء خسائر الفيضانات المدمرة</td>\n",
              "    </tr>\n",
              "    <tr>\n",
              "      <th>4996</th>\n",
              "      <td>politics</td>\n",
              "      <td>قتل متظاهر بالرصاص خلال احتجاجات على شحّ الميا...</td>\n",
              "    </tr>\n",
              "    <tr>\n",
              "      <th>4997</th>\n",
              "      <td>politics</td>\n",
              "      <td>وسائل إعلام إيرانية تتحدث عن اندلاع احتجاجات ف...</td>\n",
              "    </tr>\n",
              "    <tr>\n",
              "      <th>4998</th>\n",
              "      <td>politics</td>\n",
              "      <td>المفاوضات الأفغانية تتواصل في العاصمة القطرية ...</td>\n",
              "    </tr>\n",
              "    <tr>\n",
              "      <th>4999</th>\n",
              "      <td>politics</td>\n",
              "      <td>تعليق المفاوضات الأفغانية في الدوحة مؤقتاً لمز...</td>\n",
              "    </tr>\n",
              "  </tbody>\n",
              "</table>\n",
              "<p>5000 rows × 2 columns</p>\n",
              "</div>\n",
              "    <div class=\"colab-df-buttons\">\n",
              "\n",
              "  <div class=\"colab-df-container\">\n",
              "    <button class=\"colab-df-convert\" onclick=\"convertToInteractive('df-477bf7d4-d89d-44c1-a066-baed9e6adff4')\"\n",
              "            title=\"Convert this dataframe to an interactive table.\"\n",
              "            style=\"display:none;\">\n",
              "\n",
              "  <svg xmlns=\"http://www.w3.org/2000/svg\" height=\"24px\" viewBox=\"0 -960 960 960\">\n",
              "    <path d=\"M120-120v-720h720v720H120Zm60-500h600v-160H180v160Zm220 220h160v-160H400v160Zm0 220h160v-160H400v160ZM180-400h160v-160H180v160Zm440 0h160v-160H620v160ZM180-180h160v-160H180v160Zm440 0h160v-160H620v160Z\"/>\n",
              "  </svg>\n",
              "    </button>\n",
              "\n",
              "  <style>\n",
              "    .colab-df-container {\n",
              "      display:flex;\n",
              "      gap: 12px;\n",
              "    }\n",
              "\n",
              "    .colab-df-convert {\n",
              "      background-color: #E8F0FE;\n",
              "      border: none;\n",
              "      border-radius: 50%;\n",
              "      cursor: pointer;\n",
              "      display: none;\n",
              "      fill: #1967D2;\n",
              "      height: 32px;\n",
              "      padding: 0 0 0 0;\n",
              "      width: 32px;\n",
              "    }\n",
              "\n",
              "    .colab-df-convert:hover {\n",
              "      background-color: #E2EBFA;\n",
              "      box-shadow: 0px 1px 2px rgba(60, 64, 67, 0.3), 0px 1px 3px 1px rgba(60, 64, 67, 0.15);\n",
              "      fill: #174EA6;\n",
              "    }\n",
              "\n",
              "    .colab-df-buttons div {\n",
              "      margin-bottom: 4px;\n",
              "    }\n",
              "\n",
              "    [theme=dark] .colab-df-convert {\n",
              "      background-color: #3B4455;\n",
              "      fill: #D2E3FC;\n",
              "    }\n",
              "\n",
              "    [theme=dark] .colab-df-convert:hover {\n",
              "      background-color: #434B5C;\n",
              "      box-shadow: 0px 1px 3px 1px rgba(0, 0, 0, 0.15);\n",
              "      filter: drop-shadow(0px 1px 2px rgba(0, 0, 0, 0.3));\n",
              "      fill: #FFFFFF;\n",
              "    }\n",
              "  </style>\n",
              "\n",
              "    <script>\n",
              "      const buttonEl =\n",
              "        document.querySelector('#df-477bf7d4-d89d-44c1-a066-baed9e6adff4 button.colab-df-convert');\n",
              "      buttonEl.style.display =\n",
              "        google.colab.kernel.accessAllowed ? 'block' : 'none';\n",
              "\n",
              "      async function convertToInteractive(key) {\n",
              "        const element = document.querySelector('#df-477bf7d4-d89d-44c1-a066-baed9e6adff4');\n",
              "        const dataTable =\n",
              "          await google.colab.kernel.invokeFunction('convertToInteractive',\n",
              "                                                    [key], {});\n",
              "        if (!dataTable) return;\n",
              "\n",
              "        const docLinkHtml = 'Like what you see? Visit the ' +\n",
              "          '<a target=\"_blank\" href=https://colab.research.google.com/notebooks/data_table.ipynb>data table notebook</a>'\n",
              "          + ' to learn more about interactive tables.';\n",
              "        element.innerHTML = '';\n",
              "        dataTable['output_type'] = 'display_data';\n",
              "        await google.colab.output.renderOutput(dataTable, element);\n",
              "        const docLink = document.createElement('div');\n",
              "        docLink.innerHTML = docLinkHtml;\n",
              "        element.appendChild(docLink);\n",
              "      }\n",
              "    </script>\n",
              "  </div>\n",
              "\n",
              "\n",
              "<div id=\"df-699a92b1-9e7c-4f7c-b910-0bd90789159f\">\n",
              "  <button class=\"colab-df-quickchart\" onclick=\"quickchart('df-699a92b1-9e7c-4f7c-b910-0bd90789159f')\"\n",
              "            title=\"Suggest charts\"\n",
              "            style=\"display:none;\">\n",
              "\n",
              "<svg xmlns=\"http://www.w3.org/2000/svg\" height=\"24px\"viewBox=\"0 0 24 24\"\n",
              "     width=\"24px\">\n",
              "    <g>\n",
              "        <path d=\"M19 3H5c-1.1 0-2 .9-2 2v14c0 1.1.9 2 2 2h14c1.1 0 2-.9 2-2V5c0-1.1-.9-2-2-2zM9 17H7v-7h2v7zm4 0h-2V7h2v10zm4 0h-2v-4h2v4z\"/>\n",
              "    </g>\n",
              "</svg>\n",
              "  </button>\n",
              "\n",
              "<style>\n",
              "  .colab-df-quickchart {\n",
              "      --bg-color: #E8F0FE;\n",
              "      --fill-color: #1967D2;\n",
              "      --hover-bg-color: #E2EBFA;\n",
              "      --hover-fill-color: #174EA6;\n",
              "      --disabled-fill-color: #AAA;\n",
              "      --disabled-bg-color: #DDD;\n",
              "  }\n",
              "\n",
              "  [theme=dark] .colab-df-quickchart {\n",
              "      --bg-color: #3B4455;\n",
              "      --fill-color: #D2E3FC;\n",
              "      --hover-bg-color: #434B5C;\n",
              "      --hover-fill-color: #FFFFFF;\n",
              "      --disabled-bg-color: #3B4455;\n",
              "      --disabled-fill-color: #666;\n",
              "  }\n",
              "\n",
              "  .colab-df-quickchart {\n",
              "    background-color: var(--bg-color);\n",
              "    border: none;\n",
              "    border-radius: 50%;\n",
              "    cursor: pointer;\n",
              "    display: none;\n",
              "    fill: var(--fill-color);\n",
              "    height: 32px;\n",
              "    padding: 0;\n",
              "    width: 32px;\n",
              "  }\n",
              "\n",
              "  .colab-df-quickchart:hover {\n",
              "    background-color: var(--hover-bg-color);\n",
              "    box-shadow: 0 1px 2px rgba(60, 64, 67, 0.3), 0 1px 3px 1px rgba(60, 64, 67, 0.15);\n",
              "    fill: var(--button-hover-fill-color);\n",
              "  }\n",
              "\n",
              "  .colab-df-quickchart-complete:disabled,\n",
              "  .colab-df-quickchart-complete:disabled:hover {\n",
              "    background-color: var(--disabled-bg-color);\n",
              "    fill: var(--disabled-fill-color);\n",
              "    box-shadow: none;\n",
              "  }\n",
              "\n",
              "  .colab-df-spinner {\n",
              "    border: 2px solid var(--fill-color);\n",
              "    border-color: transparent;\n",
              "    border-bottom-color: var(--fill-color);\n",
              "    animation:\n",
              "      spin 1s steps(1) infinite;\n",
              "  }\n",
              "\n",
              "  @keyframes spin {\n",
              "    0% {\n",
              "      border-color: transparent;\n",
              "      border-bottom-color: var(--fill-color);\n",
              "      border-left-color: var(--fill-color);\n",
              "    }\n",
              "    20% {\n",
              "      border-color: transparent;\n",
              "      border-left-color: var(--fill-color);\n",
              "      border-top-color: var(--fill-color);\n",
              "    }\n",
              "    30% {\n",
              "      border-color: transparent;\n",
              "      border-left-color: var(--fill-color);\n",
              "      border-top-color: var(--fill-color);\n",
              "      border-right-color: var(--fill-color);\n",
              "    }\n",
              "    40% {\n",
              "      border-color: transparent;\n",
              "      border-right-color: var(--fill-color);\n",
              "      border-top-color: var(--fill-color);\n",
              "    }\n",
              "    60% {\n",
              "      border-color: transparent;\n",
              "      border-right-color: var(--fill-color);\n",
              "    }\n",
              "    80% {\n",
              "      border-color: transparent;\n",
              "      border-right-color: var(--fill-color);\n",
              "      border-bottom-color: var(--fill-color);\n",
              "    }\n",
              "    90% {\n",
              "      border-color: transparent;\n",
              "      border-bottom-color: var(--fill-color);\n",
              "    }\n",
              "  }\n",
              "</style>\n",
              "\n",
              "  <script>\n",
              "    async function quickchart(key) {\n",
              "      const quickchartButtonEl =\n",
              "        document.querySelector('#' + key + ' button');\n",
              "      quickchartButtonEl.disabled = true;  // To prevent multiple clicks.\n",
              "      quickchartButtonEl.classList.add('colab-df-spinner');\n",
              "      try {\n",
              "        const charts = await google.colab.kernel.invokeFunction(\n",
              "            'suggestCharts', [key], {});\n",
              "      } catch (error) {\n",
              "        console.error('Error during call to suggestCharts:', error);\n",
              "      }\n",
              "      quickchartButtonEl.classList.remove('colab-df-spinner');\n",
              "      quickchartButtonEl.classList.add('colab-df-quickchart-complete');\n",
              "    }\n",
              "    (() => {\n",
              "      let quickchartButtonEl =\n",
              "        document.querySelector('#df-699a92b1-9e7c-4f7c-b910-0bd90789159f button');\n",
              "      quickchartButtonEl.style.display =\n",
              "        google.colab.kernel.accessAllowed ? 'block' : 'none';\n",
              "    })();\n",
              "  </script>\n",
              "</div>\n",
              "\n",
              "  <div id=\"id_43cfe972-fb8c-4c32-a8ae-521f5b431ec3\">\n",
              "    <style>\n",
              "      .colab-df-generate {\n",
              "        background-color: #E8F0FE;\n",
              "        border: none;\n",
              "        border-radius: 50%;\n",
              "        cursor: pointer;\n",
              "        display: none;\n",
              "        fill: #1967D2;\n",
              "        height: 32px;\n",
              "        padding: 0 0 0 0;\n",
              "        width: 32px;\n",
              "      }\n",
              "\n",
              "      .colab-df-generate:hover {\n",
              "        background-color: #E2EBFA;\n",
              "        box-shadow: 0px 1px 2px rgba(60, 64, 67, 0.3), 0px 1px 3px 1px rgba(60, 64, 67, 0.15);\n",
              "        fill: #174EA6;\n",
              "      }\n",
              "\n",
              "      [theme=dark] .colab-df-generate {\n",
              "        background-color: #3B4455;\n",
              "        fill: #D2E3FC;\n",
              "      }\n",
              "\n",
              "      [theme=dark] .colab-df-generate:hover {\n",
              "        background-color: #434B5C;\n",
              "        box-shadow: 0px 1px 3px 1px rgba(0, 0, 0, 0.15);\n",
              "        filter: drop-shadow(0px 1px 2px rgba(0, 0, 0, 0.3));\n",
              "        fill: #FFFFFF;\n",
              "      }\n",
              "    </style>\n",
              "    <button class=\"colab-df-generate\" onclick=\"generateWithVariable('traindata')\"\n",
              "            title=\"Generate code using this dataframe.\"\n",
              "            style=\"display:none;\">\n",
              "\n",
              "  <svg xmlns=\"http://www.w3.org/2000/svg\" height=\"24px\"viewBox=\"0 0 24 24\"\n",
              "       width=\"24px\">\n",
              "    <path d=\"M7,19H8.4L18.45,9,17,7.55,7,17.6ZM5,21V16.75L18.45,3.32a2,2,0,0,1,2.83,0l1.4,1.43a1.91,1.91,0,0,1,.58,1.4,1.91,1.91,0,0,1-.58,1.4L9.25,21ZM18.45,9,17,7.55Zm-12,3A5.31,5.31,0,0,0,4.9,8.1,5.31,5.31,0,0,0,1,6.5,5.31,5.31,0,0,0,4.9,4.9,5.31,5.31,0,0,0,6.5,1,5.31,5.31,0,0,0,8.1,4.9,5.31,5.31,0,0,0,12,6.5,5.46,5.46,0,0,0,6.5,12Z\"/>\n",
              "  </svg>\n",
              "    </button>\n",
              "    <script>\n",
              "      (() => {\n",
              "      const buttonEl =\n",
              "        document.querySelector('#id_43cfe972-fb8c-4c32-a8ae-521f5b431ec3 button.colab-df-generate');\n",
              "      buttonEl.style.display =\n",
              "        google.colab.kernel.accessAllowed ? 'block' : 'none';\n",
              "\n",
              "      buttonEl.onclick = () => {\n",
              "        google.colab.notebook.generateWithVariable('traindata');\n",
              "      }\n",
              "      })();\n",
              "    </script>\n",
              "  </div>\n",
              "\n",
              "    </div>\n",
              "  </div>\n"
            ],
            "application/vnd.google.colaboratory.intrinsic+json": {
              "type": "dataframe",
              "variable_name": "traindata",
              "summary": "{\n  \"name\": \"traindata\",\n  \"rows\": 5000,\n  \"fields\": [\n    {\n      \"column\": \"Type\",\n      \"properties\": {\n        \"dtype\": \"category\",\n        \"num_unique_values\": 4,\n        \"samples\": [\n          \"economic\",\n          \"tech\",\n          \"politics\"\n        ],\n        \"semantic_type\": \"\",\n        \"description\": \"\"\n      }\n    },\n    {\n      \"column\": \"News\",\n      \"properties\": {\n        \"dtype\": \"string\",\n        \"num_unique_values\": 4951,\n        \"samples\": [\n          \"\\u0648\\u0641\\u0627\\u0629 \\u0631\\u0626\\u064a\\u0633 \\u062a\\u0646\\u0632\\u0627\\u0646\\u064a\\u0627 \\u0628\\u0639\\u062f \\u0641\\u062a\\u0631\\u0629 \\u063a\\u064a\\u0627\\u0628 \\u063a\\u0627\\u0645\\u0636\\u0629 \\u0639\\u0646 \\u0639\\u0645\\u0631 \\u0646\\u0627\\u0647\\u0632 61 \\u0639\\u0627\\u0645\\u0627\",\n          \"\\u0627\\u0644\\u0648\\u062f\\u0627\\u062f \\u064a\\u062a\\u0623\\u0647\\u0644 \\u0631\\u0633\\u0645\\u064a\\u064b\\u0627 \\u0625\\u0644\\u0649 \\u0631\\u0628\\u0639 \\u0646\\u0647\\u0627\\u0626\\u0649 \\u062f\\u0648\\u0631\\u0649 \\u0623\\u0628\\u0637\\u0627\\u0644 \\u0625\\u0641\\u0631\\u064a\\u0642\\u064a\\u0627 \\u0628\\u0639\\u062f \\u0627\\u0644\\u062a\\u0639\\u0627\\u062f\\u0644 \\u0645\\u0639 \\u062d\\u0648\\u0631\\u064a\\u0627\",\n          \"\\u062a\\u0634\\u064a\\u0644\\u0633\\u064a \\u064a\\u0647\\u0632\\u0645 \\u0648\\u0633\\u062a \\u0647\\u0627\\u0645 \\u0648\\u064a\\u0639\\u0632\\u0632 \\u0645\\u0648\\u0642\\u0639\\u0647 \\u062f\\u0627\\u062e\\u0644 \\u0627\\u0644\\u0645\\u0631\\u0628\\u0639 \\u0627\\u0644\\u0630\\u0647\\u0628\\u064a \\u0644\\u0640\\u00ab\\u0628\\u0631\\u064a\\u0645\\u064a\\u0631\\u0644\\u064a\\u062c\\u00bb\"\n        ],\n        \"semantic_type\": \"\",\n        \"description\": \"\"\n      }\n    }\n  ]\n}"
            }
          },
          "metadata": {},
          "execution_count": 8
        }
      ],
      "source": [
        "traindata"
      ]
    },
    {
      "cell_type": "code",
      "execution_count": null,
      "metadata": {
        "colab": {
          "base_uri": "https://localhost:8080/",
          "height": 519
        },
        "id": "m61zDklcKBhO",
        "outputId": "dc7eacf9-5b81-408b-a2f1-3a7fc64d07a6"
      },
      "outputs": [
        {
          "output_type": "execute_result",
          "data": {
            "text/plain": [
              "<Axes: xlabel='Type'>"
            ]
          },
          "metadata": {},
          "execution_count": 9
        },
        {
          "output_type": "display_data",
          "data": {
            "text/plain": [
              "<Figure size 640x480 with 1 Axes>"
            ],
            "image/png": "[encoded data removed]"
          },
          "metadata": {}
        }
      ],
      "source": [
        "traindata['Type'].value_counts(normalize = True).plot.bar()"
      ]
    },
    {
      "cell_type": "code",
      "execution_count": null,
      "metadata": {
        "colab": {
          "base_uri": "https://localhost:8080/"
        },
        "id": "h8SbYtmMH4mo",
        "outputId": "39cdec9e-7df0-4059-b4f1-03dbe7254eb0"
      },
      "outputs": [
        {
          "output_type": "execute_result",
          "data": {
            "text/plain": [
              "array(['politics', 'economic', 'sport', 'tech'], dtype=object)"
            ]
          },
          "metadata": {},
          "execution_count": 10
        }
      ],
      "source": [
        "traindata['Type'].unique()"
      ]
    },
    {
      "cell_type": "code",
      "execution_count": null,
      "metadata": {
        "id": "sNUzx9QD3-hT"
      },
      "outputs": [],
      "source": [
        "traindata['Type'] = traindata['Type'].replace({'politics': 0, 'economic': 1, 'sport': 2, 'tech': 3})\n"
      ]
    },
    {
      "cell_type": "code",
      "execution_count": null,
      "metadata": {
        "colab": {
          "base_uri": "https://localhost:8080/"
        },
        "id": "PMLYmiKbtdGA",
        "outputId": "f82fc15b-21de-433d-ab8c-4242d55caada"
      },
      "outputs": [
        {
          "output_type": "stream",
          "name": "stdout",
          "text": [
            "{'وهو', 'أربعة', 'أولئك', 'لوما', 'ة', 'يفعلون', 'أطعم', 'أصبح', 'زاي', 'لات', 'ليس', 'سبعمائة', 'تلقاء', 'أي', 'اللائي', 'خاء', 'دينار', 'سبحان', 'ممن', 'تارة', 'بهم', 'هَجْ', 'هيّا', 'هاته', 'إليكما', 'كأنّ', 'ذوا', 'أغسطس', 'ارتدّ', 'بيد', 'ر', 'أفٍّ', 'قاطبة', 'صهٍ', 'أيار', 'ذين', 'ياء', 'ولو', 'بَلْهَ', 'ماي', 'عيانا', 'و', 'سرعان', 'د', 'نفس', 'بضع', 'ثلاثين', 'حقا', 'تانِك', 'جوان', 'أل', 'صهْ', 'كأن', 'غير', 'جميع', 'ميم', 'سبت', 'إذا', 'إياكما', 'إياكم', 'لعمر', 'نون', 'لك', 'بعض', 'خلافا', 'إياكن', 'لمّا', 'تخذ', 'مليم', 'ليرة', 'سين', 'أربعمائة', 'حمدا', 'ذو', 'ترك', 'تلك', 'اثني', 'مذ', 'به', 'كل', 'نوفمبر', 'بكم', 'مئة', 'عوض', 'لعل', 'ابتدأ', 'هن', 'ثالث', 'إياها', 'انبرى', 'كرب', 'حدَث', 'إذن', 'بها', 'ذات', 'عشرة', 'عشرون', 'ظنَّ', 'اللذين', 'أربع', 'هبّ', 'تِه', 'بنا', 'أمامكَ', 'صبر', 'ثاني', 'ت', 'كيفما', 'واهاً', 'دال', 'كأين', 'بين', 'بمن', 'ق', 'لستما', 'لاسيما', 'جيم', 'راء', 'ذلكما', 'ث', 'قبل', 'اللاتي', 'ز', 'عدَّ', 'أين', 'والذي', 'بؤسا', 'ثلاثاء', 'لها', 'أوّهْ', 'ما برح', 'ذَيْنِ', 'آي', 'أوه', 'ب', 'تسعة', 'تسعون', 'التي', 'ا', 'خلا', 'عاد', 'ستة', 'آهاً', 'أكثر', 'ما', 'أبريل', 'لكم', 'يورو', 'لم', 'إنه', 'هنالك', 'آها', 'أ', 'جير', 'ض', 'إما', 'هاتي', 'أهلا', 'حرى', 'لكما', 'ذيت', 'هاكَ', 'نا', 'فلا', 'كن', 'انقلب', 'طفق', 'كلتا', 'هَؤلاء', 'إزاء', 'أخو', 'إحدى', 'أسكن', 'إمّا', 'ثلاثمائة', 'واحد', 'هلّا', 'بما', 'أفعل به', 'رزق', 'عما', 'ثماني', 'ثلاثة', 'هَذِه', 'قطّ', 'إليكنّ', 'أيضا', 'ذلك', 'ثاء', 'لولا', 'علم', 'أيّ', 'أولالك', 'نَّ', 'حاء', 'حمٌ', 'إنا', 'اللذان', 'سحقا', 'لعلَّ', 'أكتوبر', 'ثمانمئة', 'حين', 'أوت', 'إى', 'حبذا', 'حتى', 'تعسا', 'سمعا', 'عجبا', 'أمامك', 'صار', 'علق', 'عل', 'صبرا', 'الذين', 'أبو', 'خمسة', 'آض', 'أنشأ', 'واو', 'إيه', 'ثمانين', 'دواليك', 'هيهات', 'هي', 'س', 'بطآن', 'صباح', 'له', 'مهما', 'طرا', 'إليكن', 'اللتان', 'ثان', 'تسعمئة', 'ما انفك', 'ش', 'تِي', 'بل', 'لست', 'هل', 'ريث', 'إليكَ', 'شمال', 'بس', 'سبعين', 'هلم', 'درى', 'اللواتي', 'اربعون', 'كاف', 'جعل', 'عند', 'آب', 'قرش', 'ح', 'ظاء', 'على', 'أعطى', 'تسعمائة', 'فاء', 'خبَّر', 'بي', 'تعلَّم', 'إلّا', 'نعم', 'كلا', 'أجل', 'إياك', 'لهن', 'كم', 'ثمانية', 'حبيب', 'رأى', 'ذي', 'هاهنا', 'أول', 'فضلا', 'حيثما', 'كذلك', 'بئس', 'بكما', 'متى', 'ذال', 'وهب', 'هذين', 'أينما', 'ليسوا', 'هذي', 'أخذ', 'ج', 'أولاء', 'حيث', 'أنّى', 'تسعين', 'ها', 'هَاتِي', 'هَاتِه', 'آه', 'أو', 'ثلاثون', 'هللة', 'ص', 'هَذا', 'ضاد', 'تينك', 'أخبر', 'أمّا', 'أبٌ', 'يا', 'ثامن', 'اربعين', 'ثلاثمئة', 'لكنما', 'ثمان', 'كذا', 'هما', 'رابع', 'ذ', 'فيه', 'خمس', 'آ', 'فلان', 'ليت', 'كانون', 'ذان', 'درهم', 'هم', 'أمام', 'أنتما', 'بخٍ', 'كليهما', 'مكانَك', 'فإذا', 'ألا', 'سبعمئة', 'قام', 'فلس', 'بلى', 'علًّ', 'مازال', 'حاشا', 'فبراير', 'لهم', 'سنتيم', 'أم', 'خمسون', 'سادس', 'خلف', 'أنبأ', 'ى', 'ظلّ', 'أنتِ', 'طالما', 'كى', 'كِخ', 'عن', 'ستون', 'شبه', 'ذاك', 'هاك', 'قلما', 'أقبل', 'حجا', 'تشرين', 'ولكن', 'جمعة', 'شتان', 'صاد', 'م', 'ستمئة', 'أنى', 'فيفري', 'أنا', 'أف', 'اللتين', 'تَيْنِ', 'كي', 'ذهب', 'يونيو', 'نحن', 'حادي', 'ذِي', 'بهما', 'هَيْهات', 'سبتمبر', 'إياهما', 'ورد', 'نبَّا', 'أربعمئة', 'أضحى', 'تفعلان', 'هذه', 'حزيران', 'ذه', 'أجمع', 'عامة', 'كأيّ', 'سابع', 'أربعاء', 'طاق', 'إذ', 'منه', 'ثلاث', 'أمسى', 'دون', 'هَذِي', 'أعلم', 'تلكما', 'قد', 'خال', 'جنيه', 'هؤلاء', 'كأيّن', 'ذواتا', 'بات', 'لكنَّ', 'كليكما', 'لا سيما', 'فوق', 'أنتن', 'ليستا', 'إلَيْكَ', 'وَيْ', 'مرّة', 'لئن', 'نيف', 'أمس', 'لو', 'هيت', 'أبدا', 'عسى', 'تجاه', 'خمسين', 'أخٌ', 'فيم', 'لسن', 'استحال', 'غ', 'حَذارِ', 'ثمَّ', 'سبع', 'راح', 'أرى', 'اخلولق', 'ّأيّان', 'تي', 'مع', 'ثمانون', 'ضحوة', 'ألفى', 'ؤ', 'تحت', 'آمينَ', 'إن', 'بعد', 'مائة', 'من', 'لهما', 'بك', 'اثنين', 'ظ', 'أنًّ', 'ستمائة', 'عَدَسْ', 'عليك', 'كسا', 'خمسمائة', 'ل', 'اللتيا', 'ولا', 'زعم', 'كما', 'دولار', 'أحد', 'ءَ', 'إياي', 'حيَّ', 'هاتين', 'إياهم', 'لنا', 'شين', 'أن', 'ديسمبر', 'نحو', 'تين', 'نيسان', 'إليك', 'كلّما', 'لكيلا', 'دونك', 'كيت', 'وإذ', 'اتخذ', 'أنتم', 'ء', 'ذلكم', 'يمين', 'أما', 'ريال', 'آناء', 'أيلول', 'أوشك', 'يوان', 'الآن', 'ف', 'إياه', 'تموز', 'أيها', 'أيا', 'ليست', 'اثنا', 'شيكل', 'إذما', 'غداة', 'بَسْ', 'نَخْ', 'همزة', 'ما أفعله', 'صراحة', 'ذانِ', 'يوليو', 'مثل', 'ع', 'حار', 'اثنان', 'رجع', 'جلل', 'كأي', 'جويلية', 'عاشر', 'فمن', 'ذواتي', 'تاسع', 'وراءَك', 'وما', 'وإذا', 'فإن', 'أفريل', 'يفعلان', 'لدن', 'عشرين', 'كان', 'خ', 'كأنما', 'هَاتانِ', 'تحوّل', 'ذِه', 'يناير', 'هَذانِ', 'ست', 'سوى', 'الذي', 'حسب', 'غين', 'تسع', 'مافتئ', 'ثمنمئة', 'لام', 'ومن', 'ي', 'ك', 'ألف', 'وُشْكَانَ', 'هلا', 'ته', 'فرادى', 'ذلكن', 'خميس', 'أقل', 'إياهن', 'هناك', 'لن', 'لكي', 'شباط', 'شَتَّانَ', 'كثيرا', 'طاء', 'مئتان', 'آنفا', 'لما', 'ساء', 'خاصة', 'ئ', 'طَق', 'سوف', 'إليكم', 'ثمة', 'والذين', 'هَاتَيْنِ', 'هو', 'ط', 'أصلا', 'مايو', 'تاء', 'الألى', 'لا', 'لسنا', 'أمد', 'شرع', 'خمسمئة', 'هذان', 'حاي', 'تفعلون', 'كلَّا', 'هَذَيْنِ', 'بماذا', 'زود', 'ذانك', 'تبدّل', 'بهن', 'كاد', 'إلى', 'كلما', 'فيما', 'إي', 'مكانكم', 'هذا', 'أيّان', 'هيا', 'مادام', 'منها', 'أنت', 'تلكم', 'عليه', 'سبعة', 'هكذا', 'ذا', 'لكن', 'لي', 'ستين', 'حمو', 'إذاً', 'الألاء', 'لستن', 'ليسا', 'جانفي', 'في', 'فو', 'رُبَّ', 'قاف', 'آهِ', 'بعدا', 'وا', 'غدا', 'عين', 'تانِ', 'غادر', 'ذينك', 'لستم', 'بسّ', 'ه', 'سقى', 'إلا', 'بغتة', 'آهٍ', 'كيف', 'كلاهما', 'أى', 'إيانا', 'غالبا', 'مما', 'هنا', 'عشر', 'شتانَ', 'مساء', 'ثم', 'مكانكما', 'عدا', 'باء', 'رويدك', 'سبعون', 'ثمّة', 'صدقا', 'هاء', 'ن', 'أُفٍّ', 'خامس', 'إنما', 'بكن', 'ثمّ', 'بخ', 'منذ', 'لدى', 'مه', 'وجد', 'معاذ', 'سرا', 'آذار', 'هاتان', 'إنَّ', 'إيهٍ', 'تفعلين', 'مارس', 'ين', 'ماذا', 'فيها', 'مكانكنّ', 'وإن', 'لبيك'}\n"
          ]
        }
      ],
      "source": [
        "stop_words = set(stopwords.words('arabic'))\n",
        "print(stop_words)"
      ]
    },
    {
      "cell_type": "code",
      "execution_count": null,
      "metadata": {
        "id": "Irkm8v4g6xZb"
      },
      "outputs": [],
      "source": [
        "def preprocess_text(text):\n",
        "   # ازالة الحركات\n",
        "    noise = re.compile(\"\"\" ّ    | # Tashdid\n",
        "                       َ    | # Fatha\n",
        "                       ً    | # Tanwin Fath\n",
        "                       ُ    | # Damma\n",
        "                       ٌ    | # Tanwin Damm\n",
        "                       ِ    | # Kasra\n",
        "                       ٍ    | # Tanwin Kasr\n",
        "                       ْ    | # Sukun\n",
        "                      ـ     # Tatwil/Kashida\n",
        "                    \"\"\", re.VERBOSE)\n",
        "    processed_text = re.sub(noise, '', text)\n",
        "    processed_text = re.sub(r'(.)\\1+', r\"\\1\\1\", text)\n",
        "    tokens = nltk.word_tokenize(text)\n",
        "\n",
        "    punctuations = '''`÷×؛<>_()*&^%][ـ،/:\"؟.,'{}~¦+|!”…“–ـ''' + string.punctuation\n",
        "    tokens = [token for token in tokens if re.match(r'\\w', token) or token == '?']\n",
        "    numbers = re.compile(r'\\b\\d+\\b')\n",
        "    stop_words = set(stopwords.words('arabic'))\n",
        "    tokens = [token for token in tokens if token not in stop_words]\n",
        "\n",
        "    # 5. lemmatization\n",
        "    #هي عمليه ارجاع الكلمات الى جذورها الاصليه\n",
        "    #lemmatizer = WordNetLemmatizer()\n",
        "    # Lemmatize each word\n",
        "    #tokens = [lemmatizer.lemmatize(token) for token in tokens]\n",
        "\n",
        "    # 5. Initialize the Stemmer\n",
        "    stemmer = ISRIStemmer()\n",
        "    tokens = [stemmer.stem(token) for token in tokens]\n",
        "    # Join tokens back into text\n",
        "    #تحويل الكلمات إلى نص مرة اخرى\n",
        "    processed_text = ' '.join(tokens).strip()\n",
        "\n",
        "    # Remove longation (diacritics) and numbers\n",
        "    processed_text = re.sub(r'\\b\\d+\\b', replace_numbers_with_words, processed_text)\n",
        "    processed_text = re.sub(\"[إأآا]\", \"ا\", processed_text)\n",
        "    processed_text = re.sub(\"ى\", \"ي\", processed_text)\n",
        "    processed_text = re.sub(\"ؤ\", \"و\", processed_text)\n",
        "    processed_text = re.sub(\"ئ\", \"ي\", processed_text)\n",
        "    processed_text = re.sub(\"ة\", \"ه\", processed_text)\n",
        "    processed_text = re.sub(\"گ\", \"ك\", processed_text)\n",
        "    processed_text = re.sub(\"أ\", \"ا\", processed_text)\n",
        "    processed_text = re.sub(\"إ\", \"ا\", processed_text)\n",
        "    processed_text = re.sub(\"لإ\", \"لا\", processed_text)\n",
        "    processed_text = re.sub(r\"\\b(ال|في|على|من|إلى|عن)\\b\", \"\", processed_text)\n",
        "    processed_text = re.sub(r'[^\\w\\s]', '', processed_text)\n",
        "\n",
        "    processed_text = re.sub(\"NFT\", \"الصور الرقمية \", processed_text)\n",
        "    processed_text = re.sub(\"Covax \", \"كوفاكس و هي ركيزة اللقاحات لمبادرة تسريع إتاحة أدوات مكافحة كوفيد\", processed_text)\n",
        "    processed_text = re.sub(\"Sony Airpeak\", \" \", processed_text)\n",
        "    processed_text = re.sub(\"PCR\", \" اختبار مرض فايروس كورونا\", processed_text)\n",
        "    processed_text = re.sub(\"QS\", \" الخاص بالجامعات \", processed_text)\n",
        "    processed_text = re.sub(\"سبوتنيك V\", \" \", processed_text)\n",
        "    processed_text = re.sub(\"Xbox\", \" جهاز مايكروسوفت للألعاب\", processed_text)\n",
        "    processed_text = re.sub(\"كوفيد19\", \" فايروس كورونا\", processed_text)\n",
        "    processed_text = re.sub(\"الحريري-عون\", \" عون حريري\", processed_text)\n",
        "\n",
        "\n",
        "    processed_text = re.sub(\"[إأآا]\", \"ا\", processed_text)\n",
        "    # فصل الكلمات العربية عن الانجليزية من خلال معرفة اذا ما كان الحرف انجليزي ام لا فيصع مسافة امامه\n",
        "    processed_text = re.sub(r'[a-zA-Z]+', r' \\g<0> ', processed_text)\n",
        "    # جعل المافات الكثيرة مسافة واحدة فقط\n",
        "    #strip() تزيل المسافات الزائدة\n",
        "    processed_text = re.sub(r\"\\s+\", \" \", processed_text).strip()\n",
        "    # ازالة حرف ال من اول كلمة تحتوي عليه\n",
        "\n",
        "    processed_text = re.sub(r\"\\bو\", \"\", processed_text)\n",
        "    processed_text = re.sub(r\"\\bال\", \"\", processed_text)\n",
        "    processed_text = re.sub(r\"\\bوال\", \" \", processed_text)\n",
        "    processed_text = re.sub(r\"\\bعال\", \" \", processed_text)\n",
        "    processed_text = re.sub(r\"\\bفال\", \" \", processed_text)\n",
        "    processed_text = re.sub(\"%\", \"بالمئة\", processed_text)\n",
        "    return processed_text.strip()\n",
        "\n",
        "def replace_numbers_with_words(match):\n",
        "    return num2words(int(match.group()), lang='ar')"
      ]
    },
    {
      "cell_type": "code",
      "execution_count": null,
      "metadata": {
        "colab": {
          "base_uri": "https://localhost:8080/"
        },
        "collapsed": true,
        "id": "3QQI78sMtHLL",
        "outputId": "1a7e6af7-f834-416b-8ff3-50a3fbfc4354"
      },
      "outputs": [
        {
          "output_type": "execute_result",
          "data": {
            "text/plain": [
              "['شبك حريريع تهم اسل تمس ثلث عطل بقء حكم',\n",
              " 'عون حرر غرب طور',\n",
              " 'زر خرج امر درس سحب كمل قوت غنس حلل',\n",
              " 'غنس عدد حثث جمع ترك كبل تهم طلب ركز حرب بدل سلم',\n",
              " 'اندبندنت',\n",
              " 'سيف قذف تفق قرب جدا رحل مرض طبب لغر',\n",
              " 'قتلي دمر ف خيم حرق خيم اجي روهينغ بنغلاديش',\n",
              " 'بنغلاديش شرع نقل ف روهينغ سلم جزر نيي',\n",
              " 'سحب تفق طنبول نشط نسي تخف ايم صعب',\n",
              " 'ثق مخابراتيه كشف دعم ردغ تطرف هولند',\n",
              " 'قرح مصر سود ثيب رفض سط ربع',\n",
              " 'حمدو سود سبب ازم حدد ثيب',\n",
              " 'صين رس هجم عبر سيس لي تحد قبل',\n",
              " 'بيد دعو ريس روس صين لقم بشا ناخ اثنان  عشرون برل',\n",
              " 'قرر برط شهد اختبار مرض فايروس كورونا زور سمح سفر بصر ركب طير',\n",
              " 'يدل ايس كورو يود هير قصد صري',\n",
              " 'برط لقح شرك استرازينيكا جمع كسفورد فعل نسب سبعون ضد يرس كورو',\n",
              " 'يرس كورو استرازينيكا خفض نسب فعل لقح لي تحد',\n",
              " 'عقب دول صين تهم قمع يغر بك ترد مثل',\n",
              " 'عهد نقر بك مني تثر قلق يغر ترك',\n",
              " 'هزم بيد رمب حول فعل زخم بعد يمن تطرف علم',\n",
              " 'لكر صل بيد سلط يود نكس بشا طبع راييل',\n",
              " 'تطر قضه كارلوس غصن تهم رسم يبا امر سعد هرب',\n",
              " 'قصه كارلوس غصن ريس عملاق هرب دول',\n",
              " 'ﻷﻃﺮاف اﻷﻓﻐﺎﻧﻴﺔ ﻣﺘﻔﻘﺔ ﻋﻠﻰ ﻣﺴﺎر ﻟﺪوﺣﺔ ﻣﺮﺟﻌﻴﺔ ﻟﻠﺴﻼم',\n",
              " 'ريض حجب يعد جه جدد قبل اعل لد سار دوح',\n",
              " 'رايتس تش قعس نظم علج ازم خبز دفع بمل سور جوع',\n",
              " 'صعد روس دلب تحر ترك ايقاف',\n",
              " 'غلق شمل ضفه عبر غزه سبب نخب اسراييليه',\n",
              " 'خطه رمب سلم جيش اسراييلي نشر عزز عسكر ضفه غرب قرب غزه',\n",
              " 'قحم كابيتول تهم امر عص قون عتد',\n",
              " 'شرط امر فرق حجج سلح بني كابيتول لي رغ',\n",
              " 'زر خرج رنس يقل لبن نهر يحث تحد رب قاذ',\n",
              " 'زر خرج رنس جان ايف در حذر خفء لبن خرط صلح عجل',\n",
              " 'ريستول عمل عنف خلل حجج شرع قان منح شرط سلط قيد ظهر برط',\n",
              " 'برط حجج عنف نير تلت سير شرط',\n",
              " 'لبن طلب شكل حكم جدد صل حجج',\n",
              " 'ظهر لبن يشل عون طلب قوت امن انهاء غلق طرق يرو',\n",
              " 'نتغ عجل سحب غنس',\n",
              " 'شرط كونغرس طلب نتغ مدد همه حرس طن كابيتول',\n",
              " 'لسل جرم قتل غمض هدف اسو دخل امر خرج ظهر حشد ندد عنصر رمب بدر تهم',\n",
              " 'لي تحد ظهر حشد توقع نهي سبع صعد غضب نهك شرط',\n",
              " 'رنس نخب حتج شرع قان بدي عزز قيم جمهور',\n",
              " 'جلس سلم رنس تفق شرع بدي اكر حول سلم',\n",
              " 'تفق عسكر ارد امر تثر جدل عرض عتبرو ندب جدد',\n",
              " 'بدء حكم ريد سبق جيش امر نضل حسن تهم قتل ثلاثه عشر شخص',\n",
              " 'راييل عقل شخص جاز حدد لبن',\n",
              " 'همس سر لبن حدث سلم راييل',\n",
              " 'فد امر سع جول فرق لحل ازم سد نهض',\n",
              " 'سد نهض ثيب سود عرض اثر سلب لـ ملء ثني',\n",
              " 'صعد روس سور تحر ترك ايقاف',\n",
              " 'عمل ركي سور روس بدا نشر قوت حدد ركي سور فق تفق تش',\n",
              " 'حلف هدف قع صواريخ سيه رش صنع صنعاء حدد',\n",
              " 'فصل جزر حوث بحق هجر سجن صنعاء',\n",
              " 'زر خرج يطل بحث تعا قصد هجر دبب طرابلس',\n",
              " 'زرء خرج يطل رنس م طرابلس',\n",
              " 'فه قيد حوث برز تاثر اصب يرس كورو',\n",
              " 'قده تحد رب بحث كثف طعم ضد كورو قرب جه ثلث',\n",
              " 'نظم دول بني هجو ي',\n",
              " 'موزمبيق نظم دول سلم يعل يطر بلد بال هجم عشر قتلي',\n",
              " 'دعت صحف امر قدم سعد عزز نظم ليب',\n",
              " 'دره بيد طلب سحب فور قوت روس ركي ليب',\n",
              " 'خامني نثق عد امر نب سيس اسس عدم رفع عقب',\n",
              " 'خامني رح يوج رسل امل يرن نسب راس سنه فرس',\n",
              " 'شيتد برس سول خبر امر كشف خطط حرس ثور ضرب هدف قرب شنط',\n",
              " 'خبر امر لمن خرق شرك شفر يسر ثني',\n",
              " 'قطر موريتان بحث ينف علق دبلوماسيه',\n",
              " 'زر خرج قطر سلم ريس عرق رسل شيخ تمم',\n",
              " 'شنط تعل بدء نار بحر بحر عرب خلج عمن',\n",
              " 'بحر امر رسل فرق قنه سوس',\n",
              " 'عشر ف ظهر ضد قلب ميانمار رغم خاف قمع',\n",
              " 'زيد ضغط دول جنرال ميانمار قتل شخص طلق نار',\n",
              " 'زر دفع امر تخذ قرر بشا سحب قوت غنس',\n",
              " 'زر دفع امر يشد باستضافه لمن قوت امر',\n",
              " 'قيد فتح ضغط ريس عبس غاء نخب',\n",
              " 'نخب فلسطينيه رشح خمسه عشر قيم بين حمس حمد دحل',\n",
              " 'عرق عفء اط سبعه  ثلاثون دول اشر دخل',\n",
              " 'نجر عرق هدد قسم نفذ ترك ار دول عرب',\n",
              " 'رال شهد عنف فيض نصف قرن',\n",
              " 'رال اخر هطل مطر عظم نطق حرق نيو سوث يلز',\n",
              " 'حزب يهد دعو طرد لسط',\n",
              " 'كشف حزب يهد عرب جدد راييل بدر رهم رغ طلب صنع',\n",
              " 'فقم ازم نزح رار شبك عنف جيش يمن حوث عده حفظ',\n",
              " 'حرب يمن حوث يشن هجم سعد عد زيد',\n",
              " 'قوت نظم قصف شفي برف حلب قتل خمسه بين طفل',\n",
              " 'قتلي جرحي قصف لقو نظم سور دلب',\n",
              " 'قتل 3 جرحي فجر بمد سرو شرق اير',\n",
              " 'اير قتل جرحي حطم طير عسكر',\n",
              " 'عبد رفض حكم عسكر رزق غنر يبن ستر ترب سرت جفر',\n",
              " 'رزق غنر عقب نفذ تفق قف طلق نار ليب',\n",
              " 'يرس كورو رنس تعد فرض حجر شمل لمد شهر سته عشر قطع بين ارس ضوح',\n",
              " 'يرس كورو حظر جول ليل تسعه مدن رنس حكم رب نضل حوء جه ثني',\n",
              " 'فصل غدر سفر روس شنط تر صعد بلد',\n",
              " 'سفر روس امر يصل سكو حرب صرح',\n",
              " 'كورو فسد يهم نخب كنس صهو',\n",
              " 'نخب كنس اسراييلي عدل نتج عسكر يهو معارضيه',\n",
              " 'ردغ يوج دعه رسم نفي زير ترك',\n",
              " 'ترك قوت تظل ليب دام تفق عسكر قاي',\n",
              " 'يهو ربط ضم جزء ضفه غرب سيد اسراييليه شنط فعل فق بيد',\n",
              " 'قبل ذهب رمب يهو امر بنء حد استيطانيه ضفه',\n",
              " 'زر دفع امر حلفاء جنب سلح روس',\n",
              " 'دفع روس سكو ترد نشر امر صواريخ جدد بلد',\n",
              " 'قلب ميانمار ظهر حشد شرع رغم هدد جيش قع زيد قتلي',\n",
              " 'شنط فرض عقب جنرال جلس عسكر ميانمار',\n",
              " 'برط تعل طعم نصف بلغ جرع لي لقح كورو',\n",
              " 'يرس كورو رنس لند شدد قيد غلق رفع اصب جه ثلث',\n",
              " 'ظهر حشد مقر قمت يهو عزم شكك نتج نخب ثلاثاء',\n",
              " 'فرز تسعون اصو نخب اسراييليه فرص يهو لنل غلب برلمانيه رجع',\n",
              " 'عشر قتلي جرحي تعز ارب هجم حوث ابه حلف قصف صنعاء',\n",
              " 'هجم حوث ضد دني عزز رط جرم حرب',\n",
              " 'تحدث ريس فغن امر خطط سحب قوت غنس',\n",
              " 'ريس افغ قرح جرء نخب بكر بدل لخط سلم امر رفض',\n",
              " 'اير حدي ضغط شنط',\n",
              " 'اير تعل عدد بدل جنء شنط',\n",
              " 'شنط دعو قده لبن سرع شكل حكم تنح خلف جنب',\n",
              " 'عون حرر بدل تهم عطل شكل حكم دبلوماسي رنس يعد زيد ضغط سسه لبن',\n",
              " 'فتح باب رشح نخب فلسطينيه ضفه غز',\n",
              " 'لجن نخب فلسطينيه تعل غلق باب رشح نخب شرع فان  احد  عشرون',\n",
              " 'حوث تعل نفذ هجم ثني طار ابه سعد',\n",
              " 'قتل ثلاثه طفل هجم صرخ حوث درس تعز يمن',\n",
              " 'صبه ريس بكس كورو لقه لقح',\n",
              " 'ريس زرء بكس يعن زر جدد ه',\n",
              " 'زر دفع امر بحث نظر هند عزز علق سع نطق تعا عسكر',\n",
              " 'اوس دخل ارخ كال زر دفع امر اصل فرق',\n",
              " 'يمكن ديمقراطيه امر بقء يتم همش يمن تطرف',\n",
              " 'ستراتفور رهب يمن تطرف رشح مدد رب خلل فان  احد  عشرون',\n",
              " 'عرق نفس ركز قوه يرن فقم ضي بلد',\n",
              " 'عرض يرن عرق خاف قمع عبر حدد',\n",
              " 'زلزال عنف ضرب ياب حذر نم',\n",
              " 'زلزل فصل بين دقق ثلاثه دول حذر نم',\n",
              " 'شنط تهم يرن خطط هرب عقب امر طهر',\n",
              " 'رنمج نوي اير اير نتج يورانيوم نهك جدد تفق نوي',\n",
              " 'ريس زرء ليب امر فتح حقق قع جثث نغز',\n",
              " 'ريس زرء ليب عين رسل قيم حكم رلم',\n",
              " 'بيت ابض كد قله خمسه ظف سبب عطي ماريجو',\n",
              " 'ير تجز بلغ عطي ماريجو محو حكم دنه',\n",
              " 'قله حفظ بنك ركز ردغ يقل نيب',\n",
              " 'ردغ حان قت اطلاق صفه نظم دول جلس ترك',\n",
              " 'قتل حجج ميانمار',\n",
              " 'امم تحد دعو ضمن حمي فار عنف ميانمار',\n",
              " 'بيد ندد رفع نسب عنف ضد اسو لي تحد',\n",
              " 'ظهر شهد عمل عنف تلن امر صرع شاب اصل فرق بنر شرط',\n",
              " 'حقق لـ جزر كشف حقق عبي ثني لـ سد نهض يحم صواريخ',\n",
              " 'سود طلب رسم سط ربع فاض سد نهض',\n",
              " 'رنس حظر ذبح حلل عبر 3مساجد كبري رفض نفذ جرء',\n",
              " 'غلق زيد سجد رنس بري سول جمع خير سلم',\n",
              " 'شنط تحث قده صومال جرء نخب فور',\n",
              " 'صومال اجل نخب ريس ظل شحن سيس',\n",
              " 'شنط رحب بدر سعد دعو عود فوض يمن',\n",
              " 'لي عهد سعد بحث تطر ضع يمن ريس هدي',\n",
              " 'يرس كورو عده دول انف طعم لقح استرازينيكا سط سرع تر تفش بء',\n",
              " 'كوفيدتسعه عشر نظم صحه علم صل رقب لقح استرازينيكا تجز خدم جونس اند جونس',\n",
              " 'قتل ثمانيه حتج ميانمار هلي يفر بلد',\n",
              " 'ظهر سفر ميانمار جكر دعم سلم روهنغ',\n",
              " 'ف جزر ظهر عصم طلب غير رحل عبد جيد تبن اقل ريس جلس امه',\n",
              " 'غير سبعه زرء زيري دول عدل حكومي جزر',\n",
              " 'خرج روس عمل جار نظم لقء دول حول غنس سكو',\n",
              " 'زر دفع امر يزر غنس نهي جول سيه',\n",
              " 'طبع ياء مرا ريس زرء اسراييلي عاب نخب اسراييليه',\n",
              " 'يهو ازر امر نخب',\n",
              " 'قهر رحب قرر ترك بشا قنو عدي مصر تصف بـ بدر طيب لحل خلف',\n",
              " 'ترك مصر طلب رحل استثناييه عود غرب',\n",
              " 'سمي صلح ريس حجب تنز جه تحد قبل جمع',\n",
              " 'فرق بدا طعم نظم صحه دعو ريس تنز ثق علم',\n",
              " 'زر خرج اير يزر ترك خضم تر بلد',\n",
              " 'بين ترك اير شرك كد مكن حل قضه سور سيس',\n",
              " 'استراتيجيه بريطانيه نوي جدد اج خطر صين رس',\n",
              " 'حرب كترونيـه خطـر حرب نـو',\n",
              " 'جلس امن ندد صعد حوث ارب',\n",
              " 'سقط عشر قتلي عرك اصل ارب يمن',\n",
              " 'فضح كمم تهز حزب شار لمن',\n",
              " 'يركل بعد شرء لمن قاح سبت V روس غيب تفق رب بشا',\n",
              " 'منع نيب نس حضر جمع كتب رلم دعو حقق عها',\n",
              " 'نس غنش طلب حضر عبر سي كتب رلم',\n",
              " 'رت تهم ريس سبق بـ فسد غسل مول',\n",
              " 'نيب ردغ دعو ريس رت زير ترك',\n",
              " 'جلس شيخ امر يفق خير ليم رنز هندس تفق نوي اير ريس خبر',\n",
              " 'جلس شيخ امر يقر خطه بيد حفز قصد',\n",
              " 'حوث تهم حلف منع دخل ثلاثه نقل نفط ينء حدد',\n",
              " 'حوث سحب ني حدد حكم يمن تقل انه سرح',\n",
              " 'شنط سكو تحد رب تدن هدف شات نفط سعد',\n",
              " 'خرج امر لرد عسكر هجم رامكو طرح',\n",
              " 'رل تحد رب ضطر سعد ترك قسم عبء هجر عها',\n",
              " 'تحد رب دعو ترك حرم ديمقراطيه',\n",
              " 'كور شمل قطع علق ز سبب جرم غفر',\n",
              " 'بعث دبلوماسيه غدر كور شمل ظل نقص حاد اد ضرر قيد سبق',\n",
              " 'عثر احد عشر جثه حمل اثر رصص نغز شرق ليب',\n",
              " 'نغز نفض حفتر يوج شبب ضد ثني عقل',\n",
              " 'ذكري عشر ثور ظهر تعم شمل سور',\n",
              " 'حرب سور ثمن علي دفع قبل حره',\n",
              " 'جمع لسك شنط تهم بكن بـ هدد قرر علم غوغاي',\n",
              " 'شنط كد ان لدي صلح شرك بكن ملف اير',\n",
              " 'زر دفع تعل اسس شرك قابضه تخصص عزز قدر عسكر',\n",
              " 'برز قطر جاز عد قدم تام مونديال طير سير',\n",
              " 'بوت دعو بيد حدث تبث بشر اخر تمس صف قتل',\n",
              " 'بوت هزا بيد عهد دفع صلح روس',\n",
              " 'بين صعد قتل ارب امم تحد حذر اسا جاع هدد يمن ندد جند طفل',\n",
              " 'ارا هجم حوث تهم بـ جند طفل قسر قتل ارب',\n",
              " 'غضب ظهر بمد صره قتل شاب يد شرط',\n",
              " 'غضب مصر سبب شرط جدد بدر حلل سير قدم',\n",
              " 'خطب حكم دول لاسراييل 30 يوم هله لرد',\n",
              " 'شنط تلغ عقب فرض دره رمب سول جني دول',\n",
              " 'بحث فغن سكو تفق خفض عنف خلف حول شكل دول سحب قوت جنب',\n",
              " 'فد افغ يتج سكو حضر مر سلم',\n",
              " 'مصر تهم ثيب سعي لـ حكر ياه نيل فرض امر قع',\n",
              " 'طير قنبل كفل دمر سد نهض مصر ملك نوع طير فر قنبل ذكه',\n",
              " 'سود يضع شرط فوض ثيب حول حدد سد نهض',\n",
              " 'فشق ازم تعدد بعد جيش سود مزارعوه اج ليش ثيب',\n",
              " 'نخب اسراييليه فلسطينيه نهك عرف ديمقراطيه',\n",
              " 'لسط علق ملا نخب اسراييليه',\n",
              " 'راييل تود تفق نوو اير منع ملك قنبل ذره',\n",
              " 'ملف نوي اير طهر رفض رفع درج عقب امر فرض عليها',\n",
              " 'قبل لقء لسك صين حذر لي تحد عهد عدم نزل صلح',\n",
              " 'صين دعو لي تحد زله اثر سيس رمب جنب خلق شكل جدد',\n",
              " 'نظم صهو عمل شوه سول ثلث اصل عرب سلم',\n",
              " 'نظم صهو هدد قاض سول هيي ذعه لفز لسط',\n",
              " 'طلق فاض سلم فغن سكو',\n",
              " 'سكو عقب جمع طرف تفق نوي طبع بان سار صحح',\n",
              " 'حرر يرد دعه عون طلب صرح لبن',\n",
              " 'تير طن لحر حذر حرر همش عون شكل حكم لبن',\n",
              " 'حكم عسكر ميانمار تهم سو تشي تقض رشه',\n",
              " 'قلب ميانمار جيش ستع ضبط سبق سد اسراييلي تحس صور قده جيش دول',\n",
              " 'قتلي هجم قوت دعم مرا باب جنب يمن',\n",
              " 'يمن قتل حزم امن اج قوت حكم',\n",
              " 'قرر اير بشا سقط طير اوكرانيه رفع سول قوت سلح',\n",
              " 'جيش اير نبد محو راييل ركب حمق ضد شات نوي',\n",
              " 'زلزال بقه سته درج قيس ريختر ضرب جزر',\n",
              " 'زلزال بقه سبعهثلاثه درج ضرب شرق ياب سقط عشر جرحي سط حله ذعر سكن',\n",
              " 'فجر حفل اسقاط روح سط بلد دام افغانس',\n",
              " 'دام هرت حكم فغن قرر حضر مر سلم ترع شنط سكو',\n",
              " 'فه ريس تنز فتر غيب غمض عمر نهز احد  ستون عما',\n",
              " 'خمسه  اربعون قتل رسم شيع ريس تنز رحل جون ماغوفولي',\n",
              " 'شنط قبض سلح قرب مقر قمه نيب ريس امر',\n",
              " 'كامال هاريس نيب ريس امر لنتنياهو لزم بام راييل رفض حقق جني دول',\n",
              " 'غوتيريش دعو تصد لـ اسلاموفوب كل شكل ميز عنصر',\n",
              " 'نقر كد همي اعل خمسه عشر يوم كفح اسلاموفوب',\n",
              " 'خاف جه كورو ثلث مصر حسر ثني',\n",
              " 'نقد دول منح مصر قرض بقم اثنانسبعه  سبعون لير حوء بء كورو',\n",
              " 'برط دفع لقح نصح لمن عدم استخدامه كبر س',\n",
              " 'جونس ينف فرض برط حظر صدر لقح',\n",
              " 'تهم بادل عون حرر عطل شكل حكم لبن',\n",
              " 'رنس لبن نفذ جرء جب خرط طرق',\n",
              " 'يهو يلغ زير امر مره ربع',\n",
              " 'ضجه راييل كشف رسل امر طير لنتنياهو عمن',\n",
              " 'تحد رب مدد فتر صلح عمل اير توسط',\n",
              " 'تحد رب حول طما روس بشا عمل اير قبل سحل ليب',\n",
              " 'دعم حلف جيش يمن يصد هجو حوث ارب',\n",
              " 'يمن حوث يرد قدم جيش قصف حيء سكن حدد',\n",
              " 'اير ابد ذيع سبق كبر نفس يهو',\n",
              " 'غانتس يشك سمح يهو نوب ريس حكم',\n",
              " 'ظهر ذكري عشر ثور سور بين رب امر ريس سور داعمو حمل سول حرب',\n",
              " 'ظهر شمل سور دعو اسقاط نظم استكمال طلب ثور',\n",
              " 'هيم رايتس تش توج تهم قوت سلح صره',\n",
              " 'جني دول فتح حقق جرم حرب رضي فلسطينيه',\n",
              " 'طلب نقد صرح بيد طلب لزم تفق دوح',\n",
              " 'تفق دوح انهاء ازم لبن',\n",
              " 'ارد حكم عدم سته ركب جرم فتي زرقاء',\n",
              " 'نفذ حكم عدم فجر غدد خاف صعد',\n",
              " 'اير رفض قف خصب يورانيوم رفع لي تحد عقب',\n",
              " 'اير قدر خصب يورانيوم نسب تسعون ميه',\n",
              " 'سكو رفض تهم دخل شون امر',\n",
              " 'قرر خبر امر يقل فلاديمير بوت سمح حمل اثر يد دونالد رمب',\n",
              " 'ارد حكم اعدام سته تهم قضه فتي زرقاء سج اربعه',\n",
              " 'نفذ حكم عدم شنق موت بحق شقق ركب جرم قتل عمد',\n",
              " 'ير يمز امر دفع سيس علم رء علق خدم لقح استرازينيكا رب',\n",
              " 'برط سجل حال فه جدد سبب جلط دمي ندر خدم لقح استرازينيكا',\n",
              " 'ريس نس حان قت جوز خلف ليب',\n",
              " 'ريس نس حدث حال دخل جنب جدد قف عدل زر',\n",
              " 'سول حوث طلب رفع حصر فور يمن قف عدو تشن سعد امر',\n",
              " 'حوث رفض قرح بعث امر',\n",
              " 'ند طفل سور جيل سدي',\n",
              " 'رغم عنا طفل سور يرد عود بلد',\n",
              " 'رهب بوذ نضم سير نهض قلب ميانمار',\n",
              " 'سير رهب بوذ تبع رتو هجم سلم روهينغ',\n",
              " 'سود خاف خير ملء ثني لسد نهض',\n",
              " 'سود نني دخل حرب بشا سد نهض',\n",
              " 'قتل ثمانيه  خمسون شخص هجم يجر قرب حدد ي',\n",
              " 'جمهور يجر نزح نطق ديف يعش حله عوز تام',\n",
              " 'قتل ثمانيه شخص اطلاق نار ندي صحه لي جورج امر',\n",
              " 'دعه لي جورج فتح حقق ضغط رمب سول غير نتج نخب',\n",
              " 'روس عرض صدر بين جلس امن بشا هجم حوث ارب',\n",
              " 'حلف يمن يعل حبط هجم حوث ارب',\n",
              " 'شهد ناج هيم رايتس ثق قع قتل عشر ثيب حرق صنعاء',\n",
              " 'شنط توج رسل قسي بكن ندد بـ عدو',\n",
              " 'هيي لبث اسراييلي يهو يزر امر خمس',\n",
              " 'قرر علم يهو منع زر خرج سفر امر قبل',\n",
              " 'طقه ذره اير خصب يورانيوم ارض اجهز طرد تطر',\n",
              " 'كل طقه ذره رسل فرق ي دقق اير عده خطو سلم هدد دمر راييل',\n",
              " 'دفع سور صدي هجم صرخ اسراييلي هدف حيط دمشق',\n",
              " 'اسد عقب ردغ قرضاو جنبلاط تهم مول رهب',\n",
              " 'حكم يمن قحم قصر معاشيق عدء دول قان',\n",
              " 'حكم يمن نكر قرر امم تهم بنت حقق طفل',\n",
              " 'ميد برت نزي جدد نشط دخل جيش رنس',\n",
              " 'حرب فرق عرب قتل نزي رنس',\n",
              " 'سعد دعو مدد حظر سلح اير زود حوث اسلح تطر',\n",
              " 'زر خرج سعد جلس حول طال حد اير امر قع تما',\n",
              " 'زر دخل قطر سعد بحث تعا امن',\n",
              " 'ازم خلج تفق فتح حدد قطر شيخ تمم راس فد بلد قمه سعد',\n",
              " 'مصر بدا عام جدد تحد فر لقح كورو',\n",
              " 'طلب تخل كمم تلق طعم كورو تش يرد',\n",
              " 'قضا حصد ريس افغ بعد سلم سلط نخب',\n",
              " 'ريس افغ رار حرب يصب صلح شعب',\n",
              " 'رنس ضع اير دخل عرقل حيء حدث نوي',\n",
              " 'رنس علق رفض اير شرك جمع جمع خمسهواحد بحث ملف نوي',\n",
              " 'رقع حجج تسع يمن بلغ نقظ رجع',\n",
              " 'جمع ذنب حرب يمن دني',\n",
              " 'كل رب تمس لقح استرازينيكا تص قيد',\n",
              " 'يرس كورو برط عرض بدل قاح استرازينيكا لمن تقل عمر ثلاثون عما',\n",
              " 'ير يمز قوت امر سعد موزمبيق اج نظم دول بلد',\n",
              " 'غدد جد قوت امر عرق قصر شار درب',\n",
              " 'يمن صعد جبه',\n",
              " 'امم تحد رحب بنه شنط لغء درج حوث قيم رهب',\n",
              " 'ريس اسراييلي حشد اوروب ضد عود تفق نوي اير',\n",
              " 'تفق نوي اير حسب ترك مستقبليه فرص تحد',\n",
              " 'ردغ سعد طلب طير بدن طير ترك',\n",
              " 'ردغ بحث سعد نار شرك يون',\n",
              " 'حتج يمن قحم قصر ريس عدن',\n",
              " 'شرط سود فرق يات ظاهر قصر ريس',\n",
              " 'فصل فلسطينيه تصل قهر لاستكمال حور طن',\n",
              " 'حمس قهر عذر جوز هنه',\n",
              " 'روس ازق حقق يجب تخل سيس عزل نظم سور',\n",
              " 'روس كورو عزل صحي عزل سيس',\n",
              " 'رغم دعو حور دمء يمن زلت نثر ارب تعز',\n",
              " 'بعث امم خاص يمن يزر طهر شور',\n",
              " 'درب ركي امر بحر توسط',\n",
              " 'ترك عقل عشره قده بحر سبق نشر رسل حذر شرع قنه طنبول ايه',\n",
              " 'زر خرج ترك عدم كرر خطء مهم قدم علق رب',\n",
              " 'تحد رب رنس درس فرض عقب سسه لبن',\n",
              " 'سجد كورو كشف سلل جدد رنس صين فق لقح جدد طري',\n",
              " 'كشف سر تلف خمسه عشر ملي جرع لقح كورو ضرب لاسترازينيكا',\n",
              " 'حكم ليب جدد سلم سلط عمل نقل سلس',\n",
              " 'رقب اعي ادء حكم رسخ لدر سلط شرع',\n",
              " 'ريس افغ يرد سلم سلط خلف نخب',\n",
              " 'جو بيد ريس ـ سته  اربعون لي تحد اكبر روساء سنا',\n",
              " 'سلح هرب تجر خدر حكم عرق',\n",
              " 'عصب كولومبيه عرض كفا قتل كلب لس',\n",
              " 'كل طقه ذره رسل فرق فنه دقق رنمج اير نوي',\n",
              " 'كل طقه ذره اير خصب يورانيوم اجهز تطر',\n",
              " 'عده عمر سور صرع سمر سل خري',\n",
              " 'ثور سور عام تسع تحل شهد صرع سور صرع عليها',\n",
              " 'حلف دمر قع صواريخ رش سير صنعاء حدد',\n",
              " 'سعد تدن بشد قحم ظاهر قصر معاشيق عدن',\n",
              " 'اعل زر خرج يبا تفق نظر امر عرض حال صين غير ضع رهن',\n",
              " 'امر عده نزل صين غذء صنع',\n",
              " 'حلف دمر رش جمع صواريخ باليستيه صنعاء',\n",
              " 'حرب يمن حوث شرط رفع حصر يمن ردا بدر سعد',\n",
              " 'ريس تحد علماء سلم نس هيي دل خرج رء مرس حزب عبر سي',\n",
              " 'نس غنش منع عبر سي حضر عمل كتب رلم نقب صحف دعو قطع',\n",
              " 'بيد منح حفز حلفاء بدا لي خطو حوء بكن',\n",
              " 'بيد قرح طلق شرع نفس بدر حزم طرق صين',\n",
              " 'حوث عقد يلء ارب عزز قف فوض يمن',\n",
              " 'حوث قتل 7 جرحي غار حلف ارب',\n",
              " 'ثيب بلغ شنط تمس رعي فرق فاض سد نهض',\n",
              " 'ثيب رفض سط تحد فرق لحل صرع يغر',\n",
              " 'جو بيد خار مرا سكن اصل زر دخل',\n",
              " 'يرس كورو جلس شيخ امر يقر خطه غثه بقم احدتسعه ترل',\n",
              " 'مره ثني قتلي جرحي باستهداف حفل حكم فغن',\n",
              " 'قاذ حيه شخص خلل فصل شتء قسي غنس',\n",
              " 'ليب دبب بحث لجن عسكر سرت تطر عمل فتح طرق سحل',\n",
              " 'دبب احداربعه ملي جرع لقح كورو تصل ليب احد عشر',\n",
              " 'شار ريس تخف حزب سيس جمع دني بلغ',\n",
              " 'شار ريس جزر خشي تلف ترث حجز رنس جهه تطرف',\n",
              " 'بعث امر يمن ضع يدا سلب ان فايل بانفراجه شك',\n",
              " 'دعم سلم بعث امر يمن يزر شرق سط',\n",
              " 'طلق فعل عرض دول امن دفع دني مليبول قطر فان  احد  عشرون دوح',\n",
              " 'تحد حمي تصد يرس كورو شخص نزح قسر عدم جنس',\n",
              " 'قهر تضف جول ثني حور طن لسط',\n",
              " 'ريس نس يصل قهر زير رسم مصر سيس راس مستقبليه',\n",
              " 'هجم صرخ قعد جوه غدد',\n",
              " 'قوه جوه عرق اهل جمع سيه حسب حد سعد',\n",
              " 'عبس عز قف خصص ه سس يسر عرف ريس قده',\n",
              " 'سلط فلسطينيه تجر لسل لقء حزب يمن صهو لحض تبن قف سلم انهاء حلل',\n",
              " 'جدل دستور كوت حول بطل عضي بدر دهم جلس امه',\n",
              " 'سوط قرح لغء حكم دستور انشاء علا',\n",
              " 'اوبزيرفر سور ندب حظهم خسر لجي اخر سود يوج اسا',\n",
              " 'جاب نظم عمل دول ازم لجي سور ارد لب',\n",
              " 'امر فكر خطو صغر احياء تفق نوي اير',\n",
              " 'حرس ثور زعم ملك قعد صواريخ ارض خلج',\n",
              " 'خطر ترك يون اسراييل تحد رب حول شرق توسط',\n",
              " 'غرد يون تعد حرب ترك سط تر علق نقر شنط',\n",
              " 'ارد سجل اثنان  تسعون فه اكثر تسعه ف صبه جدد كورو',\n",
              " 'سرع سند دام نظم علم ارد صدي لجح كورو',\n",
              " 'رسم سود طلب سط ربع ملف سد نهض',\n",
              " 'ثيب يتم صل عنا بشا سط ربع لحل ازم سد نهض',\n",
              " 'حرب يمن حوث يشن هجم سعد عد زيد',\n",
              " 'حلف دمر طير حوث فخخ طلق سعد',\n",
              " 'ردغ دعو دره بيد عمل ترك انهاء اسه سور',\n",
              " 'ردغ صبر هجم استفزازيه سور',\n",
              " 'كورو ترك تعل جرء جدد حول قبل سيح جنب',\n",
              " 'ردغ صبر هجم استفزازيه سور',\n",
              " 'حضر مثل جمع دول حكم دبب تود يمن دستور جلس نوب',\n",
              " 'جلس نوب ليب منح ثقه حكم جدد غلب',\n",
              " 'فد افغ يتج سكو حضر مر سلم',\n",
              " 'طلب شبث بـ نظم سلم حدث سلم فغن',\n",
              " 'شبك عنف قوت يمن حوث حدد',\n",
              " 'قوت شرع قدم اربعه حفظ يمن',\n",
              " 'دول عرب كبر دول رد سلح علم',\n",
              " 'قيم دول عمد دول امر عرب تحد لاستيراد حيو حيه',\n",
              " 'حوث هدف قعد ملك خلد سعد سير',\n",
              " 'زر دفع سعد اير يطر قرر حوث',\n",
              " 'هزم كبر حزب يركل نخب لي ريس',\n",
              " 'حزب يركل سيح ديمقراطي خار ارم لشي زعي جدد',\n",
              " 'شنط دعم يمن حد بعد نفذ جنبي',\n",
              " 'شنط تعل قف دعم حرب يمن',\n",
              " 'غزه حمس تعل نهء انتخابات فز مرا',\n",
              " 'حمس انتخابات دخل سره شرع قبل',\n",
              " 'سود يلح لجء جلس امن لحل ازم سد نهض',\n",
              " 'سود جلس امن دفع امر حرك سلح قف جند افراغ عصم سلح',\n",
              " 'خلل يوم قوت امن قتل تسعه  ثلاثون ظاهر ميانمار',\n",
              " 'تحر امم باس شنط دعو جلس امن سهل همه بعث ممي بميانمار',\n",
              " 'يهو يرد عمن اغلاق قت جوء طير ارد',\n",
              " 'ارد يذب جلد راييل بعد يهو',\n",
              " 'شرك اماراتيه نمل شحن نفط صدر شنط زعم انه يرن',\n",
              " 'شحن نفط طرق اير سور',\n",
              " 'زرء حكم حد طن ليب يود يمن قنن',\n",
              " 'جلس ريس ليب يعل اسس فوض صلح طن',\n",
              " 'كوسوفو فتح رسم سفر قدس حتل',\n",
              " 'لسط طلب دخل دول راييل اجراء نخب قدس',\n",
              " 'دينيس روس دبلوماسي امر خضرم قدم اثنا عشر نصح ادر بيد اج اير',\n",
              " 'بيد سعد فوض اير حول تفق نوي عل تصد انشط زعزع قرر',\n",
              " 'جلس نوب شكل لجن حقق حدث شفي سلط جدد',\n",
              " 'جلس نوب شكل لجن حقق بسك كرم',\n",
              " 'برط حكم اير لنز زاغريراتكليف قبل عسف',\n",
              " 'برط كد تزم تفق نوي اير',\n",
              " 'غنس فجر دمي كبل طلب كد انه رجع خطه سلم امر',\n",
              " 'صحف بريطانيه نقش كيف خرج جيش امر غنس دهر ضع امن',\n",
              " 'كشف حدث شفي سلط قع طبي ضعف مكن قله كدر طبه جه جيح كورو',\n",
              " 'غضب لكي شعب حدث شفي سلط ارد',\n",
              " 'رنس شرط طلق نار قتل شخص هدد بسك ارس',\n",
              " 'قان رنس فر فاق شكل هدد ركز جنف دول',\n",
              " 'فوض رب تقر ركب خطء استراتيجيه طعم ضد كورو',\n",
              " 'تحد رب بشر عدل مهم لقو سفر بزم كورو',\n",
              " 'امر قطر بحث قيد قيد ركز امر تطر نطق',\n",
              " 'امر كيز تمض قدم بطل قطر  فتح',\n",
              " 'هجم ثلاثه جبه خاف سقط ارب يد حوث',\n",
              " 'حمل فتح جلس نقل جنب يمن نفر قته',\n",
              " 'سود جيش ضبط سلح هرب حدد ثيب',\n",
              " 'ثيب تهم جيش سود غل رضي حذر صمت خوف',\n",
              " 'فجع شفي سلط زر صحه ارد رلم نفد كسج سمر ساع',\n",
              " 'حكم اثر حدث سوس مخز غذي',\n",
              " 'حكم كند جمد اصل سعد سعد جبر طلب فصح',\n",
              " 'دير ه هوو تهم قضء كند اتلاف ادل',\n",
              " 'طلب تنف رفض زعم خوض بحث سلم كبل',\n",
              " 'فد سيس حرك طلب فغن يصل طهر دعو زر خرج يرن',\n",
              " 'لند فتح حقق بحق زوج بشر اسد تهم دعم رهب',\n",
              " 'لند رفض كشف نسء نظم دول حرم جنس',\n",
              " 'جنب ليب ضرب جوه هدف بر تزم قحم قوت حفتر نطق',\n",
              " 'قوت شير حفتر سمح سفن ركي دخل ني شرق ليب',\n",
              " 'يمن جه جدد نزح نتج قتل ضلع',\n",
              " 'حوث حدد ثلاثه نقط انجاح عمل سلم يمن',\n",
              " 'طلب خطف يجر طلب دفع ملي قبل حرر',\n",
              " 'اقم تحد طلب يجر كله ايم قلل اضه احتفاليه قلل يجر',\n",
              " 'صل حجج لبن عمق ازم اقتصاديه',\n",
              " 'حجج لبن حزب ل هجم ظاهر سكك',\n",
              " 'ادن فتح تشك كبا دبلوماس قدس حتل',\n",
              " 'لسط تخل ريس دور جمع عرب حجج هرل عرب طبع',\n",
              " 'صرع تسعه عشر عنصر امن يجر كمن نظم دول سلم',\n",
              " 'عود حش نظم دول سلم بلد سور',\n",
              " 'هدف سفن يرن بحر حمر صبع تهم راييل',\n",
              " 'اير تعل قبض جسس اسراييلي تعو جهز خبر جنب',\n",
              " 'شرط روس بغت فعل عرض عقل ميتا شخص',\n",
              " 'نهء جمع سكو بشا غنس دعو روس قدم نزل',\n",
              " 'ارد اقل حكم شكل لجن حقق عسكر حدث شفي سلط',\n",
              " 'لقء سول كبر راييل مصر شرم شيخ',\n",
              " 'عرك بجب عده قدم جيش يمن حجه تعز غر حلف قع حوث صنعاء',\n",
              " 'اعل نتغ جد عنصر جيش امر يمن حوث خطه خطر قبل بكل سل',\n",
              " 'حكم فغن تعل حضر مر سلم فصل دعت شنط سكو',\n",
              " 'حكم فغن طلق سرح عظم جنء حرك طلب',\n",
              " 'رت شده رفع حظر جمع قبل حسب اخو',\n",
              " 'رت سلم يثم حرك طلب بسن قان جرم طبع',\n",
              " 'نس فصل فه خمسه عمل حرق شب احد خزن صنع سفل',\n",
              " 'قبس نكب تخف كرر ارو رفا يرو دين نس لي طمي',\n",
              " 'ريس عرق صدر بيا بشا قتل ثمانيه دني حفظ صلح دين',\n",
              " 'عرق حقق زر سبق سول اخر تهم فسد',\n",
              " 'جرع حد صحه علم رخص خدم لقح جونس اند جونس',\n",
              " 'نظم صحه علم دعو دول عزز رقب تغر يرس كورو جاب',\n",
              " 'زر صحه ارد تقل فه رضي كورو جرء قطع كسج',\n",
              " 'علماء حذر عفي كورو يعن ضرر نهي عنا',\n",
              " 'غوتيريش زر خرج عمن بحث قف قتل يمن',\n",
              " 'سعد قرح قف طلق نار يمن حوث يبد تشك',\n",
              " 'صرع يغر ثيب تنف تهم امر بـ ركب جرم طهر عرق قلم',\n",
              " 'علق عرق لي تحد تمر ادني يا تسعه عشر عما',\n",
              " 'بيت ابض يعل بدء تصل دبلوماسيه بشر اير عبر رب',\n",
              " 'اوس يعل دعم لاسراييل شنط اير صدر رهب',\n",
              " 'قمه افتراضيه بيد قد ياب هند رال تحد صين',\n",
              " 'خبر امر سبل بيد جنب دلع حرب امر صين',\n",
              " 'ليب امم تحد رحب منح جلس نوب ليب ثقه حكم حد طن جدد',\n",
              " 'ليب حكم حد طن عقد جمع اول بعث امم دعو سحب رزق',\n",
              " 'هجم رهب سفن شحن يرن بحر ابض توسط',\n",
              " 'راييل سعد صعد جه بحر اير',\n",
              " 'عيل جورج لود فق سوي دين مينيابوليس قبل سبعه  عشرون ملي',\n",
              " 'طبب كد حكم فه جورج لود تكن نتج مرض قلب تعط خدر',\n",
              " 'ترك تعل ينف تصل دبلوماسيه مصر',\n",
              " 'تصل زر خرج ترك مصر سنو',\n",
              " 'ظهر ف جزر جمع مايه  ثمانيه طلب بـ غير شمل',\n",
              " 'تحل دستور جزر انعكاسات دول قان',\n",
              " 'يلش حوث رفض قرح امر قف طلق نار يمن',\n",
              " 'لي تحد امر تعل رفع جمع حوث قيم رهب',\n",
              " 'خطف طلب يجر سلسل نهي',\n",
              " 'اربعه قتلي هجم دعش شرق يجر',\n",
              " 'ازم ارم ريس رفض رشح بشي قيد جيش',\n",
              " 'ريس زرء ارم يعل عد نخب برلمانيه بكر',\n",
              " 'روس حذر نشر صواريخ رضي امر ياب كد هدد سبق سلح',\n",
              " 'شنط خسر سبق روس صين صنع صواريخ سرع صوت',\n",
              " 'رمب نقش سحب قوت امر غنس درج',\n",
              " 'عرق قرر شكل لجن طبق ي سحب قوت جنب',\n",
              " 'جيش يمن بدا عرك حسم حجه تعز ارب',\n",
              " 'طلب موسيقار يمن حمد فتح اعد عبر شعر قصب شلل',\n",
              " 'درس دول فقر حصل لقح كورو فان  اربعه  عشرون',\n",
              " 'يرس كورو ريس نظم صحه علم كشف خلل صاد زع لقح دول غنه فقر',\n",
              " 'تضم اير صين جمع دول طلب تصد عقب حدي',\n",
              " 'يمن صل سفن قد ابع امم تحد كمساعد سان',\n",
              " 'سفن اير تجه سور فتح جبه جدد راييل',\n",
              " 'قيد جيش اسراييلي هدد حرب اير',\n",
              " 'ترك عزم ضاف مر سلم افغ',\n",
              " 'بعث امر خاص لقي قده غنس بحث مر سلم ترك',\n",
              " 'مصر كد ضرر برم تفق حول سد نهض قرب فرص',\n",
              " 'تحد ريقي لكر قدم حفل بعد يلد سحر غربي حكم زيش',\n",
              " 'طبع امر سس صندوق دعم ثمر راييل بقم عشره لير',\n",
              " 'امر راييل نضم شبك تحد شحن',\n",
              " 'تحد رب دعو سلط ليب جدد منح لو نخب',\n",
              " 'ليب ـ تحد رب فرض عقب نهك حظر سلح',\n",
              " 'بيد بعث رسل امل امر عرك تنت ضد يرس كور',\n",
              " 'سجل علي حصل يوم بدء حمل طن طعم ضد كورو',\n",
              " 'شنط دعو حوث قف صعد ارب عدم عقه غثه',\n",
              " 'عقب شنط ضد قيد حوث خطه خري لـ حصر اير',\n",
              " 'تحر فرض قان عقب رب ضد نظم اسد شبه بـ قيصر',\n",
              " 'نظم صحه علم تحد رب لزم عمل معا عجل احراز قدم صعد صحه',\n",
              " 'جه تهم فسد غسل مول ريس سبق ضع رقب قضي',\n",
              " 'رت قلص ساع حظر جول رمض',\n",
              " 'دارفور سلط سود طلق سرح سي هلل صف بان زعماء جنجويد',\n",
              " 'سلط سود قف عنصر تعدد جنس نمي لـ دعش',\n",
              " 'سبب زيد جوع حاد نسب عشرون اعل طونيو غوتيريش شكل فرق عمل هدف منع جاع',\n",
              " 'امم تحد بنك دول نظم سان طلق شرك بكر قضء جاع',\n",
              " 'ريس جزر حدد عد نخب شرع بكر',\n",
              " 'ريس جزر يحل رلم صدر عفا عشر عقل حرك',\n",
              " 'اعل حكم نغل يوم خمس حدد طن فقد روح خلل حجج',\n",
              " 'نغل فرض قيد نرن صعد حجج',\n",
              " 'دخل غزه حوم اسراييليه سبب قتل ثلاثه صيد احد اضي',\n",
              " 'طير حرب اسراييليه تشن غار قطع غزه',\n",
              " 'فوض امم تحد دعو انشاء ه دول حدد اما فقد بسر',\n",
              " 'امم تحد سعي جمع عشره لير دعم سور شرد',\n",
              " 'مصر سود كد كثف نسق بشا سد نهض',\n",
              " 'سيس يوج رسل اثيوب بشا سد نهض حضر فرف',\n",
              " 'قتل خمسه ميانمار جيش يصل حمل قمع ضد ظهر',\n",
              " 'شفي سلط ظهر ليل حدي حظر جول صرح نيب تثر غضب',\n",
              " 'فتح فصل نصر قده عضي خلف شكل قيم فصل نخب',\n",
              " 'سته  ثلاثون قيم لخض نخب شرع فلسطينيه',\n",
              " 'مصر رفع عدد قتلي حرق صنع شمل بلد عشرون',\n",
              " 'عشر ضحا جرء فجر عدد سير سط قهر',\n",
              " 'راييل ايروسبيس تعل عون يدج اماراتيه كنولوج تصد طير سير',\n",
              " 'سفر مرا بتل ابب قدم رق عمد ريس راييل',\n",
              " 'رار درج ريك قيم رهب يثر غضب جماهير',\n",
              " 'ريك تريزيجيه خبر انه تاثر غيه سبب صبه يعد اقي',\n",
              " 'لمن دنه ظف سبق تهم جسس صلح خبر صره',\n",
              " 'تحر رسم قع ميز ضد صره لمن سبب حجب',\n",
              " 'مصر حذر دعي سلب اتج ثيب ملء لسد نهض شكل حدي',\n",
              " 'سد نهض مدد جمع كينشاس ليم ضفي فشل صل تفق',\n",
              " 'سبب غرب يهو يلغ زير زر خرج اسراييلي امر',\n",
              " 'يهو رفض طلب ارد زود ياه',\n",
              " 'قف تهم غيل لد نشط خطف جنب عرق',\n",
              " 'اندبندنت ادم اده ميثامفيتام نشر عرق دمر شبب',\n",
              " 'طبع كردس عرق زير ببا ترك عرض خطا جسم',\n",
              " 'فتر تر دبلوماسي زر خرج ترك لقي نظر اير طنبول',\n",
              " 'ليب رحب عرب دل سع صدق حكم دبب',\n",
              " 'نتغ عرب دخل عسكر فقم ازم ليب',\n",
              " 'براغماتيه خلق فرص تعا مصر تر',\n",
              " 'تصل هتف بشر زر خرج ترك مصر',\n",
              " 'جيش امر حذر غزو صين تيو',\n",
              " 'طلق جمع امر صين بحث خلف عمق',\n",
              " 'بيد قرر خطه قاذ قصد نصر ارخ امر',\n",
              " 'بيد حقق نصر جدد جمهور سهل قرع',\n",
              " 'بلن ندد بـ مرس طهر عرق يغر',\n",
              " 'قلم مهر ثيب ينف رط قته بـ طهر عرق يغر',\n",
              " 'طلب كد تزم تفق دوح طلب شنط نفذ عهد',\n",
              " 'غنس طلب رفض حضر مر طنبول عد قرح ضح سبب',\n",
              " 'حكم قضي غرب سلم رال اصل سعد ريض زوج حذر يجه صير خاشقج',\n",
              " 'طمح بيراميدز صطدم هزم قسي رجء غرب',\n",
              " 'حوث طلق صرخ يست حي روض سط دين ارب',\n",
              " 'يمن حوث يطر جبل هيل استراتيجي قدم ارب',\n",
              " 'لقء اسراييلي صري عزز تعا قصد اول عقد',\n",
              " 'شرق اسراييلي علم مصر جهل حفو حره زر طقه',\n",
              " 'بحر رسل ذكر حجج قطر سبب رنمج عبر قنه جزر',\n",
              " 'بحر قطر سجب دعو بحث قضا علق',\n",
              " 'حكم اندونيسيه تقض بسج نبل نبر',\n",
              " 'ترك تعز دونيس ضحا زلزال',\n",
              " 'سول سيح حذر خطر شرع قان ثير جدل',\n",
              " 'لمن سس سلم طلب حكم كفح عنصر',\n",
              " 'حمس تعد نخب نور ريس غزه خاض نفس شدد قده حرك برز قطع',\n",
              " 'لال مره سيد كتب سيس حمس تنه انتخابات دخل غزه خار خلل حيه نيب نور',\n",
              " 'حكم علا ز سمح سيح باستخدام كلم ل نصص خطب دين',\n",
              " 'ز سجل ف  سبعمايه  سبعه  ستون صبه جدد يرس كورو',\n",
              " 'نس قف طلب بفض عصم تحد علماء سلم',\n",
              " 'نس غنش دعو صلح رمض حزب سلط',\n",
              " 'يقل رخ عيق بحث حول حرب جزر',\n",
              " 'سول جزر عمر رنس حول توط رب',\n",
              " 'ترك حتج طبع برد لـ خرط كردس ارخ',\n",
              " 'ريس عرق بحث سفر ترك عزز علق ثني',\n",
              " 'ريس جدد ارك عمق ازم ارم جيش راس',\n",
              " 'علييف بعد حمل قع تفق سلم ارم',\n",
              " 'جيش نني دخل اعد فتح طرق غلق ظاهر',\n",
              " 'ازم لير فقم اسا لبن جوعي',\n",
              " 'قرر خبر رحب عرب منح رلم ليب ثقه حكم دبب كخطو فصل انجاح رحل انتقاليه',\n",
              " 'نقر ردغ دبب يعل زمه عهد حدد جدل',\n",
              " 'يهو زير علن امر',\n",
              " 'صحف اسراييليه لمح كون يهو صدر سرب ضرب نشا طنز يرن',\n",
              " 'لي تحد بدء حكم شرط دير شوف تهم قتل جورج لود مينيابوليس',\n",
              " 'عدد مني كثف تام برا بيراميدز رجء',\n",
              " 'روس بطي سرع يتر عدم حذف حتي حظر',\n",
              " 'سول روس يصف خرج امر بـ غد سبب غاغار',\n",
              " 'قلت نظم اسراييلي سيس سيط فرض راييل عبر ضح نظم فصل عنصر اسراييلي',\n",
              " 'اعت مرس اسراييليه رسخ فصل عنصر بحق شعب لسط',\n",
              " 'ريس يمن طلب بـ حدث خطط عسكر هزم حوث',\n",
              " 'ريس ذربيج لهم علييفالرييس ذربيج لدي خطط عسكر حدد ارم',\n",
              " 'ليب جلس نوب منح ثقه حكم حد طن ريس عبد حمد دبب',\n",
              " 'جلس نوب ليب جل جلس صوت حكم ثلاثاء',\n",
              " 'حرب فغن بدء حدث سلم ارخ حكم فغن طلب قطر',\n",
              " 'حكم فغن تهم طلب عدم قطع علق قعد',\n",
              " 'قال زرء حكم ارد مهد عدل سع',\n",
              " 'ارد شبك ايد نيب خلل جمع خصو بشا قضه فتن',\n",
              " 'كيسنجر حذر بيد حرب طحن امر صين قبل يطر',\n",
              " 'فيض صين جري امر قلص احد  عشرون لير',\n",
              " 'قبل هري مغ زيد طلب عمر كاريب سبق اسقاط لكه بصف راس دول',\n",
              " 'امر هري حضر جنز برط دع امر يلب دمع زهر طلق دفع',\n",
              " 'ريس عرق تنف صرح حول عقد تفق حلل',\n",
              " 'ريس عرق تعل صدق ثلاثمايه  اربعون حكم عدم',\n",
              " 'نوي اير شنط ترد تفق اقي اطل رح طلب خطه لي',\n",
              " 'شنط تبد عدد رفع عقب اير تسق تفق نوي',\n",
              " 'عدم سور نتانياهو كد سعه لاستعاده رفت جسس اسراييلي ايل كوه',\n",
              " 'نتج نهي نخب اسراييليه شكل تحد يهو',\n",
              " 'قدم عضو جمهور كونغرس شرع قان منع دره ريس جو بيد رفع خفف عقب اير',\n",
              " 'كونغرس امر مرر شرع قان مول لمد يوم جنب غلق حكم',\n",
              " 'نتغ يفق مدد جد حرس طن حول كونغرس امر',\n",
              " 'نتغ لي تحد قرر نشر خمسمايه عسكر ضفي لمن',\n",
              " 'سعد هجم حوث رهب هدف قصد علم',\n",
              " 'سعد حوث هجم بطر سير نشا نفط جاز',\n",
              " 'غوتيريش يعل عدد امم تحد شرك فاض سد نهض',\n",
              " 'امم تحد حذر نزع شمل بور',\n",
              " 'تحد رب رفع عقب سور بدء نقل سيس',\n",
              " 'تحد رب فرض عقب قيد اسج شرط يرن',\n",
              " 'رت نيب تهم ريس سبق 12 اخر غسل مول',\n",
              " 'تفق شاء جلس عمل رت كر',\n",
              " 'بعث امر لار تمس طهر غاء عقب دلل عدم جدت',\n",
              " 'روح كد ضرر عزز تعا دفع عسكر طهر سكو',\n",
              " 'حدث سلم غنس شار امر دعو روس حذر قطر',\n",
              " 'ازم دبلوماسيه امر رس بدا بيد 3 سيناريوه توقع',\n",
              " 'كظظ شفي فلسطينيه رضي كورو صل دفع لقح عبر رنمج كوفاكس  هي ركيزة لقاحات لمبادرة تسريع اتاحة ادوات مكافحة كوفيدنظم صحه علم',\n",
              " 'لسط دعو جمع دول قف عدو حلل اسراييلي قصي',\n",
              " 'نيب نس قحم مقر تحد علم علماء سلم',\n",
              " 'نس حرق ركز امن سير شرط اثر قتل شاب',\n",
              " 'صمت طبق رد قصر باكنغهام هري مغ',\n",
              " 'برط عقل رجل حمل فاس قرب قصر باكنغهام',\n",
              " 'فه تسعه  ثلاثون اقل غرق ركب قبل سحل نس',\n",
              " 'صحف نس دخل شرط مقر كل نس فرق باء سبق خطر',\n",
              " 'سود يلح لجء جلس امن لحل ازم سد نهض ثيب',\n",
              " 'جوب خرطوم قع تفق سلم جمع سلح',\n",
              " 'صل طير نغز صرت خصم سبعه سنو',\n",
              " 'فد حكم يون فتح قنصل نغز شرق ليب',\n",
              " 'اربعه عشر نيب امر يدع ابرام صفق شمل اير',\n",
              " 'خبر اسراييلي يشر سبب هجم نشا نوي اير',\n",
              " 'حقق جزر راييل بعت بنغلاديش رنمج تطر جسس هتف عرض',\n",
              " 'بنغلاديش تعل حظر سفر جوي اسبوع سبب كورو',\n",
              " 'حلف دمر فخخ حوث اجواء يمن',\n",
              " 'شهر نقد جهل حلف دول ارهاب اير',\n",
              " 'دره بيد منح طلب اشر رفض فرص جدد',\n",
              " 'حكم علا امر تود حق رمب حظر تبع عرض حسب يتر',\n",
              " 'اكر قرر رفع سره رشف حلل رنس جزر',\n",
              " 'ازم اوكرانيه اكر قبل زيلينسكي خضم تحر روس',\n",
              " 'بعث امم تحد سلم غنس لقي فد حرك طلب دوح',\n",
              " 'امم تحد حذر نزع شمل بور',\n",
              " 'حكم علا رازيل صدر حكم يلغ ادن بحق دا يلف',\n",
              " 'رازيل يقض ثمانيه  ثلاثون يوم حد غاب امز حطم طير',\n",
              " 'نجه تحر اير زيد عقب سول امر شنط نظر رد فعل طهر دعه حدث',\n",
              " 'شنط نضم عدد لي علق لقح جونس اند جونس',\n",
              " 'رجع اصب كورو لي تحد كشف عد لقح',\n",
              " 'سلط امر قف لقح كورو حقق جلط',\n",
              " 'امر قلق هجم سعد هدف حوث قلب صنع نفط',\n",
              " 'جو بيد دره ريس امر تمض قدم صفق سلح ضخم امر',\n",
              " 'لال مره غدر بيت ابض رمب يعد ير',\n",
              " 'رمب تهم بيد امر يزر عطل لقح جونس اند جونس',\n",
              " 'رجح خفض كمي ياه خرطوم حسب لكل سيناريوه عبي ثني لسد نهض',\n",
              " 'سود رسل فد رسم راييل سبع قبل',\n",
              " 'صبه لسط رصص اسراييلي جنب ضفه',\n",
              " 'جيش حلل عثر جثه جند فقد يوم',\n",
              " 'زمن رفع طهر تر خصب شنط امل جاب عرض حدث بشر',\n",
              " 'ارد بدء سري تفق دفع شنط',\n",
              " 'شنط طرح قرح جدد بشا سوي فغن شمل اير صين رس تر',\n",
              " 'شنط سحب قوت خلج درس خير لحم سعد',\n",
              " 'عرق عقل ثلاثه شخص خطط عمل انتحاريه ضد زور شيع غدد',\n",
              " 'عرق صل كسر قيد بال ارث ركب درج',\n",
              " 'سط حدث فيي اير تعل زيد نسب خصب يورانيوم ستون',\n",
              " 'تهم لار هجم سفن اسراييليه قبل سحل امر',\n",
              " 'كورو علم فه اثنان ملي ستمايه اصب مايه  ثمانيه عشر ملي',\n",
              " 'حمل طعم ضد كورو عرقل علق خدم جونس اند جونس',\n",
              " 'طرد ف نطق نازع عليها يغر',\n",
              " 'بلن نزل قلق بشا دعي صرع قلم يغر',\n",
              " 'يرس كورو جيح جبر برط خفض سعد ه سور دل فرق',\n",
              " 'جونس كد ملك دعم برط لام ارد استقراره',\n",
              " 'قيد قيد سطي امر كد ان بلد صل سعد سعد دفع نفس',\n",
              " 'سعد بكر طرق قضء اسر قدم',\n",
              " 'كورو ضرب رلم جدد فه ثلاثه نوب فوز نخب',\n",
              " 'قال زر صحه نمس عقب عرض قيد كورو',\n",
              " 'عرك عنف ارب سعد دمر صرخ طر سير طلق حوث بتج جاز خمس شيط',\n",
              " 'حلف دمر زورق حوث فخخ هجم حدد يمن',\n",
              " 'ليب رلم علق جلس منح ثقه حكم عبد حمد دبب',\n",
              " 'جلس نوب ارد ينف حصل شاد نوب خصو',\n",
              " 'حتج قطع عدد طرق عصم يرو',\n",
              " 'نخب نشم تفق لبن بطل ارم ده',\n",
              " 'خطط حكم سعر ياه ر تثر غضب زرع صري',\n",
              " 'زر خرج ترك جمع رقب مصر بدء رحل جدد علق',\n",
              " 'صبه ريس سور بشر اسد زج يرس كورو',\n",
              " 'فوض امم تحد حقق انس حذر كرر اسه سور ميانمار',\n",
              " 'ير يمز لي تحد عزم نفذ هجم كترونيه ضد قع روس ابع قبل',\n",
              " 'نتر روس دعو روس خطط عطل ترك اظهار حبهم طن',\n",
              " 'قتلي جرحي يوم اخر حجج ضد قلب ميانمار',\n",
              " 'شبح حرب ميانمار حذر ممي كرر ارو سور',\n",
              " 'امر قطر لقي رسل شفي عهل سعد تصل علق بلد',\n",
              " 'حكم رور قلب ركب جسر دوح لحص بتج خلد نتج عنه جرح حرك رور كثف حله تتم علج درج فرز سير عبد',\n",
              " 'نغل غلق درس سبب ضطراب',\n",
              " 'خبر ارد فتح نغل قنصل دخل جسد ثمر سيس ملك فرق قره',\n",
              " 'دبب دعو جلس نوب ليب حد لاجتماع نس حقد',\n",
              " 'دبب يثر غضب عسكر حفتر',\n",
              " 'سفر امر تدن هجم حوث كد تزم شنط دفع سعد',\n",
              " 'سعد ريض لدي صلح زعزع قرر ارد لم طلب فرج بسم ل',\n",
              " 'ثور شعب نغل هيم رنس سبب تنم ضي قره راء',\n",
              " 'نغل سرق هب دور رنس غرب',\n",
              " 'ف امر طلب عدل عرق يوم حرر عبد',\n",
              " 'خرج تعل شهر عرب امر',\n",
              " 'عشر قتلي مي جرحي فجر دخل عسكر جيش غين استواييه',\n",
              " 'قطر تقم علق دبلوماسيه غين استواييه',\n",
              " 'حكم فغن جهز فوض حرك طلب',\n",
              " 'ردا قرر تخذ بيد طلب تعل نشر مر رحل قوت جنب',\n",
              " 'سعد تعل تصد هجم حوث سير زورق فخخ',\n",
              " 'فشل حال هجم حوث قطع صبر ـ لجب',\n",
              " 'لال مره جزر يقر قان نخب عمد فتح',\n",
              " 'سفر رنس تنف دخل شان سيس جزر',\n",
              " 'صدر عسكر سود ثيب سلح حرك تمرد حلل كرم',\n",
              " 'سبب فشل فاض سد نهض حمدو دعو جمع قمه ثلث',\n",
              " 'حفتر قطع طرق سرت منع جلس طرح ثقه حكم دبب',\n",
              " 'نضل مصر نقل سلح خبا دوي ليب',\n",
              " 'قطر تعل قف بدر سعد حول هاء حرب يمن',\n",
              " 'سفر قطر برس يل دول حرب كورو تعا خلج متز',\n",
              " 'لي تحد عهد قيم لزم دفع صلح عرق',\n",
              " 'نعش امر يضر قصد نشي',\n",
              " 'اير شرط جلس نوي رفع عقب',\n",
              " 'اير تعل زيد كبري شطت خصب يورانيوم',\n",
              " 'حلف طلق عمل عسكر جوه ضد حوث صنعاء',\n",
              " 'هدي حرب حلي فرض حوث خدم لار',\n",
              " 'ريس زرء ارد يجر عدل شمل 10وزار',\n",
              " 'زرء دخل خمسه دول رب توسط جمع يون نقش هجر',\n",
              " 'شنط طلب امم تحد بحث خطه سلم افغانس دعو ترك لاستضافه مر طلب حكم فغن',\n",
              " 'ترك شنط قرر لغء رسل سفن حرب بحر اسد',\n",
              " 'ببا قدس حفل ختم زير عرق',\n",
              " 'قصف صرخ طار ربل كردس عرق',\n",
              " 'فه شخص جرء سيل جرف جزر',\n",
              " 'تبن جدد دعم جزر صلح ليب',\n",
              " 'قتل ثلاثه صيد لسط جيش اسراييلي ينف نفذ هجم قبل سحل غزه',\n",
              " 'حلل يشن غار قع حمس قطع غزه',\n",
              " 'كبل طلب درس قرح امر حول حكم شرك',\n",
              " 'طلب تحث امر لزم تفق دوح',\n",
              " 'زر دفع اير دمر حيف تل ابب ان قمت راييل هجم',\n",
              " 'زر دفع امر شنط بحث رار مول قدر عسكر مني فغن',\n",
              " 'كورو رفع قيس اصب رب ظهر عنف ضد شدد قيد',\n",
              " 'رب عمد استراتيجيه مول عفي',\n",
              " 'لسط حتل ف طن اسراييلي ظهر طلب باستقاله يهو خلف تهم فسد',\n",
              " 'صحف اسراييليه يهو اصب جنن فقد كبح اخر',\n",
              " 'ببا فتي يزر ربل صل قرقوش يوم عرق',\n",
              " 'ريس عرق سلم رسل خطه ببا فتي',\n",
              " 'حلف سعد مرا يعل دمر عشره طير سير طلق حوث بتج ملك',\n",
              " 'ارد يدن فعل حوث رهب جبن سعد',\n",
              " 'نغل اربعه قتلي صدم عنف امن حتج عقل نكو',\n",
              " 'ريس بنك رب ريس نغل نقش لو ثمر دام كورو',\n",
              " 'لير لبن سجل رجع جدد دولار سوق زي',\n",
              " 'تهم عده حكم صرف لبن كلم ثرت كشف جمع',\n",
              " 'سلط عسكر ميانمار طلب هند عده عدد ضبط نشق',\n",
              " 'هند سجل رقم قيس عدد حال صبه يوم بـ كورو',\n",
              " 'يرس كورو جلس شيخ امر يقر خطه غثه بقم احدتسعه ترل',\n",
              " 'زير سول كبر دره بيد صين',\n",
              " 'ازم يمن عقد عرك حدم تعز ارب عشر قتلي جرحي هجم حوث ابه حلف قصف صنعاء',\n",
              " 'كاب راهيم سي صدر غوغل مصر نقل شفي عدن يمن بي زر هجر صره',\n",
              " 'جرحي حدث دهس تعمد ظاهر جنب يرو',\n",
              " 'خلء سبل سته قف قضه فجر رفا يرو',\n",
              " 'م زحم هدف شرء فحص جسم ضاد',\n",
              " 'يرس كورو لمن شهد رفع سارع عدد اصب',\n",
              " 'دبلوماسيه كتب رنس تقل ملك تحد فقد اثر علم ريكس',\n",
              " 'صحف ند نقل دبلوماسي رنس سبب بطل تفق بحر ترك لب',\n",
              " 'كظم رح بحث اخر سجد تطر ضع نطق',\n",
              " 'روح سعد عود خصب نسب ستون حال رفع عقب',\n",
              " 'ردغ يعل دخل سلح جوي جدد خدم حدث قوه ترك عسكر',\n",
              " 'ردغ عقل ضيف ايد فطر طن ترك',\n",
              " 'لبن حسن ديب هدد بـ عكف قف صرف عمل سبب عثر شكل حكم حرر',\n",
              " 'لبن حله جدد هرج مرج سوبرماركت سبب زيت دعم',\n",
              " 'سيس بره رفض صرف حدي ثيب بشا سد نهض',\n",
              " 'نقد لقس سعد لمهاجمته سلم زير سيس',\n",
              " 'هدد تثر خاف سول نخب بول امر',\n",
              " 'بيو يلغ قيد فرض صل سول امر تيو',\n",
              " 'يات ف ظهر ضد قلب ميانمار',\n",
              " 'حجج صل مينيابوليس اثر قتل شرط لشب اسد',\n",
              " 'حوث هدف قعد جوه طار ابه سعد',\n",
              " 'حلف عرب عرض دمر سير فخخ طلق حوث بتج جاز',\n",
              " 'ببا فتي سيس كد همي عيش نبذ لغه حرب',\n",
              " 'قيد عسكر عرق علق باء هدف ركز سد شمل بلد',\n",
              " 'بحث رفع ستي طلب امر قطر',\n",
              " 'ديب يزر عصم قطر دوح يوم احد',\n",
              " 'علي سلط قضي بلج علق صدر سلح حرس طن سعد',\n",
              " 'جدل بلج حول خبر سرع كورو',\n",
              " 'ببا فتي يصل نجف قاء رجع شيع علي عرق',\n",
              " 'عرض سور لبن ي ببا فتي امم تحد رفع عقب',\n",
              " 'شرط رفع دعي قضي ضد رمب خلف هجم كابيتول',\n",
              " 'دره بيد كشف لال مره اسم عمل روس دخل صلح رمب نخب فان  سته عشر',\n",
              " 'شكل حكم قت خلل زاد قرح مر جمع طلب قده افغ',\n",
              " 'طلب تعل انه شرك قمه حول قبل غنس خرج قوت جنب',\n",
              " 'امم تحد عرض دخل فاض سد ثيب جاب مصر سود',\n",
              " 'امم تحد نقد سيس دنمار لجي سور',\n",
              " 'جزر جدد ظهر حرك طلب غير جذر نظم',\n",
              " 'رشد تثر خاف حرك جزر عود سلم',\n",
              " 'قتلي جرحي فجر هدف نقط مني مقديشو',\n",
              " 'شرط امر ثمانيه قتلي اقل اطلاق نار انديابوليس فق حقق لي',\n",
              " 'سول اير شنط فق فرج رصد طهر بقم ثلاثه لير ثلاثه دول',\n",
              " 'شنط تبد عدد رفع عقب اير تسق تفق نوي',\n",
              " 'نغل جدد تر عصم يوم صدم',\n",
              " 'جمل بلغ احد  عشرون نغل فتح قنصل اقليم صحراء',\n",
              " 'يمز سجن بريطانيه شهد زيد عدد رهبي يمن تطرف',\n",
              " 'برط عطء قرب احد  اربعون ملي جرع لقح كورو',\n",
              " 'انف جيش يمن قام شعب جه ضد حوث جبه تعز خر',\n",
              " 'حكم يمن سمح دخل زيد سفن نقل قد ينء حدد',\n",
              " 'كورو رجع لحظ اصب في علم نظم صحه حذر عجل خلص',\n",
              " 'شرك يزر رجح حجه جرع ثلث لقح ضد كورو',\n",
              " 'جيش يمن حرز تقد لحظ حدد سعد سقط طير حوث',\n",
              " 'حوث هجم ريض بطر سير شنط تقل بحث بعث يمن كانت ثمر',\n",
              " 'جني صدر ذكر عقل بحق يهو غانتس يعل',\n",
              " 'يهو غانتس عرض حكم جدد كنس',\n",
              " 'زر دفع اسراييلي جيش يطر خطه ضرب شات نوي يرن',\n",
              " 'زر دفع اسراييلي ارد عمق استراتيجي عل قدم سعد',\n",
              " 'ف عرب ظهر ضد جرم فحم',\n",
              " 'سل علم يرن هدف ركز علم عمل تبع سد اسراييلي عرق',\n",
              " 'امم تحد شجب قتل ثلاثه  عشرون قلم اير حدد بكس',\n",
              " 'اير تمد بصر بكس افغانس سام بيد',\n",
              " 'خبز قد سور يجه شبح جاع شتء',\n",
              " 'دنمار سيس لجء تشدد ستث سور رحل',\n",
              " 'حلف يعل عرض سته طير سير هدف سعد',\n",
              " 'جلس نسق سعد مرا نقش خرط طرق فتر قبل',\n",
              " 'رسم دستور انشاء حكم درل سود',\n",
              " 'بدء فعل مر نظم حكم سود',\n",
              " 'لبن حجج عده مدن اثر هبط جدد يره',\n",
              " 'كتب لبن كلد رشل كشف قصه سلسل راح',\n",
              " 'عرق قبل ببا فتي سط جرء مني كثف امل حقق سلم',\n",
              " 'عثر كنز دفن دعش ارض صل قضء عرق يقل كلم',\n",
              " 'حرس ثور يعل حبط عمل خطف طير دنه بار',\n",
              " 'حرس اير يجر نار قرب حدد عرق',\n",
              " 'اف عقل سيل سبق دره رمب تهم علق قحم بني كابيتول',\n",
              " 'ثمانيه قتلي طلق نار بمد انديانابوليس امر',\n",
              " 'غانتس كشف خطه ضرب قع نوي يرن عن خرط سره قع حزب ل',\n",
              " 'زر دفع اسراييلي سعد تسو حمس',\n",
              " 'لمن تضع كبر حزب يمي رقب خبر',\n",
              " 'زر دفع لمن حدد عد سحب جند بلد غنس',\n",
              " 'زر خرج قطر بحث نظر امر تطر نطق',\n",
              " 'زر خرج قطر سلم ريس عرق رسل شيخ تمم',\n",
              " 'صل ظهر بميانمار عقب امر جيش',\n",
              " 'ضرب صمت ميانمار حدد قتل سبعمايه شخص رصص قلب',\n",
              " 'ترك قرر زر جمع عرب خير رفض',\n",
              " 'جمع عرب تدن فجر رهب بمد صدر عرق',\n",
              " 'هاريس لنتنياهو لزم حمي امن راييل رفض حقق جني دول',\n",
              " 'جو بيد دره ريس امر تمض قدم صفق سلح ضخم امر',\n",
              " 'سول امم طلب ريتر سحب قوت عسكر قلم يغر ثيب',\n",
              " 'امم تحد صل همت غنس غدر لي تحد حلف طلس',\n",
              " 'جنب فرق حكم كبر قضه عذر ايد راييل',\n",
              " 'هيكتور كوبر ضمن رشح قيد نخب بفا بفا',\n",
              " 'طهر تمس تفق نوي لن نعد فوض',\n",
              " 'امر عهد منع ملك نوي اير بدا خصب يورانيوم نسب ستون',\n",
              " 'قتل احد عشر جند بين ضبط رفع ستي حطم روح جنب شرق ترك',\n",
              " 'ردغ زج ضيف عيل ركي فطر',\n",
              " 'ثلاثه زلزل قوه ضرب نيوزيلندا حذر نم',\n",
              " 'نيوزيلندا حظر صدر بقر حيه بحر خوف رفه',\n",
              " 'صين رس عطل صدر بين جلس امن بشا عنف قلم يغر ثيب',\n",
              " 'امم تحد عنف جنس خدم كسلاح قلم يغر ثيب',\n",
              " 'جيش يمن حقق كسب جبه شنط حدث قدم ديبلوماس',\n",
              " 'غيل قيد حوث صنعاء',\n",
              " 'عقد كذب دول رنس عرف بـ عذب قتل نضل جزر علي نجل',\n",
              " 'جزر مدد حظر تجل تسعه لي بين عصم',\n",
              " 'اير رحب رجع رب دنت دير كل طقه ذره نظر طهر ضح بشا خصب يورانيوم',\n",
              " 'قلق رب زيد اير خصب يورانيوم',\n",
              " 'صحه علم رط طلب حقق جدد حول كورو',\n",
              " 'يزر تعل جرع ثلث لقح ضد كورو',\n",
              " 'ستراتفور اير خلي دعم كلي نطق قبل خفف عقب',\n",
              " 'اير سقط طير سير سط بلد',\n",
              " 'دبب سلم شكل حكم ليب جدد ريس جلس نوب',\n",
              " 'شنط كد همي عقد جلس جلس نوب ليب',\n",
              " 'رفع درج قيد صحه لمن بيد حذر خطه لي تحد',\n",
              " 'رب جدد عقد لقح استرازينيكا لعم فان  اثنان  عشرون',\n",
              " 'امم تحد دعو حقق جرم حرب حمل اثيوب',\n",
              " 'فوض امم تحد حقق انس حذر كرر اسه سور ميانمار',\n",
              " 'يوم دام ميانمار عقب امر جدد ندد دول قمع صاعد',\n",
              " 'ميانمار معارضو قلب شكل حكم حد طن',\n",
              " 'بيد نشر ثق خصص استراتيجيه امن قوم قت',\n",
              " 'بيت ابض كشف سبب سحب قته غنس جه قدم',\n",
              " 'امر حذر خطط لتفجيرالمبني خلل خطب رقب لجو بيد',\n",
              " 'جلس شيخ امر يقر خطه بيد حفز قصد تضرر جرء جيح يرس كورو',\n",
              " 'قتلي جرحي فجر هدف كب قيد عسكر عدن جنب يمن',\n",
              " 'فه راهيم سف نجم غزل حله نخب مصر سبق عدن تاثر يرس كورو',\n",
              " 'رنس صل ضيق سلم غلق سبعه عشر سجد دعي صلت بـ نشط انفصاليه',\n",
              " 'رنس اكر يرد رفع غلق تام عبر نصف حسب ضع بي لكل نطق',\n",
              " 'سود شبه جرم رهب عدء سلح ابض سقط ثمانيه جرحي',\n",
              " 'سود سجل سبعه اف  ستمايه  ثمانيه  خمسون صبه جدد كورو',\n",
              " 'اير رحب سحب رب قرر ضده تفق جدد كل طقه ذره',\n",
              " 'اير كشف هوه نفذ هجم طنز فرر خرج بلد',\n",
              " 'ملك ز رلم يمك عقد ثنء حله طري',\n",
              " 'ز صبه اربعون شخص كدر طبه كورو تلق لقح',\n",
              " 'شرع قان يجز سحب جنس جزر',\n",
              " 'جزر مدد حظر تجل تسعه لي بين عصم',\n",
              " 'بعث امر يتج دوح كبل سلم غنس',\n",
              " 'نتغ خطه سحب غنس شمل عاقد',\n",
              " 'حوث هدف سعد صواريخ سكد لال مره ريض كد عرض احد غمض يحط اخر',\n",
              " 'صرع طن سعد هجم اسد يقم ترب ريض',\n",
              " 'لقء سري جمع سول امر حوث رويترز طالبو قف هجم فاض سعد',\n",
              " 'حوث يشن هجو حدا جلس امن دول يج رسل حلف',\n",
              " 'هدف قعد اسد امر عرق عشر صواريخ',\n",
              " 'نفط عرق كد هدف بير كركو ثر ناج',\n",
              " 'جني حقق رضي فلسطينيه غضب امر اسراييلي',\n",
              " 'كورو ثمانيه  عشرون فه ف  ستمايه  ثمانيه عشر صبه لسط',\n",
              " 'زر اسراييليه حمل اير سول تلث شطي',\n",
              " 'حلل اسراييلي قصف قع قام قطع غزه',\n",
              " 'ميانمار رفع قتلي ظهر احد نهض قلب ثمانيه  ثلاثون',\n",
              " 'معارضو قلب عسكر ميانمار نظم ضرب صمت',\n",
              " 'عرق نشر قع صل جمع طلب لفت ظار ببا شكل',\n",
              " 'فعل غضب علماء ختص عرق خطه عمر جمع نور صل',\n",
              " 'لير ركي رجع كبر قيم عمل حله عقب قرر ردغ قله حفظ بنك ركز',\n",
              " 'ترك حظر خدم عمل شفر دفع',\n",
              " 'خفض ربح رامكو اربعه  اربعون ـ183ثمانيه لير فان  عشرون',\n",
              " 'ارد رجع ربح بنك عرب سبعه  سبعون ميه فان  عشرون',\n",
              " 'صدء دول يجب حزم صلح اقتصاديه ترك',\n",
              " 'زلق لير ـ قصد ترك رنح سط ازم شرق توسط',\n",
              " 'ردغ يقل حفظ بنك ركز خمسه شهر عين',\n",
              " 'ركز ترك يبق فيد تسعه عشر ميه',\n",
              " 'سلم طير طرز سبعمايه  سبعه  ثمانون دريملاينر سط رقب نظم اشد صرم',\n",
              " 'لكه ارد جدد تفق شرك ينغ درب طير طير ينغ سبعمايه  سبعه  ثمانون',\n",
              " 'نظم صرف كشف ستر عشرون عيل فقط تتح قصد نس',\n",
              " 'خبراء قصد يدق نقس خطر نس كرث طرق',\n",
              " 'نجم غرب تحذ نجم سود',\n",
              " 'خفض كبر سعر ذهب غرب ختم عمل يوم',\n",
              " 'خطط سع جري قطر فرض نفس صدر سوق غاز علم',\n",
              " 'دسيد قع زن سوق غاز سال علم عام',\n",
              " 'صدر بطق فيز صرف سود اربعه  عشرون عما',\n",
              " 'فعل فيز بنك اهل شرء ن',\n",
              " 'تكو كسر حجز احد  ستون سعر قيس جدد',\n",
              " 'عضو هيي كبر علماء سعد يفت حرم تكو',\n",
              " 'لير لبن تهي قاع جدد دولار اربعه عشرخمسه ف',\n",
              " 'سعر لير لبن تحس قبل دولار',\n",
              " 'شهر فصل جار رب برط تهي',\n",
              " 'برط تعل نيت ضمم تفق جار حره نطق اسا حيط هدي',\n",
              " 'خطط قطر شرك طير شرق سط طبق جوز سفر رقم',\n",
              " 'خطط قطر جيت بلو امر عزز تفق رمز شرك',\n",
              " 'عجز يزن امر سجل ستي قيس شهر',\n",
              " 'جلس نوب امر عمد يزن قت جنب غلق حكم',\n",
              " 'سس دول برز رفع قع نمو قصد ترك عام فان  احد  عشرون',\n",
              " 'ردغ طلق حزم صلح عزز ادء قصد ترك',\n",
              " 'غلق اكثر شهر سبب كورو كبر صنع سير علم يعد فتح',\n",
              " 'حكم رنس كشف ثلاثاء خطه انقاذ قطع صنع سير',\n",
              " 'دولار رفع دعو رفع عيد سند خزن امر',\n",
              " 'رويترز لير ركي نزل قبل دولار ثبت ركز سعر فيد',\n",
              " 'سعر نفط خطي احد  سبعون دولار رمل حد قرر يجب حلف بك',\n",
              " 'ود اكنز قع هبط سعر نفط اقل عشره دولار رمل',\n",
              " 'قع نمو سوق عقر قطر عشره',\n",
              " 'قطع عقر طلب اجراء حفز حقق',\n",
              " 'شنط فرض رسو رد نيم بحر',\n",
              " 'رب رفع رق رسم جمر جه لي تحد',\n",
              " 'لير سور هير رعب ازم حكم خنق شعب نكب',\n",
              " 'لير سور تعد شيي عفي عوم يلح افق',\n",
              " 'قطر ترل منح سونغ عقد سع حقل شمل ـ1تسعه لير',\n",
              " 'قطر ترل تعل حوذ قطر غاز كمل طلع فان  اثنان  عشرون',\n",
              " 'نمو قصد ترك خمسهتسعه فان  عشرون رغم تفش كورو',\n",
              " 'بلومبيرغ ادء قصد ترك فضل دول جمع عشر حسب لير',\n",
              " 'سهم رب رفع قيد شرك سلع فخر رقق',\n",
              " 'خاف جيح ضغط سهم رب',\n",
              " 'رامكو حدر ربح سجد مدد قرض بقم عشره لير',\n",
              " 'نقد دول تفق زيد رنمج قرض ارد ميتا ملي',\n",
              " 'فيض ميز جري قطر رفع ثمانيهسبعه',\n",
              " 'لقء عمل قطر ركم بحث تعا جري ثمر',\n",
              " 'صدر رسم مايه لير خرج اير اخر عام',\n",
              " 'اورتاغوس بيد حسب رفع عقب اير',\n",
              " 'بيد دعو جلس شيخ ي تبن خطت انعاش قصد سرع',\n",
              " 'غنش كد عبس عدد سرع نظر قان عاش قصد تسو خلف صرف',\n",
              " 'قطر تفق زود بكس غاز سال فان  احد  ثلاثون',\n",
              " 'قرر سس عطه قرر لحظ اسعار غاز سال اسا',\n",
              " 'تصل اسراييليه جاح ضفه هدد هير نظر فلسطينيه',\n",
              " 'قيد اسراييليه قطع تصل تكنولوج علم برد لسط',\n",
              " 'حور خاص جزر نت ريس هيي رق ه عرق يصل هيمص كشف سبب رجع رص خاف ثمر جنب',\n",
              " 'علي ريس هيي رق ه قبل رجل عمل عرق سيد فضل دبس',\n",
              " 'جنه رلي سجل علي ستي سنو قبل عمل امر احدواحد  اربعون',\n",
              " 'جنه رلي رجع شكل طفف تبع تطر جيح كورو',\n",
              " 'شرك طير علم قف خدم طير ينغ سبعمايه  سبعه  سبعون حدث حرق حرك',\n",
              " 'كبر عشره شرك علم قفز قيم عشرهاربعه ترل',\n",
              " 'قطر ترل قع تفق طول امد رد غاز غلدش',\n",
              " 'قطر مدد مشاريع تصل ضفف قره فرق',\n",
              " 'عوم جنه سود فتح باب صدم حكم جدد',\n",
              " 'بره صدر رسو ينص شاء نظم درل سود',\n",
              " 'شرك ارك ركي لد تمك ناج ذج لد كهرباء عمل ديزل حيي شكل كمل خطط لبع نجا',\n",
              " 'علن ثلاثمايه ظف شرك ركي لقي خمسه  ثلاثون طلب ظف',\n",
              " 'بنك سود ركز صدر علم حد سعر صرف',\n",
              " 'بنك سود ركز بدا زع رق نقد جدد فيه خمسون جني',\n",
              " ...]"
            ]
          },
          "metadata": {},
          "execution_count": 14
        }
      ],
      "source": [
        "preprocessed_documents = [preprocess_text(doc) for doc in traindata['News']]\n",
        "preprocessed_documents"
      ]
    },
    {
      "cell_type": "code",
      "execution_count": null,
      "metadata": {
        "id": "CusJNxzkvahQ"
      },
      "outputs": [],
      "source": [
        "traindata['Preprocessed'] = traindata['News'].apply(preprocess_text)\n"
      ]
    },
    {
      "cell_type": "code",
      "execution_count": null,
      "metadata": {
        "colab": {
          "base_uri": "https://localhost:8080/",
          "height": 423
        },
        "id": "yOwnW6hhqblK",
        "outputId": "d2fc804c-5b83-49d1-e815-617549161f29"
      },
      "outputs": [
        {
          "output_type": "execute_result",
          "data": {
            "text/plain": [
              "     Type                                               News  \\\n",
              "0       0  اشتباك الحريري-عون.. اتهامات لباسيل بالتمسك با...   \n",
              "1       0                     عون: الحريري أصبح غريب الأطوار   \n",
              "2       0  وزير الخارجية الأمريكي: ندرس سحب كامل قواتنا م...   \n",
              "3       0  أفغانستان.. استعدادات حثيثة لاجتماع تركيا وكاب...   \n",
              "4       0  أندبندنت‮:‬ ‬مفاوضات ‬سرّية ‬‬كادت ‬تنقذ ‬القذافي   \n",
              "..    ...                                                ...   \n",
              "995     1  البرهان يصدر مرسوما ينص على إنشاء نظام فدرالي ...   \n",
              "996     1  شركة آركن التركية للمولدات تمكنت من إنتاج نموذ...   \n",
              "997     1  بعد إعلانها عن 300 وظيفة.. شركة تركية تتلقى أك...   \n",
              "998     1  بنك السودان المركزي يصدر تعليمات بتوحيد سعر الصرف   \n",
              "999     1  بنك السودان المركزي يبدأ توزيع أوراق نقدية جدي...   \n",
              "\n",
              "                                          Preprocessed  \n",
              "0               شبك حريريع تهم اسل تمس ثلث عطل بقء حكم  \n",
              "1                                      عون حرر غرب طور  \n",
              "2                   زر خرج امر درس سحب كمل قوت غنس حلل  \n",
              "3      غنس عدد حثث جمع ترك كبل تهم طلب ركز حرب بدل سلم  \n",
              "4                                             اندبندنت  \n",
              "..                                                 ...  \n",
              "995                    بره صدر رسو ينص شاء نظم درل سود  \n",
              "996  شرك ارك ركي لد تمك ناج ذج لد كهرباء عمل ديزل ح...  \n",
              "997    علن ثلاثمايه ظف شرك ركي لقي خمسه  ثلاثون طلب ظف  \n",
              "998                     بنك سود ركز صدر علم حد سعر صرف  \n",
              "999        بنك سود ركز بدا زع رق نقد جدد فيه خمسون جني  \n",
              "\n",
              "[1000 rows x 3 columns]"
            ],
            "text/html": [
              "\n",
              "  <div id=\"df-edefa804-5459-4d89-bf61-950090ef3460\" class=\"colab-df-container\">\n",
              "    <div>\n",
              "<style scoped>\n",
              "    .dataframe tbody tr th:only-of-type {\n",
              "        vertical-align: middle;\n",
              "    }\n",
              "\n",
              "    .dataframe tbody tr th {\n",
              "        vertical-align: top;\n",
              "    }\n",
              "\n",
              "    .dataframe thead th {\n",
              "        text-align: right;\n",
              "    }\n",
              "</style>\n",
              "<table border=\"1\" class=\"dataframe\">\n",
              "  <thead>\n",
              "    <tr style=\"text-align: right;\">\n",
              "      <th></th>\n",
              "      <th>Type</th>\n",
              "      <th>News</th>\n",
              "      <th>Preprocessed</th>\n",
              "    </tr>\n",
              "  </thead>\n",
              "  <tbody>\n",
              "    <tr>\n",
              "      <th>0</th>\n",
              "      <td>0</td>\n",
              "      <td>اشتباك الحريري-عون.. اتهامات لباسيل بالتمسك با...</td>\n",
              "      <td>شبك حريريع تهم اسل تمس ثلث عطل بقء حكم</td>\n",
              "    </tr>\n",
              "    <tr>\n",
              "      <th>1</th>\n",
              "      <td>0</td>\n",
              "      <td>عون: الحريري أصبح غريب الأطوار</td>\n",
              "      <td>عون حرر غرب طور</td>\n",
              "    </tr>\n",
              "    <tr>\n",
              "      <th>2</th>\n",
              "      <td>0</td>\n",
              "      <td>وزير الخارجية الأمريكي: ندرس سحب كامل قواتنا م...</td>\n",
              "      <td>زر خرج امر درس سحب كمل قوت غنس حلل</td>\n",
              "    </tr>\n",
              "    <tr>\n",
              "      <th>3</th>\n",
              "      <td>0</td>\n",
              "      <td>أفغانستان.. استعدادات حثيثة لاجتماع تركيا وكاب...</td>\n",
              "      <td>غنس عدد حثث جمع ترك كبل تهم طلب ركز حرب بدل سلم</td>\n",
              "    </tr>\n",
              "    <tr>\n",
              "      <th>4</th>\n",
              "      <td>0</td>\n",
              "      <td>أندبندنت‮:‬ ‬مفاوضات ‬سرّية ‬‬كادت ‬تنقذ ‬القذافي</td>\n",
              "      <td>اندبندنت</td>\n",
              "    </tr>\n",
              "    <tr>\n",
              "      <th>...</th>\n",
              "      <td>...</td>\n",
              "      <td>...</td>\n",
              "      <td>...</td>\n",
              "    </tr>\n",
              "    <tr>\n",
              "      <th>995</th>\n",
              "      <td>1</td>\n",
              "      <td>البرهان يصدر مرسوما ينص على إنشاء نظام فدرالي ...</td>\n",
              "      <td>بره صدر رسو ينص شاء نظم درل سود</td>\n",
              "    </tr>\n",
              "    <tr>\n",
              "      <th>996</th>\n",
              "      <td>1</td>\n",
              "      <td>شركة آركن التركية للمولدات تمكنت من إنتاج نموذ...</td>\n",
              "      <td>شرك ارك ركي لد تمك ناج ذج لد كهرباء عمل ديزل ح...</td>\n",
              "    </tr>\n",
              "    <tr>\n",
              "      <th>997</th>\n",
              "      <td>1</td>\n",
              "      <td>بعد إعلانها عن 300 وظيفة.. شركة تركية تتلقى أك...</td>\n",
              "      <td>علن ثلاثمايه ظف شرك ركي لقي خمسه  ثلاثون طلب ظف</td>\n",
              "    </tr>\n",
              "    <tr>\n",
              "      <th>998</th>\n",
              "      <td>1</td>\n",
              "      <td>بنك السودان المركزي يصدر تعليمات بتوحيد سعر الصرف</td>\n",
              "      <td>بنك سود ركز صدر علم حد سعر صرف</td>\n",
              "    </tr>\n",
              "    <tr>\n",
              "      <th>999</th>\n",
              "      <td>1</td>\n",
              "      <td>بنك السودان المركزي يبدأ توزيع أوراق نقدية جدي...</td>\n",
              "      <td>بنك سود ركز بدا زع رق نقد جدد فيه خمسون جني</td>\n",
              "    </tr>\n",
              "  </tbody>\n",
              "</table>\n",
              "<p>1000 rows × 3 columns</p>\n",
              "</div>\n",
              "    <div class=\"colab-df-buttons\">\n",
              "\n",
              "  <div class=\"colab-df-container\">\n",
              "    <button class=\"colab-df-convert\" onclick=\"convertToInteractive('df-edefa804-5459-4d89-bf61-950090ef3460')\"\n",
              "            title=\"Convert this dataframe to an interactive table.\"\n",
              "            style=\"display:none;\">\n",
              "\n",
              "  <svg xmlns=\"http://www.w3.org/2000/svg\" height=\"24px\" viewBox=\"0 -960 960 960\">\n",
              "    <path d=\"M120-120v-720h720v720H120Zm60-500h600v-160H180v160Zm220 220h160v-160H400v160Zm0 220h160v-160H400v160ZM180-400h160v-160H180v160Zm440 0h160v-160H620v160ZM180-180h160v-160H180v160Zm440 0h160v-160H620v160Z\"/>\n",
              "  </svg>\n",
              "    </button>\n",
              "\n",
              "  <style>\n",
              "    .colab-df-container {\n",
              "      display:flex;\n",
              "      gap: 12px;\n",
              "    }\n",
              "\n",
              "    .colab-df-convert {\n",
              "      background-color: #E8F0FE;\n",
              "      border: none;\n",
              "      border-radius: 50%;\n",
              "      cursor: pointer;\n",
              "      display: none;\n",
              "      fill: #1967D2;\n",
              "      height: 32px;\n",
              "      padding: 0 0 0 0;\n",
              "      width: 32px;\n",
              "    }\n",
              "\n",
              "    .colab-df-convert:hover {\n",
              "      background-color: #E2EBFA;\n",
              "      box-shadow: 0px 1px 2px rgba(60, 64, 67, 0.3), 0px 1px 3px 1px rgba(60, 64, 67, 0.15);\n",
              "      fill: #174EA6;\n",
              "    }\n",
              "\n",
              "    .colab-df-buttons div {\n",
              "      margin-bottom: 4px;\n",
              "    }\n",
              "\n",
              "    [theme=dark] .colab-df-convert {\n",
              "      background-color: #3B4455;\n",
              "      fill: #D2E3FC;\n",
              "    }\n",
              "\n",
              "    [theme=dark] .colab-df-convert:hover {\n",
              "      background-color: #434B5C;\n",
              "      box-shadow: 0px 1px 3px 1px rgba(0, 0, 0, 0.15);\n",
              "      filter: drop-shadow(0px 1px 2px rgba(0, 0, 0, 0.3));\n",
              "      fill: #FFFFFF;\n",
              "    }\n",
              "  </style>\n",
              "\n",
              "    <script>\n",
              "      const buttonEl =\n",
              "        document.querySelector('#df-edefa804-5459-4d89-bf61-950090ef3460 button.colab-df-convert');\n",
              "      buttonEl.style.display =\n",
              "        google.colab.kernel.accessAllowed ? 'block' : 'none';\n",
              "\n",
              "      async function convertToInteractive(key) {\n",
              "        const element = document.querySelector('#df-edefa804-5459-4d89-bf61-950090ef3460');\n",
              "        const dataTable =\n",
              "          await google.colab.kernel.invokeFunction('convertToInteractive',\n",
              "                                                    [key], {});\n",
              "        if (!dataTable) return;\n",
              "\n",
              "        const docLinkHtml = 'Like what you see? Visit the ' +\n",
              "          '<a target=\"_blank\" href=https://colab.research.google.com/notebooks/data_table.ipynb>data table notebook</a>'\n",
              "          + ' to learn more about interactive tables.';\n",
              "        element.innerHTML = '';\n",
              "        dataTable['output_type'] = 'display_data';\n",
              "        await google.colab.output.renderOutput(dataTable, element);\n",
              "        const docLink = document.createElement('div');\n",
              "        docLink.innerHTML = docLinkHtml;\n",
              "        element.appendChild(docLink);\n",
              "      }\n",
              "    </script>\n",
              "  </div>\n",
              "\n",
              "\n",
              "<div id=\"df-93f7aebd-c182-46e8-aafe-09e02bc008a1\">\n",
              "  <button class=\"colab-df-quickchart\" onclick=\"quickchart('df-93f7aebd-c182-46e8-aafe-09e02bc008a1')\"\n",
              "            title=\"Suggest charts\"\n",
              "            style=\"display:none;\">\n",
              "\n",
              "<svg xmlns=\"http://www.w3.org/2000/svg\" height=\"24px\"viewBox=\"0 0 24 24\"\n",
              "     width=\"24px\">\n",
              "    <g>\n",
              "        <path d=\"M19 3H5c-1.1 0-2 .9-2 2v14c0 1.1.9 2 2 2h14c1.1 0 2-.9 2-2V5c0-1.1-.9-2-2-2zM9 17H7v-7h2v7zm4 0h-2V7h2v10zm4 0h-2v-4h2v4z\"/>\n",
              "    </g>\n",
              "</svg>\n",
              "  </button>\n",
              "\n",
              "<style>\n",
              "  .colab-df-quickchart {\n",
              "      --bg-color: #E8F0FE;\n",
              "      --fill-color: #1967D2;\n",
              "      --hover-bg-color: #E2EBFA;\n",
              "      --hover-fill-color: #174EA6;\n",
              "      --disabled-fill-color: #AAA;\n",
              "      --disabled-bg-color: #DDD;\n",
              "  }\n",
              "\n",
              "  [theme=dark] .colab-df-quickchart {\n",
              "      --bg-color: #3B4455;\n",
              "      --fill-color: #D2E3FC;\n",
              "      --hover-bg-color: #434B5C;\n",
              "      --hover-fill-color: #FFFFFF;\n",
              "      --disabled-bg-color: #3B4455;\n",
              "      --disabled-fill-color: #666;\n",
              "  }\n",
              "\n",
              "  .colab-df-quickchart {\n",
              "    background-color: var(--bg-color);\n",
              "    border: none;\n",
              "    border-radius: 50%;\n",
              "    cursor: pointer;\n",
              "    display: none;\n",
              "    fill: var(--fill-color);\n",
              "    height: 32px;\n",
              "    padding: 0;\n",
              "    width: 32px;\n",
              "  }\n",
              "\n",
              "  .colab-df-quickchart:hover {\n",
              "    background-color: var(--hover-bg-color);\n",
              "    box-shadow: 0 1px 2px rgba(60, 64, 67, 0.3), 0 1px 3px 1px rgba(60, 64, 67, 0.15);\n",
              "    fill: var(--button-hover-fill-color);\n",
              "  }\n",
              "\n",
              "  .colab-df-quickchart-complete:disabled,\n",
              "  .colab-df-quickchart-complete:disabled:hover {\n",
              "    background-color: var(--disabled-bg-color);\n",
              "    fill: var(--disabled-fill-color);\n",
              "    box-shadow: none;\n",
              "  }\n",
              "\n",
              "  .colab-df-spinner {\n",
              "    border: 2px solid var(--fill-color);\n",
              "    border-color: transparent;\n",
              "    border-bottom-color: var(--fill-color);\n",
              "    animation:\n",
              "      spin 1s steps(1) infinite;\n",
              "  }\n",
              "\n",
              "  @keyframes spin {\n",
              "    0% {\n",
              "      border-color: transparent;\n",
              "      border-bottom-color: var(--fill-color);\n",
              "      border-left-color: var(--fill-color);\n",
              "    }\n",
              "    20% {\n",
              "      border-color: transparent;\n",
              "      border-left-color: var(--fill-color);\n",
              "      border-top-color: var(--fill-color);\n",
              "    }\n",
              "    30% {\n",
              "      border-color: transparent;\n",
              "      border-left-color: var(--fill-color);\n",
              "      border-top-color: var(--fill-color);\n",
              "      border-right-color: var(--fill-color);\n",
              "    }\n",
              "    40% {\n",
              "      border-color: transparent;\n",
              "      border-right-color: var(--fill-color);\n",
              "      border-top-color: var(--fill-color);\n",
              "    }\n",
              "    60% {\n",
              "      border-color: transparent;\n",
              "      border-right-color: var(--fill-color);\n",
              "    }\n",
              "    80% {\n",
              "      border-color: transparent;\n",
              "      border-right-color: var(--fill-color);\n",
              "      border-bottom-color: var(--fill-color);\n",
              "    }\n",
              "    90% {\n",
              "      border-color: transparent;\n",
              "      border-bottom-color: var(--fill-color);\n",
              "    }\n",
              "  }\n",
              "</style>\n",
              "\n",
              "  <script>\n",
              "    async function quickchart(key) {\n",
              "      const quickchartButtonEl =\n",
              "        document.querySelector('#' + key + ' button');\n",
              "      quickchartButtonEl.disabled = true;  // To prevent multiple clicks.\n",
              "      quickchartButtonEl.classList.add('colab-df-spinner');\n",
              "      try {\n",
              "        const charts = await google.colab.kernel.invokeFunction(\n",
              "            'suggestCharts', [key], {});\n",
              "      } catch (error) {\n",
              "        console.error('Error during call to suggestCharts:', error);\n",
              "      }\n",
              "      quickchartButtonEl.classList.remove('colab-df-spinner');\n",
              "      quickchartButtonEl.classList.add('colab-df-quickchart-complete');\n",
              "    }\n",
              "    (() => {\n",
              "      let quickchartButtonEl =\n",
              "        document.querySelector('#df-93f7aebd-c182-46e8-aafe-09e02bc008a1 button');\n",
              "      quickchartButtonEl.style.display =\n",
              "        google.colab.kernel.accessAllowed ? 'block' : 'none';\n",
              "    })();\n",
              "  </script>\n",
              "</div>\n",
              "\n",
              "    </div>\n",
              "  </div>\n"
            ],
            "application/vnd.google.colaboratory.intrinsic+json": {
              "type": "dataframe",
              "variable_name": "traindata",
              "summary": "{\n  \"name\": \"traindata\",\n  \"rows\": 5000,\n  \"fields\": [\n    {\n      \"column\": \"Type\",\n      \"properties\": {\n        \"dtype\": \"number\",\n        \"std\": 0,\n        \"min\": 0,\n        \"max\": 3,\n        \"num_unique_values\": 4,\n        \"samples\": [\n          1,\n          3,\n          0\n        ],\n        \"semantic_type\": \"\",\n        \"description\": \"\"\n      }\n    },\n    {\n      \"column\": \"News\",\n      \"properties\": {\n        \"dtype\": \"string\",\n        \"num_unique_values\": 4951,\n        \"samples\": [\n          \"\\u0648\\u0641\\u0627\\u0629 \\u0631\\u0626\\u064a\\u0633 \\u062a\\u0646\\u0632\\u0627\\u0646\\u064a\\u0627 \\u0628\\u0639\\u062f \\u0641\\u062a\\u0631\\u0629 \\u063a\\u064a\\u0627\\u0628 \\u063a\\u0627\\u0645\\u0636\\u0629 \\u0639\\u0646 \\u0639\\u0645\\u0631 \\u0646\\u0627\\u0647\\u0632 61 \\u0639\\u0627\\u0645\\u0627\",\n          \"\\u0627\\u0644\\u0648\\u062f\\u0627\\u062f \\u064a\\u062a\\u0623\\u0647\\u0644 \\u0631\\u0633\\u0645\\u064a\\u064b\\u0627 \\u0625\\u0644\\u0649 \\u0631\\u0628\\u0639 \\u0646\\u0647\\u0627\\u0626\\u0649 \\u062f\\u0648\\u0631\\u0649 \\u0623\\u0628\\u0637\\u0627\\u0644 \\u0625\\u0641\\u0631\\u064a\\u0642\\u064a\\u0627 \\u0628\\u0639\\u062f \\u0627\\u0644\\u062a\\u0639\\u0627\\u062f\\u0644 \\u0645\\u0639 \\u062d\\u0648\\u0631\\u064a\\u0627\",\n          \"\\u062a\\u0634\\u064a\\u0644\\u0633\\u064a \\u064a\\u0647\\u0632\\u0645 \\u0648\\u0633\\u062a \\u0647\\u0627\\u0645 \\u0648\\u064a\\u0639\\u0632\\u0632 \\u0645\\u0648\\u0642\\u0639\\u0647 \\u062f\\u0627\\u062e\\u0644 \\u0627\\u0644\\u0645\\u0631\\u0628\\u0639 \\u0627\\u0644\\u0630\\u0647\\u0628\\u064a \\u0644\\u0640\\u00ab\\u0628\\u0631\\u064a\\u0645\\u064a\\u0631\\u0644\\u064a\\u062c\\u00bb\"\n        ],\n        \"semantic_type\": \"\",\n        \"description\": \"\"\n      }\n    },\n    {\n      \"column\": \"Preprocessed\",\n      \"properties\": {\n        \"dtype\": \"string\",\n        \"num_unique_values\": 4943,\n        \"samples\": [\n          \"\\u0643\\u0648\\u0641\\u064a\\u062f\\u062a\\u0633\\u0639\\u0647 \\u0639\\u0634\\u0631 \\u0646\\u0638\\u0645 \\u0635\\u062d\\u0647 \\u0639\\u0644\\u0645 \\u0635\\u0644 \\u0631\\u0642\\u0628 \\u0644\\u0642\\u062d \\u0627\\u0633\\u062a\\u0631\\u0627\\u0632\\u064a\\u0646\\u064a\\u0643\\u0627 \\u062a\\u062c\\u0632 \\u062e\\u062f\\u0645 \\u062c\\u0648\\u0646\\u0633 \\u0627\\u0646\\u062f \\u062c\\u0648\\u0646\\u0633\",\n          \"\\u0627\\u0645\\u0645 \\u062a\\u062d\\u062f \\u0639\\u0631\\u0636 \\u062f\\u062e\\u0644 \\u0641\\u0627\\u0636 \\u0633\\u062f \\u062b\\u064a\\u0628 \\u062c\\u0627\\u0628 \\u0645\\u0635\\u0631 \\u0633\\u0648\\u062f\",\n          \"\\u0631\\u064a\\u0633 \\u0639\\u0631\\u0642 \\u062a\\u0646\\u0641 \\u0635\\u0631\\u062d \\u062d\\u0648\\u0644 \\u0639\\u0642\\u062f \\u062a\\u0641\\u0642 \\u062d\\u0644\\u0644\"\n        ],\n        \"semantic_type\": \"\",\n        \"description\": \"\"\n      }\n    }\n  ]\n}"
            }
          },
          "metadata": {},
          "execution_count": 16
        }
      ],
      "source": [
        "traindata.head(1000)"
      ]
    },
    {
      "cell_type": "code",
      "execution_count": null,
      "metadata": {
        "id": "rv85gSE2B5vD"
      },
      "outputs": [],
      "source": []
    },
    {
      "cell_type": "code",
      "execution_count": null,
      "metadata": {
        "id": "yizb1YvOMo0o"
      },
      "outputs": [],
      "source": [
        "X = x = traindata['Preprocessed']\n",
        "y = traindata['Type']"
      ]
    },
    {
      "cell_type": "code",
      "execution_count": null,
      "metadata": {
        "id": "vuII1v5SEDsd"
      },
      "outputs": [],
      "source": [
        "from sklearn.model_selection import train_test_split\n",
        "X_train, X_test, y_train, y_test = train_test_split(X, y, test_size = 0.2, random_state = 0)"
      ]
    },
    {
      "cell_type": "markdown",
      "metadata": {
        "id": "uabjLtZoIzgo"
      },
      "source": [
        "#Word embding + Model"
      ]
    },
    {
      "cell_type": "markdown",
      "metadata": {
        "id": "n4lTX3MSJJ0W"
      },
      "source": [
        "###TF-IDF"
      ]
    },
    {
      "cell_type": "code",
      "execution_count": null,
      "metadata": {
        "id": "sJLKWPhpIQwI"
      },
      "outputs": [],
      "source": [
        "from sklearn.feature_extraction.text import TfidfVectorizer\n",
        "vectorizer = TfidfVectorizer(max_features=300)\n",
        "X_train_tfidf = vectorizer.fit_transform(X_train)\n",
        "X_test_tfidf = vectorizer.fit_transform(X_test)"
      ]
    },
    {
      "cell_type": "code",
      "execution_count": null,
      "metadata": {
        "id": "7eO-smFEITrZ"
      },
      "outputs": [],
      "source": [
        "tfidf_train_feature = pd.DataFrame(X_train_tfidf.toarray(), columns=vectorizer.get_feature_names_out())\n",
        "tfidf_test_feature = pd.DataFrame(X_test_tfidf.toarray(), columns=vectorizer.get_feature_names_out())\n"
      ]
    },
    {
      "cell_type": "code",
      "execution_count": null,
      "metadata": {
        "id": "p2C4pBg7IgDC",
        "colab": {
          "base_uri": "https://localhost:8080/",
          "height": 443
        },
        "outputId": "5891efd1-0fd0-4226-ad27-5d5bc480c897"
      },
      "outputs": [
        {
          "output_type": "execute_result",
          "data": {
            "text/plain": [
              "       20     2020  2021  آلاف  أبطال  أدنى  أردن  أردنية  أردوغان  أزمة  ...  \\\n",
              "0     0.0  0.00000   0.0   0.0    0.0   0.0   0.0     0.0      0.0   0.0  ...   \n",
              "1     0.0  0.00000   0.0   0.0    0.0   0.0   0.0     0.0      0.0   0.0  ...   \n",
              "2     0.0  0.00000   0.0   0.0    0.0   0.0   0.0     0.0      0.0   0.0  ...   \n",
              "3     0.0  0.00000   0.0   0.0    0.0   0.0   0.0     0.0      0.0   0.0  ...   \n",
              "4     0.0  0.00000   0.0   0.0    0.0   0.0   0.0     0.0      0.0   0.0  ...   \n",
              "...   ...      ...   ...   ...    ...   ...   ...     ...      ...   ...  ...   \n",
              "3995  0.0  0.00000   0.0   0.0    0.0   0.0   0.0     0.0      0.0   0.0  ...   \n",
              "3996  0.0  0.00000   0.0   0.0    0.0   0.0   0.0     0.0      0.0   0.0  ...   \n",
              "3997  0.0  0.00000   0.0   0.0    0.0   0.0   0.0     0.0      0.0   0.0  ...   \n",
              "3998  0.0  0.49623   0.0   0.0    0.0   0.0   0.0     0.0      0.0   0.0  ...   \n",
              "3999  0.0  0.00000   0.0   0.0    0.0   0.0   0.0     0.0      0.0   0.0  ...   \n",
              "\n",
              "      يدعو  يصل  يعلن  يكشف  يمن  يمني  يمنية  يورو  يوفنتوس  يوم  \n",
              "0      0.0  0.0   0.0   0.0  0.0   0.0    0.0   0.0      0.0  0.0  \n",
              "1      0.0  0.0   0.0   0.0  0.0   0.0    0.0   0.0      0.0  0.0  \n",
              "2      0.0  0.0   0.0   0.0  0.0   0.0    0.0   0.0      0.0  0.0  \n",
              "3      0.0  0.0   0.0   0.0  0.0   0.0    0.0   0.0      0.0  0.0  \n",
              "4      0.0  0.0   0.0   0.0  0.0   0.0    0.0   0.0      0.0  0.0  \n",
              "...    ...  ...   ...   ...  ...   ...    ...   ...      ...  ...  \n",
              "3995   0.0  0.0   0.0   0.0  0.0   0.0    0.0   0.0      0.0  0.0  \n",
              "3996   0.0  0.0   0.0   0.0  0.0   0.0    0.0   0.0      0.0  0.0  \n",
              "3997   0.0  0.0   0.0   0.0  0.0   0.0    0.0   0.0      0.0  0.0  \n",
              "3998   0.0  0.0   0.0   0.0  0.0   0.0    0.0   0.0      0.0  0.0  \n",
              "3999   0.0  0.0   0.0   0.0  0.0   0.0    0.0   0.0      0.0  0.0  \n",
              "\n",
              "[4000 rows x 300 columns]"
            ],
            "text/html": [
              "\n",
              "  <div id=\"df-76907bf2-a88f-4efd-a514-ae6552746327\" class=\"colab-df-container\">\n",
              "    <div>\n",
              "<style scoped>\n",
              "    .dataframe tbody tr th:only-of-type {\n",
              "        vertical-align: middle;\n",
              "    }\n",
              "\n",
              "    .dataframe tbody tr th {\n",
              "        vertical-align: top;\n",
              "    }\n",
              "\n",
              "    .dataframe thead th {\n",
              "        text-align: right;\n",
              "    }\n",
              "</style>\n",
              "<table border=\"1\" class=\"dataframe\">\n",
              "  <thead>\n",
              "    <tr style=\"text-align: right;\">\n",
              "      <th></th>\n",
              "      <th>20</th>\n",
              "      <th>2020</th>\n",
              "      <th>2021</th>\n",
              "      <th>آلاف</th>\n",
              "      <th>أبطال</th>\n",
              "      <th>أدنى</th>\n",
              "      <th>أردن</th>\n",
              "      <th>أردنية</th>\n",
              "      <th>أردوغان</th>\n",
              "      <th>أزمة</th>\n",
              "      <th>...</th>\n",
              "      <th>يدعو</th>\n",
              "      <th>يصل</th>\n",
              "      <th>يعلن</th>\n",
              "      <th>يكشف</th>\n",
              "      <th>يمن</th>\n",
              "      <th>يمني</th>\n",
              "      <th>يمنية</th>\n",
              "      <th>يورو</th>\n",
              "      <th>يوفنتوس</th>\n",
              "      <th>يوم</th>\n",
              "    </tr>\n",
              "  </thead>\n",
              "  <tbody>\n",
              "    <tr>\n",
              "      <th>0</th>\n",
              "      <td>0.0</td>\n",
              "      <td>0.00000</td>\n",
              "      <td>0.0</td>\n",
              "      <td>0.0</td>\n",
              "      <td>0.0</td>\n",
              "      <td>0.0</td>\n",
              "      <td>0.0</td>\n",
              "      <td>0.0</td>\n",
              "      <td>0.0</td>\n",
              "      <td>0.0</td>\n",
              "      <td>...</td>\n",
              "      <td>0.0</td>\n",
              "      <td>0.0</td>\n",
              "      <td>0.0</td>\n",
              "      <td>0.0</td>\n",
              "      <td>0.0</td>\n",
              "      <td>0.0</td>\n",
              "      <td>0.0</td>\n",
              "      <td>0.0</td>\n",
              "      <td>0.0</td>\n",
              "      <td>0.0</td>\n",
              "    </tr>\n",
              "    <tr>\n",
              "      <th>1</th>\n",
              "      <td>0.0</td>\n",
              "      <td>0.00000</td>\n",
              "      <td>0.0</td>\n",
              "      <td>0.0</td>\n",
              "      <td>0.0</td>\n",
              "      <td>0.0</td>\n",
              "      <td>0.0</td>\n",
              "      <td>0.0</td>\n",
              "      <td>0.0</td>\n",
              "      <td>0.0</td>\n",
              "      <td>...</td>\n",
              "      <td>0.0</td>\n",
              "      <td>0.0</td>\n",
              "      <td>0.0</td>\n",
              "      <td>0.0</td>\n",
              "      <td>0.0</td>\n",
              "      <td>0.0</td>\n",
              "      <td>0.0</td>\n",
              "      <td>0.0</td>\n",
              "      <td>0.0</td>\n",
              "      <td>0.0</td>\n",
              "    </tr>\n",
              "    <tr>\n",
              "      <th>2</th>\n",
              "      <td>0.0</td>\n",
              "      <td>0.00000</td>\n",
              "      <td>0.0</td>\n",
              "      <td>0.0</td>\n",
              "      <td>0.0</td>\n",
              "      <td>0.0</td>\n",
              "      <td>0.0</td>\n",
              "      <td>0.0</td>\n",
              "      <td>0.0</td>\n",
              "      <td>0.0</td>\n",
              "      <td>...</td>\n",
              "      <td>0.0</td>\n",
              "      <td>0.0</td>\n",
              "      <td>0.0</td>\n",
              "      <td>0.0</td>\n",
              "      <td>0.0</td>\n",
              "      <td>0.0</td>\n",
              "      <td>0.0</td>\n",
              "      <td>0.0</td>\n",
              "      <td>0.0</td>\n",
              "      <td>0.0</td>\n",
              "    </tr>\n",
              "    <tr>\n",
              "      <th>3</th>\n",
              "      <td>0.0</td>\n",
              "      <td>0.00000</td>\n",
              "      <td>0.0</td>\n",
              "      <td>0.0</td>\n",
              "      <td>0.0</td>\n",
              "      <td>0.0</td>\n",
              "      <td>0.0</td>\n",
              "      <td>0.0</td>\n",
              "      <td>0.0</td>\n",
              "      <td>0.0</td>\n",
              "      <td>...</td>\n",
              "      <td>0.0</td>\n",
              "      <td>0.0</td>\n",
              "      <td>0.0</td>\n",
              "      <td>0.0</td>\n",
              "      <td>0.0</td>\n",
              "      <td>0.0</td>\n",
              "      <td>0.0</td>\n",
              "      <td>0.0</td>\n",
              "      <td>0.0</td>\n",
              "      <td>0.0</td>\n",
              "    </tr>\n",
              "    <tr>\n",
              "      <th>4</th>\n",
              "      <td>0.0</td>\n",
              "      <td>0.00000</td>\n",
              "      <td>0.0</td>\n",
              "      <td>0.0</td>\n",
              "      <td>0.0</td>\n",
              "      <td>0.0</td>\n",
              "      <td>0.0</td>\n",
              "      <td>0.0</td>\n",
              "      <td>0.0</td>\n",
              "      <td>0.0</td>\n",
              "      <td>...</td>\n",
              "      <td>0.0</td>\n",
              "      <td>0.0</td>\n",
              "      <td>0.0</td>\n",
              "      <td>0.0</td>\n",
              "      <td>0.0</td>\n",
              "      <td>0.0</td>\n",
              "      <td>0.0</td>\n",
              "      <td>0.0</td>\n",
              "      <td>0.0</td>\n",
              "      <td>0.0</td>\n",
              "    </tr>\n",
              "    <tr>\n",
              "      <th>...</th>\n",
              "      <td>...</td>\n",
              "      <td>...</td>\n",
              "      <td>...</td>\n",
              "      <td>...</td>\n",
              "      <td>...</td>\n",
              "      <td>...</td>\n",
              "      <td>...</td>\n",
              "      <td>...</td>\n",
              "      <td>...</td>\n",
              "      <td>...</td>\n",
              "      <td>...</td>\n",
              "      <td>...</td>\n",
              "      <td>...</td>\n",
              "      <td>...</td>\n",
              "      <td>...</td>\n",
              "      <td>...</td>\n",
              "      <td>...</td>\n",
              "      <td>...</td>\n",
              "      <td>...</td>\n",
              "      <td>...</td>\n",
              "      <td>...</td>\n",
              "    </tr>\n",
              "    <tr>\n",
              "      <th>3995</th>\n",
              "      <td>0.0</td>\n",
              "      <td>0.00000</td>\n",
              "      <td>0.0</td>\n",
              "      <td>0.0</td>\n",
              "      <td>0.0</td>\n",
              "      <td>0.0</td>\n",
              "      <td>0.0</td>\n",
              "      <td>0.0</td>\n",
              "      <td>0.0</td>\n",
              "      <td>0.0</td>\n",
              "      <td>...</td>\n",
              "      <td>0.0</td>\n",
              "      <td>0.0</td>\n",
              "      <td>0.0</td>\n",
              "      <td>0.0</td>\n",
              "      <td>0.0</td>\n",
              "      <td>0.0</td>\n",
              "      <td>0.0</td>\n",
              "      <td>0.0</td>\n",
              "      <td>0.0</td>\n",
              "      <td>0.0</td>\n",
              "    </tr>\n",
              "    <tr>\n",
              "      <th>3996</th>\n",
              "      <td>0.0</td>\n",
              "      <td>0.00000</td>\n",
              "      <td>0.0</td>\n",
              "      <td>0.0</td>\n",
              "      <td>0.0</td>\n",
              "      <td>0.0</td>\n",
              "      <td>0.0</td>\n",
              "      <td>0.0</td>\n",
              "      <td>0.0</td>\n",
              "      <td>0.0</td>\n",
              "      <td>...</td>\n",
              "      <td>0.0</td>\n",
              "      <td>0.0</td>\n",
              "      <td>0.0</td>\n",
              "      <td>0.0</td>\n",
              "      <td>0.0</td>\n",
              "      <td>0.0</td>\n",
              "      <td>0.0</td>\n",
              "      <td>0.0</td>\n",
              "      <td>0.0</td>\n",
              "      <td>0.0</td>\n",
              "    </tr>\n",
              "    <tr>\n",
              "      <th>3997</th>\n",
              "      <td>0.0</td>\n",
              "      <td>0.00000</td>\n",
              "      <td>0.0</td>\n",
              "      <td>0.0</td>\n",
              "      <td>0.0</td>\n",
              "      <td>0.0</td>\n",
              "      <td>0.0</td>\n",
              "      <td>0.0</td>\n",
              "      <td>0.0</td>\n",
              "      <td>0.0</td>\n",
              "      <td>...</td>\n",
              "      <td>0.0</td>\n",
              "      <td>0.0</td>\n",
              "      <td>0.0</td>\n",
              "      <td>0.0</td>\n",
              "      <td>0.0</td>\n",
              "      <td>0.0</td>\n",
              "      <td>0.0</td>\n",
              "      <td>0.0</td>\n",
              "      <td>0.0</td>\n",
              "      <td>0.0</td>\n",
              "    </tr>\n",
              "    <tr>\n",
              "      <th>3998</th>\n",
              "      <td>0.0</td>\n",
              "      <td>0.49623</td>\n",
              "      <td>0.0</td>\n",
              "      <td>0.0</td>\n",
              "      <td>0.0</td>\n",
              "      <td>0.0</td>\n",
              "      <td>0.0</td>\n",
              "      <td>0.0</td>\n",
              "      <td>0.0</td>\n",
              "      <td>0.0</td>\n",
              "      <td>...</td>\n",
              "      <td>0.0</td>\n",
              "      <td>0.0</td>\n",
              "      <td>0.0</td>\n",
              "      <td>0.0</td>\n",
              "      <td>0.0</td>\n",
              "      <td>0.0</td>\n",
              "      <td>0.0</td>\n",
              "      <td>0.0</td>\n",
              "      <td>0.0</td>\n",
              "      <td>0.0</td>\n",
              "    </tr>\n",
              "    <tr>\n",
              "      <th>3999</th>\n",
              "      <td>0.0</td>\n",
              "      <td>0.00000</td>\n",
              "      <td>0.0</td>\n",
              "      <td>0.0</td>\n",
              "      <td>0.0</td>\n",
              "      <td>0.0</td>\n",
              "      <td>0.0</td>\n",
              "      <td>0.0</td>\n",
              "      <td>0.0</td>\n",
              "      <td>0.0</td>\n",
              "      <td>...</td>\n",
              "      <td>0.0</td>\n",
              "      <td>0.0</td>\n",
              "      <td>0.0</td>\n",
              "      <td>0.0</td>\n",
              "      <td>0.0</td>\n",
              "      <td>0.0</td>\n",
              "      <td>0.0</td>\n",
              "      <td>0.0</td>\n",
              "      <td>0.0</td>\n",
              "      <td>0.0</td>\n",
              "    </tr>\n",
              "  </tbody>\n",
              "</table>\n",
              "<p>4000 rows × 300 columns</p>\n",
              "</div>\n",
              "    <div class=\"colab-df-buttons\">\n",
              "\n",
              "  <div class=\"colab-df-container\">\n",
              "    <button class=\"colab-df-convert\" onclick=\"convertToInteractive('df-76907bf2-a88f-4efd-a514-ae6552746327')\"\n",
              "            title=\"Convert this dataframe to an interactive table.\"\n",
              "            style=\"display:none;\">\n",
              "\n",
              "  <svg xmlns=\"http://www.w3.org/2000/svg\" height=\"24px\" viewBox=\"0 -960 960 960\">\n",
              "    <path d=\"M120-120v-720h720v720H120Zm60-500h600v-160H180v160Zm220 220h160v-160H400v160Zm0 220h160v-160H400v160ZM180-400h160v-160H180v160Zm440 0h160v-160H620v160ZM180-180h160v-160H180v160Zm440 0h160v-160H620v160Z\"/>\n",
              "  </svg>\n",
              "    </button>\n",
              "\n",
              "  <style>\n",
              "    .colab-df-container {\n",
              "      display:flex;\n",
              "      gap: 12px;\n",
              "    }\n",
              "\n",
              "    .colab-df-convert {\n",
              "      background-color: #E8F0FE;\n",
              "      border: none;\n",
              "      border-radius: 50%;\n",
              "      cursor: pointer;\n",
              "      display: none;\n",
              "      fill: #1967D2;\n",
              "      height: 32px;\n",
              "      padding: 0 0 0 0;\n",
              "      width: 32px;\n",
              "    }\n",
              "\n",
              "    .colab-df-convert:hover {\n",
              "      background-color: #E2EBFA;\n",
              "      box-shadow: 0px 1px 2px rgba(60, 64, 67, 0.3), 0px 1px 3px 1px rgba(60, 64, 67, 0.15);\n",
              "      fill: #174EA6;\n",
              "    }\n",
              "\n",
              "    .colab-df-buttons div {\n",
              "      margin-bottom: 4px;\n",
              "    }\n",
              "\n",
              "    [theme=dark] .colab-df-convert {\n",
              "      background-color: #3B4455;\n",
              "      fill: #D2E3FC;\n",
              "    }\n",
              "\n",
              "    [theme=dark] .colab-df-convert:hover {\n",
              "      background-color: #434B5C;\n",
              "      box-shadow: 0px 1px 3px 1px rgba(0, 0, 0, 0.15);\n",
              "      filter: drop-shadow(0px 1px 2px rgba(0, 0, 0, 0.3));\n",
              "      fill: #FFFFFF;\n",
              "    }\n",
              "  </style>\n",
              "\n",
              "    <script>\n",
              "      const buttonEl =\n",
              "        document.querySelector('#df-76907bf2-a88f-4efd-a514-ae6552746327 button.colab-df-convert');\n",
              "      buttonEl.style.display =\n",
              "        google.colab.kernel.accessAllowed ? 'block' : 'none';\n",
              "\n",
              "      async function convertToInteractive(key) {\n",
              "        const element = document.querySelector('#df-76907bf2-a88f-4efd-a514-ae6552746327');\n",
              "        const dataTable =\n",
              "          await google.colab.kernel.invokeFunction('convertToInteractive',\n",
              "                                                    [key], {});\n",
              "        if (!dataTable) return;\n",
              "\n",
              "        const docLinkHtml = 'Like what you see? Visit the ' +\n",
              "          '<a target=\"_blank\" href=https://colab.research.google.com/notebooks/data_table.ipynb>data table notebook</a>'\n",
              "          + ' to learn more about interactive tables.';\n",
              "        element.innerHTML = '';\n",
              "        dataTable['output_type'] = 'display_data';\n",
              "        await google.colab.output.renderOutput(dataTable, element);\n",
              "        const docLink = document.createElement('div');\n",
              "        docLink.innerHTML = docLinkHtml;\n",
              "        element.appendChild(docLink);\n",
              "      }\n",
              "    </script>\n",
              "  </div>\n",
              "\n",
              "\n",
              "<div id=\"df-a4401d12-cf5e-4637-8f4e-10c830913abc\">\n",
              "  <button class=\"colab-df-quickchart\" onclick=\"quickchart('df-a4401d12-cf5e-4637-8f4e-10c830913abc')\"\n",
              "            title=\"Suggest charts\"\n",
              "            style=\"display:none;\">\n",
              "\n",
              "<svg xmlns=\"http://www.w3.org/2000/svg\" height=\"24px\"viewBox=\"0 0 24 24\"\n",
              "     width=\"24px\">\n",
              "    <g>\n",
              "        <path d=\"M19 3H5c-1.1 0-2 .9-2 2v14c0 1.1.9 2 2 2h14c1.1 0 2-.9 2-2V5c0-1.1-.9-2-2-2zM9 17H7v-7h2v7zm4 0h-2V7h2v10zm4 0h-2v-4h2v4z\"/>\n",
              "    </g>\n",
              "</svg>\n",
              "  </button>\n",
              "\n",
              "<style>\n",
              "  .colab-df-quickchart {\n",
              "      --bg-color: #E8F0FE;\n",
              "      --fill-color: #1967D2;\n",
              "      --hover-bg-color: #E2EBFA;\n",
              "      --hover-fill-color: #174EA6;\n",
              "      --disabled-fill-color: #AAA;\n",
              "      --disabled-bg-color: #DDD;\n",
              "  }\n",
              "\n",
              "  [theme=dark] .colab-df-quickchart {\n",
              "      --bg-color: #3B4455;\n",
              "      --fill-color: #D2E3FC;\n",
              "      --hover-bg-color: #434B5C;\n",
              "      --hover-fill-color: #FFFFFF;\n",
              "      --disabled-bg-color: #3B4455;\n",
              "      --disabled-fill-color: #666;\n",
              "  }\n",
              "\n",
              "  .colab-df-quickchart {\n",
              "    background-color: var(--bg-color);\n",
              "    border: none;\n",
              "    border-radius: 50%;\n",
              "    cursor: pointer;\n",
              "    display: none;\n",
              "    fill: var(--fill-color);\n",
              "    height: 32px;\n",
              "    padding: 0;\n",
              "    width: 32px;\n",
              "  }\n",
              "\n",
              "  .colab-df-quickchart:hover {\n",
              "    background-color: var(--hover-bg-color);\n",
              "    box-shadow: 0 1px 2px rgba(60, 64, 67, 0.3), 0 1px 3px 1px rgba(60, 64, 67, 0.15);\n",
              "    fill: var(--button-hover-fill-color);\n",
              "  }\n",
              "\n",
              "  .colab-df-quickchart-complete:disabled,\n",
              "  .colab-df-quickchart-complete:disabled:hover {\n",
              "    background-color: var(--disabled-bg-color);\n",
              "    fill: var(--disabled-fill-color);\n",
              "    box-shadow: none;\n",
              "  }\n",
              "\n",
              "  .colab-df-spinner {\n",
              "    border: 2px solid var(--fill-color);\n",
              "    border-color: transparent;\n",
              "    border-bottom-color: var(--fill-color);\n",
              "    animation:\n",
              "      spin 1s steps(1) infinite;\n",
              "  }\n",
              "\n",
              "  @keyframes spin {\n",
              "    0% {\n",
              "      border-color: transparent;\n",
              "      border-bottom-color: var(--fill-color);\n",
              "      border-left-color: var(--fill-color);\n",
              "    }\n",
              "    20% {\n",
              "      border-color: transparent;\n",
              "      border-left-color: var(--fill-color);\n",
              "      border-top-color: var(--fill-color);\n",
              "    }\n",
              "    30% {\n",
              "      border-color: transparent;\n",
              "      border-left-color: var(--fill-color);\n",
              "      border-top-color: var(--fill-color);\n",
              "      border-right-color: var(--fill-color);\n",
              "    }\n",
              "    40% {\n",
              "      border-color: transparent;\n",
              "      border-right-color: var(--fill-color);\n",
              "      border-top-color: var(--fill-color);\n",
              "    }\n",
              "    60% {\n",
              "      border-color: transparent;\n",
              "      border-right-color: var(--fill-color);\n",
              "    }\n",
              "    80% {\n",
              "      border-color: transparent;\n",
              "      border-right-color: var(--fill-color);\n",
              "      border-bottom-color: var(--fill-color);\n",
              "    }\n",
              "    90% {\n",
              "      border-color: transparent;\n",
              "      border-bottom-color: var(--fill-color);\n",
              "    }\n",
              "  }\n",
              "</style>\n",
              "\n",
              "  <script>\n",
              "    async function quickchart(key) {\n",
              "      const quickchartButtonEl =\n",
              "        document.querySelector('#' + key + ' button');\n",
              "      quickchartButtonEl.disabled = true;  // To prevent multiple clicks.\n",
              "      quickchartButtonEl.classList.add('colab-df-spinner');\n",
              "      try {\n",
              "        const charts = await google.colab.kernel.invokeFunction(\n",
              "            'suggestCharts', [key], {});\n",
              "      } catch (error) {\n",
              "        console.error('Error during call to suggestCharts:', error);\n",
              "      }\n",
              "      quickchartButtonEl.classList.remove('colab-df-spinner');\n",
              "      quickchartButtonEl.classList.add('colab-df-quickchart-complete');\n",
              "    }\n",
              "    (() => {\n",
              "      let quickchartButtonEl =\n",
              "        document.querySelector('#df-a4401d12-cf5e-4637-8f4e-10c830913abc button');\n",
              "      quickchartButtonEl.style.display =\n",
              "        google.colab.kernel.accessAllowed ? 'block' : 'none';\n",
              "    })();\n",
              "  </script>\n",
              "</div>\n",
              "\n",
              "  <div id=\"id_29cff634-e791-4369-a05f-8a28fa328579\">\n",
              "    <style>\n",
              "      .colab-df-generate {\n",
              "        background-color: #E8F0FE;\n",
              "        border: none;\n",
              "        border-radius: 50%;\n",
              "        cursor: pointer;\n",
              "        display: none;\n",
              "        fill: #1967D2;\n",
              "        height: 32px;\n",
              "        padding: 0 0 0 0;\n",
              "        width: 32px;\n",
              "      }\n",
              "\n",
              "      .colab-df-generate:hover {\n",
              "        background-color: #E2EBFA;\n",
              "        box-shadow: 0px 1px 2px rgba(60, 64, 67, 0.3), 0px 1px 3px 1px rgba(60, 64, 67, 0.15);\n",
              "        fill: #174EA6;\n",
              "      }\n",
              "\n",
              "      [theme=dark] .colab-df-generate {\n",
              "        background-color: #3B4455;\n",
              "        fill: #D2E3FC;\n",
              "      }\n",
              "\n",
              "      [theme=dark] .colab-df-generate:hover {\n",
              "        background-color: #434B5C;\n",
              "        box-shadow: 0px 1px 3px 1px rgba(0, 0, 0, 0.15);\n",
              "        filter: drop-shadow(0px 1px 2px rgba(0, 0, 0, 0.3));\n",
              "        fill: #FFFFFF;\n",
              "      }\n",
              "    </style>\n",
              "    <button class=\"colab-df-generate\" onclick=\"generateWithVariable('tfidf_train_feature')\"\n",
              "            title=\"Generate code using this dataframe.\"\n",
              "            style=\"display:none;\">\n",
              "\n",
              "  <svg xmlns=\"http://www.w3.org/2000/svg\" height=\"24px\"viewBox=\"0 0 24 24\"\n",
              "       width=\"24px\">\n",
              "    <path d=\"M7,19H8.4L18.45,9,17,7.55,7,17.6ZM5,21V16.75L18.45,3.32a2,2,0,0,1,2.83,0l1.4,1.43a1.91,1.91,0,0,1,.58,1.4,1.91,1.91,0,0,1-.58,1.4L9.25,21ZM18.45,9,17,7.55Zm-12,3A5.31,5.31,0,0,0,4.9,8.1,5.31,5.31,0,0,0,1,6.5,5.31,5.31,0,0,0,4.9,4.9,5.31,5.31,0,0,0,6.5,1,5.31,5.31,0,0,0,8.1,4.9,5.31,5.31,0,0,0,12,6.5,5.46,5.46,0,0,0,6.5,12Z\"/>\n",
              "  </svg>\n",
              "    </button>\n",
              "    <script>\n",
              "      (() => {\n",
              "      const buttonEl =\n",
              "        document.querySelector('#id_29cff634-e791-4369-a05f-8a28fa328579 button.colab-df-generate');\n",
              "      buttonEl.style.display =\n",
              "        google.colab.kernel.accessAllowed ? 'block' : 'none';\n",
              "\n",
              "      buttonEl.onclick = () => {\n",
              "        google.colab.notebook.generateWithVariable('tfidf_train_feature');\n",
              "      }\n",
              "      })();\n",
              "    </script>\n",
              "  </div>\n",
              "\n",
              "    </div>\n",
              "  </div>\n"
            ],
            "application/vnd.google.colaboratory.intrinsic+json": {
              "type": "dataframe",
              "variable_name": "tfidf_train_feature"
            }
          },
          "metadata": {},
          "execution_count": 20
        }
      ],
      "source": [
        "tfidf_train_feature"
      ]
    },
    {
      "cell_type": "markdown",
      "metadata": {
        "id": "NceAYAIPL0_u"
      },
      "source": [
        "####NaiveBase"
      ]
    },
    {
      "cell_type": "code",
      "execution_count": null,
      "metadata": {
        "id": "8GpeqeurIzLN",
        "colab": {
          "base_uri": "https://localhost:8080/"
        },
        "outputId": "11086857-31b0-4b93-8793-3db4852eee0f"
      },
      "outputs": [
        {
          "output_type": "stream",
          "name": "stdout",
          "text": [
            "Accuracy: 0.40\n",
            "Classification Report:\n",
            "              precision    recall  f1-score   support\n",
            "\n",
            "           0       0.64      0.50      0.56       601\n",
            "           1       0.14      0.18      0.16       180\n",
            "           2       0.25      0.29      0.27       198\n",
            "           3       0.05      0.14      0.07        21\n",
            "\n",
            "    accuracy                           0.40      1000\n",
            "   macro avg       0.27      0.28      0.27      1000\n",
            "weighted avg       0.46      0.40      0.42      1000\n",
            "\n"
          ]
        }
      ],
      "source": [
        "naive_bayes_classifier = GaussianNB()\n",
        "naive_bayes_classifier.fit(tfidf_train_feature.values, y_train)\n",
        "\n",
        "y_pred = naive_bayes_classifier.predict(tfidf_test_feature.values)\n",
        "\n",
        "accuracy = accuracy_score(y_test, y_pred)\n",
        "print(f\"Accuracy: {accuracy:.2f}\")\n",
        "print(\"Classification Report:\")\n",
        "print(classification_report(y_test, y_pred))"
      ]
    },
    {
      "cell_type": "markdown",
      "metadata": {
        "id": "d3o9gu340UHc"
      },
      "source": [
        "####Logistic"
      ]
    },
    {
      "cell_type": "code",
      "execution_count": null,
      "metadata": {
        "id": "Z24RUloUCW-w"
      },
      "outputs": [],
      "source": [
        "from sklearn.linear_model import LogisticRegression\n",
        "from sklearn.metrics import accuracy_score, classification_report\n",
        "from sklearn.metrics import confusion_matrix\n"
      ]
    },
    {
      "cell_type": "code",
      "execution_count": null,
      "metadata": {
        "id": "XcE8tyOGKGGA",
        "colab": {
          "base_uri": "https://localhost:8080/",
          "height": 74
        },
        "outputId": "263696e7-f0a5-4314-b89c-586b25381736"
      },
      "outputs": [
        {
          "output_type": "execute_result",
          "data": {
            "text/plain": [
              "LogisticRegression(random_state=0)"
            ],
            "text/html": [
              "<style>#sk-container-id-1 {color: black;background-color: white;}#sk-container-id-1 pre{padding: 0;}#sk-container-id-1 div.sk-toggleable {background-color: white;}#sk-container-id-1 label.sk-toggleable__label {cursor: pointer;display: block;width: 100%;margin-bottom: 0;padding: 0.3em;box-sizing: border-box;text-align: center;}#sk-container-id-1 label.sk-toggleable__label-arrow:before {content: \"▸\";float: left;margin-right: 0.25em;color: #696969;}#sk-container-id-1 label.sk-toggleable__label-arrow:hover:before {color: black;}#sk-container-id-1 div.sk-estimator:hover label.sk-toggleable__label-arrow:before {color: black;}#sk-container-id-1 div.sk-toggleable__content {max-height: 0;max-width: 0;overflow: hidden;text-align: left;background-color: #f0f8ff;}#sk-container-id-1 div.sk-toggleable__content pre {margin: 0.2em;color: black;border-radius: 0.25em;background-color: #f0f8ff;}#sk-container-id-1 input.sk-toggleable__control:checked~div.sk-toggleable__content {max-height: 200px;max-width: 100%;overflow: auto;}#sk-container-id-1 input.sk-toggleable__control:checked~label.sk-toggleable__label-arrow:before {content: \"▾\";}#sk-container-id-1 div.sk-estimator input.sk-toggleable__control:checked~label.sk-toggleable__label {background-color: #d4ebff;}#sk-container-id-1 div.sk-label input.sk-toggleable__control:checked~label.sk-toggleable__label {background-color: #d4ebff;}#sk-container-id-1 input.sk-hidden--visually {border: 0;clip: rect(1px 1px 1px 1px);clip: rect(1px, 1px, 1px, 1px);height: 1px;margin: -1px;overflow: hidden;padding: 0;position: absolute;width: 1px;}#sk-container-id-1 div.sk-estimator {font-family: monospace;background-color: #f0f8ff;border: 1px dotted black;border-radius: 0.25em;box-sizing: border-box;margin-bottom: 0.5em;}#sk-container-id-1 div.sk-estimator:hover {background-color: #d4ebff;}#sk-container-id-1 div.sk-parallel-item::after {content: \"\";width: 100%;border-bottom: 1px solid gray;flex-grow: 1;}#sk-container-id-1 div.sk-label:hover label.sk-toggleable__label {background-color: #d4ebff;}#sk-container-id-1 div.sk-serial::before {content: \"\";position: absolute;border-left: 1px solid gray;box-sizing: border-box;top: 0;bottom: 0;left: 50%;z-index: 0;}#sk-container-id-1 div.sk-serial {display: flex;flex-direction: column;align-items: center;background-color: white;padding-right: 0.2em;padding-left: 0.2em;position: relative;}#sk-container-id-1 div.sk-item {position: relative;z-index: 1;}#sk-container-id-1 div.sk-parallel {display: flex;align-items: stretch;justify-content: center;background-color: white;position: relative;}#sk-container-id-1 div.sk-item::before, #sk-container-id-1 div.sk-parallel-item::before {content: \"\";position: absolute;border-left: 1px solid gray;box-sizing: border-box;top: 0;bottom: 0;left: 50%;z-index: -1;}#sk-container-id-1 div.sk-parallel-item {display: flex;flex-direction: column;z-index: 1;position: relative;background-color: white;}#sk-container-id-1 div.sk-parallel-item:first-child::after {align-self: flex-end;width: 50%;}#sk-container-id-1 div.sk-parallel-item:last-child::after {align-self: flex-start;width: 50%;}#sk-container-id-1 div.sk-parallel-item:only-child::after {width: 0;}#sk-container-id-1 div.sk-dashed-wrapped {border: 1px dashed gray;margin: 0 0.4em 0.5em 0.4em;box-sizing: border-box;padding-bottom: 0.4em;background-color: white;}#sk-container-id-1 div.sk-label label {font-family: monospace;font-weight: bold;display: inline-block;line-height: 1.2em;}#sk-container-id-1 div.sk-label-container {text-align: center;}#sk-container-id-1 div.sk-container {/* jupyter's `normalize.less` sets `[hidden] { display: none; }` but bootstrap.min.css set `[hidden] { display: none !important; }` so we also need the `!important` here to be able to override the default hidden behavior on the sphinx rendered scikit-learn.org. See: https://github.com/scikit-learn/scikit-learn/issues/21755 */display: inline-block !important;position: relative;}#sk-container-id-1 div.sk-text-repr-fallback {display: none;}</style><div id=\"sk-container-id-1\" class=\"sk-top-container\"><div class=\"sk-text-repr-fallback\"><pre>LogisticRegression(random_state=0)</pre><b>In a Jupyter environment, please rerun this cell to show the HTML representation or trust the notebook. <br />On GitHub, the HTML representation is unable to render, please try loading this page with nbviewer.org.</b></div><div class=\"sk-container\" hidden><div class=\"sk-item\"><div class=\"sk-estimator sk-toggleable\"><input class=\"sk-toggleable__control sk-hidden--visually\" id=\"sk-estimator-id-1\" type=\"checkbox\" checked><label for=\"sk-estimator-id-1\" class=\"sk-toggleable__label sk-toggleable__label-arrow\">LogisticRegression</label><div class=\"sk-toggleable__content\"><pre>LogisticRegression(random_state=0)</pre></div></div></div></div></div>"
            ]
          },
          "metadata": {},
          "execution_count": 23
        }
      ],
      "source": [
        "logistic_regressor = LogisticRegression(random_state=0)\n",
        "logistic_regressor.fit(tfidf_train_feature, y_train)\n"
      ]
    },
    {
      "cell_type": "code",
      "execution_count": null,
      "metadata": {
        "id": "T8HF3oL3KH3I"
      },
      "outputs": [],
      "source": [
        "y_pred = logistic_regressor.predict(tfidf_test_feature)\n"
      ]
    },
    {
      "cell_type": "code",
      "execution_count": null,
      "metadata": {
        "id": "2KucvexHKHs-"
      },
      "outputs": [],
      "source": [
        "accuracy = accuracy_score(y_test, y_pred)\n"
      ]
    },
    {
      "cell_type": "code",
      "execution_count": null,
      "metadata": {
        "id": "QfifX875KLWu",
        "colab": {
          "base_uri": "https://localhost:8080/"
        },
        "outputId": "21afa3dc-450b-4a8e-9b48-f24b316f249a"
      },
      "outputs": [
        {
          "output_type": "stream",
          "name": "stdout",
          "text": [
            "Accuracy: 0.52\n",
            "Classification Report:\n",
            "              precision    recall  f1-score   support\n",
            "\n",
            "           0       0.61      0.79      0.69       601\n",
            "           1       0.20      0.12      0.15       180\n",
            "           2       0.25      0.14      0.18       198\n",
            "           3       0.00      0.00      0.00        21\n",
            "\n",
            "    accuracy                           0.52      1000\n",
            "   macro avg       0.26      0.26      0.25      1000\n",
            "weighted avg       0.45      0.52      0.47      1000\n",
            "\n"
          ]
        },
        {
          "output_type": "stream",
          "name": "stderr",
          "text": [
            "/usr/local/lib/python3.10/dist-packages/sklearn/metrics/_classification.py:1344: UndefinedMetricWarning: Precision and F-score are ill-defined and being set to 0.0 in labels with no predicted samples. Use `zero_division` parameter to control this behavior.\n",
            "  _warn_prf(average, modifier, msg_start, len(result))\n",
            "/usr/local/lib/python3.10/dist-packages/sklearn/metrics/_classification.py:1344: UndefinedMetricWarning: Precision and F-score are ill-defined and being set to 0.0 in labels with no predicted samples. Use `zero_division` parameter to control this behavior.\n",
            "  _warn_prf(average, modifier, msg_start, len(result))\n",
            "/usr/local/lib/python3.10/dist-packages/sklearn/metrics/_classification.py:1344: UndefinedMetricWarning: Precision and F-score are ill-defined and being set to 0.0 in labels with no predicted samples. Use `zero_division` parameter to control this behavior.\n",
            "  _warn_prf(average, modifier, msg_start, len(result))\n"
          ]
        }
      ],
      "source": [
        "print(f\"Accuracy: {accuracy:.2f}\")\n",
        "print(\"Classification Report:\")\n",
        "print(classification_report(y_test, y_pred))"
      ]
    },
    {
      "cell_type": "code",
      "execution_count": null,
      "metadata": {
        "id": "V6Hfme0SW6E3",
        "colab": {
          "base_uri": "https://localhost:8080/",
          "height": 430
        },
        "outputId": "379aaf55-1946-4059-9485-f9b3ced3a980"
      },
      "outputs": [
        {
          "output_type": "display_data",
          "data": {
            "text/plain": [
              "<Figure size 640x480 with 2 Axes>"
            ],
            "image/png": "[encoded data removed]"
          },
          "metadata": {}
        }
      ],
      "source": [
        "import seaborn as sns\n",
        "import numpy as np\n",
        "\n",
        "# Your code to generate cnf_matrix\n",
        "cnf_matrix = confusion_matrix(y_test,y_pred)\n",
        "\n",
        "# Define group names and counts for annotations\n",
        "group_names = ['True Neg', 'False Pos', 'False Neg', 'True Pos']\n",
        "group_counts = ['{0:0.0f}'.format(value) for value in cnf_matrix.flatten()]\n",
        "labels = np.asarray(group_counts).reshape(4, 4)\n",
        "\n",
        "# Plot heatmap with annotations\n",
        "sns.heatmap(cnf_matrix, annot=labels, fmt='', cmap='Blues');\n"
      ]
    },
    {
      "cell_type": "markdown",
      "metadata": {
        "id": "t3wSjieIzhyG"
      },
      "source": [
        "####LSTM"
      ]
    },
    {
      "cell_type": "code",
      "execution_count": null,
      "metadata": {
        "id": "gBSdWkXRXDwU",
        "colab": {
          "base_uri": "https://localhost:8080/"
        },
        "outputId": "2ae04875-d925-440a-d487-64bd82dd3df8"
      },
      "outputs": [
        {
          "output_type": "stream",
          "name": "stdout",
          "text": [
            "Total input sequences:  5000\n"
          ]
        }
      ],
      "source": [
        "tokenizer = Tokenizer(num_words = 4000)\n",
        "tokenizer.fit_on_texts(traindata['Preprocessed'])\n",
        "input_sequences = []\n",
        "for line in traindata['Preprocessed']:\n",
        "    token_list = tokenizer.texts_to_sequences([line])[0]\n",
        "    input_sequences.append(token_list)\n",
        "\n",
        "# print(input_sequences)\n",
        "print(\"Total input sequences: \", len(input_sequences))"
      ]
    },
    {
      "cell_type": "code",
      "execution_count": null,
      "metadata": {
        "id": "IUjgvw2HXGbb",
        "colab": {
          "base_uri": "https://localhost:8080/"
        },
        "outputId": "9f646bb1-9fc7-4479-b4c8-9820cfae38b1"
      },
      "outputs": [
        {
          "output_type": "execute_result",
          "data": {
            "text/plain": [
              "array([   0,    0,    0,    0,    0,    0,    0,    0,    0,    0,    0,\n",
              "          0,    0,    0,    0,    0,    0,    0,    0,  907,  906, 1151,\n",
              "       2366], dtype=int32)"
            ]
          },
          "metadata": {},
          "execution_count": 29
        }
      ],
      "source": [
        "# pad sequences\n",
        "max_sequence_len = max([len(x) for x in input_sequences])\n",
        "input_sequences = np.array(pad_sequences(input_sequences, maxlen=max_sequence_len, padding='pre'))\n",
        "input_sequences[1]"
      ]
    },
    {
      "cell_type": "code",
      "execution_count": null,
      "metadata": {
        "id": "8fkGKCLWXhTs"
      },
      "outputs": [],
      "source": [
        "from keras.utils import to_categorical\n",
        "\n",
        "labels = traindata['Type']\n",
        "y_categorical = to_categorical(labels, num_classes=4)"
      ]
    },
    {
      "cell_type": "code",
      "execution_count": null,
      "metadata": {
        "id": "C1VDchIjYJk-"
      },
      "outputs": [],
      "source": [
        "X_train, X_val, y_train, y_val= train_test_split(input_sequences, y_categorical, test_size = 0.2, random_state = 42)"
      ]
    },
    {
      "cell_type": "code",
      "execution_count": null,
      "metadata": {
        "id": "fzIT1dUtX9AT",
        "colab": {
          "base_uri": "https://localhost:8080/"
        },
        "outputId": "f04ec46d-8521-442d-ed3d-4b23a097fccc"
      },
      "outputs": [
        {
          "output_type": "stream",
          "name": "stdout",
          "text": [
            "Epoch 1/10\n",
            "125/125 [==============================] - 26s 141ms/step - loss: 0.5992 - accuracy: 0.7807\n",
            "Epoch 2/10\n",
            "125/125 [==============================] - 8s 61ms/step - loss: 0.1693 - accuracy: 0.9455\n",
            "Epoch 3/10\n",
            "125/125 [==============================] - 2s 16ms/step - loss: 0.0742 - accuracy: 0.9775\n",
            "Epoch 4/10\n",
            "125/125 [==============================] - 1s 9ms/step - loss: 0.0309 - accuracy: 0.9905\n",
            "Epoch 5/10\n",
            "125/125 [==============================] - 2s 13ms/step - loss: 0.0115 - accuracy: 0.9962\n",
            "Epoch 6/10\n",
            "125/125 [==============================] - 1s 11ms/step - loss: 0.0071 - accuracy: 0.9985\n",
            "Epoch 7/10\n",
            "125/125 [==============================] - 1s 9ms/step - loss: 0.0047 - accuracy: 0.9985\n",
            "Epoch 8/10\n",
            "125/125 [==============================] - 1s 9ms/step - loss: 0.0026 - accuracy: 0.9990\n",
            "Epoch 9/10\n",
            "125/125 [==============================] - 1s 9ms/step - loss: 0.0013 - accuracy: 0.9995\n",
            "Epoch 10/10\n",
            "125/125 [==============================] - 2s 13ms/step - loss: 7.0526e-04 - accuracy: 0.9998\n"
          ]
        },
        {
          "output_type": "execute_result",
          "data": {
            "text/plain": [
              "<keras.src.callbacks.History at 0x7bddc0605c60>"
            ]
          },
          "metadata": {},
          "execution_count": 33
        }
      ],
      "source": [
        "model1 = Sequential()\n",
        "\n",
        "model1.add(Embedding(4000, 300, weights = [tfidf_train_feature], input_length = max_sequence_len))\n",
        "model1.add(Bidirectional(LSTM(units = 256, return_sequences = False)))\n",
        "model1.add(Dense(4, activation = 'softmax'))\n",
        "adam = Adam(learning_rate = 0.01)\n",
        "model1.compile(loss = 'categorical_crossentropy', optimizer = adam, metrics = ['accuracy'])\n",
        "\n",
        "model1.fit(X_train, y_train, epochs = 10, verbose = 1)"
      ]
    },
    {
      "cell_type": "code",
      "execution_count": null,
      "metadata": {
        "id": "CuL-N032YXhJ",
        "colab": {
          "base_uri": "https://localhost:8080/"
        },
        "outputId": "69a339b5-ffb7-4c9f-d4b3-92998e22be05"
      },
      "outputs": [
        {
          "output_type": "stream",
          "name": "stdout",
          "text": [
            "32/32 [==============================] - 1s 4ms/step\n",
            "              precision    recall  f1-score   support\n",
            "\n",
            "           0       0.92      0.94      0.93       647\n",
            "           1       0.79      0.77      0.78       176\n",
            "           2       0.95      0.89      0.92       163\n",
            "           3       0.64      0.64      0.64        14\n",
            "\n",
            "    accuracy                           0.90      1000\n",
            "   macro avg       0.83      0.81      0.82      1000\n",
            "weighted avg       0.90      0.90      0.90      1000\n",
            "\n"
          ]
        }
      ],
      "source": [
        "y_pred = model1.predict(X_val)\n",
        "\n",
        "y_pred = np.argmax(y_pred, axis = -1)\n",
        "\n",
        "y_val = np.argmax(y_val, axis = -1)\n",
        "\n",
        "classification_report1 = classification_report(y_val, y_pred)\n",
        "print(classification_report1)"
      ]
    },
    {
      "cell_type": "markdown",
      "metadata": {
        "id": "gPRwvwKbJT1y"
      },
      "source": [
        "###Bag Of Word"
      ]
    },
    {
      "cell_type": "code",
      "execution_count": null,
      "metadata": {
        "id": "oTrmw2MtJmQ4"
      },
      "outputs": [],
      "source": []
    },
    {
      "cell_type": "code",
      "source": [
        "x_train, x_val, y_train, y_val= train_test_split(x, y, test_size = 0.2, random_state = 42)"
      ],
      "metadata": {
        "id": "fdChKA6tHiGy"
      },
      "execution_count": null,
      "outputs": []
    },
    {
      "cell_type": "code",
      "execution_count": null,
      "metadata": {
        "id": "rx-33rhRJmee"
      },
      "outputs": [],
      "source": [
        "from sklearn.feature_extraction.text import CountVectorizer\n",
        "vectorizer = CountVectorizer(max_features=500, stop_words=None, ngram_range=(1,1))\n",
        "\n",
        "bw_train = vectorizer.fit_transform(x_train)\n",
        "bw_train_f = pd.DataFrame(bw_train.toarray(), columns=vectorizer.get_feature_names_out())\n",
        "\n",
        "bw_val = vectorizer.transform(x_val)\n",
        "x_val_feater = pd.DataFrame(bw_val.toarray(), columns=vectorizer.get_feature_names_out())"
      ]
    },
    {
      "cell_type": "markdown",
      "metadata": {
        "id": "0PlqbNnscDn_"
      },
      "source": [
        "####Naive bayse"
      ]
    },
    {
      "cell_type": "code",
      "execution_count": null,
      "metadata": {
        "colab": {
          "base_uri": "https://localhost:8080/"
        },
        "id": "nAmLnq4NSLLv",
        "outputId": "b118adb4-f6e2-4938-a4c8-785e8b031f38"
      },
      "outputs": [
        {
          "output_type": "stream",
          "name": "stdout",
          "text": [
            "Accuracy: 0.30\n",
            "Classification Report:\n",
            "              precision    recall  f1-score   support\n",
            "\n",
            "           0       0.56      0.36      0.44       601\n",
            "           1       0.14      0.23      0.18       180\n",
            "           2       0.16      0.21      0.18       198\n",
            "           3       0.03      0.10      0.04        21\n",
            "\n",
            "    accuracy                           0.30      1000\n",
            "   macro avg       0.22      0.22      0.21      1000\n",
            "weighted avg       0.40      0.30      0.33      1000\n",
            "\n"
          ]
        }
      ],
      "source": [
        "naive_bayes_classifier = GaussianNB()\n",
        "# Use the toarray() method to convert sparse matrix to a dense matrix\n",
        "naive_bayes_classifier.fit(bw_train.toarray(), y_train)\n",
        "\n",
        "y_pred = naive_bayes_classifier.predict(x_val_feater.values)\n",
        "\n",
        "accuracy = accuracy_score(y_test, y_pred)\n",
        "print(f\"Accuracy: {accuracy:.2f}\")\n",
        "print(\"Classification Report:\")\n",
        "print(classification_report(y_test, y_pred))\n"
      ]
    },
    {
      "cell_type": "markdown",
      "metadata": {
        "id": "cHwZsg8ccKkZ"
      },
      "source": [
        "#### logistic"
      ]
    },
    {
      "cell_type": "code",
      "execution_count": null,
      "metadata": {
        "colab": {
          "base_uri": "https://localhost:8080/",
          "height": 74
        },
        "id": "P6n542WWcMxJ",
        "outputId": "e7f47e63-d314-41b3-8656-0681cd57715a"
      },
      "outputs": [
        {
          "output_type": "execute_result",
          "data": {
            "text/plain": [
              "LogisticRegression(random_state=0)"
            ],
            "text/html": [
              "<style>#sk-container-id-2 {color: black;background-color: white;}#sk-container-id-2 pre{padding: 0;}#sk-container-id-2 div.sk-toggleable {background-color: white;}#sk-container-id-2 label.sk-toggleable__label {cursor: pointer;display: block;width: 100%;margin-bottom: 0;padding: 0.3em;box-sizing: border-box;text-align: center;}#sk-container-id-2 label.sk-toggleable__label-arrow:before {content: \"▸\";float: left;margin-right: 0.25em;color: #696969;}#sk-container-id-2 label.sk-toggleable__label-arrow:hover:before {color: black;}#sk-container-id-2 div.sk-estimator:hover label.sk-toggleable__label-arrow:before {color: black;}#sk-container-id-2 div.sk-toggleable__content {max-height: 0;max-width: 0;overflow: hidden;text-align: left;background-color: #f0f8ff;}#sk-container-id-2 div.sk-toggleable__content pre {margin: 0.2em;color: black;border-radius: 0.25em;background-color: #f0f8ff;}#sk-container-id-2 input.sk-toggleable__control:checked~div.sk-toggleable__content {max-height: 200px;max-width: 100%;overflow: auto;}#sk-container-id-2 input.sk-toggleable__control:checked~label.sk-toggleable__label-arrow:before {content: \"▾\";}#sk-container-id-2 div.sk-estimator input.sk-toggleable__control:checked~label.sk-toggleable__label {background-color: #d4ebff;}#sk-container-id-2 div.sk-label input.sk-toggleable__control:checked~label.sk-toggleable__label {background-color: #d4ebff;}#sk-container-id-2 input.sk-hidden--visually {border: 0;clip: rect(1px 1px 1px 1px);clip: rect(1px, 1px, 1px, 1px);height: 1px;margin: -1px;overflow: hidden;padding: 0;position: absolute;width: 1px;}#sk-container-id-2 div.sk-estimator {font-family: monospace;background-color: #f0f8ff;border: 1px dotted black;border-radius: 0.25em;box-sizing: border-box;margin-bottom: 0.5em;}#sk-container-id-2 div.sk-estimator:hover {background-color: #d4ebff;}#sk-container-id-2 div.sk-parallel-item::after {content: \"\";width: 100%;border-bottom: 1px solid gray;flex-grow: 1;}#sk-container-id-2 div.sk-label:hover label.sk-toggleable__label {background-color: #d4ebff;}#sk-container-id-2 div.sk-serial::before {content: \"\";position: absolute;border-left: 1px solid gray;box-sizing: border-box;top: 0;bottom: 0;left: 50%;z-index: 0;}#sk-container-id-2 div.sk-serial {display: flex;flex-direction: column;align-items: center;background-color: white;padding-right: 0.2em;padding-left: 0.2em;position: relative;}#sk-container-id-2 div.sk-item {position: relative;z-index: 1;}#sk-container-id-2 div.sk-parallel {display: flex;align-items: stretch;justify-content: center;background-color: white;position: relative;}#sk-container-id-2 div.sk-item::before, #sk-container-id-2 div.sk-parallel-item::before {content: \"\";position: absolute;border-left: 1px solid gray;box-sizing: border-box;top: 0;bottom: 0;left: 50%;z-index: -1;}#sk-container-id-2 div.sk-parallel-item {display: flex;flex-direction: column;z-index: 1;position: relative;background-color: white;}#sk-container-id-2 div.sk-parallel-item:first-child::after {align-self: flex-end;width: 50%;}#sk-container-id-2 div.sk-parallel-item:last-child::after {align-self: flex-start;width: 50%;}#sk-container-id-2 div.sk-parallel-item:only-child::after {width: 0;}#sk-container-id-2 div.sk-dashed-wrapped {border: 1px dashed gray;margin: 0 0.4em 0.5em 0.4em;box-sizing: border-box;padding-bottom: 0.4em;background-color: white;}#sk-container-id-2 div.sk-label label {font-family: monospace;font-weight: bold;display: inline-block;line-height: 1.2em;}#sk-container-id-2 div.sk-label-container {text-align: center;}#sk-container-id-2 div.sk-container {/* jupyter's `normalize.less` sets `[hidden] { display: none; }` but bootstrap.min.css set `[hidden] { display: none !important; }` so we also need the `!important` here to be able to override the default hidden behavior on the sphinx rendered scikit-learn.org. See: https://github.com/scikit-learn/scikit-learn/issues/21755 */display: inline-block !important;position: relative;}#sk-container-id-2 div.sk-text-repr-fallback {display: none;}</style><div id=\"sk-container-id-2\" class=\"sk-top-container\"><div class=\"sk-text-repr-fallback\"><pre>LogisticRegression(random_state=0)</pre><b>In a Jupyter environment, please rerun this cell to show the HTML representation or trust the notebook. <br />On GitHub, the HTML representation is unable to render, please try loading this page with nbviewer.org.</b></div><div class=\"sk-container\" hidden><div class=\"sk-item\"><div class=\"sk-estimator sk-toggleable\"><input class=\"sk-toggleable__control sk-hidden--visually\" id=\"sk-estimator-id-2\" type=\"checkbox\" checked><label for=\"sk-estimator-id-2\" class=\"sk-toggleable__label sk-toggleable__label-arrow\">LogisticRegression</label><div class=\"sk-toggleable__content\"><pre>LogisticRegression(random_state=0)</pre></div></div></div></div></div>"
            ]
          },
          "metadata": {},
          "execution_count": 48
        }
      ],
      "source": [
        "logistic_regressor = LogisticRegression(random_state=0)\n",
        "logistic_regressor.fit(bw_train.toarray(), y_train)\n"
      ]
    },
    {
      "cell_type": "code",
      "execution_count": null,
      "metadata": {
        "id": "nUmaz1ELdBC7"
      },
      "outputs": [],
      "source": [
        "y_pred = logistic_regressor.predict(x_val_feater.values)\n"
      ]
    },
    {
      "cell_type": "code",
      "execution_count": null,
      "metadata": {
        "id": "MnS8CD7tdBC7"
      },
      "outputs": [],
      "source": [
        "accuracy = accuracy_score(y_test, y_pred)\n"
      ]
    },
    {
      "cell_type": "code",
      "execution_count": null,
      "metadata": {
        "colab": {
          "base_uri": "https://localhost:8080/"
        },
        "id": "p8zEVIhGdBC8",
        "outputId": "24814b5f-6640-4ecb-d203-d71cb2fa424c"
      },
      "outputs": [
        {
          "output_type": "stream",
          "name": "stdout",
          "text": [
            "Accuracy: 0.46\n",
            "Classification Report:\n",
            "              precision    recall  f1-score   support\n",
            "\n",
            "           0       0.58      0.69      0.63       601\n",
            "           1       0.18      0.14      0.16       180\n",
            "           2       0.14      0.11      0.12       198\n",
            "           3       0.00      0.00      0.00        21\n",
            "\n",
            "    accuracy                           0.46      1000\n",
            "   macro avg       0.23      0.23      0.23      1000\n",
            "weighted avg       0.41      0.46      0.43      1000\n",
            "\n"
          ]
        }
      ],
      "source": [
        "print(f\"Accuracy: {accuracy:.2f}\")\n",
        "print(\"Classification Report:\")\n",
        "print(classification_report(y_test, y_pred))"
      ]
    },
    {
      "cell_type": "code",
      "execution_count": null,
      "metadata": {
        "id": "WHR1m495dPPk"
      },
      "outputs": [],
      "source": []
    },
    {
      "cell_type": "code",
      "execution_count": null,
      "metadata": {
        "colab": {
          "base_uri": "https://localhost:8080/",
          "height": 430
        },
        "id": "ELS-AjiDdBC8",
        "outputId": "30f3185e-7691-45f5-f879-210c4f4d25c4"
      },
      "outputs": [
        {
          "output_type": "display_data",
          "data": {
            "text/plain": [
              "<Figure size 640x480 with 2 Axes>"
            ],
            "image/png": "[encoded data removed]"
          },
          "metadata": {}
        }
      ],
      "source": [
        "import seaborn as sns\n",
        "import numpy as np\n",
        "\n",
        "# Your code to generate cnf_matrix\n",
        "cnf_matrix = confusion_matrix(y_test,y_pred)\n",
        "\n",
        "# Define group names and counts for annotations\n",
        "group_names = ['True Neg', 'False Pos', 'False Neg', 'True Pos']\n",
        "group_counts = ['{0:0.0f}'.format(value) for value in cnf_matrix.flatten()]\n",
        "labels = np.asarray(group_counts).reshape(4, 4)\n",
        "\n",
        "# Plot heatmap with annotations\n",
        "sns.heatmap(cnf_matrix, annot=labels, fmt='', cmap='Blues');\n"
      ]
    },
    {
      "cell_type": "markdown",
      "metadata": {
        "id": "Dr2aF1X-cNsS"
      },
      "source": [
        "####LSTM"
      ]
    },
    {
      "cell_type": "code",
      "execution_count": null,
      "metadata": {
        "id": "zthoaCtdcNOi"
      },
      "outputs": [],
      "source": []
    },
    {
      "cell_type": "code",
      "execution_count": null,
      "metadata": {
        "colab": {
          "base_uri": "https://localhost:8080/"
        },
        "id": "ZPgIfNRmdfBH",
        "outputId": "6639ee74-b0f8-4100-e8eb-2d08e5268ec7"
      },
      "outputs": [
        {
          "output_type": "stream",
          "name": "stdout",
          "text": [
            "Total input sequences:  5000\n"
          ]
        }
      ],
      "source": [
        "tokenizer = Tokenizer(num_words = 4000)\n",
        "tokenizer.fit_on_texts(traindata['Preprocessed'])\n",
        "input_sequences = []\n",
        "for line in traindata['Preprocessed']:\n",
        "    token_list = tokenizer.texts_to_sequences([line])[0]\n",
        "    input_sequences.append(token_list)\n",
        "\n",
        "# print(input_sequences)\n",
        "print(\"Total input sequences: \", len(input_sequences))"
      ]
    },
    {
      "cell_type": "code",
      "execution_count": null,
      "metadata": {
        "colab": {
          "base_uri": "https://localhost:8080/"
        },
        "id": "nPKKsB0BdfBO",
        "outputId": "4bf8b5ba-5524-4ae2-aca9-47856e6e7daf"
      },
      "outputs": [
        {
          "output_type": "execute_result",
          "data": {
            "text/plain": [
              "array([   0,    0,    0,    0,    0,    0,    0,    0,    0,    0,    0,\n",
              "          0,    0,    0,    0,    0,    0,    0,    0,  907,  906, 1151,\n",
              "       2366], dtype=int32)"
            ]
          },
          "metadata": {},
          "execution_count": 54
        }
      ],
      "source": [
        "# pad sequences\n",
        "max_sequence_len = max([len(x) for x in input_sequences])\n",
        "input_sequences = np.array(pad_sequences(input_sequences, maxlen=max_sequence_len, padding='pre'))\n",
        "input_sequences[1]"
      ]
    },
    {
      "cell_type": "code",
      "execution_count": null,
      "metadata": {
        "id": "5KeIDEM3dfBO"
      },
      "outputs": [],
      "source": [
        "from keras.utils import to_categorical\n",
        "\n",
        "labels = traindata['Type']\n",
        "y_categorical = to_categorical(labels, num_classes=4)"
      ]
    },
    {
      "cell_type": "code",
      "execution_count": null,
      "metadata": {
        "id": "JrAlvORzdfBO"
      },
      "outputs": [],
      "source": [
        "X_train, X_val, y_train, y_val= train_test_split(input_sequences, y_categorical, test_size = 0.2, random_state = 42)"
      ]
    },
    {
      "cell_type": "code",
      "execution_count": null,
      "metadata": {
        "colab": {
          "base_uri": "https://localhost:8080/"
        },
        "id": "qiOLpAu4dfBO",
        "outputId": "185e6bf6-cb5d-4efc-b9ab-a09d8ff9af33"
      },
      "outputs": [
        {
          "output_type": "stream",
          "name": "stdout",
          "text": [
            "Epoch 1/10\n",
            "125/125 [==============================] - 14s 73ms/step - loss: 0.4936 - accuracy: 0.8230\n",
            "Epoch 2/10\n",
            "125/125 [==============================] - 3s 23ms/step - loss: 0.1229 - accuracy: 0.9645\n",
            "Epoch 3/10\n",
            "125/125 [==============================] - 2s 20ms/step - loss: 0.0500 - accuracy: 0.9840\n",
            "Epoch 4/10\n",
            "125/125 [==============================] - 1s 10ms/step - loss: 0.0218 - accuracy: 0.9937\n",
            "Epoch 5/10\n",
            "125/125 [==============================] - 1s 11ms/step - loss: 0.0042 - accuracy: 0.9990\n",
            "Epoch 6/10\n",
            "125/125 [==============================] - 1s 9ms/step - loss: 0.0013 - accuracy: 0.9995\n",
            "Epoch 7/10\n",
            "125/125 [==============================] - 1s 10ms/step - loss: 6.3670e-04 - accuracy: 0.9998\n",
            "Epoch 8/10\n",
            "125/125 [==============================] - 1s 12ms/step - loss: 8.2379e-04 - accuracy: 0.9995\n",
            "Epoch 9/10\n",
            "125/125 [==============================] - 1s 8ms/step - loss: 6.8990e-04 - accuracy: 0.9998\n",
            "Epoch 10/10\n",
            "125/125 [==============================] - 1s 8ms/step - loss: 5.2655e-04 - accuracy: 0.9998\n"
          ]
        },
        {
          "output_type": "execute_result",
          "data": {
            "text/plain": [
              "<keras.src.callbacks.History at 0x7bdd9a20bee0>"
            ]
          },
          "metadata": {},
          "execution_count": 57
        }
      ],
      "source": [
        "model1 = Sequential()\n",
        "\n",
        "model1.add(Embedding(4000, 500, weights = [bw_train.toarray()], input_length = max_sequence_len))\n",
        "\n",
        "model1.add(Bidirectional(LSTM(units = 256, return_sequences = False)))\n",
        "model1.add(Dense(4, activation = 'softmax'))\n",
        "adam = Adam(learning_rate = 0.01)\n",
        "model1.compile(loss = 'categorical_crossentropy', optimizer = adam, metrics = ['accuracy'])\n",
        "\n",
        "model1.fit(X_train, y_train, epochs = 10, verbose = 1)"
      ]
    },
    {
      "cell_type": "code",
      "execution_count": null,
      "metadata": {
        "colab": {
          "base_uri": "https://localhost:8080/"
        },
        "id": "BfGnkUbZdfBO",
        "outputId": "0de0996d-9956-4520-d002-97f06b420d85"
      },
      "outputs": [
        {
          "output_type": "stream",
          "name": "stdout",
          "text": [
            "32/32 [==============================] - 1s 3ms/step\n",
            "              precision    recall  f1-score   support\n",
            "\n",
            "           0       0.92      0.94      0.93       647\n",
            "           1       0.81      0.75      0.78       176\n",
            "           2       0.92      0.91      0.91       163\n",
            "           3       0.47      0.50      0.48        14\n",
            "\n",
            "    accuracy                           0.89      1000\n",
            "   macro avg       0.78      0.77      0.78      1000\n",
            "weighted avg       0.89      0.89      0.89      1000\n",
            "\n"
          ]
        }
      ],
      "source": [
        "y_pred = model1.predict(X_val)\n",
        "\n",
        "y_pred = np.argmax(y_pred, axis = -1)\n",
        "\n",
        "y_val = np.argmax(y_val, axis = -1)\n",
        "\n",
        "classification_report1 = classification_report(y_val, y_pred)\n",
        "print(classification_report1)"
      ]
    },
    {
      "cell_type": "markdown",
      "metadata": {
        "id": "KQIghvtWKZWn"
      },
      "source": [
        "###Word2vec"
      ]
    },
    {
      "cell_type": "markdown",
      "metadata": {
        "id": "LTSKZAtHLBUU"
      },
      "source": [
        "####CBoW"
      ]
    },
    {
      "cell_type": "code",
      "execution_count": null,
      "metadata": {
        "colab": {
          "base_uri": "https://localhost:8080/"
        },
        "id": "_e4XpIDCLnWw",
        "outputId": "ff64c1f7-a537-407c-ef7e-48ff3f87ab29"
      },
      "outputs": [
        {
          "output_type": "stream",
          "name": "stdout",
          "text": [
            "--2024-06-11 23:08:28--  https://archive.org/download/aravec2.0/wiki_cbow_300.zip\n",
            "Resolving archive.org (archive.org)... 207.241.224.2\n",
            "Connecting to archive.org (archive.org)|207.241.224.2|:443... connected.\n",
            "HTTP request sent, awaiting response... 302 Found\n",
            "Location: https://ia803107.us.archive.org/0/items/aravec2.0/wiki_cbow_300.zip [following]\n",
            "--2024-06-11 23:08:28--  https://ia803107.us.archive.org/0/items/aravec2.0/wiki_cbow_300.zip\n",
            "Resolving ia803107.us.archive.org (ia803107.us.archive.org)... 207.241.232.157\n",
            "Connecting to ia803107.us.archive.org (ia803107.us.archive.org)|207.241.232.157|:443... connected.\n",
            "HTTP request sent, awaiting response... 200 OK\n",
            "Length: 364888893 (348M) [application/zip]\n",
            "Saving to: ‘wiki_cbow_300.zip.1’\n",
            "\n",
            "wiki_cbow_300.zip.1 100%[===================>] 347.98M  1004KB/s    in 5m 33s  \n",
            "\n",
            "2024-06-11 23:14:02 (1.04 MB/s) - ‘wiki_cbow_300.zip.1’ saved [364888893/364888893]\n",
            "\n"
          ]
        }
      ],
      "source": [
        "!wget \"https://archive.org/download/aravec2.0/wiki_cbow_300.zip\""
      ]
    },
    {
      "cell_type": "code",
      "execution_count": null,
      "metadata": {
        "colab": {
          "base_uri": "https://localhost:8080/"
        },
        "id": "NubKbvA1L3zH",
        "outputId": "455275ea-d271-405e-85fd-0474f536a674"
      },
      "outputs": [
        {
          "output_type": "stream",
          "name": "stdout",
          "text": [
            "Archive:  wiki_cbow_300.zip\n",
            "replace wikipedia_cbow_300? [y]es, [n]o, [A]ll, [N]one, [r]ename: "
          ]
        }
      ],
      "source": [
        "!unzip \"wiki_cbow_300.zip\""
      ]
    },
    {
      "cell_type": "code",
      "execution_count": null,
      "metadata": {
        "id": "WegjcP69L5Qv"
      },
      "outputs": [],
      "source": []
    },
    {
      "cell_type": "code",
      "execution_count": null,
      "metadata": {
        "id": "2nB9dSq7PIyF"
      },
      "outputs": [],
      "source": [
        "X = x = traindata['Preprocessed']\n",
        "y = traindata['Type']"
      ]
    },
    {
      "cell_type": "code",
      "execution_count": null,
      "metadata": {
        "id": "uuf9Y9p-Lsnn"
      },
      "outputs": [],
      "source": [
        "from sklearn.model_selection import train_test_split\n",
        "X_train, X_test, y_train, y_test = train_test_split(X, y, test_size = 0.25, random_state = 0)"
      ]
    },
    {
      "cell_type": "code",
      "execution_count": null,
      "metadata": {
        "id": "Bjb2t72CMqV-"
      },
      "outputs": [],
      "source": [
        "from gensim.models import Word2Vec\n"
      ]
    },
    {
      "cell_type": "code",
      "execution_count": null,
      "metadata": {
        "id": "ipd13KZGP5Up"
      },
      "outputs": [],
      "source": [
        "w2v_model = Word2Vec.load('/content/wikipedia_cbow_300')\n",
        "embedding_dim = w2v_model.vector_size\n",
        "\n",
        "OOV_tokens = []\n",
        "train_tokens = []\n",
        "test_tokens = []\n",
        "\n",
        "def get_doc_vec(sent, model, data):\n",
        "    w2v_embeddings = []\n",
        "    tokens = sent.split()\n",
        "    for word in tokens:\n",
        "        try:\n",
        "            if data == 'train':\n",
        "                w2v_embeddings.append(model.wv[word])\n",
        "                train_tokens.append(word)\n",
        "            else:\n",
        "                w2v_embeddings.append(model.wv[word])\n",
        "                test_tokens.append(word)\n",
        "        except:\n",
        "            OOV_tokens.append(word)\n",
        "            continue\n",
        "    if len(w2v_embeddings) == 0:\n",
        "        return None\n",
        "    return sum(w2v_embeddings) / len(w2v_embeddings)\n",
        "\n",
        "X_train_w2v_embeddings = X_train.apply(lambda sent: get_doc_vec(sent, w2v_model, 'train'))\n",
        "X_test_w2v_embeddings = X_test.apply(lambda sent: get_doc_vec(sent, w2v_model, 'test'))"
      ]
    },
    {
      "cell_type": "code",
      "execution_count": null,
      "metadata": {
        "id": "-SK2UBupP5ma"
      },
      "outputs": [],
      "source": [
        "X_train_w2v_embeddings_list = []\n",
        "for embedding in X_train_w2v_embeddings:\n",
        "    if embedding is not None:\n",
        "        X_train_w2v_embeddings_list.append(embedding)\n",
        "    else:\n",
        "        # Handle cases where the embedding is None\n",
        "        X_train_w2v_embeddings_list.append(np.zeros_like(X_train_w2v_embeddings[0]))\n",
        "\n",
        "X_test_w2v_embeddings_list = []\n",
        "for embedding in X_test_w2v_embeddings:\n",
        "    if embedding is not None:\n",
        "        X_test_w2v_embeddings_list.append(embedding)\n",
        "    else:\n",
        "        # Handle cases where the embedding is None\n",
        "        X_test_w2v_embeddings_list.append(np.zeros_like(X_test_w2v_embeddings[0]))\n"
      ]
    },
    {
      "cell_type": "code",
      "execution_count": null,
      "metadata": {
        "id": "NGNXrFQRRdH7"
      },
      "outputs": [],
      "source": [
        "X_train_w2v_embeddings_array = np.array(X_train_w2v_embeddings_list)\n",
        "X_test_w2v_embeddings_array = np.array(X_test_w2v_embeddings_list)"
      ]
    },
    {
      "cell_type": "markdown",
      "metadata": {
        "id": "gfiaQmhkUIf3"
      },
      "source": [
        "#####Navie Base"
      ]
    },
    {
      "cell_type": "code",
      "execution_count": null,
      "metadata": {
        "id": "bc-Yi2goUH78"
      },
      "outputs": [],
      "source": [
        "naive_bayes_classifier = GaussianNB()\n",
        "naive_bayes_classifier.fit(X_train_w2v_embeddings_array, y_train)\n",
        "\n",
        "y_pred = naive_bayes_classifier.predict(X_test_w2v_embeddings_array)\n",
        "\n",
        "accuracy = accuracy_score(y_test, y_pred)\n",
        "print(f\"Accuracy: {accuracy:.2f}\")\n",
        "print(\"Classification Report:\")\n",
        "print(classification_report(y_test, y_pred))"
      ]
    },
    {
      "cell_type": "code",
      "execution_count": null,
      "metadata": {
        "id": "--lpaP_qUzd6"
      },
      "outputs": [],
      "source": []
    },
    {
      "cell_type": "markdown",
      "metadata": {
        "id": "g8voJdwQSX4t"
      },
      "source": [
        "#####logistic"
      ]
    },
    {
      "cell_type": "code",
      "execution_count": null,
      "metadata": {
        "id": "6SabL5vESWhC"
      },
      "outputs": [],
      "source": [
        "classifier = LogisticRegression(max_iter=1000)\n",
        "classifier.fit(X_train_w2v_embeddings_array, y_train)\n"
      ]
    },
    {
      "cell_type": "code",
      "execution_count": null,
      "metadata": {
        "id": "c4IaysjuSYL0"
      },
      "outputs": [],
      "source": [
        "y_pred = classifier.predict(X_test_w2v_embeddings_array)\n"
      ]
    },
    {
      "cell_type": "code",
      "execution_count": null,
      "metadata": {
        "id": "NiWtHQjJSfv0"
      },
      "outputs": [],
      "source": [
        "print(classification_report(y_test, y_pred))\n"
      ]
    },
    {
      "cell_type": "code",
      "execution_count": null,
      "metadata": {
        "id": "TEnTw07ySiOb"
      },
      "outputs": [],
      "source": [
        "cnf_matrix = confusion_matrix(y_test, y_pred)\n"
      ]
    },
    {
      "cell_type": "code",
      "execution_count": null,
      "metadata": {
        "id": "6Y1j-rz6SsTK"
      },
      "outputs": [],
      "source": [
        "group_names = ['True Neg', 'False Pos', 'False Neg', 'True Pos']\n",
        "group_counts = ['{0:0.0f}'.format(value) for value in cnf_matrix.flatten()]\n",
        "labels = np.asarray(group_counts).reshape(4, 4)"
      ]
    },
    {
      "cell_type": "code",
      "execution_count": null,
      "metadata": {
        "id": "OMa6WF5ZSyiP"
      },
      "outputs": [],
      "source": [
        "sns.heatmap(cnf_matrix, annot=labels, fmt='', cmap='Blues')\n",
        "plt.ylabel('True label')\n",
        "plt.xlabel('Predicted label')\n",
        "plt.title('Confusion Matrix')\n",
        "plt.show()"
      ]
    },
    {
      "cell_type": "markdown",
      "metadata": {
        "id": "-aQiq8DfgBOX"
      },
      "source": [
        "#####LSTM"
      ]
    },
    {
      "cell_type": "code",
      "execution_count": null,
      "metadata": {
        "id": "gBlvab8DgrT_"
      },
      "outputs": [],
      "source": []
    },
    {
      "cell_type": "code",
      "execution_count": null,
      "metadata": {
        "id": "Tk-mP2m7grjU"
      },
      "outputs": [],
      "source": [
        "tokenizer = Tokenizer(num_words = 4000)\n",
        "tokenizer.fit_on_texts(traindata['Preprocessed'])\n",
        "input_sequences = []\n",
        "for line in traindata['Preprocessed']:\n",
        "    token_list = tokenizer.texts_to_sequences([line])[0]\n",
        "    input_sequences.append(token_list)\n",
        "\n",
        "# print(input_sequences)\n",
        "print(\"Total input sequences: \", len(input_sequences))"
      ]
    },
    {
      "cell_type": "code",
      "execution_count": null,
      "metadata": {
        "id": "jmv2NgLWgrjV"
      },
      "outputs": [],
      "source": [
        "# pad sequences\n",
        "max_sequence_len = max([len(x) for x in input_sequences])\n",
        "input_sequences = np.array(pad_sequences(input_sequences, maxlen=max_sequence_len, padding='pre'))\n",
        "input_sequences[1]"
      ]
    },
    {
      "cell_type": "code",
      "execution_count": null,
      "metadata": {
        "id": "nOwlW_kFgrjV"
      },
      "outputs": [],
      "source": [
        "from keras.utils import to_categorical\n",
        "\n",
        "labels = traindata['Type']\n",
        "y_categorical = to_categorical(labels, num_classes=4)"
      ]
    },
    {
      "cell_type": "code",
      "execution_count": null,
      "metadata": {
        "id": "KMajOO8UgrjW"
      },
      "outputs": [],
      "source": [
        "pad_X_train, pad_X_validation, y_train_lstm, y_validation_lstm= train_test_split(input_sequences, y_categorical, test_size = 0.2, random_state = 42)"
      ]
    },
    {
      "cell_type": "code",
      "execution_count": null,
      "metadata": {
        "id": "tt_EcTnjgrjW"
      },
      "outputs": [],
      "source": [
        "model1 = Sequential()\n",
        "\n",
        "model1.add(Embedding(4000, 300, weights = [X_train_w2v_embeddings_array], input_length = max_sequence_len))\n",
        "\n",
        "model1.add(Bidirectional(LSTM(units = 256, return_sequences = False)))\n",
        "model1.add(Dense(4, activation = 'softmax'))\n",
        "adam = Adam(learning_rate = 0.01)\n",
        "model1.compile(loss = 'categorical_crossentropy', optimizer = adam, metrics = ['accuracy'])\n",
        "\n",
        "model1.fit(pad_X_train, y_train_lstm, epochs = 10, verbose = 1)"
      ]
    },
    {
      "cell_type": "code",
      "execution_count": null,
      "metadata": {
        "id": "oEW_K7RWgrjW"
      },
      "outputs": [],
      "source": [
        "y_pred_lstm_CBoW = model1.predict(pad_X_validation)\n",
        "\n",
        "y_pred_lstm_CBoW = np.argmax(y_pred_lstm_CBoW, axis = -1)\n",
        "\n",
        "y_validation_lstm_CBoW = np.argmax(y_validation_lstm, axis = -1)\n",
        "\n",
        "classification_report1 = classification_report(y_validation_lstm_CBoW, y_pred_lstm_CBoW)\n",
        "print(classification_report1)"
      ]
    },
    {
      "cell_type": "code",
      "execution_count": null,
      "metadata": {
        "id": "pslcxT7ggrRq"
      },
      "outputs": [],
      "source": []
    },
    {
      "cell_type": "markdown",
      "metadata": {
        "id": "N43Lb_lpTRTQ"
      },
      "source": [
        "####SkipGram"
      ]
    },
    {
      "cell_type": "code",
      "execution_count": null,
      "metadata": {
        "id": "QVdwJUAkTfG2"
      },
      "outputs": [],
      "source": []
    },
    {
      "cell_type": "code",
      "execution_count": null,
      "metadata": {
        "id": "oP7FbsO7Tnoz"
      },
      "outputs": [],
      "source": [
        "!wget 'https://bakrianoo.ewr1.vultrobjects.com/aravec/full_grams_sg_300_wiki.zip'"
      ]
    },
    {
      "cell_type": "code",
      "execution_count": null,
      "metadata": {
        "id": "ugfSv-RrTno0"
      },
      "outputs": [],
      "source": [
        "!unzip '/content/full_grams_sg_300_wiki.zip'"
      ]
    },
    {
      "cell_type": "code",
      "execution_count": null,
      "metadata": {
        "id": "9uw7aghlTno0"
      },
      "outputs": [],
      "source": [
        "X = x = traindata['Preprocessed']\n",
        "y = traindata['Type']"
      ]
    },
    {
      "cell_type": "code",
      "execution_count": null,
      "metadata": {
        "id": "D8-MUcmhTno0"
      },
      "outputs": [],
      "source": [
        "from sklearn.model_selection import train_test_split\n",
        "X_train, X_test, y_train, y_test = train_test_split(X, y, test_size = 0.2, random_state = 0)"
      ]
    },
    {
      "cell_type": "code",
      "execution_count": null,
      "metadata": {
        "id": "CNOwADMkTno1"
      },
      "outputs": [],
      "source": [
        "from gensim.models import Word2Vec\n"
      ]
    },
    {
      "cell_type": "code",
      "execution_count": null,
      "metadata": {
        "id": "VQsZ-4B_Tno1"
      },
      "outputs": [],
      "source": [
        "w2v_model = Word2Vec.load('/content/full_grams_sg_300_wiki.mdl')\n",
        "embedding_dim = w2v_model.vector_size\n",
        "OOV_tokens = []\n",
        "train_tokens = []\n",
        "test_tokens = []\n",
        "\n",
        "def get_doc_vec(sent, model, data):\n",
        "    w2v_embeddings = []\n",
        "    tokens = sent.split()\n",
        "    for word in tokens:\n",
        "        try:\n",
        "            if data == 'train':\n",
        "                w2v_embeddings.append(model.wv[word])\n",
        "                train_tokens.append(word)\n",
        "            else:\n",
        "                w2v_embeddings.append(model.wv[word])\n",
        "                test_tokens.append(word)\n",
        "        except:\n",
        "            OOV_tokens.append(word)\n",
        "            continue\n",
        "    if len(w2v_embeddings) == 0:\n",
        "        return None\n",
        "    return sum(w2v_embeddings) / len(w2v_embeddings)\n",
        "\n",
        "X_train_w2v_embeddings = X_train.apply(lambda sent: get_doc_vec(sent, w2v_model, 'train'))\n",
        "X_test_w2v_embeddings = X_test.apply(lambda sent: get_doc_vec(sent, w2v_model, 'test'))"
      ]
    },
    {
      "cell_type": "code",
      "execution_count": null,
      "metadata": {
        "id": "MWxBJwfwTno1"
      },
      "outputs": [],
      "source": [
        "X_train_w2v_embeddings_list = []\n",
        "for embedding in X_train_w2v_embeddings:\n",
        "    if embedding is not None:\n",
        "        X_train_w2v_embeddings_list.append(embedding)\n",
        "    else:\n",
        "        # Handle cases where the embedding is None\n",
        "        X_train_w2v_embeddings_list.append(np.zeros_like(X_train_w2v_embeddings[0]))\n",
        "\n",
        "X_test_w2v_embeddings_list = []\n",
        "for embedding in X_test_w2v_embeddings:\n",
        "    if embedding is not None:\n",
        "        X_test_w2v_embeddings_list.append(embedding)\n",
        "    else:\n",
        "        # Handle cases where the embedding is None\n",
        "        X_test_w2v_embeddings_list.append(np.zeros_like(X_test_w2v_embeddings[0]))\n"
      ]
    },
    {
      "cell_type": "code",
      "execution_count": null,
      "metadata": {
        "id": "zHRxerOkTno1"
      },
      "outputs": [],
      "source": [
        "X_train_w2v_embeddings_array_skip = np.array(X_train_w2v_embeddings_list)\n",
        "X_test_w2v_embeddings_array_skip = np.array(X_test_w2v_embeddings_list)"
      ]
    },
    {
      "cell_type": "markdown",
      "metadata": {
        "id": "Y5x1uG1eVJTY"
      },
      "source": [
        "##### Naive bayes"
      ]
    },
    {
      "cell_type": "code",
      "execution_count": null,
      "metadata": {
        "id": "DGFEuPFAVI_7"
      },
      "outputs": [],
      "source": [
        "naive_bayes_classifier = GaussianNB()\n",
        "naive_bayes_classifier.fit(X_train_w2v_embeddings_array_skip, y_train)\n",
        "\n",
        "y_pred = naive_bayes_classifier.predict(X_test_w2v_embeddings_array_skip)\n",
        "\n",
        "accuracy = accuracy_score(y_test, y_pred)\n",
        "print(f\"Accuracy: {accuracy:.2f}\")\n",
        "print(\"Classification Report:\")\n",
        "print(classification_report(y_test, y_pred))"
      ]
    },
    {
      "cell_type": "markdown",
      "metadata": {
        "id": "UMA_5BxBVSHL"
      },
      "source": [
        "#####logistic"
      ]
    },
    {
      "cell_type": "code",
      "execution_count": null,
      "metadata": {
        "id": "g8mqEKnSTno2"
      },
      "outputs": [],
      "source": [
        "classifier = LogisticRegression(max_iter=1000)\n",
        "classifier.fit(X_train_w2v_embeddings_array, y_train)\n"
      ]
    },
    {
      "cell_type": "code",
      "execution_count": null,
      "metadata": {
        "id": "yPHD--Q0Tno2"
      },
      "outputs": [],
      "source": [
        "y_pred = classifier.predict(X_test_w2v_embeddings_array)\n"
      ]
    },
    {
      "cell_type": "code",
      "execution_count": null,
      "metadata": {
        "id": "tFOCw9ocTno2"
      },
      "outputs": [],
      "source": [
        "print(classification_report(y_test, y_pred))\n"
      ]
    },
    {
      "cell_type": "code",
      "execution_count": null,
      "metadata": {
        "id": "-YAZBICoTno2"
      },
      "outputs": [],
      "source": [
        "cnf_matrix = confusion_matrix(y_test, y_pred)\n"
      ]
    },
    {
      "cell_type": "code",
      "execution_count": null,
      "metadata": {
        "id": "HOY6GZ51Tno2"
      },
      "outputs": [],
      "source": [
        "group_names = ['True Neg', 'False Pos', 'False Neg', 'True Pos']\n",
        "group_counts = ['{0:0.0f}'.format(value) for value in cnf_matrix.flatten()]\n",
        "labels = np.asarray(group_counts).reshape(4, 4)"
      ]
    },
    {
      "cell_type": "code",
      "execution_count": null,
      "metadata": {
        "id": "ait7q1RITno2"
      },
      "outputs": [],
      "source": [
        "sns.heatmap(cnf_matrix, annot=labels, fmt='', cmap='Blues')\n",
        "plt.ylabel('True label')\n",
        "plt.xlabel('Predicted label')\n",
        "plt.title('Confusion Matrix')\n",
        "plt.show()"
      ]
    },
    {
      "cell_type": "code",
      "execution_count": null,
      "metadata": {
        "id": "770jJHmOT6Pt"
      },
      "outputs": [],
      "source": []
    },
    {
      "cell_type": "markdown",
      "metadata": {
        "id": "ipEQvwdHhgaR"
      },
      "source": [
        "#####LSTM"
      ]
    },
    {
      "cell_type": "code",
      "execution_count": null,
      "metadata": {
        "id": "-vjAQa-ahgFb"
      },
      "outputs": [],
      "source": []
    },
    {
      "cell_type": "code",
      "execution_count": null,
      "metadata": {
        "id": "W_6Xt6dshjOZ"
      },
      "outputs": [],
      "source": [
        "tokenizer = Tokenizer(num_words = 4000) # يأخذ اكثر 4000 كلمة تكررت بالداتا لدينا\n",
        "tokenizer.fit_on_texts(traindata['Preprocessed'])\n",
        "input_sequences = []\n",
        "for line in traindata['Preprocessed']:\n",
        "    token_list = tokenizer.texts_to_sequences([line])[0]\n",
        "    input_sequences.append(token_list)\n",
        "\n",
        "# print(input_sequences)\n",
        "print(\"Total input sequences: \", len(input_sequences))"
      ]
    },
    {
      "cell_type": "code",
      "execution_count": null,
      "metadata": {
        "id": "ROEHKqjphjOh"
      },
      "outputs": [],
      "source": [
        "# pad sequences\n",
        "max_sequence_len = max([len(x) for x in input_sequences])\n",
        "input_sequences = np.array(pad_sequences(input_sequences, maxlen=max_sequence_len, padding='pre'))\n",
        "input_sequences[1]"
      ]
    },
    {
      "cell_type": "code",
      "execution_count": null,
      "metadata": {
        "id": "sviBsssFhjOi"
      },
      "outputs": [],
      "source": [
        "from keras.utils import to_categorical\n",
        "\n",
        "labels = traindata['Type']\n",
        "y_categorical = to_categorical(labels, num_classes=4)"
      ]
    },
    {
      "cell_type": "code",
      "source": [],
      "metadata": {
        "id": "NhkNuO1-kWsp"
      },
      "execution_count": null,
      "outputs": []
    },
    {
      "cell_type": "code",
      "execution_count": null,
      "metadata": {
        "id": "QZ460JmvhjOi"
      },
      "outputs": [],
      "source": [
        "X_train, X_val, y_train, y_val= train_test_split(input_sequences, y_categorical, test_size = 0.2, random_state = 42)"
      ]
    },
    {
      "cell_type": "code",
      "execution_count": null,
      "metadata": {
        "id": "bslWbRdnhjOi"
      },
      "outputs": [],
      "source": [
        "model1 = Sequential()\n",
        "model1.add(Embedding(4000, 300, weights = [X_train_w2v_embeddings_array_skip], input_length = max_sequence_len))\n",
        "model1.add(Bidirectional(LSTM(units = 256, return_sequences = False))) # nerons\n",
        "model1.add(Dense(4, activation = 'softmax'))\n",
        "adam = Adam(learning_rate = 0.01)\n",
        "model1.compile(loss = 'categorical_crossentropy', optimizer = adam, metrics = ['accuracy'])\n",
        "model1.fit(pad_X_train, y_train_lstm, epochs = 10, verbose = 1)"
      ]
    },
    {
      "cell_type": "code",
      "execution_count": null,
      "metadata": {
        "id": "VCX8SGcShjOi"
      },
      "outputs": [],
      "source": [
        "y_pred_skip = model1.predict(X_val)\n",
        "\n",
        "y_pred_skip = np.argmax(y_pred_skip, axis = -1)\n",
        "\n",
        "y_val_skip = np.argmax(y_val, axis = -1)\n",
        "\n",
        "classification_report1 = classification_report(y_val_skip, y_pred_skip)\n",
        "print(classification_report1)"
      ]
    },
    {
      "cell_type": "markdown",
      "metadata": {
        "id": "5dUbWfc_VY4r"
      },
      "source": [
        "###Bert"
      ]
    },
    {
      "cell_type": "code",
      "execution_count": null,
      "metadata": {
        "colab": {
          "base_uri": "https://localhost:8080/"
        },
        "id": "GNNCQMfoVcJ7",
        "outputId": "48ef2322-7422-4489-947a-bc71bcc7ec64"
      },
      "outputs": [
        {
          "output_type": "stream",
          "name": "stdout",
          "text": [
            "Requirement already satisfied: transformers in /usr/local/lib/python3.10/dist-packages (4.41.2)\n",
            "Requirement already satisfied: filelock in /usr/local/lib/python3.10/dist-packages (from transformers) (3.14.0)\n",
            "Requirement already satisfied: huggingface-hub<1.0,>=0.23.0 in /usr/local/lib/python3.10/dist-packages (from transformers) (0.23.2)\n",
            "Requirement already satisfied: numpy>=1.17 in /usr/local/lib/python3.10/dist-packages (from transformers) (1.25.2)\n",
            "Requirement already satisfied: packaging>=20.0 in /usr/local/lib/python3.10/dist-packages (from transformers) (24.0)\n",
            "Requirement already satisfied: pyyaml>=5.1 in /usr/local/lib/python3.10/dist-packages (from transformers) (6.0.1)\n",
            "Requirement already satisfied: regex!=2019.12.17 in /usr/local/lib/python3.10/dist-packages (from transformers) (2024.5.15)\n",
            "Requirement already satisfied: requests in /usr/local/lib/python3.10/dist-packages (from transformers) (2.31.0)\n",
            "Requirement already satisfied: tokenizers<0.20,>=0.19 in /usr/local/lib/python3.10/dist-packages (from transformers) (0.19.1)\n",
            "Requirement already satisfied: safetensors>=0.4.1 in /usr/local/lib/python3.10/dist-packages (from transformers) (0.4.3)\n",
            "Requirement already satisfied: tqdm>=4.27 in /usr/local/lib/python3.10/dist-packages (from transformers) (4.66.4)\n",
            "Requirement already satisfied: fsspec>=2023.5.0 in /usr/local/lib/python3.10/dist-packages (from huggingface-hub<1.0,>=0.23.0->transformers) (2023.6.0)\n",
            "Requirement already satisfied: typing-extensions>=3.7.4.3 in /usr/local/lib/python3.10/dist-packages (from huggingface-hub<1.0,>=0.23.0->transformers) (4.12.1)\n",
            "Requirement already satisfied: charset-normalizer<4,>=2 in /usr/local/lib/python3.10/dist-packages (from requests->transformers) (3.3.2)\n",
            "Requirement already satisfied: idna<4,>=2.5 in /usr/local/lib/python3.10/dist-packages (from requests->transformers) (3.7)\n",
            "Requirement already satisfied: urllib3<3,>=1.21.1 in /usr/local/lib/python3.10/dist-packages (from requests->transformers) (2.0.7)\n",
            "Requirement already satisfied: certifi>=2017.4.17 in /usr/local/lib/python3.10/dist-packages (from requests->transformers) (2024.6.2)\n"
          ]
        }
      ],
      "source": [
        "!pip install transformers\n"
      ]
    },
    {
      "cell_type": "code",
      "source": [
        "import torch\n",
        "from transformers import AutoTokenizer, AutoModel\n",
        "from sklearn.model_selection import train_test_split\n",
        "from sklearn.linear_model import LogisticRegression\n",
        "from sklearn.metrics import classification_report\n",
        "import numpy as np\n",
        "\n",
        "# Define the device based on CUDA availability\n",
        "device = torch.device('cuda' if torch.cuda.is_available() else 'cpu')\n",
        "\n",
        "# Loading the tokenizer and model from Hugging Face\n",
        "model_name = 'aubmindlab/bert-base-arabert'\n",
        "tokenizer = AutoTokenizer.from_pretrained(model_name)\n",
        "model = AutoModel.from_pretrained(model_name)\n",
        "\n",
        "# Move model to the appropriate device\n",
        "model = model.to(device)"
      ],
      "metadata": {
        "id": "zijhEFNTlUVL",
        "colab": {
          "base_uri": "https://localhost:8080/"
        },
        "outputId": "183d7ed3-a748-4e79-8c9c-f485318aa680"
      },
      "execution_count": null,
      "outputs": [
        {
          "output_type": "stream",
          "name": "stderr",
          "text": [
            "/usr/local/lib/python3.10/dist-packages/huggingface_hub/utils/_token.py:89: UserWarning: \n",
            "The secret `HF_TOKEN` does not exist in your Colab secrets.\n",
            "To authenticate with the Hugging Face Hub, create a token in your settings tab (https://huggingface.co/settings/tokens), set it as secret in your Google Colab and restart your session.\n",
            "You will be able to reuse this secret in all of your notebooks.\n",
            "Please note that authentication is recommended but still optional to access public models or datasets.\n",
            "  warnings.warn(\n"
          ]
        }
      ]
    },
    {
      "cell_type": "code",
      "source": [
        "# Assuming df['News_processed'] contains the preprocessed text\n",
        "embeddings_list = []\n",
        "for text in traindata['Preprocessed']:\n",
        "    encoded_input = tokenizer(text, padding=True, truncation=True, max_length=512, return_tensors='pt').to(device)\n",
        "    # Truncation shortens the text to fit the model\n",
        "    with torch.no_grad():  # No need to calculate gradients during inference\n",
        "        output = model(**encoded_input)  # Pass the encoded input to the model , ** to see the inside the list\n",
        "\n",
        "    # Getting the mean of the last hidden state to represent the sentence\n",
        "    mean_embeddings = output.last_hidden_state.mean(dim=1).squeeze().cpu().numpy()\n",
        "    embeddings_list.append(mean_embeddings)\n",
        "\n",
        "X = np.array(embeddings_list)\n",
        "y = traindata['Type'].values"
      ],
      "metadata": {
        "id": "I_XCxJtqlA02"
      },
      "execution_count": null,
      "outputs": []
    },
    {
      "cell_type": "markdown",
      "source": [
        "####Logistic"
      ],
      "metadata": {
        "id": "X11r5AIAmK7i"
      }
    },
    {
      "cell_type": "code",
      "source": [
        "\n",
        "# Splitting data into training and testing sets\n",
        "X_train, X_test, y_train, y_test = train_test_split(X, y, test_size=0.2, random_state=0)\n",
        "\n",
        "# Training a Logistic Regression model (This part is CPU based as sklearn does not use GPU)\n",
        "classifier = LogisticRegression(max_iter=1000)\n",
        "classifier.fit(X_train, y_train)\n",
        "\n",
        "# Predicting on the test set\n",
        "y_pred = classifier.predict(X_test)\n",
        "\n",
        "# Evaluating the model\n",
        "print(\"Classification Report:\")\n",
        "print(classification_report(y_test, y_pred))"
      ],
      "metadata": {
        "colab": {
          "base_uri": "https://localhost:8080/"
        },
        "id": "WpjwsOeXg6hZ",
        "outputId": "f4810689-2037-4b71-9879-748d706f1481"
      },
      "execution_count": null,
      "outputs": [
        {
          "output_type": "stream",
          "name": "stdout",
          "text": [
            "Classification Report:\n",
            "              precision    recall  f1-score   support\n",
            "\n",
            "           0       0.93      0.95      0.94       601\n",
            "           1       0.84      0.81      0.82       180\n",
            "           2       0.96      0.95      0.96       198\n",
            "           3       0.65      0.52      0.58        21\n",
            "\n",
            "    accuracy                           0.92      1000\n",
            "   macro avg       0.85      0.81      0.83      1000\n",
            "weighted avg       0.92      0.92      0.92      1000\n",
            "\n"
          ]
        }
      ]
    },
    {
      "cell_type": "markdown",
      "source": [
        "####naive bayes"
      ],
      "metadata": {
        "id": "u-G8JRxsmkqB"
      }
    },
    {
      "cell_type": "code",
      "source": [
        "\n",
        "# Training a Gaussian Naive Bayes model\n",
        "naive_bayes_classifier = GaussianNB()\n",
        "naive_bayes_classifier.fit(X_train, y_train)\n",
        "\n",
        "# Predicting on the test set\n",
        "y_pred = naive_bayes_classifier.predict(X_test)\n",
        "\n",
        "# Evaluating the model\n",
        "print(\"Classification Report:\")\n",
        "print(classification_report(y_test, y_pred))"
      ],
      "metadata": {
        "colab": {
          "base_uri": "https://localhost:8080/"
        },
        "id": "LG4JvmHGhDXP",
        "outputId": "7c1b99a1-e266-49cf-d806-be588eb2167c"
      },
      "execution_count": null,
      "outputs": [
        {
          "output_type": "stream",
          "name": "stdout",
          "text": [
            "Classification Report:\n",
            "              precision    recall  f1-score   support\n",
            "\n",
            "           0       0.93      0.91      0.92       601\n",
            "           1       0.79      0.76      0.78       180\n",
            "           2       0.97      0.90      0.93       198\n",
            "           3       0.23      0.67      0.35        21\n",
            "\n",
            "    accuracy                           0.87      1000\n",
            "   macro avg       0.73      0.81      0.74      1000\n",
            "weighted avg       0.90      0.87      0.88      1000\n",
            "\n"
          ]
        }
      ]
    },
    {
      "cell_type": "markdown",
      "source": [
        "####LSTM"
      ],
      "metadata": {
        "id": "x36iT9aDnR3i"
      }
    },
    {
      "cell_type": "code",
      "source": [
        "embeddings_array = np.array(embeddings_list)\n",
        "embeddings_array.shape"
      ],
      "metadata": {
        "colab": {
          "base_uri": "https://localhost:8080/"
        },
        "id": "Ebvpcf_Vnf8M",
        "outputId": "9357acf2-7d5d-4984-de59-08fd0170f936"
      },
      "execution_count": null,
      "outputs": [
        {
          "output_type": "execute_result",
          "data": {
            "text/plain": [
              "(5000, 768)"
            ]
          },
          "metadata": {},
          "execution_count": 83
        }
      ]
    },
    {
      "cell_type": "code",
      "source": [
        "from sklearn.decomposition import PCA\n",
        "\n",
        "# Initialize PCA to reduce dimensions to 300\n",
        "pca = PCA(n_components=300)\n",
        "embeddings_reduced = pca.fit_transform(embeddings_array)\n",
        "\n",
        "# Check new shape\n",
        "print(\"Reduced embeddings shape:\", embeddings_reduced.shape)\n"
      ],
      "metadata": {
        "colab": {
          "base_uri": "https://localhost:8080/"
        },
        "id": "xf8ZRe0muXdw",
        "outputId": "e1820909-6c27-40ed-938a-e9210659946f"
      },
      "execution_count": null,
      "outputs": [
        {
          "output_type": "stream",
          "name": "stdout",
          "text": [
            "Reduced embeddings shape: (5000, 300)\n"
          ]
        }
      ]
    },
    {
      "cell_type": "code",
      "source": [
        "embeddings_final = embeddings_reduced[:4000]\n"
      ],
      "metadata": {
        "id": "WngtARl2uZaL"
      },
      "execution_count": null,
      "outputs": []
    },
    {
      "cell_type": "code",
      "execution_count": null,
      "metadata": {
        "colab": {
          "base_uri": "https://localhost:8080/"
        },
        "id": "FnvKwv0Ps6XT",
        "outputId": "d26926b3-578d-4c86-a2a3-9ef717403c13"
      },
      "outputs": [
        {
          "output_type": "stream",
          "name": "stdout",
          "text": [
            "Total input sequences:  5000\n"
          ]
        }
      ],
      "source": [
        "tokenizer = Tokenizer(num_words = 4000)\n",
        "tokenizer.fit_on_texts(traindata['Preprocessed'])\n",
        "input_sequences = []\n",
        "for line in traindata['Preprocessed']:\n",
        "    token_list = tokenizer.texts_to_sequences([line])[0]\n",
        "    input_sequences.append(token_list)\n",
        "\n",
        "# print(input_sequences)\n",
        "print(\"Total input sequences: \", len(input_sequences))"
      ]
    },
    {
      "cell_type": "code",
      "execution_count": null,
      "metadata": {
        "colab": {
          "base_uri": "https://localhost:8080/"
        },
        "id": "UgKwOaNMs6XU",
        "outputId": "ef9f4bb3-7fc6-4d2b-c5b2-ff4f04b9f536"
      },
      "outputs": [
        {
          "output_type": "execute_result",
          "data": {
            "text/plain": [
              "array([   0,    0,    0,    0,    0,    0,    0,    0,    0,    0,    0,\n",
              "          0,    0,    0,    0,    0,    0,    0,    0,  907,  906, 1151,\n",
              "       2366], dtype=int32)"
            ]
          },
          "metadata": {},
          "execution_count": 87
        }
      ],
      "source": [
        "# pad sequences\n",
        "max_sequence_len = max([len(x) for x in input_sequences])\n",
        "input_sequences = np.array(pad_sequences(input_sequences, maxlen=max_sequence_len, padding='pre'))\n",
        "input_sequences[1]"
      ]
    },
    {
      "cell_type": "code",
      "execution_count": null,
      "metadata": {
        "id": "b_Es8qkxs6XU"
      },
      "outputs": [],
      "source": [
        "from keras.utils import to_categorical\n",
        "\n",
        "labels = traindata['Type']\n",
        "y_categorical = to_categorical(labels, num_classes=4)"
      ]
    },
    {
      "cell_type": "code",
      "execution_count": null,
      "metadata": {
        "id": "grzfEhYrs6XU"
      },
      "outputs": [],
      "source": [
        "pad_X_train, pad_X_validation, y_train_lstm, y_validation_lstm= train_test_split(input_sequences, y_categorical, test_size = 0.2, random_state = 42)"
      ]
    },
    {
      "cell_type": "code",
      "execution_count": null,
      "metadata": {
        "colab": {
          "base_uri": "https://localhost:8080/"
        },
        "id": "lPMAHbgbs6XU",
        "outputId": "105146b7-ace4-40f6-fee3-84707294494b"
      },
      "outputs": [
        {
          "output_type": "stream",
          "name": "stdout",
          "text": [
            "Epoch 1/10\n",
            "125/125 [==============================] - 10s 51ms/step - loss: 0.5357 - accuracy: 0.8152\n",
            "Epoch 2/10\n",
            "125/125 [==============================] - 2s 19ms/step - loss: 0.1430 - accuracy: 0.9538\n",
            "Epoch 3/10\n",
            "125/125 [==============================] - 2s 13ms/step - loss: 0.0442 - accuracy: 0.9862\n",
            "Epoch 4/10\n",
            "125/125 [==============================] - 2s 15ms/step - loss: 0.0114 - accuracy: 0.9960\n",
            "Epoch 5/10\n",
            "125/125 [==============================] - 2s 19ms/step - loss: 0.0040 - accuracy: 0.9990\n",
            "Epoch 6/10\n",
            "125/125 [==============================] - 2s 18ms/step - loss: 0.0016 - accuracy: 0.9992\n",
            "Epoch 7/10\n",
            "125/125 [==============================] - 2s 16ms/step - loss: 9.0460e-04 - accuracy: 0.9998\n",
            "Epoch 8/10\n",
            "125/125 [==============================] - 2s 19ms/step - loss: 5.0396e-04 - accuracy: 0.9995\n",
            "Epoch 9/10\n",
            "125/125 [==============================] - 2s 12ms/step - loss: 7.0759e-04 - accuracy: 0.9998\n",
            "Epoch 10/10\n",
            "125/125 [==============================] - 2s 15ms/step - loss: 6.7537e-04 - accuracy: 0.9995\n"
          ]
        },
        {
          "output_type": "execute_result",
          "data": {
            "text/plain": [
              "<keras.src.callbacks.History at 0x7bdd61aa63b0>"
            ]
          },
          "metadata": {},
          "execution_count": 90
        }
      ],
      "source": [
        "model1 = Sequential()\n",
        "\n",
        "model1.add(Embedding(4000, 300, weights = [embeddings_final], input_length = max_sequence_len))\n",
        "\n",
        "model1.add(Bidirectional(LSTM(units = 256, return_sequences = False)))\n",
        "model1.add(Dense(4, activation = 'softmax'))\n",
        "adam = Adam(learning_rate = 0.01)\n",
        "model1.compile(loss = 'categorical_crossentropy', optimizer = adam, metrics = ['accuracy'])\n",
        "\n",
        "model1.fit(pad_X_train, y_train_lstm, epochs = 10, verbose = 1)"
      ]
    },
    {
      "cell_type": "code",
      "execution_count": null,
      "metadata": {
        "colab": {
          "base_uri": "https://localhost:8080/"
        },
        "id": "OHf9KieBs6XU",
        "outputId": "2ade71f0-fcf3-4b9d-d77f-020bdad6d83d"
      },
      "outputs": [
        {
          "output_type": "stream",
          "name": "stdout",
          "text": [
            "32/32 [==============================] - 1s 5ms/step\n",
            "              precision    recall  f1-score   support\n",
            "\n",
            "           0       0.93      0.95      0.94       647\n",
            "           1       0.84      0.81      0.82       176\n",
            "           2       0.93      0.93      0.93       163\n",
            "           3       0.60      0.43      0.50        14\n",
            "\n",
            "    accuracy                           0.91      1000\n",
            "   macro avg       0.82      0.78      0.80      1000\n",
            "weighted avg       0.91      0.91      0.91      1000\n",
            "\n"
          ]
        }
      ],
      "source": [
        "y_pred_lstm_skip = model1.predict(pad_X_validation)\n",
        "\n",
        "y_pred_lstm_skip = np.argmax(y_pred_lstm_skip, axis = -1)\n",
        "\n",
        "y_validation_lstm_skip = np.argmax(y_validation_lstm, axis = -1)\n",
        "\n",
        "classification_report1 = classification_report(y_validation_lstm_skip, y_pred_lstm_skip)\n",
        "print(classification_report1)"
      ]
    },
    {
      "cell_type": "markdown",
      "source": [
        "####BERT"
      ],
      "metadata": {
        "id": "X754GMXv8w0X"
      }
    },
    {
      "cell_type": "code",
      "source": [
        "device = torch.device('cuda' if torch.cuda.is_available() else 'cpu')\n",
        "\n",
        "x = traindata['Preprocessed']\n",
        "y = le.fit_transform(traindata['Type'])\n",
        "\n",
        "X_train, X_val, y_train, y_val = train_test_split(x, y, test_size=0.2, random_state=0)\n",
        "\n",
        "# Initialize the tokenizer\n",
        "tokenizer = BertTokenizer.from_pretrained('aubmindlab/bert-base-arabert')\n",
        "\n",
        "# Tokenize the data\n",
        "training = tokenizer(X_train.tolist(), add_special_tokens=True, return_attention_mask=True,\n",
        "                     padding='max_length', max_length=256, return_tensors='pt')\n",
        "testing = tokenizer(X_val.tolist(), add_special_tokens=True, return_attention_mask=True,\n",
        "                    padding='max_length', max_length=256, return_tensors='pt')\n",
        "\n",
        "train_dataset = TensorDataset(training['input_ids'], training['attention_mask'], torch.tensor(y_train))\n",
        "test_dataset = TensorDataset(testing['input_ids'], testing['attention_mask'], torch.tensor(y_val))\n",
        "\n",
        "train_loader = DataLoader(train_dataset, sampler=RandomSampler(train_dataset), batch_size=24)\n",
        "test_loader = DataLoader(test_dataset, sampler=SequentialSampler(test_dataset), batch_size=24)\n",
        "\n",
        "model = BertForSequenceClassification.from_pretrained('aubmindlab/bert-base-arabert', num_labels=4,\n",
        "                                                      output_attentions=False, output_hidden_states=False)\n",
        "model.to(device)\n",
        "\n",
        "# Set up the optimizer\n",
        "optimizer = torch.optim.Adam(model.parameters(), lr=5e-5)\n",
        "\n",
        "# Training\n",
        "epochs = 2\n",
        "for epoch in range(epochs):\n",
        "    model.train()\n",
        "    total_loss = 0\n",
        "    for batch in train_loader:\n",
        "        b_input_ids, b_input_mask, b_labels = [t.to(device) for t in batch]\n",
        "\n",
        "        model.zero_grad() # بعد عمل رن في الباكوورد بتخلي كل قيم الجريدينت زيرو عشان ما تأثر على اللوس\n",
        "        outputs = model(b_input_ids, token_type_ids=None, attention_mask=b_input_mask, labels=b_labels)\n",
        "        loss = outputs.loss\n",
        "        loss.backward()\n",
        "        optimizer.step()  # Update the parameters based on the gradients\n",
        "\n",
        "        total_loss += loss.item() # تأخذ اللوس عن طريق جعله ارقام دون الحاجة الى استخدام فانكككشن\n",
        "\n",
        "    print(f\"Epoch {epoch+1}, Loss: {total_loss/len(train_loader)}\")\n",
        "\n",
        "# Evaluation\n",
        "model.eval()\n",
        "predictions, true_labels = [], []\n",
        "\n",
        "for batch in test_loader:\n",
        "    b_input_ids, b_input_mask, b_labels = [t.to(device) for t in batch]\n",
        "\n",
        "    with torch.no_grad():\n",
        "        outputs = model(b_input_ids, token_type_ids=None, attention_mask=b_input_mask)\n",
        "\n",
        "    logits = outputs.logits\n",
        "    logits = logits.detach().cpu().numpy()\n",
        "    label_ids = b_labels.to('cpu').numpy()\n",
        "\n",
        "    batch_predictions = np.argmax(logits, axis=1)\n",
        "    predictions.extend(batch_predictions)  # Ensure predictions is a list\n",
        "    true_labels.extend(label_ids)          # Ensure true_labels is a list\n",
        "\n",
        "# Calculate and print metrics\n",
        "accuracy = np.mean(np.array(predictions) == np.array(true_labels))\n",
        "print(\"Accuracy:\", accuracy)\n",
        "precision = precision_score(true_labels, predictions, average='weighted')\n",
        "recall = recall_score(true_labels, predictions, average='weighted')\n",
        "f1 = f1_score(true_labels, predictions, average='weighted')\n",
        "report = classification_report(true_labels, predictions)\n",
        "\n",
        "print(\"Precision:\", precision)\n",
        "print(\"Recall:\", recall)\n",
        "print(\"F1 Score:\", f1)\n",
        "print(\"Classification Report:\\n\", report)\n"
      ],
      "metadata": {
        "colab": {
          "base_uri": "https://localhost:8080/"
        },
        "id": "jbikbIdYLVTI",
        "outputId": "f7cd3ddd-0695-4925-a36e-c9d506dacf84"
      },
      "execution_count": null,
      "outputs": [
        {
          "output_type": "stream",
          "name": "stderr",
          "text": [
            "Some weights of BertForSequenceClassification were not initialized from the model checkpoint at aubmindlab/bert-base-arabert and are newly initialized: ['classifier.bias', 'classifier.weight']\n",
            "You should probably TRAIN this model on a down-stream task to be able to use it for predictions and inference.\n"
          ]
        },
        {
          "output_type": "stream",
          "name": "stdout",
          "text": [
            "Epoch 1, Loss: 0.28544842476348675\n",
            "Epoch 2, Loss: 0.12787735297673655\n",
            "Accuracy: 0.937\n",
            "Precision: 0.9382517654989841\n",
            "Recall: 0.937\n",
            "F1 Score: 0.9373779796268376\n",
            "Classification Report:\n",
            "               precision    recall  f1-score   support\n",
            "\n",
            "           0       0.96      0.95      0.95       601\n",
            "           1       0.87      0.86      0.86       180\n",
            "           2       0.96      0.98      0.97       198\n",
            "           3       0.69      0.86      0.77        21\n",
            "\n",
            "    accuracy                           0.94      1000\n",
            "   macro avg       0.87      0.91      0.89      1000\n",
            "weighted avg       0.94      0.94      0.94      1000\n",
            "\n"
          ]
        }
      ]
    },
    {
      "cell_type": "code",
      "source": [],
      "metadata": {
        "id": "0Z3dxRFxQ6kI"
      },
      "execution_count": null,
      "outputs": []
    }
  ],
  "metadata": {
    "colab": {
      "collapsed_sections": [
        "6rRut9cSHRqc",
        "ty2ikoM0HfTW",
        "LTSKZAtHLBUU"
      ],
      "provenance": []
    },
    "kernelspec": {
      "display_name": "Python 3",
      "name": "python3"
    },
    "language_info": {
      "name": "python"
    }
  },
  "nbformat": 4,
  "nbformat_minor": 0
}